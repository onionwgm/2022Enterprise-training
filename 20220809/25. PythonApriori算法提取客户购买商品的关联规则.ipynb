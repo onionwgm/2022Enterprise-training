{
 "cells": [
  {
   "cell_type": "code",
   "execution_count": 15,
   "id": "92b8104d-304d-4e73-a252-0df1e060ef6e",
   "metadata": {},
   "outputs": [],
   "source": [
    "from __future__ import print_function \n",
    "import pandas as pd  "
   ]
  },
  {
   "cell_type": "code",
   "execution_count": 16,
   "id": "11cecc33-75b7-4a8e-9956-24b54866514a",
   "metadata": {},
   "outputs": [],
   "source": [
    "# 自定义连接函数，用于实现L_{k-1}到C_k的连接  \n",
    "def connect_string(x, ms):  \n",
    "    x = list(map(lambda i: sorted(i.split(ms)), x))\n",
    "  \n",
    "    l = len(x[0])  \n",
    "    r = []  \n",
    "    for i in range(len(x)):  \n",
    "        for j in range(i, len(x)):  \n",
    "            if x[i][:l - 1] == x[j][:l - 1] and x[i][l - 1] != x[j][l - 1]:  \n",
    "                r.append(x[i][:l - 1] + sorted([x[j][l - 1], x[i][l - 1]]))  \n",
    "    return r  \n"
   ]
  },
  {
   "cell_type": "code",
   "execution_count": 17,
   "id": "e4639183-c8d0-4214-8470-97facb4e72f0",
   "metadata": {},
   "outputs": [],
   "source": [
    "# 寻找关联规则的函数  \n",
    "def find_rule(d, support, confidence, ms=u'--'):  \n",
    "    result = pd.DataFrame(index=['support', 'confidence'])  # 定义输出结果  \n",
    "    support_series = 1.0 * d.sum() / len(d)  # 支持度序列  \n",
    "    column = list(support_series[support_series > support].index)  # 初步根据支持度筛选  \n",
    "    k = 0  \n",
    "    while len(column) > 1:  \n",
    "        k = k + 1  \n",
    "        print(u'\\n正在进行第%s次搜索...' % k)  \n",
    "        column = connect_string(column, ms)  \n",
    "        print(u'数目：%s...' % len(column))  \n",
    "        sf = lambda i: d[i].prod(axis=1, numeric_only=True)  # 新一批支持度的计算函数  \n",
    "        # 创建连接数据，这一步耗时、耗内存最严重。当数据集较大时，可以考虑并行运算优化。  \n",
    "        d_2 = pd.DataFrame(list(map(sf, column)), index=[ms.join(i) for i in column]).T  \n",
    "        support_series_2 = 1.0 * d_2[[ms.join(i) for i in column]].sum() / len(d)  # 计算连接后的支持度  \n",
    "        column = list(support_series_2[support_series_2 > support].index)  # 新一轮支持度筛选  \n",
    "        # support_series = support_series.append(support_series_2) \n",
    "        # 改为 concat 拼接，append 是降级方法\n",
    "        support_series = pd.concat([support_series, support_series_2])\n",
    "        column2 = []  \n",
    "        for i in column:  # 遍历可能的推理，如{A,B,C}究竟是A+B-->C还是B+C-->A还是C+A-->B？  \n",
    "            i = i.split(ms)  \n",
    "            for j in range(len(i)):  \n",
    "                column2.append(i[:j] + i[j + 1:] + i[j:j + 1]) \n",
    "        # 设置 series 类型为 float64，禁用类型为 object 的降级警告\n",
    "        cofidence_series = pd.Series(index=[ms.join(i) for i in column2], dtype='float64')  # 定义置信度序列  \n",
    "        for i in column2:  # 计算置信度序列  \n",
    "            cofidence_series[ms.join(i)] = support_series[ms.join(sorted(i))] / support_series[ms.join(i[:len(i) - 1])]  \n",
    "        for i in cofidence_series[cofidence_series > confidence].index:  # 置信度筛选  \n",
    "            result[i] = 0.0  \n",
    "            result[i]['confidence'] = cofidence_series[i]  \n",
    "            result[i]['support'] = support_series[ms.join(sorted(i.split(ms)))]  \n",
    "    result = result.T.sort_values(['confidence', 'support'], ascending=False)  # 结果整理，输出  \n",
    "    print(u'\\n结果为：')  \n",
    "    print(result)  \n",
    "    return result  "
   ]
  },
  {
   "cell_type": "code",
   "execution_count": 18,
   "id": "ff1a3ce4-b98c-4269-8a42-40c8c4b38279",
   "metadata": {},
   "outputs": [],
   "source": [
    "inputfile = 'menu_orders.xls'  \n",
    "# 输出文件，改为 xlsx，禁用 xlwt 的降级警告\n",
    "outputfile = 'apriori_rules.xlsx' #结果文件  \n",
    "# 需要安装 xlrd，命令： ! pip install xlrd\n",
    "data = pd.read_excel(inputfile, header = None)"
   ]
  },
  {
   "cell_type": "code",
   "execution_count": 19,
   "id": "4453cef1-ae3f-4a06-b820-dfea36c1c5fc",
   "metadata": {},
   "outputs": [
    {
     "name": "stdout",
     "output_type": "stream",
     "text": [
      "\n",
      "转换完毕。\n"
     ]
    }
   ],
   "source": [
    "ct = lambda x : pd.Series(1, index = x[pd.notnull(x)]) #转换0-1矩阵的过渡函数  \n",
    "# b = map(ct, data.as_matrix()) #用map方式执行  \n",
    "b = map(ct, data.values) #用map方式执行  \n",
    "#print(list(b))  \n",
    "data = pd.DataFrame(list(b)).fillna(0) #实现矩阵转换，空值用0填充  \n",
    "print(u'\\n转换完毕。')  \n",
    "del b #删除中间变量b，节省内存 "
   ]
  },
  {
   "cell_type": "code",
   "execution_count": 20,
   "id": "0b450273-62de-4038-a48f-60d1ac0cc803",
   "metadata": {},
   "outputs": [
    {
     "name": "stdout",
     "output_type": "stream",
     "text": [
      "\n",
      "正在进行第1次搜索...\n",
      "数目：6...\n",
      "\n",
      "正在进行第2次搜索...\n",
      "数目：3...\n",
      "\n",
      "正在进行第3次搜索...\n",
      "数目：0...\n",
      "\n",
      "结果为：\n",
      "           support  confidence\n",
      "e---a          0.3    1.000000\n",
      "e---c          0.3    1.000000\n",
      "c---e---a      0.3    1.000000\n",
      "a---e---c      0.3    1.000000\n",
      "c---a          0.5    0.714286\n",
      "a---c          0.5    0.714286\n",
      "a---b          0.5    0.714286\n",
      "c---b          0.5    0.714286\n",
      "b---a          0.5    0.625000\n",
      "b---c          0.5    0.625000\n",
      "a---c---e      0.3    0.600000\n",
      "b---c---a      0.3    0.600000\n",
      "a---c---b      0.3    0.600000\n",
      "a---b---c      0.3    0.600000\n"
     ]
    }
   ],
   "source": [
    "support = 0.2 #最小支持度  \n",
    "confidence = 0.5 #最小置信度  \n",
    "ms = '---' #连接符，默认'--'，用来区分不同元素，如A--B。需要保证原始表格中不含有该字符  \n",
    "# 可能需要安装 xlwdt\n",
    "# ! pip install xlwt 建议改为：\n",
    "# ! pip install openpyxl\n",
    "find_rule(data, support, confidence, ms).to_excel(outputfile) #保存结果  "
   ]
  },
  {
   "cell_type": "code",
   "execution_count": null,
   "id": "cfb713d2-152f-48f9-ac44-872eea2215e8",
   "metadata": {},
   "outputs": [],
   "source": []
  },
  {
   "cell_type": "code",
   "execution_count": null,
   "id": "cf1e05cf-6550-4e0b-b402-2988c10449a4",
   "metadata": {},
   "outputs": [],
   "source": []
  }
 ],
 "metadata": {
  "kernelspec": {
   "display_name": "Python 3 (ipykernel)",
   "language": "python",
   "name": "python3"
  },
  "language_info": {
   "codemirror_mode": {
    "name": "ipython",
    "version": 3
   },
   "file_extension": ".py",
   "mimetype": "text/x-python",
   "name": "python",
   "nbconvert_exporter": "python",
   "pygments_lexer": "ipython3",
   "version": "3.8.10"
  }
 },
 "nbformat": 4,
 "nbformat_minor": 5
}
