{
 "cells": [
  {
   "cell_type": "code",
   "execution_count": null,
   "id": "858f83bd-06ed-4871-95db-f9cc0f0135ea",
   "metadata": {},
   "outputs": [],
   "source": [
    "import tensorflow as tf"
   ]
  },
  {
   "cell_type": "code",
   "execution_count": 2,
   "id": "8af599a9-e275-4f2f-996f-ce837ae2a675",
   "metadata": {},
   "outputs": [
    {
     "data": {
      "text/plain": [
       "('tf version:', '2.9.1')"
      ]
     },
     "execution_count": 2,
     "metadata": {},
     "output_type": "execute_result"
    },
    {
     "data": {
      "text/plain": [
       "('tf run mode:', True)"
      ]
     },
     "execution_count": 2,
     "metadata": {},
     "output_type": "execute_result"
    },
    {
     "data": {
      "text/plain": [
       "[PhysicalDevice(name='/physical_device:CPU:0', device_type='CPU'),\n",
       " PhysicalDevice(name='/physical_device:GPU:0', device_type='GPU')]"
      ]
     },
     "execution_count": 2,
     "metadata": {},
     "output_type": "execute_result"
    },
    {
     "name": "stdout",
     "output_type": "stream",
     "text": [
      "WARNING:tensorflow:From C:\\Users\\txsli\\AppData\\Local\\Temp\\ipykernel_10540\\1568322491.py:6: is_gpu_available (from tensorflow.python.framework.test_util) is deprecated and will be removed in a future version.\n",
      "Instructions for updating:\n",
      "Use `tf.config.list_physical_devices('GPU')` instead.\n"
     ]
    },
    {
     "data": {
      "text/plain": [
       "True"
      ]
     },
     "execution_count": 2,
     "metadata": {},
     "output_type": "execute_result"
    },
    {
     "data": {
      "text/plain": [
       "'/device:GPU:0'"
      ]
     },
     "execution_count": 2,
     "metadata": {},
     "output_type": "execute_result"
    },
    {
     "data": {
      "text/plain": [
       "[name: \"/device:CPU:0\"\n",
       " device_type: \"CPU\"\n",
       " memory_limit: 268435456\n",
       " locality {\n",
       " }\n",
       " incarnation: 9742389359850503999\n",
       " xla_global_id: -1,\n",
       " name: \"/device:GPU:0\"\n",
       " device_type: \"GPU\"\n",
       " memory_limit: 4919132160\n",
       " locality {\n",
       "   bus_id: 1\n",
       "   links {\n",
       "   }\n",
       " }\n",
       " incarnation: 6603132053019617892\n",
       " physical_device_desc: \"device: 0, name: NVIDIA GeForce GTX 970M, pci bus id: 0000:01:00.0, compute capability: 5.2\"\n",
       " xla_global_id: 416903419]"
      ]
     },
     "execution_count": 2,
     "metadata": {},
     "output_type": "execute_result"
    },
    {
     "data": {
      "text/plain": [
       "[PhysicalDevice(name='/physical_device:GPU:0', device_type='GPU')]"
      ]
     },
     "execution_count": 2,
     "metadata": {},
     "output_type": "execute_result"
    }
   ],
   "source": [
    "\"tf version:\", tf.__version__\n",
    "\"tf run mode:\", tf.executing_eagerly()\n",
    "tf.config.list_physical_devices()\n",
    "#tf.config.list_physical_devices(\"CPU\")\n",
    "#tf.config.list_physical_devices(\"GPU\")\n",
    "tf.test.is_gpu_available()\n",
    "tf.test.gpu_device_name()\n",
    "from tensorflow.python.client import device_lib\n",
    "local_devices = device_lib.list_local_devices()\n",
    "local_devices\n",
    "# 使用 GPU 时，建议加入：\n",
    "gpu_physical_devices = tf.config.experimental.list_physical_devices('GPU')\n",
    "gpu_physical_devices\n",
    "# 设置 gpu 的内存是增长型使用\n",
    "tf.config.experimental.set_memory_growth(gpu_physical_devices[0], True)"
   ]
  },
  {
   "cell_type": "code",
   "execution_count": 3,
   "id": "1f773e77-637b-440f-a9eb-be5e97a837c9",
   "metadata": {},
   "outputs": [
    {
     "data": {
      "text/plain": [
       "<tf.Tensor: shape=(2, 2), dtype=int32, numpy=\n",
       "array([[1, 2],\n",
       "       [3, 4]])>"
      ]
     },
     "execution_count": 3,
     "metadata": {},
     "output_type": "execute_result"
    },
    {
     "data": {
      "text/plain": [
       "array([[1, 2],\n",
       "       [3, 4]])"
      ]
     },
     "execution_count": 3,
     "metadata": {},
     "output_type": "execute_result"
    },
    {
     "data": {
      "text/plain": [
       "tensorflow.python.framework.ops.EagerTensor"
      ]
     },
     "execution_count": 3,
     "metadata": {},
     "output_type": "execute_result"
    },
    {
     "data": {
      "text/plain": [
       "numpy.ndarray"
      ]
     },
     "execution_count": 3,
     "metadata": {},
     "output_type": "execute_result"
    }
   ],
   "source": [
    "# 查看张量的值\n",
    "t0 = tf.constant([[1, 2], [3, 4]])  # list 的常量\n",
    "t0 \n",
    "t0.numpy()\n",
    "type(t0)\n",
    "type(t0.numpy())"
   ]
  },
  {
   "cell_type": "code",
   "execution_count": 4,
   "id": "206ffc39-6e8e-44b6-8ec3-355343988cc9",
   "metadata": {},
   "outputs": [
    {
     "data": {
      "text/plain": [
       "('t1:',\n",
       " <tf.Tensor: shape=(2, 2), dtype=int32, numpy=\n",
       " array([[1, 2],\n",
       "        [3, 4]])>)"
      ]
     },
     "execution_count": 4,
     "metadata": {},
     "output_type": "execute_result"
    },
    {
     "data": {
      "text/plain": [
       "('t1 value:',\n",
       " array([[1, 2],\n",
       "        [3, 4]]))"
      ]
     },
     "execution_count": 4,
     "metadata": {},
     "output_type": "execute_result"
    },
    {
     "data": {
      "text/plain": [
       "('t1 type:', tensorflow.python.framework.ops.EagerTensor)"
      ]
     },
     "execution_count": 4,
     "metadata": {},
     "output_type": "execute_result"
    },
    {
     "data": {
      "text/plain": [
       "('t1 value type:', numpy.ndarray)"
      ]
     },
     "execution_count": 4,
     "metadata": {},
     "output_type": "execute_result"
    }
   ],
   "source": [
    "# 01:基于 python list 列表创建张量\n",
    "pl = [[1, 2], [3, 4]]\n",
    "t1 = tf.constant(pl)\n",
    "\"t1:\", t1\n",
    "\"t1 value:\", t1.numpy()\n",
    "\"t1 type:\", type(t1)\n",
    "\"t1 value type:\", type(t1.numpy())"
   ]
  },
  {
   "cell_type": "code",
   "execution_count": 5,
   "id": "78f90d12-5cb6-4e54-adb1-e7ed0135c3da",
   "metadata": {},
   "outputs": [
    {
     "data": {
      "text/plain": [
       "('t2:', <tf.Tensor: shape=(2,), dtype=int32, numpy=array([1, 2])>)"
      ]
     },
     "execution_count": 5,
     "metadata": {},
     "output_type": "execute_result"
    },
    {
     "data": {
      "text/plain": [
       "('t2 value:', array([1, 2]))"
      ]
     },
     "execution_count": 5,
     "metadata": {},
     "output_type": "execute_result"
    },
    {
     "data": {
      "text/plain": [
       "('t2 type:', tensorflow.python.framework.ops.EagerTensor)"
      ]
     },
     "execution_count": 5,
     "metadata": {},
     "output_type": "execute_result"
    },
    {
     "data": {
      "text/plain": [
       "('t2 value type:', numpy.ndarray)"
      ]
     },
     "execution_count": 5,
     "metadata": {},
     "output_type": "execute_result"
    },
    {
     "data": {
      "text/plain": [
       "('t2_2:', <tf.Tensor: shape=(2,), dtype=float64, numpy=array([1., 2.])>)"
      ]
     },
     "execution_count": 5,
     "metadata": {},
     "output_type": "execute_result"
    },
    {
     "data": {
      "text/plain": [
       "('t2_2 value:', array([1., 2.]))"
      ]
     },
     "execution_count": 5,
     "metadata": {},
     "output_type": "execute_result"
    },
    {
     "data": {
      "text/plain": [
       "('t2_2 type:', tensorflow.python.framework.ops.EagerTensor)"
      ]
     },
     "execution_count": 5,
     "metadata": {},
     "output_type": "execute_result"
    },
    {
     "data": {
      "text/plain": [
       "('t2_2 value type:', numpy.ndarray)"
      ]
     },
     "execution_count": 5,
     "metadata": {},
     "output_type": "execute_result"
    },
    {
     "data": {
      "text/plain": [
       "('t2_3:',\n",
       " <tf.Tensor: shape=(2,), dtype=float32, numpy=array([1., 2.], dtype=float32)>)"
      ]
     },
     "execution_count": 5,
     "metadata": {},
     "output_type": "execute_result"
    },
    {
     "data": {
      "text/plain": [
       "('t2_3 value:', array([1., 2.], dtype=float32))"
      ]
     },
     "execution_count": 5,
     "metadata": {},
     "output_type": "execute_result"
    },
    {
     "data": {
      "text/plain": [
       "('t2_3 type:', tensorflow.python.framework.ops.EagerTensor)"
      ]
     },
     "execution_count": 5,
     "metadata": {},
     "output_type": "execute_result"
    },
    {
     "data": {
      "text/plain": [
       "('t2_3 value type:', numpy.ndarray)"
      ]
     },
     "execution_count": 5,
     "metadata": {},
     "output_type": "execute_result"
    }
   ],
   "source": [
    "# 02:基于 numpy.ndarray 数组创建张量\n",
    "import numpy as np\n",
    "# 整型数组\n",
    "t2 = tf.constant(np.array([1, 2]))\n",
    "\"t2:\", t2\n",
    "\"t2 value:\", t2.numpy()\n",
    "\"t2 type:\", type(t2)\n",
    "\"t2 value type:\", type(t2.numpy())\n",
    "# 浮点型数组 - 默认 float64\n",
    "t2_2 = tf.constant(np.array([1., 2.0]))\n",
    "\"t2_2:\", t2_2\n",
    "\"t2_2 value:\", t2_2.numpy()\n",
    "\"t2_2 type:\", type(t2_2)\n",
    "\"t2_2 value type:\", type(t2_2.numpy())\n",
    "# 浮点型数组 - 显示指定为 float32\n",
    "t2_3 = tf.constant(np.array([1., 2.0]), dtype=tf.float32)\n",
    "\"t2_3:\", t2_3\n",
    "\"t2_3 value:\", t2_3.numpy()\n",
    "\"t2_3 type:\", type(t2_3)\n",
    "\"t2_3 value type:\", type(t2_3.numpy())"
   ]
  },
  {
   "cell_type": "code",
   "execution_count": 6,
   "id": "0b2929fb-1624-4f26-a301-d0206f36b0c7",
   "metadata": {},
   "outputs": [
    {
     "data": {
      "text/plain": [
       "('t3:', <tf.Tensor: shape=(), dtype=int32, numpy=1>)"
      ]
     },
     "execution_count": 6,
     "metadata": {},
     "output_type": "execute_result"
    },
    {
     "data": {
      "text/plain": [
       "('t3.numpy():', 1)"
      ]
     },
     "execution_count": 6,
     "metadata": {},
     "output_type": "execute_result"
    },
    {
     "data": {
      "text/plain": [
       "('t3 type:', tensorflow.python.framework.ops.EagerTensor)"
      ]
     },
     "execution_count": 6,
     "metadata": {},
     "output_type": "execute_result"
    },
    {
     "data": {
      "text/plain": [
       "('t3 value type', numpy.int32)"
      ]
     },
     "execution_count": 6,
     "metadata": {},
     "output_type": "execute_result"
    },
    {
     "data": {
      "text/plain": [
       "('t3_2:', <tf.Tensor: shape=(), dtype=float32, numpy=2.0>)"
      ]
     },
     "execution_count": 6,
     "metadata": {},
     "output_type": "execute_result"
    },
    {
     "data": {
      "text/plain": [
       "('t3_2.numpy():', 2.0)"
      ]
     },
     "execution_count": 6,
     "metadata": {},
     "output_type": "execute_result"
    },
    {
     "data": {
      "text/plain": [
       "('t3_2 type:', tensorflow.python.framework.ops.EagerTensor)"
      ]
     },
     "execution_count": 6,
     "metadata": {},
     "output_type": "execute_result"
    },
    {
     "data": {
      "text/plain": [
       "('t3_2 value type', numpy.float32)"
      ]
     },
     "execution_count": 6,
     "metadata": {},
     "output_type": "execute_result"
    },
    {
     "data": {
      "text/plain": [
       "<tf.Tensor: shape=(), dtype=float64, numpy=2.0>"
      ]
     },
     "execution_count": 6,
     "metadata": {},
     "output_type": "execute_result"
    }
   ],
   "source": [
    "# 03:基于 数字（单一数值）创建张量\n",
    "t3 = tf.constant(1)\n",
    "\"t3:\", t3\n",
    "\"t3.numpy():\", t3.numpy()\n",
    "\"t3 type:\", type(t3)\n",
    "\"t3 value type\", type(t3.numpy())\n",
    "t3_2 = tf.constant(2.)\n",
    "\"t3_2:\", t3_2\n",
    "\"t3_2.numpy():\", t3_2.numpy()\n",
    "\"t3_2 type:\", type(t3_2)\n",
    "\"t3_2 value type\", type(t3_2.numpy())\n",
    "# 显示指定元素类型\n",
    "# 建议： 多个参数时，最好给出：参数的名称=参数值\n",
    "#t3_3 = tf.constant(2., dtype=tf.float64)\n",
    "t3_3 = tf.constant(value = 2., dtype=tf.float64)\n",
    "t3_3"
   ]
  },
  {
   "cell_type": "code",
   "execution_count": 7,
   "id": "14803b91-20c7-4b19-8148-c70cdaeb2133",
   "metadata": {},
   "outputs": [
    {
     "data": {
      "text/plain": [
       "('t4:', <tf.Tensor: shape=(2,), dtype=bool, numpy=array([ True, False])>)"
      ]
     },
     "execution_count": 7,
     "metadata": {},
     "output_type": "execute_result"
    },
    {
     "data": {
      "text/plain": [
       "('t4.numpy():', array([ True, False]))"
      ]
     },
     "execution_count": 7,
     "metadata": {},
     "output_type": "execute_result"
    },
    {
     "data": {
      "text/plain": [
       "('t4 type:', tensorflow.python.framework.ops.EagerTensor)"
      ]
     },
     "execution_count": 7,
     "metadata": {},
     "output_type": "execute_result"
    },
    {
     "data": {
      "text/plain": [
       "('t4 value type', numpy.ndarray)"
      ]
     },
     "execution_count": 7,
     "metadata": {},
     "output_type": "execute_result"
    },
    {
     "data": {
      "text/plain": [
       "<tf.Tensor: shape=(2,), dtype=int32, numpy=array([1, 0])>"
      ]
     },
     "execution_count": 7,
     "metadata": {},
     "output_type": "execute_result"
    },
    {
     "data": {
      "text/plain": [
       "<tf.Tensor: shape=(2,), dtype=float32, numpy=array([1., 0.], dtype=float32)>"
      ]
     },
     "execution_count": 7,
     "metadata": {},
     "output_type": "execute_result"
    },
    {
     "data": {
      "text/plain": [
       "<tf.Tensor: shape=(4,), dtype=bool, numpy=array([ True, False,  True,  True])>"
      ]
     },
     "execution_count": 7,
     "metadata": {},
     "output_type": "execute_result"
    }
   ],
   "source": [
    "# 04:基于 布尔值 创建张量\n",
    "t4 = tf.constant([True, False])\n",
    "\"t4:\", t4\n",
    "\"t4.numpy():\", t4.numpy()\n",
    "\"t4 type:\", type(t4)\n",
    "\"t4 value type\", type(t4.numpy())\n",
    "# True => 1/1.  False => 0/0.\n",
    "tf.cast(t4, tf.int32)\n",
    "tf.cast(t4, tf.float32)\n",
    "# 非0 => True  0 => False\n",
    "tmp = tf.constant([-1, 0, 1, 2.0])\n",
    "tf.cast(tmp, tf.bool)"
   ]
  },
  {
   "cell_type": "code",
   "execution_count": 8,
   "id": "7d5fdf03-355e-4908-b0fc-09124a5e3ce2",
   "metadata": {},
   "outputs": [
    {
     "data": {
      "text/plain": [
       "('t5:', <tf.Tensor: shape=(), dtype=string, numpy=b'hello'>)"
      ]
     },
     "execution_count": 8,
     "metadata": {},
     "output_type": "execute_result"
    },
    {
     "data": {
      "text/plain": [
       "('t5.numpy():', b'hello')"
      ]
     },
     "execution_count": 8,
     "metadata": {},
     "output_type": "execute_result"
    },
    {
     "data": {
      "text/plain": [
       "('t5 type:', tensorflow.python.framework.ops.EagerTensor)"
      ]
     },
     "execution_count": 8,
     "metadata": {},
     "output_type": "execute_result"
    },
    {
     "data": {
      "text/plain": [
       "('t5 value type', bytes)"
      ]
     },
     "execution_count": 8,
     "metadata": {},
     "output_type": "execute_result"
    },
    {
     "data": {
      "text/plain": [
       "<tf.Tensor: shape=(), dtype=string, numpy=b'\\xe5\\xa4\\xa9\\xe4\\xb8\\x8b'>"
      ]
     },
     "execution_count": 8,
     "metadata": {},
     "output_type": "execute_result"
    }
   ],
   "source": [
    "# 05:基于 字符串 创建张量\n",
    "t5 = tf.constant(\"hello\")\n",
    "\"t5:\", t5\n",
    "# Python 字符（串）以 unicode 编码表达\n",
    "# Tensorflow 字符（串） 以字节数组的形式表达\n",
    "# numpy=b'hello'\n",
    "\"t5.numpy():\", t5.numpy()\n",
    "\"t5 type:\", type(t5)\n",
    "# bytes  == 字节数组\n",
    "\"t5 value type\", type(t5.numpy())\n",
    "# unicode === ascii == utf8\n",
    "# english -- ascii == 1byte\n",
    "# 比如：中文字符-2个字节 == 2byte表示一个字符，\n",
    "# 此时，需要3个字节表示需要两个字节表述的中文字符，\n",
    "# utf8 中，规定：第1个字节 最高位111.。。 后2个字节表示实际的字符编码\n",
    "# 在 tf 中 中文字符占 3 个字节\n",
    "tf.constant(\"天下\")"
   ]
  },
  {
   "cell_type": "code",
   "execution_count": 9,
   "id": "57949a9c-1490-4ac9-b392-b59a99aefed5",
   "metadata": {},
   "outputs": [
    {
     "data": {
      "text/plain": [
       "array([[ 0,  1,  2,  3],\n",
       "       [ 4,  5,  6,  7],\n",
       "       [ 8,  9, 10, 11]])"
      ]
     },
     "execution_count": 9,
     "metadata": {},
     "output_type": "execute_result"
    },
    {
     "data": {
      "text/plain": [
       "numpy.ndarray"
      ]
     },
     "execution_count": 9,
     "metadata": {},
     "output_type": "execute_result"
    },
    {
     "data": {
      "text/plain": [
       "('ta:',\n",
       " <tf.Tensor: shape=(3, 4), dtype=int32, numpy=\n",
       " array([[ 0,  1,  2,  3],\n",
       "        [ 4,  5,  6,  7],\n",
       "        [ 8,  9, 10, 11]])>)"
      ]
     },
     "execution_count": 9,
     "metadata": {},
     "output_type": "execute_result"
    },
    {
     "data": {
      "text/plain": [
       "('ta.numpy():',\n",
       " array([[ 0,  1,  2,  3],\n",
       "        [ 4,  5,  6,  7],\n",
       "        [ 8,  9, 10, 11]]))"
      ]
     },
     "execution_count": 9,
     "metadata": {},
     "output_type": "execute_result"
    },
    {
     "data": {
      "text/plain": [
       "('ta type:', tensorflow.python.framework.ops.EagerTensor)"
      ]
     },
     "execution_count": 9,
     "metadata": {},
     "output_type": "execute_result"
    },
    {
     "data": {
      "text/plain": [
       "('ta value type', numpy.ndarray)"
      ]
     },
     "execution_count": 9,
     "metadata": {},
     "output_type": "execute_result"
    },
    {
     "data": {
      "text/plain": [
       "array([b'hello', b'\\xe5\\xa4\\xa9\\xe4\\xb8\\x8b'], dtype=object)"
      ]
     },
     "execution_count": 9,
     "metadata": {},
     "output_type": "execute_result"
    }
   ],
   "source": [
    "# 06:tf.convert_to_tensor()方法将现有数据转换为张量\n",
    "import numpy as np\n",
    "na = np.arange(12).reshape(3, 4)\n",
    "na\n",
    "type(na)\n",
    "# 完成转换\n",
    "ta = tf.convert_to_tensor(na)\n",
    "\"ta:\", ta\n",
    "\"ta.numpy():\", ta.numpy()\n",
    "\"ta type:\", type(ta)\n",
    "\"ta value type\", type(ta.numpy())\n",
    "string_array = [\"hello\", \"天下\"]\n",
    "t_strings = tf.constant(string_array)\n",
    "t_strings.numpy()"
   ]
  },
  {
   "cell_type": "code",
   "execution_count": 10,
   "id": "f555168c-0feb-4adf-b820-849cf5fbccfb",
   "metadata": {},
   "outputs": [
    {
     "data": {
      "text/plain": [
       "<tf.Tensor: shape=(6,), dtype=float32, numpy=array([0., 0., 0., 0., 0., 0.], dtype=float32)>"
      ]
     },
     "execution_count": 10,
     "metadata": {},
     "output_type": "execute_result"
    },
    {
     "data": {
      "text/plain": [
       "<tf.Tensor: shape=(2, 3), dtype=float32, numpy=\n",
       "array([[0., 0., 0.],\n",
       "       [0., 0., 0.]], dtype=float32)>"
      ]
     },
     "execution_count": 10,
     "metadata": {},
     "output_type": "execute_result"
    },
    {
     "data": {
      "text/plain": [
       "<tf.Tensor: shape=(6,), dtype=float32, numpy=array([1., 1., 1., 1., 1., 1.], dtype=float32)>"
      ]
     },
     "execution_count": 10,
     "metadata": {},
     "output_type": "execute_result"
    },
    {
     "data": {
      "text/plain": [
       "<tf.Tensor: shape=(2, 3), dtype=float32, numpy=\n",
       "array([[1., 1., 1.],\n",
       "       [1., 1., 1.]], dtype=float32)>"
      ]
     },
     "execution_count": 10,
     "metadata": {},
     "output_type": "execute_result"
    },
    {
     "data": {
      "text/plain": [
       "<tf.Tensor: shape=(2, 3), dtype=float32, numpy=\n",
       "array([[0., 0., 0.],\n",
       "       [0., 0., 0.]], dtype=float32)>"
      ]
     },
     "execution_count": 10,
     "metadata": {},
     "output_type": "execute_result"
    },
    {
     "data": {
      "text/plain": [
       "<tf.Tensor: shape=(2, 3), dtype=int32, numpy=\n",
       "array([[9, 9, 9],\n",
       "       [9, 9, 9]])>"
      ]
     },
     "execution_count": 10,
     "metadata": {},
     "output_type": "execute_result"
    },
    {
     "data": {
      "text/plain": [
       "<tf.Tensor: shape=(2, 3), dtype=float32, numpy=\n",
       "array([[9., 9., 9.],\n",
       "       [9., 9., 9.]], dtype=float32)>"
      ]
     },
     "execution_count": 10,
     "metadata": {},
     "output_type": "execute_result"
    },
    {
     "data": {
      "text/plain": [
       "<tf.Tensor: shape=(2,), dtype=string, numpy=array([b'hello', b'hello'], dtype=object)>"
      ]
     },
     "execution_count": 10,
     "metadata": {},
     "output_type": "execute_result"
    },
    {
     "data": {
      "text/plain": [
       "<tf.Tensor: shape=(), dtype=bool, numpy=True>"
      ]
     },
     "execution_count": 10,
     "metadata": {},
     "output_type": "execute_result"
    },
    {
     "data": {
      "text/plain": [
       "<tf.Tensor: shape=(2, 3), dtype=float32, numpy=\n",
       "array([[ 1.3258864 , -1.3374125 , -1.6455876 ],\n",
       "       [ 0.4674322 , -1.0085659 , -0.49727106]], dtype=float32)>"
      ]
     },
     "execution_count": 10,
     "metadata": {},
     "output_type": "execute_result"
    },
    {
     "data": {
      "text/plain": [
       "<tf.Tensor: shape=(2, 3, 4), dtype=float32, numpy=\n",
       "array([[[-3.0900676 ,  0.06106665, -1.2160052 ,  3.9257355 ],\n",
       "        [ 0.44119656,  3.898708  ,  0.4625773 , -1.0210679 ],\n",
       "        [ 1.8632311 , -2.8251648 , -1.0558579 , -3.9115715 ]],\n",
       "\n",
       "       [[-0.34709856,  1.4259995 ,  0.54207313, -0.9045479 ],\n",
       "        [ 3.4186418 , -1.6602695 ,  3.3084226 ,  1.4107931 ],\n",
       "        [ 0.507739  ,  1.5735748 , -0.255079  , -1.8297805 ]]],\n",
       "      dtype=float32)>"
      ]
     },
     "execution_count": 10,
     "metadata": {},
     "output_type": "execute_result"
    },
    {
     "data": {
      "text/plain": [
       "<tf.Tensor: shape=(2, 3, 4), dtype=float32, numpy=\n",
       "array([[[ 1.9810729 ,  1.1371591 , -0.5367684 , -1.5745926 ],\n",
       "        [-1.1894002 ,  0.61738336, -1.8490044 , -2.714796  ],\n",
       "        [-0.855381  , -1.9755341 ,  3.5090632 ,  0.40457392]],\n",
       "\n",
       "       [[-1.9589148 ,  0.31488922, -0.6768407 , -3.8647504 ],\n",
       "        [-0.14740387,  3.41704   ,  0.8433062 ,  1.695899  ],\n",
       "        [-0.07205007, -2.1923492 ,  2.2899547 , -0.191505  ]]],\n",
       "      dtype=float32)>"
      ]
     },
     "execution_count": 10,
     "metadata": {},
     "output_type": "execute_result"
    },
    {
     "data": {
      "text/plain": [
       "<tf.Tensor: shape=(3, 3), dtype=int32, numpy=\n",
       "array([[8, 6, 9],\n",
       "       [4, 8, 3],\n",
       "       [8, 8, 8]])>"
      ]
     },
     "execution_count": 10,
     "metadata": {},
     "output_type": "execute_result"
    },
    {
     "data": {
      "text/plain": [
       "<tf.Tensor: shape=(3, 3), dtype=int32, numpy=\n",
       "array([[8, 6, 9],\n",
       "       [4, 8, 3],\n",
       "       [8, 8, 8]])>"
      ]
     },
     "execution_count": 10,
     "metadata": {},
     "output_type": "execute_result"
    },
    {
     "data": {
      "text/plain": [
       "<tf.Tensor: shape=(10,), dtype=int32, numpy=array([0, 1, 2, 3, 4, 5, 6, 7, 8, 9])>"
      ]
     },
     "execution_count": 10,
     "metadata": {},
     "output_type": "execute_result"
    },
    {
     "data": {
      "text/plain": [
       "<tf.Tensor: shape=(5,), dtype=int32, numpy=array([1, 3, 5, 7, 9])>"
      ]
     },
     "execution_count": 10,
     "metadata": {},
     "output_type": "execute_result"
    }
   ],
   "source": [
    "# 07:各种特殊张量\n",
    "# 全0张量\n",
    "tf.zeros(shape=(6))\n",
    "tf.zeros(shape=[2, 3])\n",
    "# 全1张量\n",
    "tf.ones(shape=(6))\n",
    "tf.ones(shape=[2, 3])\n",
    "# like 。。\n",
    "tf.zeros_like(tf.ones(shape=[2, 3]))\n",
    "# 同值张量\n",
    "tf.fill([2, 3], 9)\n",
    "tf.fill([2, 3], 9.)\n",
    "tf.fill([2,], \"hello\")\n",
    "tf.fill([], True)\n",
    "# 正态分布\n",
    "tf.random.normal([2, 3])\n",
    "tf.random.normal(shape=[2, 3, 4], mean=0.0, stddev=2.0)\n",
    "# 截断正态分布\n",
    "tf.random.truncated_normal(shape=[2, 3, 4], mean=0.0, stddev=2.0)\n",
    "# 均匀分布\n",
    "tf.random.set_seed(42)  # 每次生成的随机数据一致\n",
    "tf.random.uniform(shape=(3, 3), minval=1, maxval=10, dtype='int32')\n",
    "tf.random.set_seed(42)  # 每次生成的随机数据一致\n",
    "tf.random.uniform(shape=(3, 3), minval=1, maxval=10, dtype='int32')\n",
    "# 没有起作用。\n",
    "#tf.random.uniform(shape=(3, 3), minval=1, maxval=10, dtype='int32', seed=42)\n",
    "#tf.random.uniform(shape=(3, 3), minval=1, maxval=10, dtype='int32', seed=42)\n",
    "# 序列张量,前闭后开空间\n",
    "tf.range(10)\n",
    "tf.range(start=1, limit=10, delta=2)"
   ]
  },
  {
   "cell_type": "code",
   "execution_count": 11,
   "id": "d8a9dfea-f136-4463-aa0b-ca65d988377c",
   "metadata": {},
   "outputs": [
    {
     "data": {
      "text/plain": [
       "<tf.Tensor: shape=(2, 3), dtype=int32, numpy=\n",
       "array([[9, 9, 9],\n",
       "       [9, 9, 9]])>"
      ]
     },
     "execution_count": 11,
     "metadata": {},
     "output_type": "execute_result"
    },
    {
     "data": {
      "text/plain": [
       "<tf.Tensor: shape=(2, 3), dtype=int32, numpy=\n",
       "array([[9, 9, 9],\n",
       "       [9, 9, 9]])>"
      ]
     },
     "execution_count": 11,
     "metadata": {},
     "output_type": "execute_result"
    }
   ],
   "source": [
    "tf.fill(dims=[2, 3], value=9)\n",
    "# tf.constant(value=9, shape=[2,3])\n",
    "tf.constant(shape=[2,3], value=9)"
   ]
  },
  {
   "cell_type": "code",
   "execution_count": 12,
   "id": "dbbb73be-f508-42e4-a372-671a0cd71ce4",
   "metadata": {},
   "outputs": [
    {
     "data": {
      "text/plain": [
       "<tf.Variable 'Variable:0' shape=(4,) dtype=int32, numpy=array([-1,  0,  1,  2])>"
      ]
     },
     "execution_count": 12,
     "metadata": {},
     "output_type": "execute_result"
    },
    {
     "data": {
      "text/plain": [
       "('Variable:0', True)"
      ]
     },
     "execution_count": 12,
     "metadata": {},
     "output_type": "execute_result"
    },
    {
     "data": {
      "text/plain": [
       "<tf.Variable 'UnreadVariable' shape=() dtype=float32, numpy=2.0>"
      ]
     },
     "execution_count": 12,
     "metadata": {},
     "output_type": "execute_result"
    },
    {
     "data": {
      "text/plain": [
       "<tf.Variable 'UnreadVariable' shape=() dtype=float32, numpy=2.5>"
      ]
     },
     "execution_count": 12,
     "metadata": {},
     "output_type": "execute_result"
    }
   ],
   "source": [
    "# 关于变量\n",
    "ct = tf.constant([-1, 0, 1, 2])\n",
    "# 转换为变量类型\n",
    "vt = tf.Variable(ct)\n",
    "vt\n",
    "vt.name, vt.trainable\n",
    "v = tf.Variable(1.)\n",
    "v.assign(2.)\n",
    "v.assign_add(0.5)"
   ]
  },
  {
   "cell_type": "code",
   "execution_count": 4,
   "id": "44d82e36-2e80-4b21-9501-411f1e23c60a",
   "metadata": {},
   "outputs": [
    {
     "data": {
      "text/plain": [
       "tensorflow.python.framework.ops.EagerTensor"
      ]
     },
     "execution_count": 4,
     "metadata": {},
     "output_type": "execute_result"
    },
    {
     "data": {
      "text/plain": [
       "True"
      ]
     },
     "execution_count": 4,
     "metadata": {},
     "output_type": "execute_result"
    }
   ],
   "source": [
    "# 获取张量的类型\n",
    "t = tf.constant(3.1)\n",
    "type(t)\n",
    "tf.is_tensor(t)"
   ]
  },
  {
   "cell_type": "code",
   "execution_count": 6,
   "id": "c480b63d-c8d4-4e3f-a7de-ed41a474a45f",
   "metadata": {},
   "outputs": [
    {
     "data": {
      "text/plain": [
       "numpy.float32"
      ]
     },
     "execution_count": 6,
     "metadata": {},
     "output_type": "execute_result"
    }
   ],
   "source": [
    "type(t.numpy())"
   ]
  },
  {
   "cell_type": "code",
   "execution_count": 7,
   "id": "3c334879-e787-4157-bc99-02652805fa2d",
   "metadata": {},
   "outputs": [
    {
     "data": {
      "text/plain": [
       "tensorflow.python.framework.ops.EagerTensor"
      ]
     },
     "execution_count": 7,
     "metadata": {},
     "output_type": "execute_result"
    },
    {
     "data": {
      "text/plain": [
       "array([[1, 2],\n",
       "       [3, 4]])"
      ]
     },
     "execution_count": 7,
     "metadata": {},
     "output_type": "execute_result"
    },
    {
     "data": {
      "text/plain": [
       "numpy.ndarray"
      ]
     },
     "execution_count": 7,
     "metadata": {},
     "output_type": "execute_result"
    }
   ],
   "source": [
    "t =  tf.constant([[1,2], [3, 4]])\n",
    "type(t)\n",
    "t.numpy()\n",
    "type(t.numpy())"
   ]
  },
  {
   "cell_type": "code",
   "execution_count": 16,
   "id": "170428e0-392a-4d3e-91c3-d2af8046ce92",
   "metadata": {},
   "outputs": [
    {
     "data": {
      "text/plain": [
       "3.141592653589793"
      ]
     },
     "execution_count": 16,
     "metadata": {},
     "output_type": "execute_result"
    },
    {
     "data": {
      "text/plain": [
       "<tf.Tensor: shape=(), dtype=float32, numpy=3.1415927>"
      ]
     },
     "execution_count": 16,
     "metadata": {},
     "output_type": "execute_result"
    },
    {
     "data": {
      "text/plain": [
       "<tf.Tensor: shape=(), dtype=float64, numpy=3.141592653589793>"
      ]
     },
     "execution_count": 16,
     "metadata": {},
     "output_type": "execute_result"
    },
    {
     "ename": "NameError",
     "evalue": "name 'dtypes' is not defined",
     "output_type": "error",
     "traceback": [
      "\u001b[1;31m---------------------------------------------------------------------------\u001b[0m",
      "\u001b[1;31mNameError\u001b[0m                                 Traceback (most recent call last)",
      "Input \u001b[1;32mIn [16]\u001b[0m, in \u001b[0;36m<cell line: 9>\u001b[1;34m()\u001b[0m\n\u001b[0;32m      7\u001b[0m t_pi_float64\n\u001b[0;32m      8\u001b[0m \u001b[38;5;66;03m# t_pi_float64.numpy().dtypes\u001b[39;00m\n\u001b[1;32m----> 9\u001b[0m \u001b[43mdtypes\u001b[49m(t_pi_float64)\n",
      "\u001b[1;31mNameError\u001b[0m: name 'dtypes' is not defined"
     ]
    }
   ],
   "source": [
    "import numpy as np\n",
    "np.pi\n",
    "# 默认会转换为 tf.float32 \n",
    "t_pi_float32 = tf.constant(np.pi, dtype=tf.float32)\n",
    "t_pi_float32\n",
    "t_pi_float64 = tf.constant(np.pi, dtype=tf.float64)\n",
    "t_pi_float64\n",
    "# t_pi_float64.numpy().dtype\n",
    "# dtypes(t_pi_float64)"
   ]
  },
  {
   "cell_type": "code",
   "execution_count": 20,
   "id": "a1dbf9d7-57aa-403f-b5b9-3cfa97ca3a0c",
   "metadata": {},
   "outputs": [
    {
     "data": {
      "text/plain": [
       "<tf.Tensor: shape=(), dtype=int32, numpy=123456789>"
      ]
     },
     "execution_count": 20,
     "metadata": {},
     "output_type": "execute_result"
    },
    {
     "data": {
      "text/plain": [
       "tensorflow.python.framework.ops.EagerTensor"
      ]
     },
     "execution_count": 20,
     "metadata": {},
     "output_type": "execute_result"
    },
    {
     "data": {
      "text/plain": [
       "tf.int32"
      ]
     },
     "execution_count": 20,
     "metadata": {},
     "output_type": "execute_result"
    },
    {
     "data": {
      "text/plain": [
       "<tf.Tensor: shape=(), dtype=int16, numpy=-13035>"
      ]
     },
     "execution_count": 20,
     "metadata": {},
     "output_type": "execute_result"
    }
   ],
   "source": [
    "# 上溢\n",
    "c = tf.constant(123456789, dtype=tf.int32)\n",
    "c\n",
    "type(c)\n",
    "c.dtype\n",
    "d = tf.cast(c, tf.int16)\n",
    "d"
   ]
  },
  {
   "cell_type": "code",
   "execution_count": 22,
   "id": "66a0d743-8774-4e55-8a9e-de49778173db",
   "metadata": {},
   "outputs": [
    {
     "data": {
      "text/plain": [
       "<tf.Tensor: shape=(2,), dtype=int32, numpy=array([1, 0])>"
      ]
     },
     "execution_count": 22,
     "metadata": {},
     "output_type": "execute_result"
    },
    {
     "data": {
      "text/plain": [
       "<tf.Tensor: shape=(4,), dtype=bool, numpy=array([ True, False,  True,  True])>"
      ]
     },
     "execution_count": 22,
     "metadata": {},
     "output_type": "execute_result"
    }
   ],
   "source": [
    "b = tf.constant([True, False])\n",
    "tf.cast(b, tf.int32)\n",
    "v = tf.constant([-1, 0, 1, 2.0])\n",
    "tf.cast(v, tf.bool)"
   ]
  },
  {
   "cell_type": "code",
   "execution_count": 23,
   "id": "714c4a55-7830-49b2-aa53-9d4faf6e40d7",
   "metadata": {},
   "outputs": [
    {
     "data": {
      "text/plain": [
       "2"
      ]
     },
     "execution_count": 23,
     "metadata": {},
     "output_type": "execute_result"
    },
    {
     "data": {
      "text/plain": [
       "TensorShape([3, 2])"
      ]
     },
     "execution_count": 23,
     "metadata": {},
     "output_type": "execute_result"
    },
    {
     "data": {
      "text/plain": [
       "tf.int32"
      ]
     },
     "execution_count": 23,
     "metadata": {},
     "output_type": "execute_result"
    }
   ],
   "source": [
    "x = tf.constant([[1, 2], [3, 4], [5, 6]])\n",
    "x.ndim\n",
    "x.shape\n",
    "x.dtype"
   ]
  },
  {
   "cell_type": "code",
   "execution_count": 24,
   "id": "ea63c894-db42-410e-8734-bf1cfa0c32cd",
   "metadata": {},
   "outputs": [
    {
     "data": {
      "text/plain": [
       "<tf.Tensor: shape=(), dtype=int32, numpy=6>"
      ]
     },
     "execution_count": 24,
     "metadata": {},
     "output_type": "execute_result"
    }
   ],
   "source": [
    "tf.size(x)"
   ]
  },
  {
   "cell_type": "code",
   "execution_count": 25,
   "id": "6c0b0d1c-e6d1-4f18-acdb-bb563c816f1a",
   "metadata": {},
   "outputs": [
    {
     "data": {
      "text/plain": [
       "<tf.Tensor: shape=(), dtype=int32, numpy=2>"
      ]
     },
     "execution_count": 25,
     "metadata": {},
     "output_type": "execute_result"
    }
   ],
   "source": [
    "tf.rank(x)"
   ]
  },
  {
   "cell_type": "code",
   "execution_count": 26,
   "id": "5f42aee0-cd39-41c8-9bac-c9125dc0ed8b",
   "metadata": {},
   "outputs": [
    {
     "data": {
      "text/plain": [
       "<tf.Tensor: shape=(3, 2), dtype=int32, numpy=\n",
       "array([[5, 6],\n",
       "       [1, 2],\n",
       "       [3, 4]])>"
      ]
     },
     "execution_count": 26,
     "metadata": {},
     "output_type": "execute_result"
    }
   ],
   "source": [
    "tf.random.shuffle(x)"
   ]
  },
  {
   "cell_type": "code",
   "execution_count": 27,
   "id": "3dacefbe-d797-4666-bffe-c16985d3d077",
   "metadata": {},
   "outputs": [
    {
     "data": {
      "text/plain": [
       "<tf.Tensor: shape=(4,), dtype=float32, numpy=array([ 1.,  2., -1.,  0.], dtype=float32)>"
      ]
     },
     "execution_count": 27,
     "metadata": {},
     "output_type": "execute_result"
    }
   ],
   "source": [
    "tf.random.shuffle(v)"
   ]
  },
  {
   "cell_type": "code",
   "execution_count": 28,
   "id": "7a7909b8-0677-4ab2-b9bf-a193de7cf008",
   "metadata": {
    "scrolled": true,
    "tags": []
   },
   "outputs": [
    {
     "data": {
      "text/plain": [
       "<tf.Tensor: shape=(28, 28, 3), dtype=int32, numpy=\n",
       "array([[[ 69, 233, 142],\n",
       "        [156, 114, 107],\n",
       "        [181, 185,  87],\n",
       "        ...,\n",
       "        [ 62,  58, 135],\n",
       "        [115,  66, 230],\n",
       "        [170,  13,  64]],\n",
       "\n",
       "       [[135, 109,   2],\n",
       "        [ 35, 122,  55],\n",
       "        [167, 228, 109],\n",
       "        ...,\n",
       "        [200, 185,  98],\n",
       "        [ 36,  40, 158],\n",
       "        [167,  35, 207]],\n",
       "\n",
       "       [[209, 107,  63],\n",
       "        [233, 165, 131],\n",
       "        [215,  83, 183],\n",
       "        ...,\n",
       "        [ 52, 100, 160],\n",
       "        [215,  55,  12],\n",
       "        [  2, 172, 118]],\n",
       "\n",
       "       ...,\n",
       "\n",
       "       [[148,  33, 181],\n",
       "        [  2, 146, 136],\n",
       "        [ 43, 237, 147],\n",
       "        ...,\n",
       "        [115, 202,  90],\n",
       "        [ 14,  50,   7],\n",
       "        [221,  36,  39]],\n",
       "\n",
       "       [[204,  43, 218],\n",
       "        [ 76, 244,  94],\n",
       "        [197, 198, 211],\n",
       "        ...,\n",
       "        [228, 143,  52],\n",
       "        [145, 224, 156],\n",
       "        [ 24, 235,  24]],\n",
       "\n",
       "       [[229, 141, 151],\n",
       "        [ 41, 174, 182],\n",
       "        [183,  34, 237],\n",
       "        ...,\n",
       "        [ 99,  25,  30],\n",
       "        [ 89, 194,  96],\n",
       "        [217,  88,  63]]])>"
      ]
     },
     "execution_count": 28,
     "metadata": {},
     "output_type": "execute_result"
    },
    {
     "data": {
      "text/plain": [
       "<tf.Tensor: shape=(10, 28, 28, 3), dtype=int32, numpy=\n",
       "array([[[[  4, 156,  79],\n",
       "         [ 73, 190,  26],\n",
       "         [178,  82,  56],\n",
       "         ...,\n",
       "         [ 92, 175,  81],\n",
       "         [174,   4, 196],\n",
       "         [143,  93,  73]],\n",
       "\n",
       "        [[ 64, 207, 130],\n",
       "         [177,  39,  37],\n",
       "         [186, 186, 148],\n",
       "         ...,\n",
       "         [244,  92, 192],\n",
       "         [149, 119, 149],\n",
       "         [ 28,  91,  69]],\n",
       "\n",
       "        [[ 10, 231, 155],\n",
       "         [189, 132, 116],\n",
       "         [203, 186,  44],\n",
       "         ...,\n",
       "         [153, 156, 234],\n",
       "         [ 35, 214,  56],\n",
       "         [105, 120, 247]],\n",
       "\n",
       "        ...,\n",
       "\n",
       "        [[211,  78, 149],\n",
       "         [228,   4, 161],\n",
       "         [186, 148, 228],\n",
       "         ...,\n",
       "         [172, 153,  90],\n",
       "         [ 30,  30,  85],\n",
       "         [ 30, 116, 225]],\n",
       "\n",
       "        [[ 65,  71,  52],\n",
       "         [221, 143, 143],\n",
       "         [160, 178, 144],\n",
       "         ...,\n",
       "         [168, 165, 161],\n",
       "         [156,  97,  95],\n",
       "         [ 22, 197, 116]],\n",
       "\n",
       "        [[ 93, 132, 153],\n",
       "         [199, 130,  95],\n",
       "         [104, 155,  42],\n",
       "         ...,\n",
       "         [ 68,  57, 238],\n",
       "         [233,  20, 167],\n",
       "         [165, 225, 160]]],\n",
       "\n",
       "\n",
       "       [[[193, 171, 199],\n",
       "         [ 22,  46,  79],\n",
       "         [189, 141,  65],\n",
       "         ...,\n",
       "         [109, 163, 161],\n",
       "         [238,  84,  67],\n",
       "         [ 20,  28, 109]],\n",
       "\n",
       "        [[232, 213,  81],\n",
       "         [195,   1, 239],\n",
       "         [246, 199, 151],\n",
       "         ...,\n",
       "         [115, 245, 150],\n",
       "         [ 84, 232,  56],\n",
       "         [217, 108, 236]],\n",
       "\n",
       "        [[162,  29,  82],\n",
       "         [134, 128,  44],\n",
       "         [134, 111,  30],\n",
       "         ...,\n",
       "         [192,  97,  83],\n",
       "         [  0, 202,  26],\n",
       "         [144,  31,  10]],\n",
       "\n",
       "        ...,\n",
       "\n",
       "        [[ 16, 212, 171],\n",
       "         [ 56,  63, 184],\n",
       "         [ 27,  11,  20],\n",
       "         ...,\n",
       "         [128,  60, 199],\n",
       "         [147,  56, 195],\n",
       "         [117,  69, 217]],\n",
       "\n",
       "        [[ 35, 239, 225],\n",
       "         [ 53,  10,  84],\n",
       "         [154, 149, 110],\n",
       "         ...,\n",
       "         [177, 162, 138],\n",
       "         [191, 107,  73],\n",
       "         [232, 144,  73]],\n",
       "\n",
       "        [[  1, 135, 217],\n",
       "         [ 98, 165,  57],\n",
       "         [  2,  12, 186],\n",
       "         ...,\n",
       "         [ 72, 189,  24],\n",
       "         [ 58,  98,  92],\n",
       "         [ 47,  22,  88]]],\n",
       "\n",
       "\n",
       "       [[[188, 166,  74],\n",
       "         [109, 132,  92],\n",
       "         [197, 239, 125],\n",
       "         ...,\n",
       "         [  5, 129, 235],\n",
       "         [189, 142,   2],\n",
       "         [171,  65,  90]],\n",
       "\n",
       "        [[183, 112,  49],\n",
       "         [228,  28, 229],\n",
       "         [183, 155, 145],\n",
       "         ...,\n",
       "         [237,  92, 181],\n",
       "         [179, 168, 121],\n",
       "         [ 63, 166,  94]],\n",
       "\n",
       "        [[173, 128,   1],\n",
       "         [ 10, 241, 193],\n",
       "         [ 53, 185, 205],\n",
       "         ...,\n",
       "         [240,  97, 101],\n",
       "         [ 94, 220,  76],\n",
       "         [178,  83,  79]],\n",
       "\n",
       "        ...,\n",
       "\n",
       "        [[ 33,  24,  37],\n",
       "         [146, 151,  90],\n",
       "         [152, 183, 218],\n",
       "         ...,\n",
       "         [ 46, 180, 177],\n",
       "         [237,  45, 227],\n",
       "         [129,  44,  25]],\n",
       "\n",
       "        [[132, 114, 202],\n",
       "         [ 81, 170, 150],\n",
       "         [172,  47,  49],\n",
       "         ...,\n",
       "         [ 21,  76,  88],\n",
       "         [243,  28, 174],\n",
       "         [ 12, 102,  19]],\n",
       "\n",
       "        [[186,  41, 156],\n",
       "         [124, 185,  80],\n",
       "         [  2,  64, 216],\n",
       "         ...,\n",
       "         [ 81, 199, 102],\n",
       "         [ 95, 135, 251],\n",
       "         [135, 155, 135]]],\n",
       "\n",
       "\n",
       "       ...,\n",
       "\n",
       "\n",
       "       [[[236,  96, 233],\n",
       "         [ 73, 167, 114],\n",
       "         [ 99, 178,  81],\n",
       "         ...,\n",
       "         [ 34,  69,  76],\n",
       "         [110,  79, 212],\n",
       "         [ 35, 209, 121]],\n",
       "\n",
       "        [[ 73,  50,   7],\n",
       "         [ 41, 231, 176],\n",
       "         [133,  52, 167],\n",
       "         ...,\n",
       "         [226, 126, 185],\n",
       "         [252,  49, 238],\n",
       "         [  7,  19,  10]],\n",
       "\n",
       "        [[154,  21,  35],\n",
       "         [204, 174, 145],\n",
       "         [ 69,  74, 202],\n",
       "         ...,\n",
       "         [207,  56,  97],\n",
       "         [109,  72,  75],\n",
       "         [168,  79, 124]],\n",
       "\n",
       "        ...,\n",
       "\n",
       "        [[171, 160,  20],\n",
       "         [ 42, 253, 184],\n",
       "         [179,  40,  21],\n",
       "         ...,\n",
       "         [185,  62, 162],\n",
       "         [167, 178,   8],\n",
       "         [ 33,  30,  64]],\n",
       "\n",
       "        [[  5,  46, 220],\n",
       "         [119, 179,  73],\n",
       "         [ 40, 131,  74],\n",
       "         ...,\n",
       "         [229, 108,   9],\n",
       "         [170, 106,  10],\n",
       "         [205, 245,  32]],\n",
       "\n",
       "        [[160,  56,  52],\n",
       "         [ 63, 156, 171],\n",
       "         [  4,  58,  39],\n",
       "         ...,\n",
       "         [190,  10, 143],\n",
       "         [195, 152, 172],\n",
       "         [ 40, 112,  78]]],\n",
       "\n",
       "\n",
       "       [[[243, 186,  25],\n",
       "         [209,  75,  80],\n",
       "         [151,  10,  11],\n",
       "         ...,\n",
       "         [161,  11, 164],\n",
       "         [100,  79, 123],\n",
       "         [183,   7,  50]],\n",
       "\n",
       "        [[170,  82, 147],\n",
       "         [211, 238,  17],\n",
       "         [ 54, 132,  81],\n",
       "         ...,\n",
       "         [138, 211, 209],\n",
       "         [141, 194,  13],\n",
       "         [165,  53, 217]],\n",
       "\n",
       "        [[ 48, 123,  27],\n",
       "         [ 86,  70, 202],\n",
       "         [188, 120,  41],\n",
       "         ...,\n",
       "         [ 65,  90, 231],\n",
       "         [228,  50, 113],\n",
       "         [177, 133,   4]],\n",
       "\n",
       "        ...,\n",
       "\n",
       "        [[165, 244, 163],\n",
       "         [154,  97, 144],\n",
       "         [160, 245, 194],\n",
       "         ...,\n",
       "         [246, 214, 158],\n",
       "         [ 62, 121,  39],\n",
       "         [243,   9, 143]],\n",
       "\n",
       "        [[ 11, 138, 223],\n",
       "         [139,  24,  46],\n",
       "         [209, 210,  62],\n",
       "         ...,\n",
       "         [176, 127,  96],\n",
       "         [171,  66,  88],\n",
       "         [214, 188,  89]],\n",
       "\n",
       "        [[ 54, 114, 190],\n",
       "         [131, 230, 193],\n",
       "         [118, 216, 152],\n",
       "         ...,\n",
       "         [  2,  42, 175],\n",
       "         [ 33, 143,  49],\n",
       "         [254,   4,  69]]],\n",
       "\n",
       "\n",
       "       [[[137,  53,   3],\n",
       "         [119,  36, 186],\n",
       "         [110, 213,  73],\n",
       "         ...,\n",
       "         [114,  80, 134],\n",
       "         [167, 157, 119],\n",
       "         [184, 185,  10]],\n",
       "\n",
       "        [[116, 196,  93],\n",
       "         [121, 114,  81],\n",
       "         [246, 165,  78],\n",
       "         ...,\n",
       "         [ 66,  75,  15],\n",
       "         [ 38,  93, 219],\n",
       "         [102,  87, 220]],\n",
       "\n",
       "        [[ 85, 134, 119],\n",
       "         [225, 227, 110],\n",
       "         [158, 178,  85],\n",
       "         ...,\n",
       "         [248, 212, 177],\n",
       "         [114, 111, 128],\n",
       "         [105, 109,  77]],\n",
       "\n",
       "        ...,\n",
       "\n",
       "        [[248,  98,  44],\n",
       "         [159, 122,  83],\n",
       "         [214, 108, 228],\n",
       "         ...,\n",
       "         [176, 239,  86],\n",
       "         [153, 177, 219],\n",
       "         [ 72,  40, 224]],\n",
       "\n",
       "        [[ 67,  88,  57],\n",
       "         [ 63, 219,  29],\n",
       "         [203, 221,  26],\n",
       "         ...,\n",
       "         [ 88, 150, 227],\n",
       "         [ 82,  38, 130],\n",
       "         [ 10, 219,  36]],\n",
       "\n",
       "        [[ 53, 199, 144],\n",
       "         [  0, 198, 143],\n",
       "         [136, 206, 180],\n",
       "         ...,\n",
       "         [188, 215,  69],\n",
       "         [192,  70, 185],\n",
       "         [ 32,   7, 111]]]])>"
      ]
     },
     "execution_count": 28,
     "metadata": {},
     "output_type": "execute_result"
    }
   ],
   "source": [
    "image_rgb = tf.random.uniform([28, 28, 3], maxval=255, dtype=tf.int32)\n",
    "image_rgb\n",
    "image_rgbs = tf.random.uniform([10, 28, 28, 3], maxval=255, dtype=tf.int32)\n",
    "image_rgbs"
   ]
  },
  {
   "cell_type": "code",
   "execution_count": 36,
   "id": "90175ffb-4f1b-49a9-9dd9-6a2eae116291",
   "metadata": {},
   "outputs": [
    {
     "data": {
      "text/plain": [
       "<tf.Tensor: shape=(24,), dtype=int32, numpy=\n",
       "array([ 0,  1,  2,  3,  4,  5,  6,  7,  8,  9, 10, 11, 12, 13, 14, 15, 16,\n",
       "       17, 18, 19, 20, 21, 22, 23])>"
      ]
     },
     "execution_count": 36,
     "metadata": {},
     "output_type": "execute_result"
    },
    {
     "data": {
      "text/plain": [
       "<tf.Tensor: shape=(2, 3, 4), dtype=int32, numpy=\n",
       "array([[[ 0,  1,  2,  3],\n",
       "        [ 4,  5,  6,  7],\n",
       "        [ 8,  9, 10, 11]],\n",
       "\n",
       "       [[12, 13, 14, 15],\n",
       "        [16, 17, 18, 19],\n",
       "        [20, 21, 22, 23]]])>"
      ]
     },
     "execution_count": 36,
     "metadata": {},
     "output_type": "execute_result"
    },
    {
     "data": {
      "text/plain": [
       "<tf.Tensor: shape=(3, 2, 4), dtype=int32, numpy=\n",
       "array([[[ 0,  1,  2,  3],\n",
       "        [ 4,  5,  6,  7]],\n",
       "\n",
       "       [[ 8,  9, 10, 11],\n",
       "        [12, 13, 14, 15]],\n",
       "\n",
       "       [[16, 17, 18, 19],\n",
       "        [20, 21, 22, 23]]])>"
      ]
     },
     "execution_count": 36,
     "metadata": {},
     "output_type": "execute_result"
    },
    {
     "data": {
      "text/plain": [
       "<tf.Tensor: shape=(4, 6), dtype=int32, numpy=\n",
       "array([[ 0,  1,  2,  3,  4,  5],\n",
       "       [ 6,  7,  8,  9, 10, 11],\n",
       "       [12, 13, 14, 15, 16, 17],\n",
       "       [18, 19, 20, 21, 22, 23]])>"
      ]
     },
     "execution_count": 36,
     "metadata": {},
     "output_type": "execute_result"
    },
    {
     "data": {
      "text/plain": [
       "<tf.Tensor: shape=(2, 3, 4), dtype=int32, numpy=\n",
       "array([[[ 0,  1,  2,  3],\n",
       "        [ 4,  5,  6,  7],\n",
       "        [ 8,  9, 10, 11]],\n",
       "\n",
       "       [[12, 13, 14, 15],\n",
       "        [16, 17, 18, 19],\n",
       "        [20, 21, 22, 23]]])>"
      ]
     },
     "execution_count": 36,
     "metadata": {},
     "output_type": "execute_result"
    }
   ],
   "source": [
    "a = tf.range(24)\n",
    "a\n",
    "b = tf.reshape(a, [2, 3, 4])\n",
    "b\n",
    "c = tf.reshape(a, [3, 2, 4])\n",
    "c\n",
    "d = tf.reshape(a, (4, 6))\n",
    "d\n",
    "e = tf.reshape(a, (2, -1, 4))\n",
    "e"
   ]
  },
  {
   "cell_type": "code",
   "execution_count": 42,
   "id": "329a2df3-74c8-4fc6-a594-2fd9968eb463",
   "metadata": {},
   "outputs": [
    {
     "data": {
      "text/plain": [
       "(1,\n",
       " TensorShape([3]),\n",
       " <bound method _EagerTensorBase.numpy of <tf.Tensor: shape=(3,), dtype=int32, numpy=array([1, 2, 3])>>)"
      ]
     },
     "execution_count": 42,
     "metadata": {},
     "output_type": "execute_result"
    },
    {
     "data": {
      "text/plain": [
       "(2, TensorShape([1, 3]), array([[1, 2, 3]]))"
      ]
     },
     "execution_count": 42,
     "metadata": {},
     "output_type": "execute_result"
    },
    {
     "data": {
      "text/plain": [
       "(2,\n",
       " TensorShape([3, 1]),\n",
       " array([[1],\n",
       "        [2],\n",
       "        [3]]))"
      ]
     },
     "execution_count": 42,
     "metadata": {},
     "output_type": "execute_result"
    }
   ],
   "source": [
    "t = tf.constant([1, 2, 3])\n",
    "t.ndim, t.shape, t.numpy\n",
    "t2 = tf.expand_dims(t, 0)\n",
    "t2.ndim, t2.shape, t2.numpy()\n",
    "t1 = tf.expand_dims(t, 1)\n",
    "t1.ndim, t1.shape, t1.numpy()"
   ]
  },
  {
   "cell_type": "code",
   "execution_count": 43,
   "id": "f9bb60b7-04e2-4902-8efd-2f06b350767a",
   "metadata": {},
   "outputs": [
    {
     "data": {
      "text/plain": [
       "(3,\n",
       " TensorShape([2, 3, 4]),\n",
       " array([[[ 0,  1,  2,  3],\n",
       "         [ 4,  5,  6,  7],\n",
       "         [ 8,  9, 10, 11]],\n",
       " \n",
       "        [[12, 13, 14, 15],\n",
       "         [16, 17, 18, 19],\n",
       "         [20, 21, 22, 23]]]))"
      ]
     },
     "execution_count": 43,
     "metadata": {},
     "output_type": "execute_result"
    },
    {
     "data": {
      "text/plain": [
       "('b0: ',\n",
       " 4,\n",
       " TensorShape([1, 2, 3, 4]),\n",
       " array([[[[ 0,  1,  2,  3],\n",
       "          [ 4,  5,  6,  7],\n",
       "          [ 8,  9, 10, 11]],\n",
       " \n",
       "         [[12, 13, 14, 15],\n",
       "          [16, 17, 18, 19],\n",
       "          [20, 21, 22, 23]]]]))"
      ]
     },
     "execution_count": 43,
     "metadata": {},
     "output_type": "execute_result"
    },
    {
     "data": {
      "text/plain": [
       "('b1: ',\n",
       " 4,\n",
       " TensorShape([2, 1, 3, 4]),\n",
       " array([[[[ 0,  1,  2,  3],\n",
       "          [ 4,  5,  6,  7],\n",
       "          [ 8,  9, 10, 11]]],\n",
       " \n",
       " \n",
       "        [[[12, 13, 14, 15],\n",
       "          [16, 17, 18, 19],\n",
       "          [20, 21, 22, 23]]]]))"
      ]
     },
     "execution_count": 43,
     "metadata": {},
     "output_type": "execute_result"
    },
    {
     "data": {
      "text/plain": [
       "('b2: ',\n",
       " 4,\n",
       " TensorShape([2, 3, 1, 4]),\n",
       " array([[[[ 0,  1,  2,  3]],\n",
       " \n",
       "         [[ 4,  5,  6,  7]],\n",
       " \n",
       "         [[ 8,  9, 10, 11]]],\n",
       " \n",
       " \n",
       "        [[[12, 13, 14, 15]],\n",
       " \n",
       "         [[16, 17, 18, 19]],\n",
       " \n",
       "         [[20, 21, 22, 23]]]]))"
      ]
     },
     "execution_count": 43,
     "metadata": {},
     "output_type": "execute_result"
    },
    {
     "data": {
      "text/plain": [
       "('b3: ',\n",
       " 4,\n",
       " TensorShape([2, 3, 4, 1]),\n",
       " array([[[[ 0],\n",
       "          [ 1],\n",
       "          [ 2],\n",
       "          [ 3]],\n",
       " \n",
       "         [[ 4],\n",
       "          [ 5],\n",
       "          [ 6],\n",
       "          [ 7]],\n",
       " \n",
       "         [[ 8],\n",
       "          [ 9],\n",
       "          [10],\n",
       "          [11]]],\n",
       " \n",
       " \n",
       "        [[[12],\n",
       "          [13],\n",
       "          [14],\n",
       "          [15]],\n",
       " \n",
       "         [[16],\n",
       "          [17],\n",
       "          [18],\n",
       "          [19]],\n",
       " \n",
       "         [[20],\n",
       "          [21],\n",
       "          [22],\n",
       "          [23]]]]))"
      ]
     },
     "execution_count": 43,
     "metadata": {},
     "output_type": "execute_result"
    }
   ],
   "source": [
    "a = tf.range(24)\n",
    "b = tf.reshape(a, [2, 3, 4])\n",
    "b.ndim, b.shape, b.numpy()\n",
    "b0 = tf.expand_dims(b, 0)\n",
    "\"b0: \", b0.ndim, b0.shape, b0.numpy()\n",
    "b1 = tf.expand_dims(b, 1)\n",
    "\"b1: \", b1.ndim, b1.shape, b1.numpy()\n",
    "b2 = tf.expand_dims(b, 2)\n",
    "\"b2: \", b2.ndim, b2.shape, b2.numpy()\n",
    "b3 = tf.expand_dims(b, 3)\n",
    "\"b3: \", b3.ndim, b3.shape, b3.numpy()"
   ]
  },
  {
   "cell_type": "code",
   "execution_count": 46,
   "id": "1ebdfc12-7032-4e9b-ba1d-ee62cc9d048c",
   "metadata": {},
   "outputs": [
    {
     "data": {
      "text/plain": [
       "('b3: ',\n",
       " 4,\n",
       " TensorShape([2, 3, 4, 1]),\n",
       " array([[[[ 0],\n",
       "          [ 1],\n",
       "          [ 2],\n",
       "          [ 3]],\n",
       " \n",
       "         [[ 4],\n",
       "          [ 5],\n",
       "          [ 6],\n",
       "          [ 7]],\n",
       " \n",
       "         [[ 8],\n",
       "          [ 9],\n",
       "          [10],\n",
       "          [11]]],\n",
       " \n",
       " \n",
       "        [[[12],\n",
       "          [13],\n",
       "          [14],\n",
       "          [15]],\n",
       " \n",
       "         [[16],\n",
       "          [17],\n",
       "          [18],\n",
       "          [19]],\n",
       " \n",
       "         [[20],\n",
       "          [21],\n",
       "          [22],\n",
       "          [23]]]]))"
      ]
     },
     "execution_count": 46,
     "metadata": {},
     "output_type": "execute_result"
    },
    {
     "data": {
      "text/plain": [
       "('b31: ',\n",
       " 3,\n",
       " TensorShape([2, 3, 4]),\n",
       " array([[[ 0,  1,  2,  3],\n",
       "         [ 4,  5,  6,  7],\n",
       "         [ 8,  9, 10, 11]],\n",
       " \n",
       "        [[12, 13, 14, 15],\n",
       "         [16, 17, 18, 19],\n",
       "         [20, 21, 22, 23]]]))"
      ]
     },
     "execution_count": 46,
     "metadata": {},
     "output_type": "execute_result"
    }
   ],
   "source": [
    "\"b3: \", b3.ndim, b3.shape, b3.numpy()\n",
    "# b31 = tf.squeeze(b3, 1)\n",
    "b31 = tf.squeeze(b3)\n",
    "\"b31: \", b31.ndim, b31.shape, b31.numpy()"
   ]
  },
  {
   "cell_type": "code",
   "execution_count": 53,
   "id": "bac9a191-3909-4efe-8205-9a6ad4f7e085",
   "metadata": {},
   "outputs": [
    {
     "data": {
      "text/plain": [
       "(3, TensorShape([28, 28, 1]))"
      ]
     },
     "execution_count": 53,
     "metadata": {},
     "output_type": "execute_result"
    },
    {
     "data": {
      "text/plain": [
       "(3, TensorShape([28, 28, 1]))"
      ]
     },
     "execution_count": 53,
     "metadata": {},
     "output_type": "execute_result"
    },
    {
     "data": {
      "text/plain": [
       "(3, TensorShape([28, 28, 1]))"
      ]
     },
     "execution_count": 53,
     "metadata": {},
     "output_type": "execute_result"
    },
    {
     "data": {
      "text/plain": [
       "TensorShape([1, 28, 28, 3])"
      ]
     },
     "execution_count": 53,
     "metadata": {},
     "output_type": "execute_result"
    },
    {
     "data": {
      "text/plain": [
       "(3, TensorShape([28, 28, 3]))"
      ]
     },
     "execution_count": 53,
     "metadata": {},
     "output_type": "execute_result"
    }
   ],
   "source": [
    "image = tf.random.uniform([28, 28], maxval=255, dtype=tf.int32)\n",
    "image_red_channel = tf.expand_dims(image, axis=2)\n",
    "image_red_channel.ndim, image_red_channel.shape\n",
    "image_green_channel = tf.expand_dims(image, axis=2)\n",
    "image_green_channel.ndim, image_green_channel.shape\n",
    "image_blue_channel = tf.expand_dims(image, axis=2)\n",
    "image_blue_channel.ndim, image_blue_channel.shape\n",
    "image_rgb = tf.concat([image_red_channel, image_green_channel, image_blue_channel], axis = 2)\n",
    "# 将image_rgb一张图片放入样本集中？\n",
    "image_rgb_set = tf.expand_dims(image_rgb, 0)\n",
    "image_rgb_set.shape\n",
    "image_rgb.ndim, image_rgb.shape\n",
    "image_red, image_green, image_blue = tf.split(image_rgb, 3, axis=2)"
   ]
  },
  {
   "cell_type": "code",
   "execution_count": 56,
   "id": "1cd35e77-e8c6-4410-9c4e-b4c96cdf5cd3",
   "metadata": {},
   "outputs": [
    {
     "data": {
      "text/plain": [
       "(2,\n",
       " TensorShape([2, 3]),\n",
       " array([[1, 2, 3],\n",
       "        [4, 5, 6]]))"
      ]
     },
     "execution_count": 56,
     "metadata": {},
     "output_type": "execute_result"
    },
    {
     "data": {
      "text/plain": [
       "(2,\n",
       " TensorShape([3, 2]),\n",
       " array([[1, 4],\n",
       "        [2, 5],\n",
       "        [3, 6]]))"
      ]
     },
     "execution_count": 56,
     "metadata": {},
     "output_type": "execute_result"
    }
   ],
   "source": [
    "x = tf.constant([1, 2, 3])\n",
    "y = tf.constant([4, 5, 6])\n",
    "z1 = tf.stack((x, y), axis=0)\n",
    "z1.ndim, z1.shape, z1.numpy()\n",
    "z2 = tf.stack((x, y), axis=1)\n",
    "z2.ndim, z2.shape, z2.numpy()"
   ]
  },
  {
   "cell_type": "code",
   "execution_count": 22,
   "id": "1fef30e3-787b-4247-b0dc-fd20f24228ad",
   "metadata": {},
   "outputs": [
    {
     "data": {
      "text/plain": [
       "<tf.Tensor: shape=(10,), dtype=int32, numpy=array([0, 1, 2, 3, 4, 5, 6, 7, 8, 9])>"
      ]
     },
     "execution_count": 22,
     "metadata": {},
     "output_type": "execute_result"
    },
    {
     "data": {
      "text/plain": [
       "<tf.Tensor: shape=(10,), dtype=int32, numpy=array([1, 5, 5, 0, 4, 2, 1, 1, 1, 3])>"
      ]
     },
     "execution_count": 22,
     "metadata": {},
     "output_type": "execute_result"
    },
    {
     "data": {
      "text/plain": [
       "<tf.Tensor: shape=(20,), dtype=int32, numpy=array([0, 1, 2, 3, 4, 5, 6, 7, 8, 9, 1, 5, 5, 0, 4, 2, 1, 1, 1, 3])>"
      ]
     },
     "execution_count": 22,
     "metadata": {},
     "output_type": "execute_result"
    },
    {
     "data": {
      "text/plain": [
       "<tf.Tensor: shape=(2, 10), dtype=int32, numpy=\n",
       "array([[0, 1, 2, 3, 4, 5, 6, 7, 8, 9],\n",
       "       [1, 5, 5, 0, 4, 2, 1, 1, 1, 3]])>"
      ]
     },
     "execution_count": 22,
     "metadata": {},
     "output_type": "execute_result"
    },
    {
     "data": {
      "text/plain": [
       "<tf.Tensor: shape=(10, 2), dtype=int32, numpy=\n",
       "array([[0, 1],\n",
       "       [1, 5],\n",
       "       [2, 5],\n",
       "       [3, 0],\n",
       "       [4, 4],\n",
       "       [5, 2],\n",
       "       [6, 1],\n",
       "       [7, 1],\n",
       "       [8, 1],\n",
       "       [9, 3]])>"
      ]
     },
     "execution_count": 22,
     "metadata": {},
     "output_type": "execute_result"
    }
   ],
   "source": [
    "import tensorflow as tf\n",
    "# 生成一维张量\n",
    "tf_01 = tf.range(10)\n",
    "tf_01\n",
    "tf.random.set_seed(42)\n",
    "tf_01_2 = tf.random.uniform([10,], maxval=6, dtype=tf.int32)\n",
    "tf_01_2\n",
    "# 一维拼接\n",
    "tf_concat_01 = tf.concat([tf_01, tf_01_2], axis=0)\n",
    "tf_concat_01\n",
    "# tf_concat_02 = tf.concat([tf_01, tf_01_2], axis=1)\n",
    "# tf_concat_02\n",
    "tf_stack_01 = tf.stack([tf_01, tf_01_2], axis=0)\n",
    "tf_stack_01\n",
    "tf_stack_02 = tf.stack([tf_01, tf_01_2], axis=1)\n",
    "tf_stack_02"
   ]
  },
  {
   "cell_type": "code",
   "execution_count": 29,
   "id": "fdd7830b-3750-4511-932d-bb7dd5b2e308",
   "metadata": {},
   "outputs": [
    {
     "data": {
      "text/plain": [
       "<tf.Tensor: shape=(2, 3), dtype=int32, numpy=\n",
       "array([[0, 1, 2],\n",
       "       [3, 4, 5]])>"
      ]
     },
     "execution_count": 29,
     "metadata": {},
     "output_type": "execute_result"
    },
    {
     "data": {
      "text/plain": [
       "<tf.Tensor: shape=(2, 3), dtype=int32, numpy=\n",
       "array([[1, 5, 5],\n",
       "       [0, 4, 2]])>"
      ]
     },
     "execution_count": 29,
     "metadata": {},
     "output_type": "execute_result"
    },
    {
     "data": {
      "text/plain": [
       "<tf.Tensor: shape=(4, 3), dtype=int32, numpy=\n",
       "array([[0, 1, 2],\n",
       "       [3, 4, 5],\n",
       "       [1, 5, 5],\n",
       "       [0, 4, 2]])>"
      ]
     },
     "execution_count": 29,
     "metadata": {},
     "output_type": "execute_result"
    },
    {
     "data": {
      "text/plain": [
       "<tf.Tensor: shape=(2, 6), dtype=int32, numpy=\n",
       "array([[0, 1, 2, 1, 5, 5],\n",
       "       [3, 4, 5, 0, 4, 2]])>"
      ]
     },
     "execution_count": 29,
     "metadata": {},
     "output_type": "execute_result"
    },
    {
     "data": {
      "text/plain": [
       "<tf.Tensor: shape=(2, 2, 3), dtype=int32, numpy=\n",
       "array([[[0, 1, 2],\n",
       "        [3, 4, 5]],\n",
       "\n",
       "       [[1, 5, 5],\n",
       "        [0, 4, 2]]])>"
      ]
     },
     "execution_count": 29,
     "metadata": {},
     "output_type": "execute_result"
    },
    {
     "data": {
      "text/plain": [
       "<tf.Tensor: shape=(2, 2, 3), dtype=int32, numpy=\n",
       "array([[[0, 1, 2],\n",
       "        [1, 5, 5]],\n",
       "\n",
       "       [[3, 4, 5],\n",
       "        [0, 4, 2]]])>"
      ]
     },
     "execution_count": 29,
     "metadata": {},
     "output_type": "execute_result"
    },
    {
     "data": {
      "text/plain": [
       "<tf.Tensor: shape=(2, 3, 2), dtype=int32, numpy=\n",
       "array([[[0, 1],\n",
       "        [1, 5],\n",
       "        [2, 5]],\n",
       "\n",
       "       [[3, 0],\n",
       "        [4, 4],\n",
       "        [5, 2]]])>"
      ]
     },
     "execution_count": 29,
     "metadata": {},
     "output_type": "execute_result"
    }
   ],
   "source": [
    "# 生成二维张量\n",
    "tf_02 = tf.range(6)\n",
    "tf_02 = tf.reshape(tf_02, [2, 3])\n",
    "tf_02\n",
    "tf.random.set_seed(42)\n",
    "tf_022 = tf.random.uniform([2, 3], maxval=6, dtype=tf.int32)\n",
    "tf_022\n",
    "# 二维拼接\n",
    "tf_concat_02_0 = tf.concat([tf_02, tf_022], axis=0)\n",
    "tf_concat_02_0\n",
    "tf_concat_02_1 = tf.concat([tf_02, tf_022], axis=1)\n",
    "tf_concat_02_1\n",
    "# 二维堆叠\n",
    "tf_stack_02_0 = tf.stack([tf_02, tf_022], axis=0)\n",
    "tf_stack_02_0\n",
    "tf_stack_02_1 = tf.stack([tf_02, tf_022], axis=1)\n",
    "tf_stack_02_1\n",
    "tf_stack_02_2 = tf.stack([tf_02, tf_022], axis=2)\n",
    "tf_stack_02_2"
   ]
  },
  {
   "cell_type": "code",
   "execution_count": 30,
   "id": "06ebd77f-a36a-46f0-88fa-22a599059f8b",
   "metadata": {},
   "outputs": [
    {
     "data": {
      "text/plain": [
       "<tf.Tensor: shape=(2, 3), dtype=int32, numpy=\n",
       "array([[1, 2, 3],\n",
       "       [4, 5, 6]])>"
      ]
     },
     "execution_count": 30,
     "metadata": {},
     "output_type": "execute_result"
    },
    {
     "data": {
      "text/plain": [
       "<tf.Tensor: shape=(3, 2), dtype=int32, numpy=\n",
       "array([[1, 4],\n",
       "       [2, 5],\n",
       "       [3, 6]])>"
      ]
     },
     "execution_count": 30,
     "metadata": {},
     "output_type": "execute_result"
    }
   ],
   "source": [
    "x = tf.constant([[1, 2, 3], [4, 5, 6]])\n",
    "x\n",
    "# 二维的维度变换，就是转置\n",
    "y1 = tf.transpose(x)\n",
    "y1"
   ]
  },
  {
   "cell_type": "code",
   "execution_count": 34,
   "id": "8dee248d-1775-4dbb-9e20-693bff787afb",
   "metadata": {},
   "outputs": [
    {
     "data": {
      "text/plain": [
       "<tf.Tensor: shape=(2, 3, 4), dtype=int32, numpy=\n",
       "array([[[ 0,  1,  2,  3],\n",
       "        [ 4,  5,  6,  7],\n",
       "        [ 8,  9, 10, 11]],\n",
       "\n",
       "       [[12, 13, 14, 15],\n",
       "        [16, 17, 18, 19],\n",
       "        [20, 21, 22, 23]]])>"
      ]
     },
     "execution_count": 34,
     "metadata": {},
     "output_type": "execute_result"
    },
    {
     "data": {
      "text/plain": [
       "(3, TensorShape([3, 2, 4]))"
      ]
     },
     "execution_count": 34,
     "metadata": {},
     "output_type": "execute_result"
    },
    {
     "data": {
      "text/plain": [
       "<tf.Tensor: shape=(3, 2, 4), dtype=int32, numpy=\n",
       "array([[[ 0,  1,  2,  3],\n",
       "        [12, 13, 14, 15]],\n",
       "\n",
       "       [[ 4,  5,  6,  7],\n",
       "        [16, 17, 18, 19]],\n",
       "\n",
       "       [[ 8,  9, 10, 11],\n",
       "        [20, 21, 22, 23]]])>"
      ]
     },
     "execution_count": 34,
     "metadata": {},
     "output_type": "execute_result"
    }
   ],
   "source": [
    "a = tf.range(24)\n",
    "b = tf.reshape(a, [2, 3, 4])\n",
    "b\n",
    "c =  tf.transpose(b, (1, 0, 2))\n",
    "c.ndim, c.shape\n",
    "A = [ 0,  1,  2,  3]\n",
    "B = [ 4,  5,  6,  7]\n",
    "C = [ 8,  9, 10, 11]\n",
    "D = [12, 13, 14, 15]\n",
    "E = [16, 17, 18, 19]\n",
    "F = [20, 21, 22, 23]\n",
    "# b其实为：\n",
    "# A B C\n",
    "# D E F \n",
    "# tf.transpose(b, (1, 0, 2)) 可以理解为：\n",
    "# A B C\n",
    "# D E F \n",
    "# 的转置：\n",
    "# A D\n",
    "# B E\n",
    "# E F \n",
    "c"
   ]
  },
  {
   "cell_type": "code",
   "execution_count": 36,
   "id": "3faa1ab4-4e30-4c67-bab7-e2153fe15c51",
   "metadata": {},
   "outputs": [
    {
     "data": {
      "text/plain": [
       "<tf.Tensor: shape=(2, 3, 32, 32), dtype=float32, numpy=\n",
       "array([[[[ 0.3274685 , -1.4075519 , -0.5573232 , ...,  2.132039  ,\n",
       "          -1.7318882 ,  1.3617845 ],\n",
       "         [ 0.20548698, -1.5677974 , -0.91995203, ..., -1.0919495 ,\n",
       "           0.29616535, -0.9492331 ],\n",
       "         [ 1.6719126 , -2.240332  ,  0.16223948, ..., -0.8256792 ,\n",
       "          -0.41037703, -0.25359246],\n",
       "         ...,\n",
       "         [ 1.9803859 ,  0.5069896 ,  0.8723801 , ...,  0.5175638 ,\n",
       "          -0.77693254, -1.3585666 ],\n",
       "         [ 2.3433836 , -0.25396854,  0.05088823, ..., -0.7909972 ,\n",
       "          -0.9823196 ,  1.4209518 ],\n",
       "         [-0.24083076,  1.8468701 ,  1.1562476 , ...,  1.2389925 ,\n",
       "          -2.1679735 , -0.15449814]],\n",
       "\n",
       "        [[-0.8426258 , -2.3880599 ,  0.539707  , ..., -0.4657018 ,\n",
       "          -0.3602359 , -1.6211367 ],\n",
       "         [ 0.3016586 , -0.12295283,  0.3147643 , ...,  0.5029912 ,\n",
       "           1.6395571 ,  0.61432874],\n",
       "         [ 1.4818641 , -2.258513  , -0.9517771 , ..., -0.936846  ,\n",
       "           0.27255708,  0.29360968],\n",
       "         ...,\n",
       "         [-0.4602716 ,  1.2332487 , -0.05264815, ..., -1.2889284 ,\n",
       "          -0.48324618, -0.10396524],\n",
       "         [ 1.0094466 , -0.09010947, -0.7584397 , ...,  0.49737814,\n",
       "          -0.8886073 ,  0.48348722],\n",
       "         [ 2.152405  , -0.03349946, -0.22877324, ...,  2.2270536 ,\n",
       "           1.6807762 , -1.5067958 ]],\n",
       "\n",
       "        [[ 0.3194337 , -1.0392479 ,  1.6994323 , ..., -0.8202239 ,\n",
       "           0.41154394,  1.0812583 ],\n",
       "         [-1.5635453 , -1.4037988 ,  1.8619504 , ..., -0.5139247 ,\n",
       "           0.52293587, -0.23286249],\n",
       "         [ 0.4848062 , -0.13173966, -0.07069698, ..., -1.2643243 ,\n",
       "          -0.33402067, -0.40238917],\n",
       "         ...,\n",
       "         [ 1.0977181 , -1.395452  ,  2.4193103 , ..., -1.1970258 ,\n",
       "           1.3153723 , -0.77522695],\n",
       "         [ 0.4445687 ,  0.32033485,  0.4779355 , ..., -1.4033067 ,\n",
       "          -0.07601675, -0.51202816],\n",
       "         [-0.45377782, -1.757632  ,  0.37823597, ..., -0.87558496,\n",
       "           0.30761704,  0.05030049]]],\n",
       "\n",
       "\n",
       "       [[[ 1.7314558 , -1.2564821 , -1.083026  , ...,  2.6157146 ,\n",
       "          -0.6893996 ,  0.7049903 ],\n",
       "         [ 0.4912957 , -0.6427821 , -2.0130367 , ...,  0.9735231 ,\n",
       "          -1.0914967 ,  0.6773109 ],\n",
       "         [ 0.23224068,  0.73541415, -0.255343  , ...,  1.0796027 ,\n",
       "           1.6734941 ,  3.0757964 ],\n",
       "         ...,\n",
       "         [ 0.7749717 , -1.9455929 , -1.002135  , ...,  0.67999613,\n",
       "           0.01507924,  0.17026119],\n",
       "         [-0.29199573, -0.23174623,  0.30642796, ..., -0.30817166,\n",
       "           0.15461847, -0.6139162 ],\n",
       "         [-0.5902287 , -0.438546  , -2.9710128 , ...,  0.43055373,\n",
       "          -1.037216  , -0.8531293 ]],\n",
       "\n",
       "        [[ 1.0098732 ,  0.3474609 ,  0.39251092, ...,  0.93822306,\n",
       "           0.7896342 , -0.04048223],\n",
       "         [-1.3042164 , -0.9379865 ,  0.10101528, ..., -0.03020145,\n",
       "          -1.36596   , -1.0343335 ],\n",
       "         [ 0.33179578, -1.0595471 ,  0.41177374, ...,  0.6741552 ,\n",
       "          -1.1316507 , -0.39847413],\n",
       "         ...,\n",
       "         [ 1.3838272 , -0.7652878 , -0.2825618 , ..., -0.03358949,\n",
       "           0.1481839 , -0.03567508],\n",
       "         [ 0.07493722,  0.25109074, -0.24289574, ...,  0.82961947,\n",
       "          -0.04341825,  0.02530305],\n",
       "         [ 0.74483436, -0.35228726,  1.284477  , ..., -0.8300495 ,\n",
       "          -2.5473537 , -0.2688552 ]],\n",
       "\n",
       "        [[ 1.2751454 ,  0.18788859,  2.3253376 , ..., -0.40906137,\n",
       "          -0.0417371 ,  0.6184421 ],\n",
       "         [-0.43735406, -0.6317464 ,  1.320423  , ..., -0.35772806,\n",
       "           1.3549275 ,  0.04418432],\n",
       "         [ 0.08288662, -0.3641256 , -0.5770507 , ..., -0.04355956,\n",
       "          -0.35835233,  0.5469253 ],\n",
       "         ...,\n",
       "         [ 0.9536909 ,  1.1397655 , -0.93645465, ...,  0.23952295,\n",
       "          -0.7902579 , -0.26691896],\n",
       "         [ 1.105088  ,  0.344853  , -1.3403543 , ...,  0.11970932,\n",
       "          -1.6950154 , -0.7210614 ],\n",
       "         [ 2.0628722 ,  0.9489453 , -2.0968263 , ..., -0.38619953,\n",
       "           1.8731196 ,  2.3402312 ]]]], dtype=float32)>"
      ]
     },
     "execution_count": 36,
     "metadata": {},
     "output_type": "execute_result"
    },
    {
     "data": {
      "text/plain": [
       "<tf.Tensor: shape=(2, 32, 32, 3), dtype=float32, numpy=\n",
       "array([[[[ 0.3274685 , -0.8426258 ,  0.3194337 ],\n",
       "         [ 0.20548698,  0.3016586 , -1.5635453 ],\n",
       "         [ 1.6719126 ,  1.4818641 ,  0.4848062 ],\n",
       "         ...,\n",
       "         [ 1.9803859 , -0.4602716 ,  1.0977181 ],\n",
       "         [ 2.3433836 ,  1.0094466 ,  0.4445687 ],\n",
       "         [-0.24083076,  2.152405  , -0.45377782]],\n",
       "\n",
       "        [[-1.4075519 , -2.3880599 , -1.0392479 ],\n",
       "         [-1.5677974 , -0.12295283, -1.4037988 ],\n",
       "         [-2.240332  , -2.258513  , -0.13173966],\n",
       "         ...,\n",
       "         [ 0.5069896 ,  1.2332487 , -1.395452  ],\n",
       "         [-0.25396854, -0.09010947,  0.32033485],\n",
       "         [ 1.8468701 , -0.03349946, -1.757632  ]],\n",
       "\n",
       "        [[-0.5573232 ,  0.539707  ,  1.6994323 ],\n",
       "         [-0.91995203,  0.3147643 ,  1.8619504 ],\n",
       "         [ 0.16223948, -0.9517771 , -0.07069698],\n",
       "         ...,\n",
       "         [ 0.8723801 , -0.05264815,  2.4193103 ],\n",
       "         [ 0.05088823, -0.7584397 ,  0.4779355 ],\n",
       "         [ 1.1562476 , -0.22877324,  0.37823597]],\n",
       "\n",
       "        ...,\n",
       "\n",
       "        [[ 2.132039  , -0.4657018 , -0.8202239 ],\n",
       "         [-1.0919495 ,  0.5029912 , -0.5139247 ],\n",
       "         [-0.8256792 , -0.936846  , -1.2643243 ],\n",
       "         ...,\n",
       "         [ 0.5175638 , -1.2889284 , -1.1970258 ],\n",
       "         [-0.7909972 ,  0.49737814, -1.4033067 ],\n",
       "         [ 1.2389925 ,  2.2270536 , -0.87558496]],\n",
       "\n",
       "        [[-1.7318882 , -0.3602359 ,  0.41154394],\n",
       "         [ 0.29616535,  1.6395571 ,  0.52293587],\n",
       "         [-0.41037703,  0.27255708, -0.33402067],\n",
       "         ...,\n",
       "         [-0.77693254, -0.48324618,  1.3153723 ],\n",
       "         [-0.9823196 , -0.8886073 , -0.07601675],\n",
       "         [-2.1679735 ,  1.6807762 ,  0.30761704]],\n",
       "\n",
       "        [[ 1.3617845 , -1.6211367 ,  1.0812583 ],\n",
       "         [-0.9492331 ,  0.61432874, -0.23286249],\n",
       "         [-0.25359246,  0.29360968, -0.40238917],\n",
       "         ...,\n",
       "         [-1.3585666 , -0.10396524, -0.77522695],\n",
       "         [ 1.4209518 ,  0.48348722, -0.51202816],\n",
       "         [-0.15449814, -1.5067958 ,  0.05030049]]],\n",
       "\n",
       "\n",
       "       [[[ 1.7314558 ,  1.0098732 ,  1.2751454 ],\n",
       "         [ 0.4912957 , -1.3042164 , -0.43735406],\n",
       "         [ 0.23224068,  0.33179578,  0.08288662],\n",
       "         ...,\n",
       "         [ 0.7749717 ,  1.3838272 ,  0.9536909 ],\n",
       "         [-0.29199573,  0.07493722,  1.105088  ],\n",
       "         [-0.5902287 ,  0.74483436,  2.0628722 ]],\n",
       "\n",
       "        [[-1.2564821 ,  0.3474609 ,  0.18788859],\n",
       "         [-0.6427821 , -0.9379865 , -0.6317464 ],\n",
       "         [ 0.73541415, -1.0595471 , -0.3641256 ],\n",
       "         ...,\n",
       "         [-1.9455929 , -0.7652878 ,  1.1397655 ],\n",
       "         [-0.23174623,  0.25109074,  0.344853  ],\n",
       "         [-0.438546  , -0.35228726,  0.9489453 ]],\n",
       "\n",
       "        [[-1.083026  ,  0.39251092,  2.3253376 ],\n",
       "         [-2.0130367 ,  0.10101528,  1.320423  ],\n",
       "         [-0.255343  ,  0.41177374, -0.5770507 ],\n",
       "         ...,\n",
       "         [-1.002135  , -0.2825618 , -0.93645465],\n",
       "         [ 0.30642796, -0.24289574, -1.3403543 ],\n",
       "         [-2.9710128 ,  1.284477  , -2.0968263 ]],\n",
       "\n",
       "        ...,\n",
       "\n",
       "        [[ 2.6157146 ,  0.93822306, -0.40906137],\n",
       "         [ 0.9735231 , -0.03020145, -0.35772806],\n",
       "         [ 1.0796027 ,  0.6741552 , -0.04355956],\n",
       "         ...,\n",
       "         [ 0.67999613, -0.03358949,  0.23952295],\n",
       "         [-0.30817166,  0.82961947,  0.11970932],\n",
       "         [ 0.43055373, -0.8300495 , -0.38619953]],\n",
       "\n",
       "        [[-0.6893996 ,  0.7896342 , -0.0417371 ],\n",
       "         [-1.0914967 , -1.36596   ,  1.3549275 ],\n",
       "         [ 1.6734941 , -1.1316507 , -0.35835233],\n",
       "         ...,\n",
       "         [ 0.01507924,  0.1481839 , -0.7902579 ],\n",
       "         [ 0.15461847, -0.04341825, -1.6950154 ],\n",
       "         [-1.037216  , -2.5473537 ,  1.8731196 ]],\n",
       "\n",
       "        [[ 0.7049903 , -0.04048223,  0.6184421 ],\n",
       "         [ 0.6773109 , -1.0343335 ,  0.04418432],\n",
       "         [ 3.0757964 , -0.39847413,  0.5469253 ],\n",
       "         ...,\n",
       "         [ 0.17026119, -0.03567508, -0.26691896],\n",
       "         [-0.6139162 ,  0.02530305, -0.7210614 ],\n",
       "         [-0.8531293 , -0.2688552 ,  2.3402312 ]]]], dtype=float32)>"
      ]
     },
     "execution_count": 36,
     "metadata": {},
     "output_type": "execute_result"
    }
   ],
   "source": [
    "tf.random.set_seed(42)\n",
    "images = tf.random.normal([2, 32, 32, 3])\n",
    "images01 = tf.transpose(images, perm=[0, 3, 1, 2])\n",
    "images01\n",
    "\n",
    "images02 = tf.transpose(images, perm=[0, 2, 1, 3])\n",
    "images02"
   ]
  },
  {
   "cell_type": "code",
   "execution_count": 38,
   "id": "50eb44aa-6dce-457a-b678-1a6d0ccbc0b0",
   "metadata": {},
   "outputs": [
    {
     "data": {
      "text/plain": [
       "TensorShape([10, 28, 28])"
      ]
     },
     "execution_count": 38,
     "metadata": {},
     "output_type": "execute_result"
    },
    {
     "data": {
      "text/plain": [
       "<tf.Tensor: shape=(28, 28), dtype=int32, numpy=\n",
       "array([[112,  59, 146, 126, 187,  89,  13,  43, 241, 141,  37,  85, 116,\n",
       "        231,  90,  58, 109,  67,  49, 224, 141, 147,  22, 144,  64, 241,\n",
       "        181, 205],\n",
       "       [201,  35,  70,   7, 166, 233, 248, 235, 118,  85, 198, 233,  77,\n",
       "        228, 251,  84, 177, 139, 207,  59, 204,  26, 186, 100, 165,  55,\n",
       "        188, 117],\n",
       "       [ 20, 129, 202,  16, 129,  48,  47,  81, 119, 214,   4, 245, 210,\n",
       "         33, 101, 189, 187, 221,  93, 103,  81,   9, 236,  31,  78,  88,\n",
       "        142, 217],\n",
       "       [252, 202, 186, 176, 189, 236,  90,   9, 220,   8,  22, 170, 230,\n",
       "         31, 217, 174, 234, 155,  43, 145, 229,  87, 117, 188,  91,  19,\n",
       "        118, 199],\n",
       "       [248,  58, 108, 214,  90, 235, 118,  82,  54, 121, 128, 147, 116,\n",
       "         62, 200,  60, 229,  83,  34, 244,  84, 190, 107,  40,  77,  39,\n",
       "         14, 178],\n",
       "       [  7, 132, 231, 236, 120, 112, 177, 229,  29,  82, 213, 246,  83,\n",
       "        108, 128,  97, 136,  19, 187,  58, 114, 246, 186, 233,   1, 146,\n",
       "         12, 198],\n",
       "       [250,  51, 100,   3, 195, 159, 104,  12,  69, 123, 135,  63, 165,\n",
       "        140, 252,   7, 198, 145,  47, 233, 143,  61, 237, 119, 130, 126,\n",
       "        229, 230],\n",
       "       [  9, 171,   2, 221, 171,  92,  51, 134,  70,  38,  62, 226, 121,\n",
       "        235, 158, 134, 149,  14, 243, 169,  30,  45,  36, 158, 103,  25,\n",
       "        138, 194],\n",
       "       [225,  38, 116, 224, 130, 207, 174, 157, 165, 197, 130,  43,  47,\n",
       "          2, 176, 238,  49, 225, 221, 203,  15,  99, 103, 251,  95,   7,\n",
       "        153, 168],\n",
       "       [ 40, 217, 191, 125,  10, 136, 108, 199, 162, 136, 212, 154, 194,\n",
       "        205,  19,  29, 100, 123, 100,  91, 156, 249,  85,  39, 211, 192,\n",
       "         81,  71],\n",
       "       [ 14, 142,  88,   2,   8,  28,  52, 114, 130, 115,  56, 119, 197,\n",
       "         60, 189, 194, 182,  94,  41, 183, 175, 157, 214,  23, 112,  62,\n",
       "        218,  43],\n",
       "       [210,  80,  98,  83,  21,  91, 249, 246, 230,  84,  14,  20,  58,\n",
       "         95, 145,  19, 138, 115,  62, 131, 214, 201, 124, 217, 119, 213,\n",
       "         70, 125],\n",
       "       [138, 161,  64, 246,  49, 141, 100, 130,  39,  84, 164,  16, 112,\n",
       "         32, 175, 232,  80, 250, 132, 198,  45, 252, 121, 135, 155,  68,\n",
       "         33, 246],\n",
       "       [ 40, 239, 117,  43,  72,  47,  81,   7, 114, 225, 101, 177, 206,\n",
       "         52,  19, 113,  90, 146,  47,  73,  19, 130, 179,  30,  55, 148,\n",
       "        153, 132],\n",
       "       [167,  14, 130,   6,  13, 237, 250,  58, 242,  40, 106, 242,   7,\n",
       "        123, 229, 143,  74, 197, 124, 230, 129,  43, 133,  24, 106, 141,\n",
       "         68,  48],\n",
       "       [199, 131,  95, 193,  53, 115, 206,  99,  82, 188,  70,  62, 107,\n",
       "         84, 244,  11, 137, 153, 176, 252, 137, 251, 105, 112, 123,  36,\n",
       "        235,  47],\n",
       "       [  1, 110, 140,  44, 139,  43, 220, 100, 111,  52, 185, 212, 179,\n",
       "        134,   6, 110, 202, 254,  85,  83, 146, 113, 129, 100,  71, 212,\n",
       "         72, 190],\n",
       "       [246, 161,  53, 230,  41,  37,  94, 141,  86, 158,  46, 101, 168,\n",
       "        184, 179,   6,  54, 127, 225, 100, 137,  35, 246, 178, 140,  22,\n",
       "        181,  46],\n",
       "       [125, 158, 241, 251, 112,  79, 229, 128, 158, 176, 176, 192, 115,\n",
       "         97, 133, 195,  77,  66, 239, 192,  54, 215, 192, 190, 155,  42,\n",
       "         86,  68],\n",
       "       [240,  49,  51, 221,  75, 180,  21, 173, 110, 193, 190,  72, 228,\n",
       "        213, 190, 208, 182,  31, 174, 125,  80, 181,  34, 185, 153, 174,\n",
       "        119,  64],\n",
       "       [100, 148, 207, 162,  18,  34, 162, 155,  63,  76, 221,  88, 212,\n",
       "        154, 162, 189,  74,  58,  70, 168,  97,   2, 203, 143, 216,  82,\n",
       "         53, 144],\n",
       "       [ 83,  64, 163,  90, 169,  97, 203,  46,  97, 149, 253, 221,  60,\n",
       "         44,  49, 220, 216, 184,  88, 252, 184,  31, 121, 160, 214,  57,\n",
       "         30, 107],\n",
       "       [156, 175, 102, 215,  58, 231, 168, 229,  28, 222,  48,   3, 156,\n",
       "         10, 199,  64, 237, 158,  14, 238, 163, 206, 190, 152, 212, 179,\n",
       "        224,  49],\n",
       "       [123, 151,  99,  78, 155,  76, 174,  33,  56,  92,  71,  65,  69,\n",
       "        230, 115,   5,  37, 216, 181, 175, 133, 234,  14,  52,   7,   2,\n",
       "        131, 135],\n",
       "       [ 82, 157,  91, 156, 134, 169, 246,   6, 242, 197, 227,  37,   8,\n",
       "        251, 104, 125, 151,  59,  71,  95, 103, 125,  12,  56, 181,  61,\n",
       "         83, 112],\n",
       "       [ 69, 200,  77,  91, 127, 220, 184,  67,  92, 131, 181, 193, 174,\n",
       "         59,  21,  32,  93, 244,  79, 110,  82,   6, 233,  89,  50,  78,\n",
       "         38, 232],\n",
       "       [251, 202, 174, 198,  70,  40,  51, 174, 175, 219, 217, 198, 183,\n",
       "         64,  80,  51, 163, 171,  26, 108, 206, 113,  52,  39, 197,  99,\n",
       "         82,  49],\n",
       "       [156, 153, 207, 170,   6,  37, 105, 251, 214, 185,  40,  93, 133,\n",
       "         46, 110,  98, 142, 183,  62, 136, 227,  89,  40,   5, 190,  74,\n",
       "        100, 216]])>"
      ]
     },
     "execution_count": 38,
     "metadata": {},
     "output_type": "execute_result"
    },
    {
     "data": {
      "text/plain": [
       "<tf.Tensor: shape=(28,), dtype=int32, numpy=\n",
       "array([201,  35,  70,   7, 166, 233, 248, 235, 118,  85, 198, 233,  77,\n",
       "       228, 251,  84, 177, 139, 207,  59, 204,  26, 186, 100, 165,  55,\n",
       "       188, 117])>"
      ]
     },
     "execution_count": 38,
     "metadata": {},
     "output_type": "execute_result"
    },
    {
     "data": {
      "text/plain": [
       "<tf.Tensor: shape=(), dtype=int32, numpy=112>"
      ]
     },
     "execution_count": 38,
     "metadata": {},
     "output_type": "execute_result"
    }
   ],
   "source": [
    "# 索引相关\n",
    "tf.random.set_seed(42)\n",
    "# 10 张 28x28 灰度图片\n",
    "images = tf.random.uniform([10, 28,28],maxval=255,dtype=tf.int32)\n",
    "images.shape\n",
    "# 获取第一张图片\n",
    "images[0]\n",
    "# 获取第一张图片第二行\n",
    "images[0, 1]\n",
    "# 获取第一张图片第一行第一列 灰度值\n",
    "images[0, 0, 0]"
   ]
  },
  {
   "cell_type": "code",
   "execution_count": 53,
   "id": "5c36a225-8ea4-4b2f-a804-fe06f04aa9b5",
   "metadata": {
    "collapsed": true,
    "jupyter": {
     "outputs_hidden": true
    },
    "tags": []
   },
   "outputs": [
    {
     "data": {
      "text/plain": [
       "<tf.Tensor: shape=(10,), dtype=int32, numpy=array([0, 1, 2, 3, 4, 5, 6, 7, 8, 9])>"
      ]
     },
     "execution_count": 53,
     "metadata": {},
     "output_type": "execute_result"
    },
    {
     "data": {
      "text/plain": [
       "<tf.Tensor: shape=(5,), dtype=int32, numpy=array([0, 2, 4, 6, 8])>"
      ]
     },
     "execution_count": 53,
     "metadata": {},
     "output_type": "execute_result"
    },
    {
     "data": {
      "text/plain": [
       "<tf.Tensor: shape=(5,), dtype=int32, numpy=array([1, 3, 5, 7, 9])>"
      ]
     },
     "execution_count": 53,
     "metadata": {},
     "output_type": "execute_result"
    },
    {
     "data": {
      "text/plain": [
       "<tf.Tensor: shape=(3,), dtype=int32, numpy=array([8, 6, 4])>"
      ]
     },
     "execution_count": 53,
     "metadata": {},
     "output_type": "execute_result"
    },
    {
     "data": {
      "text/plain": [
       "<tf.Tensor: shape=(10,), dtype=int32, numpy=array([9, 8, 7, 6, 5, 4, 3, 2, 1, 0])>"
      ]
     },
     "execution_count": 53,
     "metadata": {},
     "output_type": "execute_result"
    },
    {
     "data": {
      "text/plain": [
       "(2, TensorShape([150, 4]))"
      ]
     },
     "execution_count": 53,
     "metadata": {},
     "output_type": "execute_result"
    },
    {
     "data": {
      "text/plain": [
       "(2, TensorShape([150, 1]))"
      ]
     },
     "execution_count": 53,
     "metadata": {},
     "output_type": "execute_result"
    },
    {
     "data": {
      "text/plain": [
       "TensorShape([150, 5])"
      ]
     },
     "execution_count": 53,
     "metadata": {},
     "output_type": "execute_result"
    },
    {
     "data": {
      "text/plain": [
       "<tf.Tensor: shape=(5,), dtype=float32, numpy=\n",
       "array([6.6456213, 4.4100676, 3.528825 , 4.6448255, 2.       ],\n",
       "      dtype=float32)>"
      ]
     },
     "execution_count": 53,
     "metadata": {},
     "output_type": "execute_result"
    },
    {
     "data": {
      "text/plain": [
       "<tf.Tensor: shape=(150, 4), dtype=float32, numpy=\n",
       "array([[6.6456213e+00, 4.4100676e+00, 3.5288250e+00, 4.6448255e+00],\n",
       "       [3.3660412e-01, 6.8467236e+00, 7.4011745e+00, 8.7244453e+00],\n",
       "       [2.2632635e+00, 2.2319686e+00, 3.1038809e+00, 7.2233582e+00],\n",
       "       [1.3318717e+00, 5.4806385e+00, 5.7460880e+00, 8.9968348e+00],\n",
       "       [9.4636679e-02, 5.2123070e+00, 6.3454447e+00, 1.9932830e+00],\n",
       "       [7.2942247e+00, 5.4583454e+00, 1.0756552e+00, 6.7670608e+00],\n",
       "       [6.6027632e+00, 3.3695042e+00, 6.0141764e+00, 2.1062577e+00],\n",
       "       [8.5273724e+00, 4.4062176e+00, 9.4852753e+00, 2.3752594e+00],\n",
       "       [8.1179295e+00, 5.2633944e+00, 4.9430799e+00, 2.1612847e+00],\n",
       "       [8.4571972e+00, 8.7188416e+00, 3.0838621e+00, 6.8680382e+00],\n",
       "       [2.3764038e+00, 7.8172278e+00, 9.6713839e+00, 6.8701625e-01],\n",
       "       [7.9873943e+00, 6.6028714e+00, 5.8715129e+00, 1.6461694e+00],\n",
       "       [7.3810234e+00, 3.2054043e+00, 6.0738993e+00, 4.6523476e+00],\n",
       "       [9.7803545e+00, 7.2231445e+00, 3.2347047e+00, 8.2577333e+00],\n",
       "       [4.9769154e+00, 1.9483674e+00, 7.5887480e+00, 3.3804440e+00],\n",
       "       [2.8128064e+00, 3.1513572e+00, 6.0670924e+00, 7.4985981e+00],\n",
       "       [5.0160551e+00, 1.8282163e+00, 1.3179815e+00, 6.4636126e+00],\n",
       "       [9.5594749e+00, 6.6707349e+00, 3.0755532e+00, 3.6892188e+00],\n",
       "       [4.4735899e+00, 1.8359458e+00, 5.2882552e+00, 7.0527544e+00],\n",
       "       [8.9863300e+00, 3.1386292e+00, 6.2338257e+00, 9.6815529e+00],\n",
       "       [1.1207926e+00, 2.9590535e+00, 9.3566046e+00, 1.3412631e+00],\n",
       "       [3.1937933e+00, 2.6227701e+00, 3.1487584e-01, 9.0045528e+00],\n",
       "       [6.4093790e+00, 5.8218551e+00, 2.0917094e+00, 7.1736088e+00],\n",
       "       [3.6352301e+00, 4.6709180e-01, 1.4977789e+00, 8.4361753e+00],\n",
       "       [9.3555870e+00, 9.5173120e-01, 8.6178780e-01, 6.2478390e+00],\n",
       "       [3.7050653e+00, 5.1390419e+00, 6.2332067e+00, 8.0246820e+00],\n",
       "       [1.6651380e+00, 2.2090447e+00, 6.2422714e+00, 8.7191463e-01],\n",
       "       [9.2142668e+00, 9.3480167e+00, 6.0455227e+00, 4.7940435e+00],\n",
       "       [1.4430141e+00, 3.2600033e+00, 9.2557526e+00, 7.7573419e+00],\n",
       "       [6.3676500e+00, 6.2823510e+00, 3.5401833e+00, 4.1446733e+00],\n",
       "       [1.1051309e+00, 1.4114702e+00, 1.8875909e+00, 6.8947935e+00],\n",
       "       [7.2132754e+00, 2.4881613e+00, 5.9123812e+00, 4.9759030e+00],\n",
       "       [8.9779520e+00, 1.2173975e+00, 1.3537169e+00, 2.5509250e+00],\n",
       "       [4.9842477e+00, 7.2202539e+00, 5.1629806e+00, 5.6034875e+00],\n",
       "       [5.8515701e+00, 2.3798871e+00, 9.1015997e+00, 8.7158918e+00],\n",
       "       [7.3975658e+00, 5.2811136e+00, 2.2950935e+00, 1.2985229e-01],\n",
       "       [6.4579430e+00, 5.5955100e+00, 2.6655161e+00, 8.5811319e+00],\n",
       "       [9.3778973e+00, 9.1860752e+00, 8.2457027e+00, 4.9080014e-01],\n",
       "       [9.2604179e+00, 8.3981342e+00, 3.1875753e+00, 1.4604867e+00],\n",
       "       [7.9542184e+00, 7.5567427e+00, 1.6545188e+00, 9.2727375e+00],\n",
       "       [4.2011547e+00, 9.3837023e-01, 4.3551660e+00, 5.2324047e+00],\n",
       "       [6.7036295e+00, 8.6451206e+00, 2.3771429e+00, 8.4981174e+00],\n",
       "       [1.9402850e+00, 7.5769973e+00, 7.7848911e-01, 7.6545820e+00],\n",
       "       [2.8074360e+00, 1.5384305e+00, 5.0753260e+00, 6.4273453e+00],\n",
       "       [6.0275388e+00, 6.8861604e-01, 1.0266638e+00, 4.0333738e+00],\n",
       "       [6.0321770e+00, 9.8817825e-01, 3.1107998e+00, 3.7667990e+00],\n",
       "       [7.7216315e+00, 3.7671113e+00, 2.4959123e+00, 2.8442621e-01],\n",
       "       [5.5585232e+00, 4.1985965e+00, 8.0588646e+00, 3.0766475e+00],\n",
       "       [8.2446456e-01, 1.3457918e+00, 7.2290540e-01, 4.6608200e+00],\n",
       "       [7.7372909e-01, 7.4072695e+00, 6.2744417e+00, 4.7312880e+00],\n",
       "       [8.1583862e+00, 9.8232841e+00, 7.9402971e+00, 5.6360316e+00],\n",
       "       [6.7196665e+00, 8.9076090e+00, 2.5084698e+00, 4.1657581e+00],\n",
       "       [8.8812170e+00, 5.3820491e-01, 8.7404547e+00, 2.5877166e+00],\n",
       "       [3.4615791e+00, 8.9840889e+00, 9.2611909e-01, 8.1707802e+00],\n",
       "       [7.5885534e-01, 1.5642536e+00, 8.0217342e+00, 9.4326696e+00],\n",
       "       [5.4243040e+00, 3.7951255e+00, 4.7869244e+00, 2.3319459e+00],\n",
       "       [9.6143589e+00, 3.5579920e-01, 7.5199318e+00, 4.9601555e-01],\n",
       "       [1.8366039e+00, 2.1539164e+00, 6.2762966e+00, 7.9384289e+00],\n",
       "       [8.4375877e+00, 5.9734821e+00, 3.1392586e+00, 8.5109272e+00],\n",
       "       [3.0374527e-03, 6.9839382e+00, 5.6421852e+00, 5.3721976e+00],\n",
       "       [6.5761271e+00, 6.5914860e+00, 8.0400229e-01, 7.7773418e+00],\n",
       "       [5.6198750e+00, 2.7309215e+00, 4.7759032e+00, 7.8959203e+00],\n",
       "       [9.3770180e+00, 1.6223574e+00, 5.9078398e+00, 3.8654470e+00],\n",
       "       [2.0895422e+00, 5.2362528e+00, 8.3326292e+00, 7.8036680e+00],\n",
       "       [7.5048041e+00, 7.7709055e+00, 6.5426087e+00, 5.0892315e+00],\n",
       "       [4.4700623e+00, 2.0717645e+00, 5.7079782e+00, 1.0795164e+00],\n",
       "       [8.9529333e+00, 2.4474847e+00, 5.4080973e+00, 5.2581987e+00],\n",
       "       [4.1484308e+00, 7.0967650e+00, 7.8396740e+00, 1.8357646e+00],\n",
       "       [7.4267793e+00, 3.9987624e+00, 6.2722054e+00, 1.5945745e+00],\n",
       "       [4.2825580e+00, 7.1895943e+00, 1.9748199e+00, 3.2579088e+00],\n",
       "       [2.8993511e+00, 6.0149422e+00, 8.8572540e+00, 8.4330730e+00],\n",
       "       [9.1581631e+00, 6.4664946e+00, 8.8332520e+00, 3.9967513e+00],\n",
       "       [9.8284340e+00, 3.7009454e+00, 7.4350190e+00, 6.1133027e+00],\n",
       "       [9.9155502e+00, 5.4461708e+00, 4.8007145e+00, 7.5550642e+00],\n",
       "       [6.1290941e+00, 3.1410468e+00, 7.5935354e+00, 3.6990523e-01],\n",
       "       [5.3202400e+00, 2.9129946e+00, 1.0571766e+00, 6.6117144e+00],\n",
       "       [1.1148214e-01, 3.4302902e+00, 5.3169575e+00, 2.2022939e+00],\n",
       "       [3.9554238e-01, 6.4469995e+00, 2.9113138e+00, 9.3035393e+00],\n",
       "       [6.8790436e-01, 6.1931858e+00, 9.8448286e+00, 9.5734682e+00],\n",
       "       [8.6750402e+00, 3.8459301e-02, 3.0060148e+00, 4.5537448e+00],\n",
       "       [3.0468142e+00, 5.6105623e+00, 1.9307363e+00, 2.4740696e+00],\n",
       "       [8.6071596e+00, 7.4731674e+00, 9.5111313e+00, 3.7756491e+00],\n",
       "       [2.8497481e+00, 4.8816814e+00, 1.6406357e+00, 4.8042641e+00],\n",
       "       [8.0604277e+00, 5.0473652e+00, 3.2481885e+00, 3.3489084e+00],\n",
       "       [8.1433306e+00, 4.1879711e+00, 2.8832853e+00, 9.1531334e+00],\n",
       "       [6.9398308e+00, 8.9059544e+00, 5.1033726e+00, 4.9651361e+00],\n",
       "       [6.3146281e+00, 2.2363710e+00, 3.8303471e+00, 1.8750429e-02],\n",
       "       [7.9691830e+00, 3.0213988e+00, 5.8562398e-01, 6.7539215e+00],\n",
       "       [6.0930071e+00, 9.5834961e+00, 3.1993055e+00, 3.4877181e-01],\n",
       "       [6.5532122e+00, 1.8114150e+00, 5.5266142e-01, 8.5430870e+00],\n",
       "       [4.8442912e+00, 1.9719362e+00, 3.9788961e+00, 8.9639387e+00],\n",
       "       [4.8447332e+00, 1.7621696e+00, 3.1384110e+00, 2.9639006e-01],\n",
       "       [1.5792811e+00, 1.2028718e+00, 3.3565760e-02, 6.2077656e+00],\n",
       "       [3.0872822e-02, 3.4683919e+00, 7.1770906e-01, 7.8996658e-01],\n",
       "       [8.7426033e+00, 2.7908230e+00, 9.9828796e+00, 7.2478065e+00],\n",
       "       [5.0372887e+00, 3.8799763e-01, 2.0755994e+00, 4.6682892e+00],\n",
       "       [7.1598649e-01, 3.5102022e+00, 3.4050405e+00, 2.7369499e+00],\n",
       "       [9.2989588e+00, 3.1767607e-01, 4.7364702e+00, 6.1232672e+00],\n",
       "       [1.5690339e+00, 4.8090911e+00, 7.8675938e+00, 7.9701700e+00],\n",
       "       [7.4982953e+00, 5.8149376e+00, 9.4933138e+00, 9.4139156e+00],\n",
       "       [4.4223666e+00, 8.1414814e+00, 5.9660711e+00, 9.6265435e-01],\n",
       "       [8.7651997e+00, 3.2671845e+00, 2.2521806e+00, 2.0065463e+00],\n",
       "       [2.0187843e+00, 8.0892696e+00, 2.7399731e+00, 4.8750710e+00],\n",
       "       [6.7325439e+00, 2.8196239e+00, 1.8697679e+00, 9.9013567e-01],\n",
       "       [8.6640062e+00, 3.9713728e+00, 1.7778683e+00, 5.3782024e+00],\n",
       "       [2.4648190e+00, 4.4948711e+00, 7.5226822e+00, 3.6664093e+00],\n",
       "       [8.9115105e+00, 4.9080443e+00, 7.8601227e+00, 6.2403679e-01],\n",
       "       [6.2967420e+00, 7.6385202e+00, 1.0376692e-01, 2.5239706e-01],\n",
       "       [9.6536484e+00, 6.4855289e+00, 3.8659453e-01, 5.2097454e+00],\n",
       "       [4.7284594e+00, 8.0824451e+00, 9.2009277e+00, 1.1216760e-01],\n",
       "       [2.7165413e-02, 2.4567199e+00, 8.8924227e+00, 2.9537523e+00],\n",
       "       [6.0281992e-01, 1.5450096e+00, 2.1229398e+00, 8.0405054e+00],\n",
       "       [8.9756784e+00, 7.0090199e+00, 7.9029322e-01, 8.1030169e+00],\n",
       "       [2.9280317e+00, 4.0326347e+00, 2.2455430e+00, 9.3697338e+00],\n",
       "       [6.1621056e+00, 6.3924065e+00, 2.6353598e-02, 3.8710225e+00],\n",
       "       [8.0974045e+00, 1.4391959e+00, 3.9636064e+00, 6.2568817e+00],\n",
       "       [7.7807856e+00, 4.1670742e+00, 4.1526356e+00, 1.3277841e+00],\n",
       "       [7.7084293e+00, 1.1627221e+00, 7.1849384e+00, 1.1586225e+00],\n",
       "       [3.1699896e+00, 3.9758205e+00, 6.0958471e+00, 7.5027299e+00],\n",
       "       [3.4573519e+00, 3.2271326e+00, 3.7869799e+00, 9.1756554e+00],\n",
       "       [7.1898308e+00, 5.3278947e+00, 7.8766146e+00, 9.7023296e+00],\n",
       "       [2.8283906e+00, 8.2103262e+00, 1.4020193e+00, 9.3864841e+00],\n",
       "       [2.4126065e+00, 2.1212924e+00, 5.6717873e+00, 3.8591325e+00],\n",
       "       [3.1545115e+00, 5.4016581e+00, 6.1238980e+00, 9.4351902e+00],\n",
       "       [3.2478452e+00, 3.3359885e+00, 3.2930088e+00, 7.2057009e+00],\n",
       "       [4.8958564e+00, 8.9237003e+00, 1.9136810e+00, 3.0351341e+00],\n",
       "       [4.5223141e+00, 4.6973896e+00, 6.1045194e+00, 2.1915329e+00],\n",
       "       [2.4021804e+00, 3.8338935e+00, 8.0610619e+00, 6.9721484e+00],\n",
       "       [6.3557267e-01, 7.4374046e+00, 1.3039887e+00, 6.2527075e+00],\n",
       "       [8.8021526e+00, 5.7011118e+00, 5.7533321e+00, 2.1915257e+00],\n",
       "       [4.7720566e+00, 9.9387732e+00, 8.3629265e+00, 2.7975225e+00],\n",
       "       [2.2935295e+00, 1.2170053e+00, 3.7679112e+00, 4.5152416e+00],\n",
       "       [7.5977039e+00, 1.5451157e+00, 6.4756145e+00, 7.6794648e+00],\n",
       "       [8.3193731e+00, 2.9449403e+00, 8.0947580e+00, 7.6390924e+00],\n",
       "       [6.7647457e+00, 7.4244537e+00, 6.4529371e+00, 3.8468361e-01],\n",
       "       [3.4459889e+00, 1.4961219e+00, 3.8468170e+00, 2.6822913e+00],\n",
       "       [4.4205642e+00, 8.3567371e+00, 6.8819771e+00, 8.8313198e+00],\n",
       "       [6.7779675e+00, 5.3347292e+00, 4.3462229e+00, 7.0736275e+00],\n",
       "       [9.5894260e+00, 9.7243190e-01, 9.2300901e+00, 8.2095165e+00],\n",
       "       [5.9826937e+00, 4.3956995e-01, 5.6320429e+00, 4.0749016e+00],\n",
       "       [8.0548372e+00, 6.5822148e+00, 7.2560349e+00, 1.2081158e+00],\n",
       "       [6.7472210e+00, 5.0041618e+00, 2.8874695e+00, 6.5159740e+00],\n",
       "       [5.7281914e+00, 6.0570598e-01, 5.0991726e+00, 9.8469591e+00],\n",
       "       [2.7853107e+00, 7.3281384e+00, 4.4703054e+00, 3.2137942e+00],\n",
       "       [7.9683342e+00, 1.3495553e+00, 3.3669364e+00, 2.5660312e+00],\n",
       "       [3.4317005e+00, 5.7422724e+00, 3.7306297e+00, 5.2004218e-01],\n",
       "       [9.4778309e+00, 1.0300756e+00, 6.8970037e+00, 4.4375157e+00],\n",
       "       [2.7929425e-01, 1.7447817e+00, 7.1075559e+00, 8.9362011e+00],\n",
       "       [9.1454124e+00, 1.4460945e+00, 9.7028942e+00, 2.3345697e+00],\n",
       "       [8.2909393e+00, 5.4052296e+00, 3.1425726e+00, 2.2006190e+00]],\n",
       "      dtype=float32)>"
      ]
     },
     "execution_count": 53,
     "metadata": {},
     "output_type": "execute_result"
    },
    {
     "data": {
      "text/plain": [
       "<tf.Tensor: shape=(150,), dtype=float32, numpy=\n",
       "array([2., 1., 2., 0., 1., 0., 1., 2., 2., 1., 0., 0., 0., 1., 1., 0., 0.,\n",
       "       1., 0., 2., 1., 2., 1., 0., 1., 0., 2., 1., 2., 0., 2., 1., 2., 2.,\n",
       "       2., 1., 1., 1., 2., 2., 1., 2., 0., 2., 0., 1., 0., 1., 1., 0., 0.,\n",
       "       2., 1., 0., 1., 1., 2., 0., 2., 1., 2., 0., 0., 2., 1., 0., 1., 2.,\n",
       "       2., 1., 0., 2., 1., 2., 1., 2., 0., 2., 1., 0., 2., 0., 2., 2., 1.,\n",
       "       1., 0., 0., 1., 2., 0., 2., 2., 2., 0., 0., 1., 0., 0., 0., 0., 0.,\n",
       "       0., 1., 2., 2., 1., 2., 1., 0., 2., 0., 1., 1., 0., 1., 1., 2., 1.,\n",
       "       0., 2., 1., 1., 2., 0., 0., 2., 0., 1., 0., 0., 1., 2., 1., 0., 0.,\n",
       "       1., 0., 2., 2., 2., 0., 0., 2., 0., 1., 0., 0., 0., 0.],\n",
       "      dtype=float32)>"
      ]
     },
     "execution_count": 53,
     "metadata": {},
     "output_type": "execute_result"
    },
    {
     "data": {
      "text/plain": [
       "<tf.Tensor: shape=(28, 28), dtype=int32, numpy=\n",
       "array([[112,  59, 146, 126, 187,  89,  13,  43, 241, 141,  37,  85, 116,\n",
       "        231,  90,  58, 109,  67,  49, 224, 141, 147,  22, 144,  64, 241,\n",
       "        181, 205],\n",
       "       [201,  35,  70,   7, 166, 233, 248, 235, 118,  85, 198, 233,  77,\n",
       "        228, 251,  84, 177, 139, 207,  59, 204,  26, 186, 100, 165,  55,\n",
       "        188, 117],\n",
       "       [ 20, 129, 202,  16, 129,  48,  47,  81, 119, 214,   4, 245, 210,\n",
       "         33, 101, 189, 187, 221,  93, 103,  81,   9, 236,  31,  78,  88,\n",
       "        142, 217],\n",
       "       [252, 202, 186, 176, 189, 236,  90,   9, 220,   8,  22, 170, 230,\n",
       "         31, 217, 174, 234, 155,  43, 145, 229,  87, 117, 188,  91,  19,\n",
       "        118, 199],\n",
       "       [248,  58, 108, 214,  90, 235, 118,  82,  54, 121, 128, 147, 116,\n",
       "         62, 200,  60, 229,  83,  34, 244,  84, 190, 107,  40,  77,  39,\n",
       "         14, 178],\n",
       "       [  7, 132, 231, 236, 120, 112, 177, 229,  29,  82, 213, 246,  83,\n",
       "        108, 128,  97, 136,  19, 187,  58, 114, 246, 186, 233,   1, 146,\n",
       "         12, 198],\n",
       "       [250,  51, 100,   3, 195, 159, 104,  12,  69, 123, 135,  63, 165,\n",
       "        140, 252,   7, 198, 145,  47, 233, 143,  61, 237, 119, 130, 126,\n",
       "        229, 230],\n",
       "       [  9, 171,   2, 221, 171,  92,  51, 134,  70,  38,  62, 226, 121,\n",
       "        235, 158, 134, 149,  14, 243, 169,  30,  45,  36, 158, 103,  25,\n",
       "        138, 194],\n",
       "       [225,  38, 116, 224, 130, 207, 174, 157, 165, 197, 130,  43,  47,\n",
       "          2, 176, 238,  49, 225, 221, 203,  15,  99, 103, 251,  95,   7,\n",
       "        153, 168],\n",
       "       [ 40, 217, 191, 125,  10, 136, 108, 199, 162, 136, 212, 154, 194,\n",
       "        205,  19,  29, 100, 123, 100,  91, 156, 249,  85,  39, 211, 192,\n",
       "         81,  71],\n",
       "       [ 14, 142,  88,   2,   8,  28,  52, 114, 130, 115,  56, 119, 197,\n",
       "         60, 189, 194, 182,  94,  41, 183, 175, 157, 214,  23, 112,  62,\n",
       "        218,  43],\n",
       "       [210,  80,  98,  83,  21,  91, 249, 246, 230,  84,  14,  20,  58,\n",
       "         95, 145,  19, 138, 115,  62, 131, 214, 201, 124, 217, 119, 213,\n",
       "         70, 125],\n",
       "       [138, 161,  64, 246,  49, 141, 100, 130,  39,  84, 164,  16, 112,\n",
       "         32, 175, 232,  80, 250, 132, 198,  45, 252, 121, 135, 155,  68,\n",
       "         33, 246],\n",
       "       [ 40, 239, 117,  43,  72,  47,  81,   7, 114, 225, 101, 177, 206,\n",
       "         52,  19, 113,  90, 146,  47,  73,  19, 130, 179,  30,  55, 148,\n",
       "        153, 132],\n",
       "       [167,  14, 130,   6,  13, 237, 250,  58, 242,  40, 106, 242,   7,\n",
       "        123, 229, 143,  74, 197, 124, 230, 129,  43, 133,  24, 106, 141,\n",
       "         68,  48],\n",
       "       [199, 131,  95, 193,  53, 115, 206,  99,  82, 188,  70,  62, 107,\n",
       "         84, 244,  11, 137, 153, 176, 252, 137, 251, 105, 112, 123,  36,\n",
       "        235,  47],\n",
       "       [  1, 110, 140,  44, 139,  43, 220, 100, 111,  52, 185, 212, 179,\n",
       "        134,   6, 110, 202, 254,  85,  83, 146, 113, 129, 100,  71, 212,\n",
       "         72, 190],\n",
       "       [246, 161,  53, 230,  41,  37,  94, 141,  86, 158,  46, 101, 168,\n",
       "        184, 179,   6,  54, 127, 225, 100, 137,  35, 246, 178, 140,  22,\n",
       "        181,  46],\n",
       "       [125, 158, 241, 251, 112,  79, 229, 128, 158, 176, 176, 192, 115,\n",
       "         97, 133, 195,  77,  66, 239, 192,  54, 215, 192, 190, 155,  42,\n",
       "         86,  68],\n",
       "       [240,  49,  51, 221,  75, 180,  21, 173, 110, 193, 190,  72, 228,\n",
       "        213, 190, 208, 182,  31, 174, 125,  80, 181,  34, 185, 153, 174,\n",
       "        119,  64],\n",
       "       [100, 148, 207, 162,  18,  34, 162, 155,  63,  76, 221,  88, 212,\n",
       "        154, 162, 189,  74,  58,  70, 168,  97,   2, 203, 143, 216,  82,\n",
       "         53, 144],\n",
       "       [ 83,  64, 163,  90, 169,  97, 203,  46,  97, 149, 253, 221,  60,\n",
       "         44,  49, 220, 216, 184,  88, 252, 184,  31, 121, 160, 214,  57,\n",
       "         30, 107],\n",
       "       [156, 175, 102, 215,  58, 231, 168, 229,  28, 222,  48,   3, 156,\n",
       "         10, 199,  64, 237, 158,  14, 238, 163, 206, 190, 152, 212, 179,\n",
       "        224,  49],\n",
       "       [123, 151,  99,  78, 155,  76, 174,  33,  56,  92,  71,  65,  69,\n",
       "        230, 115,   5,  37, 216, 181, 175, 133, 234,  14,  52,   7,   2,\n",
       "        131, 135],\n",
       "       [ 82, 157,  91, 156, 134, 169, 246,   6, 242, 197, 227,  37,   8,\n",
       "        251, 104, 125, 151,  59,  71,  95, 103, 125,  12,  56, 181,  61,\n",
       "         83, 112],\n",
       "       [ 69, 200,  77,  91, 127, 220, 184,  67,  92, 131, 181, 193, 174,\n",
       "         59,  21,  32,  93, 244,  79, 110,  82,   6, 233,  89,  50,  78,\n",
       "         38, 232],\n",
       "       [251, 202, 174, 198,  70,  40,  51, 174, 175, 219, 217, 198, 183,\n",
       "         64,  80,  51, 163, 171,  26, 108, 206, 113,  52,  39, 197,  99,\n",
       "         82,  49],\n",
       "       [156, 153, 207, 170,   6,  37, 105, 251, 214, 185,  40,  93, 133,\n",
       "         46, 110,  98, 142, 183,  62, 136, 227,  89,  40,   5, 190,  74,\n",
       "        100, 216]])>"
      ]
     },
     "execution_count": 53,
     "metadata": {},
     "output_type": "execute_result"
    },
    {
     "data": {
      "text/plain": [
       "<tf.Tensor: shape=(28, 28), dtype=int32, numpy=\n",
       "array([[112,  59, 146, 126, 187,  89,  13,  43, 241, 141,  37,  85, 116,\n",
       "        231,  90,  58, 109,  67,  49, 224, 141, 147,  22, 144,  64, 241,\n",
       "        181, 205],\n",
       "       [201,  35,  70,   7, 166, 233, 248, 235, 118,  85, 198, 233,  77,\n",
       "        228, 251,  84, 177, 139, 207,  59, 204,  26, 186, 100, 165,  55,\n",
       "        188, 117],\n",
       "       [ 20, 129, 202,  16, 129,  48,  47,  81, 119, 214,   4, 245, 210,\n",
       "         33, 101, 189, 187, 221,  93, 103,  81,   9, 236,  31,  78,  88,\n",
       "        142, 217],\n",
       "       [252, 202, 186, 176, 189, 236,  90,   9, 220,   8,  22, 170, 230,\n",
       "         31, 217, 174, 234, 155,  43, 145, 229,  87, 117, 188,  91,  19,\n",
       "        118, 199],\n",
       "       [248,  58, 108, 214,  90, 235, 118,  82,  54, 121, 128, 147, 116,\n",
       "         62, 200,  60, 229,  83,  34, 244,  84, 190, 107,  40,  77,  39,\n",
       "         14, 178],\n",
       "       [  7, 132, 231, 236, 120, 112, 177, 229,  29,  82, 213, 246,  83,\n",
       "        108, 128,  97, 136,  19, 187,  58, 114, 246, 186, 233,   1, 146,\n",
       "         12, 198],\n",
       "       [250,  51, 100,   3, 195, 159, 104,  12,  69, 123, 135,  63, 165,\n",
       "        140, 252,   7, 198, 145,  47, 233, 143,  61, 237, 119, 130, 126,\n",
       "        229, 230],\n",
       "       [  9, 171,   2, 221, 171,  92,  51, 134,  70,  38,  62, 226, 121,\n",
       "        235, 158, 134, 149,  14, 243, 169,  30,  45,  36, 158, 103,  25,\n",
       "        138, 194],\n",
       "       [225,  38, 116, 224, 130, 207, 174, 157, 165, 197, 130,  43,  47,\n",
       "          2, 176, 238,  49, 225, 221, 203,  15,  99, 103, 251,  95,   7,\n",
       "        153, 168],\n",
       "       [ 40, 217, 191, 125,  10, 136, 108, 199, 162, 136, 212, 154, 194,\n",
       "        205,  19,  29, 100, 123, 100,  91, 156, 249,  85,  39, 211, 192,\n",
       "         81,  71],\n",
       "       [ 14, 142,  88,   2,   8,  28,  52, 114, 130, 115,  56, 119, 197,\n",
       "         60, 189, 194, 182,  94,  41, 183, 175, 157, 214,  23, 112,  62,\n",
       "        218,  43],\n",
       "       [210,  80,  98,  83,  21,  91, 249, 246, 230,  84,  14,  20,  58,\n",
       "         95, 145,  19, 138, 115,  62, 131, 214, 201, 124, 217, 119, 213,\n",
       "         70, 125],\n",
       "       [138, 161,  64, 246,  49, 141, 100, 130,  39,  84, 164,  16, 112,\n",
       "         32, 175, 232,  80, 250, 132, 198,  45, 252, 121, 135, 155,  68,\n",
       "         33, 246],\n",
       "       [ 40, 239, 117,  43,  72,  47,  81,   7, 114, 225, 101, 177, 206,\n",
       "         52,  19, 113,  90, 146,  47,  73,  19, 130, 179,  30,  55, 148,\n",
       "        153, 132],\n",
       "       [167,  14, 130,   6,  13, 237, 250,  58, 242,  40, 106, 242,   7,\n",
       "        123, 229, 143,  74, 197, 124, 230, 129,  43, 133,  24, 106, 141,\n",
       "         68,  48],\n",
       "       [199, 131,  95, 193,  53, 115, 206,  99,  82, 188,  70,  62, 107,\n",
       "         84, 244,  11, 137, 153, 176, 252, 137, 251, 105, 112, 123,  36,\n",
       "        235,  47],\n",
       "       [  1, 110, 140,  44, 139,  43, 220, 100, 111,  52, 185, 212, 179,\n",
       "        134,   6, 110, 202, 254,  85,  83, 146, 113, 129, 100,  71, 212,\n",
       "         72, 190],\n",
       "       [246, 161,  53, 230,  41,  37,  94, 141,  86, 158,  46, 101, 168,\n",
       "        184, 179,   6,  54, 127, 225, 100, 137,  35, 246, 178, 140,  22,\n",
       "        181,  46],\n",
       "       [125, 158, 241, 251, 112,  79, 229, 128, 158, 176, 176, 192, 115,\n",
       "         97, 133, 195,  77,  66, 239, 192,  54, 215, 192, 190, 155,  42,\n",
       "         86,  68],\n",
       "       [240,  49,  51, 221,  75, 180,  21, 173, 110, 193, 190,  72, 228,\n",
       "        213, 190, 208, 182,  31, 174, 125,  80, 181,  34, 185, 153, 174,\n",
       "        119,  64],\n",
       "       [100, 148, 207, 162,  18,  34, 162, 155,  63,  76, 221,  88, 212,\n",
       "        154, 162, 189,  74,  58,  70, 168,  97,   2, 203, 143, 216,  82,\n",
       "         53, 144],\n",
       "       [ 83,  64, 163,  90, 169,  97, 203,  46,  97, 149, 253, 221,  60,\n",
       "         44,  49, 220, 216, 184,  88, 252, 184,  31, 121, 160, 214,  57,\n",
       "         30, 107],\n",
       "       [156, 175, 102, 215,  58, 231, 168, 229,  28, 222,  48,   3, 156,\n",
       "         10, 199,  64, 237, 158,  14, 238, 163, 206, 190, 152, 212, 179,\n",
       "        224,  49],\n",
       "       [123, 151,  99,  78, 155,  76, 174,  33,  56,  92,  71,  65,  69,\n",
       "        230, 115,   5,  37, 216, 181, 175, 133, 234,  14,  52,   7,   2,\n",
       "        131, 135],\n",
       "       [ 82, 157,  91, 156, 134, 169, 246,   6, 242, 197, 227,  37,   8,\n",
       "        251, 104, 125, 151,  59,  71,  95, 103, 125,  12,  56, 181,  61,\n",
       "         83, 112],\n",
       "       [ 69, 200,  77,  91, 127, 220, 184,  67,  92, 131, 181, 193, 174,\n",
       "         59,  21,  32,  93, 244,  79, 110,  82,   6, 233,  89,  50,  78,\n",
       "         38, 232],\n",
       "       [251, 202, 174, 198,  70,  40,  51, 174, 175, 219, 217, 198, 183,\n",
       "         64,  80,  51, 163, 171,  26, 108, 206, 113,  52,  39, 197,  99,\n",
       "         82,  49],\n",
       "       [156, 153, 207, 170,   6,  37, 105, 251, 214, 185,  40,  93, 133,\n",
       "         46, 110,  98, 142, 183,  62, 136, 227,  89,  40,   5, 190,  74,\n",
       "        100, 216]])>"
      ]
     },
     "execution_count": 53,
     "metadata": {},
     "output_type": "execute_result"
    },
    {
     "data": {
      "text/plain": [
       "<tf.Tensor: shape=(5, 28, 28), dtype=int32, numpy=\n",
       "array([[[112,  59, 146, ..., 241, 181, 205],\n",
       "        [201,  35,  70, ...,  55, 188, 117],\n",
       "        [ 20, 129, 202, ...,  88, 142, 217],\n",
       "        ...,\n",
       "        [ 69, 200,  77, ...,  78,  38, 232],\n",
       "        [251, 202, 174, ...,  99,  82,  49],\n",
       "        [156, 153, 207, ...,  74, 100, 216]],\n",
       "\n",
       "       [[ 55, 237,  34, ..., 189,  80,  21],\n",
       "        [126, 137, 158, ..., 246, 124, 150],\n",
       "        [128, 216, 124, ...,  33, 202, 155],\n",
       "        ...,\n",
       "        [111,   9, 111, ..., 239,  40, 104],\n",
       "        [135, 110,  15, ..., 101, 211, 150],\n",
       "        [176,  72, 158, ...,  45,   6,  76]],\n",
       "\n",
       "       [[ 14,  64, 123, ...,  86, 146, 166],\n",
       "        [ 27, 153, 132, ...,  71,  22, 121],\n",
       "        [163,  73, 191, ..., 197,  94,   0],\n",
       "        ...,\n",
       "        [ 99, 207,  43, ..., 217,  24, 146],\n",
       "        [159,   1,  20, ..., 186, 215, 217],\n",
       "        [111,  51,  21, ...,  75,  37, 125]],\n",
       "\n",
       "       [[ 85,  23, 115, ..., 198,  52,  51],\n",
       "        [ 29, 194,  63, ..., 135, 147,  24],\n",
       "        [ 26,  26,  64, ...,  79, 195, 101],\n",
       "        ...,\n",
       "        [178,  96, 182, ..., 175, 196, 254],\n",
       "        [ 62,  78,  83, ...,  13,  52,  75],\n",
       "        [155, 192, 143, ..., 126, 247, 208]],\n",
       "\n",
       "       [[220, 233,  81, ...,  62, 202, 227],\n",
       "        [139, 179, 153, ..., 168, 101, 158],\n",
       "        [ 74, 111,   0, ..., 128, 228,  89],\n",
       "        ...,\n",
       "        [175, 242, 171, ..., 231, 188, 240],\n",
       "        [ 18, 225,  94, ...,  82,  82, 153],\n",
       "        [236,  12, 141, ..., 103,   5, 217]]])>"
      ]
     },
     "execution_count": 53,
     "metadata": {},
     "output_type": "execute_result"
    },
    {
     "data": {
      "text/plain": [
       "<tf.Tensor: shape=(5, 28, 28), dtype=int32, numpy=\n",
       "array([[[112,  59, 146, ..., 241, 181, 205],\n",
       "        [201,  35,  70, ...,  55, 188, 117],\n",
       "        [ 20, 129, 202, ...,  88, 142, 217],\n",
       "        ...,\n",
       "        [ 69, 200,  77, ...,  78,  38, 232],\n",
       "        [251, 202, 174, ...,  99,  82,  49],\n",
       "        [156, 153, 207, ...,  74, 100, 216]],\n",
       "\n",
       "       [[ 55, 237,  34, ..., 189,  80,  21],\n",
       "        [126, 137, 158, ..., 246, 124, 150],\n",
       "        [128, 216, 124, ...,  33, 202, 155],\n",
       "        ...,\n",
       "        [111,   9, 111, ..., 239,  40, 104],\n",
       "        [135, 110,  15, ..., 101, 211, 150],\n",
       "        [176,  72, 158, ...,  45,   6,  76]],\n",
       "\n",
       "       [[ 14,  64, 123, ...,  86, 146, 166],\n",
       "        [ 27, 153, 132, ...,  71,  22, 121],\n",
       "        [163,  73, 191, ..., 197,  94,   0],\n",
       "        ...,\n",
       "        [ 99, 207,  43, ..., 217,  24, 146],\n",
       "        [159,   1,  20, ..., 186, 215, 217],\n",
       "        [111,  51,  21, ...,  75,  37, 125]],\n",
       "\n",
       "       [[ 85,  23, 115, ..., 198,  52,  51],\n",
       "        [ 29, 194,  63, ..., 135, 147,  24],\n",
       "        [ 26,  26,  64, ...,  79, 195, 101],\n",
       "        ...,\n",
       "        [178,  96, 182, ..., 175, 196, 254],\n",
       "        [ 62,  78,  83, ...,  13,  52,  75],\n",
       "        [155, 192, 143, ..., 126, 247, 208]],\n",
       "\n",
       "       [[220, 233,  81, ...,  62, 202, 227],\n",
       "        [139, 179, 153, ..., 168, 101, 158],\n",
       "        [ 74, 111,   0, ..., 128, 228,  89],\n",
       "        ...,\n",
       "        [175, 242, 171, ..., 231, 188, 240],\n",
       "        [ 18, 225,  94, ...,  82,  82, 153],\n",
       "        [236,  12, 141, ..., 103,   5, 217]]])>"
      ]
     },
     "execution_count": 53,
     "metadata": {},
     "output_type": "execute_result"
    },
    {
     "data": {
      "text/plain": [
       "<tf.Tensor: shape=(5, 14, 28), dtype=int32, numpy=\n",
       "array([[[112,  59, 146, ..., 241, 181, 205],\n",
       "        [ 20, 129, 202, ...,  88, 142, 217],\n",
       "        [248,  58, 108, ...,  39,  14, 178],\n",
       "        ...,\n",
       "        [156, 175, 102, ..., 179, 224,  49],\n",
       "        [ 82, 157,  91, ...,  61,  83, 112],\n",
       "        [251, 202, 174, ...,  99,  82,  49]],\n",
       "\n",
       "       [[ 55, 237,  34, ..., 189,  80,  21],\n",
       "        [128, 216, 124, ...,  33, 202, 155],\n",
       "        [144, 109, 141, ..., 132, 185,  99],\n",
       "        ...,\n",
       "        [158, 107, 131, ...,  95, 160, 111],\n",
       "        [100, 196,  61, ...,  63, 106, 209],\n",
       "        [135, 110,  15, ..., 101, 211, 150]],\n",
       "\n",
       "       [[ 14,  64, 123, ...,  86, 146, 166],\n",
       "        [163,  73, 191, ..., 197,  94,   0],\n",
       "        [ 41, 175, 247, ...,   2, 172, 184],\n",
       "        ...,\n",
       "        [  9, 117, 178, ..., 197, 137, 228],\n",
       "        [124, 113, 203, ...,  29, 237,  85],\n",
       "        [159,   1,  20, ..., 186, 215, 217]],\n",
       "\n",
       "       [[ 85,  23, 115, ..., 198,  52,  51],\n",
       "        [ 26,  26,  64, ...,  79, 195, 101],\n",
       "        [ 93,  98, 192, ..., 161, 216, 190],\n",
       "        ...,\n",
       "        [ 97,  43, 167, ..., 254, 136, 100],\n",
       "        [177,  99,  78, ..., 106,  36, 197],\n",
       "        [ 62,  78,  83, ...,  13,  52,  75]],\n",
       "\n",
       "       [[220, 233,  81, ...,  62, 202, 227],\n",
       "        [ 74, 111,   0, ..., 128, 228,  89],\n",
       "        [205, 128, 123, ...,  17, 188,  56],\n",
       "        ...,\n",
       "        [ 17,  24, 157, ..., 159, 105,  52],\n",
       "        [152, 196, 196, ..., 223, 111,  94],\n",
       "        [ 18, 225,  94, ...,  82,  82, 153]]])>"
      ]
     },
     "execution_count": 53,
     "metadata": {},
     "output_type": "execute_result"
    },
    {
     "data": {
      "text/plain": [
       "<tf.Tensor: shape=(5, 14, 14), dtype=int32, numpy=\n",
       "array([[[112, 146, 187,  13, 241,  37, 116,  90, 109,  49, 141,  22,\n",
       "          64, 181],\n",
       "        [ 20, 202, 129,  47, 119,   4, 210, 101, 187,  93,  81, 236,\n",
       "          78, 142],\n",
       "        [248, 108,  90, 118,  54, 128, 116, 200, 229,  34,  84, 107,\n",
       "          77,  14],\n",
       "        [250, 100, 195, 104,  69, 135, 165, 252, 198,  47, 143, 237,\n",
       "         130, 229],\n",
       "        [225, 116, 130, 174, 165, 130,  47, 176,  49, 221,  15, 103,\n",
       "          95, 153],\n",
       "        [ 14,  88,   8,  52, 130,  56, 197, 189, 182,  41, 175, 214,\n",
       "         112, 218],\n",
       "        [138,  64,  49, 100,  39, 164, 112, 175,  80, 132,  45, 121,\n",
       "         155,  33],\n",
       "        [167, 130,  13, 250, 242, 106,   7, 229,  74, 124, 129, 133,\n",
       "         106,  68],\n",
       "        [  1, 140, 139, 220, 111, 185, 179,   6, 202,  85, 146, 129,\n",
       "          71,  72],\n",
       "        [125, 241, 112, 229, 158, 176, 115, 133,  77, 239,  54, 192,\n",
       "         155,  86],\n",
       "        [100, 207,  18, 162,  63, 221, 212, 162,  74,  70,  97, 203,\n",
       "         216,  53],\n",
       "        [156, 102,  58, 168,  28,  48, 156, 199, 237,  14, 163, 190,\n",
       "         212, 224],\n",
       "        [ 82,  91, 134, 246, 242, 227,   8, 104, 151,  71, 103,  12,\n",
       "         181,  83],\n",
       "        [251, 174,  70,  51, 175, 217, 183,  80, 163,  26, 206,  52,\n",
       "         197,  82]],\n",
       "\n",
       "       [[ 55,  34, 122,  58, 224, 141,   6,  29,  64,  11, 224,  76,\n",
       "          61,  80],\n",
       "        [128, 124,  47, 162,  87, 115, 195, 180,  72, 205, 239, 128,\n",
       "          88, 202],\n",
       "        [144, 141, 147,  10,  45,  54, 150,  31, 136, 134,  78,  95,\n",
       "         168, 185],\n",
       "        [206, 144, 225, 202,  93, 109, 251,  94,  86,  41, 239, 248,\n",
       "         166, 149],\n",
       "        [ 48, 206, 197, 178, 204, 108, 174, 231,  33, 161, 220, 239,\n",
       "         230, 210],\n",
       "        [233, 141,  51,  59, 106,  90, 177,  42, 213, 224, 205,  54,\n",
       "         230, 245],\n",
       "        [211,  13, 231, 227, 123, 199, 235,   8, 243,  22,  36,  30,\n",
       "         224,   3],\n",
       "        [221, 173, 148,  65,  14, 184, 192,  22,  45,  86, 124, 145,\n",
       "          63, 206],\n",
       "        [235, 184,  37,  30, 241, 147, 220, 113, 224, 155, 169, 115,\n",
       "         191, 146],\n",
       "        [135,  24,  49, 156,  80,  46, 155, 116,  82,  27, 168,  36,\n",
       "         113, 151],\n",
       "        [ 27,  31,  23,  62,  91, 241, 131,  90, 194,  78, 101, 254,\n",
       "         217, 175],\n",
       "        [158, 131, 228,  99, 117,  92, 176, 250, 112, 136, 199,  53,\n",
       "          89, 160],\n",
       "        [100,  61, 203, 237,  62,  28, 242, 241, 187, 249,  21, 214,\n",
       "         196, 106],\n",
       "        [135,  15, 133,  10,  51,  71, 108, 186,  24, 205, 106, 207,\n",
       "         228, 211]],\n",
       "\n",
       "       [[ 14, 123, 155, 237, 184, 253, 158, 234,  34,  99,  81, 161,\n",
       "         243, 146],\n",
       "        [163, 191, 101,  89, 144, 100,  71, 114,  42, 165, 189, 117,\n",
       "          70,  94],\n",
       "        [ 41, 247, 157, 108,  81, 113, 190,  30, 254, 186, 124, 101,\n",
       "         205, 172],\n",
       "        [ 40, 189,  66,  18,   5,  47, 246,  70, 240, 167,   2, 160,\n",
       "         225, 223],\n",
       "        [102, 111, 116, 171, 148, 220,  83,  24, 163, 252, 163, 148,\n",
       "         112, 230],\n",
       "        [191, 144,  30,   9, 234, 117, 114,   0,  79, 179,  64,  86,\n",
       "         190, 191],\n",
       "        [158, 175, 174, 180, 199, 219, 132, 122, 249, 133, 142, 201,\n",
       "         176,  67],\n",
       "        [ 87,   9, 138, 204, 232, 149, 161,  92,  39, 221, 146,  29,\n",
       "         108, 110],\n",
       "        [159, 148, 172,  62, 104,  56,  83, 227, 213, 157,  47, 184,\n",
       "          52, 120],\n",
       "        [146, 225, 110, 137, 195,   6,  95, 240, 158, 119, 226,  71,\n",
       "         222, 204],\n",
       "        [ 13, 197,  11,  10,  81,  96, 212, 178, 132, 110, 187,  44,\n",
       "         155,  96],\n",
       "        [  9, 178, 217, 233,  46,  79, 201,  93, 122, 166,  93, 157,\n",
       "         122, 137],\n",
       "        [124, 203,   4,  79,  53, 162, 173, 186, 100, 229,  55, 244,\n",
       "         158, 237],\n",
       "        [159,  20,  74,  99, 134, 240,  80, 193, 153, 145,  34, 224,\n",
       "         106, 215]],\n",
       "\n",
       "       [[ 85, 115,  50,  57, 192,  80, 118,  31, 166, 111, 153, 198,\n",
       "          32,  52],\n",
       "        [ 26,  64, 131,  80, 234,  95, 225, 153,  71, 112,  37, 115,\n",
       "          99, 195],\n",
       "        [ 93, 192, 169, 143,  14,  54, 162, 121, 126,   3, 251, 169,\n",
       "          14, 216],\n",
       "        [173, 210,  77, 122,  65, 189, 150, 222,  37, 184,  18,  69,\n",
       "         165,  55],\n",
       "        [253,  81,  74, 119,  57, 131, 225, 238,  23, 145, 110, 242,\n",
       "         121, 184],\n",
       "        [143, 113,  62, 164,  44,  50, 150, 131,   4, 150,  44,  96,\n",
       "          38, 181],\n",
       "        [193,  85, 107, 240,   7, 236,   2, 191,  31, 138, 140,  40,\n",
       "         126,  22],\n",
       "        [174, 159, 114,  22,  47, 145,  35,  88,  49,  65,  32, 214,\n",
       "          18, 100],\n",
       "        [185, 198,  89, 165,  63, 221,   8,  95,   7,  83, 190,  78,\n",
       "          74,  42],\n",
       "        [142, 144,  86,  57, 207, 111,  43,  88, 125,  77, 113, 224,\n",
       "         213,  97],\n",
       "        [178, 245, 125, 249, 101, 145,  76,  53,  61,  85,  68, 199,\n",
       "          21, 146],\n",
       "        [ 97, 167,   2, 150,  79,  83, 204, 186,  26, 109,   3,  61,\n",
       "          27, 136],\n",
       "        [177,  78, 120, 251,   3, 135, 198,  56,  48, 247,  74, 225,\n",
       "          37,  36],\n",
       "        [ 62,  83, 247, 207, 137,  37,  16,  47, 120,  85, 223, 191,\n",
       "         129,  52]],\n",
       "\n",
       "       [[220,  81,  95,  33, 254, 218,  35, 219, 223,  51, 228, 229,\n",
       "          12, 202],\n",
       "        [ 74,   0, 160, 161, 161, 111, 159, 153, 218,  76, 158, 145,\n",
       "          15, 228],\n",
       "        [205, 123, 191, 123,  83, 199, 164, 123, 231, 253, 130, 120,\n",
       "         132, 188],\n",
       "        [102,  80,  36, 164, 150,  80,  26, 189, 116, 126,  80, 198,\n",
       "         242, 108],\n",
       "        [ 49,  53, 157,  79, 193,  71,  68, 248, 184, 159, 245, 126,\n",
       "         147, 151],\n",
       "        [107, 119, 144, 117,   8,  24, 240,  20,  79, 135,  29, 105,\n",
       "         217, 123],\n",
       "        [ 84,  38, 232, 220,  85, 233, 172,  77, 238, 216,  81, 239,\n",
       "         177, 114],\n",
       "        [132,  19,  45,  45,  15, 105, 187,  67,  66,  87, 200,  55,\n",
       "          42,  88],\n",
       "        [ 81, 105,   1, 138,  26, 217,  47, 104, 188,  62,  27, 109,\n",
       "         221, 250],\n",
       "        [206,  30, 169,  50, 132, 179, 139, 128, 126,  17, 179,  50,\n",
       "          15, 124],\n",
       "        [143, 240,  32, 139,  66,  68, 153, 230,  84, 135,   7, 223,\n",
       "         247, 144],\n",
       "        [ 17, 157, 100, 134, 114,  53,  22,  23, 116,  73, 114,  64,\n",
       "          95, 105],\n",
       "        [152, 196, 232, 181, 229, 227,  10,   3, 184,  56, 247, 132,\n",
       "         225, 111],\n",
       "        [ 18,  94, 176, 207, 106, 165, 105, 221, 217,  85, 138,  74,\n",
       "          52,  82]]])>"
      ]
     },
     "execution_count": 53,
     "metadata": {},
     "output_type": "execute_result"
    }
   ],
   "source": [
    "# 切片相关\n",
    "tf.random.set_seed(42)\n",
    "# 一维张量切片\n",
    "tf01 = tf.range(10)\n",
    "# tf01\n",
    "# tf01[0:10:1]\n",
    "# tf01[::]\n",
    "tf01[:]\n",
    "tf01[0::2]\n",
    "tf01[1::2]\n",
    "tf01[8:3:-2]\n",
    "tf01[::-1]   # 逆序输出\n",
    "# 二维张量切片\n",
    "iris_features = tf.random.uniform([150, 4],maxval=10,dtype=tf.float32)\n",
    "iris_labels = tf.random.uniform([150, 1],maxval=3,dtype=tf.int32)\n",
    "# 转换类型，以便完成拼接\n",
    "iris_labels = tf.cast(iris_labels, dtype=tf.float32)\n",
    "iris_features.ndim, iris_features.shape\n",
    "iris_labels.ndim, iris_labels.shape\n",
    "tf_iris = tf.concat([iris_features, iris_labels], axis=1)\n",
    "tf_iris.shape\n",
    "# 第一个样本的所有属性(特征、标签)\n",
    "tf_iris[0, :]\n",
    "# 获取所有的特征组成的样本集的特征矩阵\n",
    "tf_iris[:, :4:]\n",
    "# 只是获取所有的标签\n",
    "tf_iris[:, -1]\n",
    "# 三维张量切片\n",
    "# 索引相关\n",
    "tf.random.set_seed(42)\n",
    "# 10 张 28x28 灰度图片\n",
    "images = tf.random.uniform([10, 28,28],maxval=255,dtype=tf.int32)\n",
    "# 第1张图片\n",
    "images[0]\n",
    "images[0, :, :]\n",
    "# 前5张图片\n",
    "images[:5]\n",
    "images[:5, :, :]\n",
    "# 前5张图片隔行采样\n",
    "images[:5, ::2, :]\n",
    "images[:5, ::2, ::2]"
   ]
  },
  {
   "cell_type": "code",
   "execution_count": 61,
   "id": "3063c8d3-e464-4e78-81df-170c24ffde50",
   "metadata": {
    "scrolled": true,
    "tags": []
   },
   "outputs": [
    {
     "data": {
      "text/plain": [
       "(512, 512, 3)"
      ]
     },
     "execution_count": 61,
     "metadata": {},
     "output_type": "execute_result"
    },
    {
     "data": {
      "text/plain": [
       "<tf.Tensor: shape=(512, 512, 3), dtype=uint8, numpy=\n",
       "array([[[226, 137, 125],\n",
       "        [226, 137, 125],\n",
       "        [223, 137, 133],\n",
       "        ...,\n",
       "        [230, 148, 122],\n",
       "        [221, 130, 110],\n",
       "        [200,  99,  90]],\n",
       "\n",
       "       [[226, 137, 125],\n",
       "        [226, 137, 125],\n",
       "        [223, 137, 133],\n",
       "        ...,\n",
       "        [230, 148, 122],\n",
       "        [221, 130, 110],\n",
       "        [200,  99,  90]],\n",
       "\n",
       "       [[226, 137, 125],\n",
       "        [226, 137, 125],\n",
       "        [223, 137, 133],\n",
       "        ...,\n",
       "        [230, 148, 122],\n",
       "        [221, 130, 110],\n",
       "        [200,  99,  90]],\n",
       "\n",
       "       ...,\n",
       "\n",
       "       [[ 84,  18,  60],\n",
       "        [ 84,  18,  60],\n",
       "        [ 92,  27,  58],\n",
       "        ...,\n",
       "        [173,  73,  84],\n",
       "        [172,  68,  76],\n",
       "        [177,  62,  79]],\n",
       "\n",
       "       [[ 82,  22,  57],\n",
       "        [ 82,  22,  57],\n",
       "        [ 96,  32,  62],\n",
       "        ...,\n",
       "        [179,  70,  79],\n",
       "        [181,  71,  81],\n",
       "        [185,  74,  81]],\n",
       "\n",
       "       [[ 82,  22,  57],\n",
       "        [ 82,  22,  57],\n",
       "        [ 96,  32,  62],\n",
       "        ...,\n",
       "        [179,  70,  79],\n",
       "        [181,  71,  81],\n",
       "        [185,  74,  81]]], dtype=uint8)>"
      ]
     },
     "execution_count": 61,
     "metadata": {},
     "output_type": "execute_result"
    },
    {
     "data": {
      "text/plain": [
       "<tf.Tensor: shape=(512, 512, 3), dtype=uint8, numpy=\n",
       "array([[[226, 137, 125],\n",
       "        [226, 137, 125],\n",
       "        [223, 137, 133],\n",
       "        ...,\n",
       "        [230, 148, 122],\n",
       "        [221, 130, 110],\n",
       "        [200,  99,  90]],\n",
       "\n",
       "       [[226, 137, 125],\n",
       "        [226, 137, 125],\n",
       "        [223, 137, 133],\n",
       "        ...,\n",
       "        [230, 148, 122],\n",
       "        [221, 130, 110],\n",
       "        [200,  99,  90]],\n",
       "\n",
       "       [[226, 137, 125],\n",
       "        [226, 137, 125],\n",
       "        [223, 137, 133],\n",
       "        ...,\n",
       "        [230, 148, 122],\n",
       "        [221, 130, 110],\n",
       "        [200,  99,  90]],\n",
       "\n",
       "       ...,\n",
       "\n",
       "       [[ 84,  18,  60],\n",
       "        [ 84,  18,  60],\n",
       "        [ 92,  27,  58],\n",
       "        ...,\n",
       "        [173,  73,  84],\n",
       "        [172,  68,  76],\n",
       "        [177,  62,  79]],\n",
       "\n",
       "       [[ 82,  22,  57],\n",
       "        [ 82,  22,  57],\n",
       "        [ 96,  32,  62],\n",
       "        ...,\n",
       "        [179,  70,  79],\n",
       "        [181,  71,  81],\n",
       "        [185,  74,  81]],\n",
       "\n",
       "       [[ 82,  22,  57],\n",
       "        [ 82,  22,  57],\n",
       "        [ 96,  32,  62],\n",
       "        ...,\n",
       "        [179,  70,  79],\n",
       "        [181,  71,  81],\n",
       "        [185,  74,  81]]], dtype=uint8)>"
      ]
     },
     "execution_count": 61,
     "metadata": {},
     "output_type": "execute_result"
    },
    {
     "data": {
      "text/plain": [
       "<tf.Tensor: shape=(512, 512), dtype=uint8, numpy=\n",
       "array([[226, 226, 223, ..., 230, 221, 200],\n",
       "       [226, 226, 223, ..., 230, 221, 200],\n",
       "       [226, 226, 223, ..., 230, 221, 200],\n",
       "       ...,\n",
       "       [ 84,  84,  92, ..., 173, 172, 177],\n",
       "       [ 82,  82,  96, ..., 179, 181, 185],\n",
       "       [ 82,  82,  96, ..., 179, 181, 185]], dtype=uint8)>"
      ]
     },
     "execution_count": 61,
     "metadata": {},
     "output_type": "execute_result"
    },
    {
     "data": {
      "text/plain": [
       "<tf.Tensor: shape=(512, 512), dtype=uint8, numpy=\n",
       "array([[125, 125, 133, ..., 122, 110,  90],\n",
       "       [125, 125, 133, ..., 122, 110,  90],\n",
       "       [125, 125, 133, ..., 122, 110,  90],\n",
       "       ...,\n",
       "       [ 60,  60,  58, ...,  84,  76,  79],\n",
       "       [ 57,  57,  62, ...,  79,  81,  81],\n",
       "       [ 57,  57,  62, ...,  79,  81,  81]], dtype=uint8)>"
      ]
     },
     "execution_count": 61,
     "metadata": {},
     "output_type": "execute_result"
    },
    {
     "data": {
      "text/plain": [
       "TensorShape([2, 512, 512, 3])"
      ]
     },
     "execution_count": 61,
     "metadata": {},
     "output_type": "execute_result"
    }
   ],
   "source": [
    "# lenna 图片例子\n",
    "from PIL import Image\n",
    "import numpy as np\n",
    "lenna_png_numpy = np.array(Image.open('./datasets/lennas/Lenna.png'))\n",
    "lenna_png_numpy.shape\n",
    "tf_lenna_01 = tf.constant(lenna_png_numpy)\n",
    "tf_lenna_01\n",
    "tf_lenna_02 = tf.convert_to_tensor(lenna_png_numpy)\n",
    "tf_lenna_02\n",
    "tf_lenna = tf_lenna_02\n",
    "# 获取该图片的红色通道\n",
    "tf_lenna[:, :, 0]\n",
    "# 获取该图片的蓝色通道\n",
    "tf_lenna[:, :, -1]\n",
    "\n",
    "# 读入所有的图片，形成样本集\n",
    "lenna_png_numpy_01 = np.array(Image.open('./datasets/lennas/Lenna.png'))\n",
    "lenna_png_numpy_02 = np.array(Image.open('datasets/lennas/Lenna.png'))\n",
    "lennas_np = np.stack((lenna_png_numpy_01, lenna_png_numpy_02), axis=0)\n",
    "tf_lennas = tf.convert_to_tensor(lennas_np)\n",
    "tf_lennas.shape"
   ]
  },
  {
   "cell_type": "code",
   "execution_count": 73,
   "id": "9e0fe5a5-893a-4d07-bf61-76bb0d4fda68",
   "metadata": {},
   "outputs": [
    {
     "data": {
      "text/plain": [
       "<tf.Tensor: shape=(3,), dtype=int32, numpy=array([0, 2, 3])>"
      ]
     },
     "execution_count": 73,
     "metadata": {},
     "output_type": "execute_result"
    },
    {
     "data": {
      "text/plain": [
       "<tf.Tensor: shape=(4, 5), dtype=int32, numpy=\n",
       "array([[ 0,  1,  2,  3,  4],\n",
       "       [ 5,  6,  7,  8,  9],\n",
       "       [10, 11, 12, 13, 14],\n",
       "       [15, 16, 17, 18, 19]])>"
      ]
     },
     "execution_count": 73,
     "metadata": {},
     "output_type": "execute_result"
    },
    {
     "data": {
      "text/plain": [
       "<tf.Tensor: shape=(3, 5), dtype=int32, numpy=\n",
       "array([[ 0,  1,  2,  3,  4],\n",
       "       [10, 11, 12, 13, 14],\n",
       "       [15, 16, 17, 18, 19]])>"
      ]
     },
     "execution_count": 73,
     "metadata": {},
     "output_type": "execute_result"
    },
    {
     "data": {
      "text/plain": [
       "<tf.Tensor: shape=(4, 3), dtype=int32, numpy=\n",
       "array([[ 0,  2,  3],\n",
       "       [ 5,  7,  8],\n",
       "       [10, 12, 13],\n",
       "       [15, 17, 18]])>"
      ]
     },
     "execution_count": 73,
     "metadata": {},
     "output_type": "execute_result"
    },
    {
     "data": {
      "text/plain": [
       "<tf.Tensor: shape=(3,), dtype=int32, numpy=array([0, 2, 3])>"
      ]
     },
     "execution_count": 73,
     "metadata": {},
     "output_type": "execute_result"
    },
    {
     "data": {
      "text/plain": [
       "<tf.Tensor: shape=(3,), dtype=int32, numpy=array([ 0, 12, 18])>"
      ]
     },
     "execution_count": 73,
     "metadata": {},
     "output_type": "execute_result"
    },
    {
     "data": {
      "text/plain": [
       "<tf.Tensor: shape=(3, 3), dtype=int32, numpy=\n",
       "array([[210, 103, 211],\n",
       "       [ 38,  51,   5],\n",
       "       [222, 245, 247]])>"
      ]
     },
     "execution_count": 73,
     "metadata": {},
     "output_type": "execute_result"
    },
    {
     "data": {
      "text/plain": [
       "<tf.Tensor: shape=(3,), dtype=int32, numpy=array([210,  38, 222])>"
      ]
     },
     "execution_count": 73,
     "metadata": {},
     "output_type": "execute_result"
    },
    {
     "data": {
      "text/plain": [
       "<tf.Tensor: shape=(3, 28, 28), dtype=int32, numpy=\n",
       "array([[[ 36,  52, 169, ..., 230,  59,  15],\n",
       "        [227,  50, 128, ...,  80,   6,  34],\n",
       "        [ 73, 186, 120, ..., 247, 166, 143],\n",
       "        ...,\n",
       "        [ 15, 232, 119, ..., 116, 107,  18],\n",
       "        [ 13, 244, 113, ...,  93, 123, 117],\n",
       "        [140, 126, 106, ...,  92, 146, 202]],\n",
       "\n",
       "       [[ 94,  45, 125, ..., 175, 237, 116],\n",
       "        [248,  92,  31, ..., 156,  43,   9],\n",
       "        [189,  32, 246, ..., 161, 122,  60],\n",
       "        ...,\n",
       "        [214,   4, 206, ...,  34,   2, 108],\n",
       "        [ 51,  82, 143, ...,  36, 131,  64],\n",
       "        [ 44,  76, 112, ...,  70, 237, 159]],\n",
       "\n",
       "       [[ 10, 181,  36, ..., 146,   1, 132],\n",
       "        [132,  71,  23, ..., 237, 140, 146],\n",
       "        [223, 205, 179, ..., 150, 245, 237],\n",
       "        ...,\n",
       "        [133, 121,  83, ..., 238, 211,  23],\n",
       "        [193,  80, 240, ..., 137, 224, 104],\n",
       "        [ 68,  16, 191, ...,  57, 137, 203]]])>"
      ]
     },
     "execution_count": 73,
     "metadata": {},
     "output_type": "execute_result"
    }
   ],
   "source": [
    "# 提取相关\n",
    "tf_a = tf.range(20)\n",
    "tf_b = tf.reshape(tf_a, [4, 5])\n",
    "# 一维张量的 一个维度 的采样\n",
    "tf_gather = tf.gather(tf_a, [0, 2, 3])\n",
    "tf_gather\n",
    "tf_b\n",
    "# 二维张量的 一个维度 的采样\n",
    "tf_rows = tf.gather(tf_b, axis=0, indices=[0, 2, 3])\n",
    "tf_rows\n",
    "tf_cols = tf.gather(tf_b, axis=1, indices=[0, 2, 3])\n",
    "tf_cols\n",
    "\n",
    "# 一维张量，不连续多个位置的采样\n",
    "tf_gathernd = tf.gather_nd(tf_a, [[0], [2], [3]])\n",
    "tf_gathernd\n",
    "# 二维张量，不连续多个位置的采样\n",
    "tf_r_c =  tf.gather_nd(tf_b, [[0, 0], [2, 2], [3, 3]])\n",
    "tf_r_c\n",
    "image_rgb = tf.random.uniform([512, 512, 3], maxval=256, dtype=tf.int32)\n",
    "# 获取指定位置的三个点的全部通道(RGB)数值\n",
    "tf_pixels = tf.gather_nd(image_rgb, [[0, 0], [1, 2], [2, 3]])\n",
    "tf_pixels\n",
    "tf_pixels_channel = tf.gather_nd(image_rgb, [[0, 0, 0], [1, 2, 0], [2, 3, 0]])\n",
    "tf_pixels_channel\n",
    "images = tf.random.uniform([10, 28, 28], maxval=256, dtype=tf.int32)\n",
    "some_images = tf.gather_nd(images, [[0], [2], [3]])\n",
    "some_images"
   ]
  },
  {
   "cell_type": "code",
   "execution_count": 87,
   "id": "41687358-3867-4a4f-8240-e7a00f109762",
   "metadata": {},
   "outputs": [
    {
     "data": {
      "text/plain": [
       "((512, 512), 'RGB', 'PNG')"
      ]
     },
     "execution_count": 87,
     "metadata": {},
     "output_type": "execute_result"
    },
    {
     "data": {
      "text/plain": [
       "(0.0, 1.0, 0.0, 1.0)"
      ]
     },
     "execution_count": 87,
     "metadata": {},
     "output_type": "execute_result"
    },
    {
     "data": {
      "text/plain": [
       "<matplotlib.image.AxesImage at 0x20e032ca4f0>"
      ]
     },
     "execution_count": 87,
     "metadata": {},
     "output_type": "execute_result"
    },
    {
     "data": {
      "image/png": "[encoded data removed]",
      "text/plain": [
       "<Figure size 432x288 with 1 Axes>"
      ]
     },
     "metadata": {
      "needs_background": "light"
     },
     "output_type": "display_data"
    },
    {
     "data": {
      "text/plain": [
       "(numpy.ndarray, (512, 512, 3), True)"
      ]
     },
     "execution_count": 87,
     "metadata": {},
     "output_type": "execute_result"
    },
    {
     "data": {
      "text/plain": [
       "dtype('float32')"
      ]
     },
     "execution_count": 87,
     "metadata": {},
     "output_type": "execute_result"
    },
    {
     "data": {
      "text/plain": [
       "(numpy.ndarray, (512, 512, 3), False)"
      ]
     },
     "execution_count": 87,
     "metadata": {},
     "output_type": "execute_result"
    },
    {
     "data": {
      "text/plain": [
       "dtype('uint8')"
      ]
     },
     "execution_count": 87,
     "metadata": {},
     "output_type": "execute_result"
    },
    {
     "data": {
      "text/plain": [
       "<tf.Tensor: shape=(512, 512, 3), dtype=float32, numpy=\n",
       "array([[[226., 137., 125.],\n",
       "        [226., 137., 125.],\n",
       "        [223., 137., 133.],\n",
       "        ...,\n",
       "        [230., 148., 122.],\n",
       "        [221., 130., 110.],\n",
       "        [200.,  99.,  90.]],\n",
       "\n",
       "       [[226., 137., 125.],\n",
       "        [226., 137., 125.],\n",
       "        [223., 137., 133.],\n",
       "        ...,\n",
       "        [230., 148., 122.],\n",
       "        [221., 130., 110.],\n",
       "        [200.,  99.,  90.]],\n",
       "\n",
       "       [[226., 137., 125.],\n",
       "        [226., 137., 125.],\n",
       "        [223., 137., 133.],\n",
       "        ...,\n",
       "        [230., 148., 122.],\n",
       "        [221., 130., 110.],\n",
       "        [200.,  99.,  90.]],\n",
       "\n",
       "       ...,\n",
       "\n",
       "       [[ 84.,  18.,  60.],\n",
       "        [ 84.,  18.,  60.],\n",
       "        [ 92.,  27.,  58.],\n",
       "        ...,\n",
       "        [173.,  73.,  84.],\n",
       "        [172.,  68.,  76.],\n",
       "        [177.,  62.,  79.]],\n",
       "\n",
       "       [[ 82.,  22.,  57.],\n",
       "        [ 82.,  22.,  57.],\n",
       "        [ 96.,  32.,  62.],\n",
       "        ...,\n",
       "        [179.,  70.,  79.],\n",
       "        [181.,  71.,  81.],\n",
       "        [185.,  74.,  81.]],\n",
       "\n",
       "       [[ 82.,  22.,  57.],\n",
       "        [ 82.,  22.,  57.],\n",
       "        [ 96.,  32.,  62.],\n",
       "        ...,\n",
       "        [179.,  70.,  79.],\n",
       "        [181.,  71.,  81.],\n",
       "        [185.,  74.,  81.]]], dtype=float32)>"
      ]
     },
     "execution_count": 87,
     "metadata": {},
     "output_type": "execute_result"
    },
    {
     "data": {
      "text/plain": [
       "<tf.Tensor: shape=(512, 512, 3), dtype=float32, numpy=\n",
       "array([[[226., 137., 125.],\n",
       "        [226., 137., 125.],\n",
       "        [223., 137., 133.],\n",
       "        ...,\n",
       "        [230., 148., 122.],\n",
       "        [221., 130., 110.],\n",
       "        [200.,  99.,  90.]],\n",
       "\n",
       "       [[226., 137., 125.],\n",
       "        [226., 137., 125.],\n",
       "        [223., 137., 133.],\n",
       "        ...,\n",
       "        [230., 148., 122.],\n",
       "        [221., 130., 110.],\n",
       "        [200.,  99.,  90.]],\n",
       "\n",
       "       [[226., 137., 125.],\n",
       "        [226., 137., 125.],\n",
       "        [223., 137., 133.],\n",
       "        ...,\n",
       "        [230., 148., 122.],\n",
       "        [221., 130., 110.],\n",
       "        [200.,  99.,  90.]],\n",
       "\n",
       "       ...,\n",
       "\n",
       "       [[ 84.,  18.,  60.],\n",
       "        [ 84.,  18.,  60.],\n",
       "        [ 92.,  27.,  58.],\n",
       "        ...,\n",
       "        [173.,  73.,  84.],\n",
       "        [172.,  68.,  76.],\n",
       "        [177.,  62.,  79.]],\n",
       "\n",
       "       [[ 82.,  22.,  57.],\n",
       "        [ 82.,  22.,  57.],\n",
       "        [ 96.,  32.,  62.],\n",
       "        ...,\n",
       "        [179.,  70.,  79.],\n",
       "        [181.,  71.,  81.],\n",
       "        [185.,  74.,  81.]],\n",
       "\n",
       "       [[ 82.,  22.,  57.],\n",
       "        [ 82.,  22.,  57.],\n",
       "        [ 96.,  32.,  62.],\n",
       "        ...,\n",
       "        [179.,  70.,  79.],\n",
       "        [181.,  71.,  81.],\n",
       "        [185.,  74.,  81.]]], dtype=float32)>"
      ]
     },
     "execution_count": 87,
     "metadata": {},
     "output_type": "execute_result"
    }
   ],
   "source": [
    "# 导入 PIL \n",
    "from PIL import Image\n",
    "import numpy as np\n",
    "\n",
    "# 1. 指定图片文件信息（路径、名称）\n",
    "image_file = './datasets/lennas/lenna.png'\n",
    "# 2. 使用 PIL 加载指定的图片文件\n",
    "image = Image.open(image_file)\n",
    "# 3. 数据探查 - 查看属性\n",
    "image.size, image.mode, image.format\n",
    "# 4. 显示图片\n",
    "# 使用 PIL 内置的方法，在当前OS的默认图片查看程序中打开要查看图片的临时图片\n",
    "# image.show()\n",
    "# 使用 matplotlib 显示图片\n",
    "import matplotlib.pyplot as plt\n",
    "plt.axis('off')\n",
    "plt.imshow(image)\n",
    "plt.show()\n",
    "# 5. 保存图片\n",
    "# image.save('lenna.jpg')\n",
    "# 6. 转换图片为 numpy ndarray\n",
    "# 使用 np.array\n",
    "# image_np_writable = np.array(image)\n",
    "image_np_writable = np.array(image, np.float32)\n",
    "type(image_np_writable), image_np_writable.shape, image_np_writable.flags.writeable\n",
    "image_np_writable.dtype\n",
    "# 使用 np.asarray\n",
    "image_np_reanonly = np.asarray(image)\n",
    "type(image_np_reanonly), image_np_reanonly.shape, image_np_reanonly.flags.writeable\n",
    "image_np_reanonly.dtype\n",
    "tf_image_01 = tf.convert_to_tensor(image_np_writable)\n",
    "tf_image_01\n",
    "tf_image_02 = tf.convert_to_tensor(image_np_reanonly, dtype=tf.float32)\n",
    "tf_image_02\n",
    "# 扩充：\n",
    "# 遍历指定目录下的所有图片，读入到numpy，转为为 tensor，stack成样本集tensor"
   ]
  },
  {
   "cell_type": "code",
   "execution_count": 88,
   "id": "0572f5af-cd47-424f-8166-7fb3b8eb6523",
   "metadata": {},
   "outputs": [
    {
     "name": "stdout",
     "output_type": "stream",
     "text": [
      "Downloading data from https://storage.googleapis.com/download.tensorflow.org/example_images/flower_photos.tgz\n",
      "228813984/228813984 [==============================] - 75s 0us/step\n",
      "C:\\Users\\txsli\\.keras\\datasets\\flower_photos\n"
     ]
    }
   ],
   "source": [
    "import pathlib\n",
    "data_root_orig = tf.keras.utils.get_file(origin='https://storage.googleapis.com/download.tensorflow.org/example_images/flower_photos.tgz',\n",
    "                                         fname='flower_photos', untar=True)\n",
    "data_root = pathlib.Path(data_root_orig)\n",
    "print(data_root)"
   ]
  },
  {
   "cell_type": "code",
   "execution_count": 92,
   "id": "282621b1-41ac-49c3-9158-a0033af7951a",
   "metadata": {
    "collapsed": true,
    "jupyter": {
     "outputs_hidden": true
    },
    "tags": []
   },
   "outputs": [
    {
     "data": {
      "text/plain": [
       "pandas.core.frame.DataFrame"
      ]
     },
     "execution_count": 92,
     "metadata": {},
     "output_type": "execute_result"
    },
    {
     "data": {
      "text/html": [
       "<div>\n",
       "<style scoped>\n",
       "    .dataframe tbody tr th:only-of-type {\n",
       "        vertical-align: middle;\n",
       "    }\n",
       "\n",
       "    .dataframe tbody tr th {\n",
       "        vertical-align: top;\n",
       "    }\n",
       "\n",
       "    .dataframe thead th {\n",
       "        text-align: right;\n",
       "    }\n",
       "</style>\n",
       "<table border=\"1\" class=\"dataframe\">\n",
       "  <thead>\n",
       "    <tr style=\"text-align: right;\">\n",
       "      <th></th>\n",
       "      <th>sepal_length</th>\n",
       "      <th>sepal_width</th>\n",
       "      <th>petal_length</th>\n",
       "      <th>petal_width</th>\n",
       "      <th>species</th>\n",
       "    </tr>\n",
       "  </thead>\n",
       "  <tbody>\n",
       "    <tr>\n",
       "      <th>0</th>\n",
       "      <td>5.1</td>\n",
       "      <td>3.5</td>\n",
       "      <td>1.4</td>\n",
       "      <td>0.2</td>\n",
       "      <td>setosa</td>\n",
       "    </tr>\n",
       "    <tr>\n",
       "      <th>1</th>\n",
       "      <td>4.9</td>\n",
       "      <td>3.0</td>\n",
       "      <td>1.4</td>\n",
       "      <td>0.2</td>\n",
       "      <td>setosa</td>\n",
       "    </tr>\n",
       "    <tr>\n",
       "      <th>2</th>\n",
       "      <td>4.7</td>\n",
       "      <td>3.2</td>\n",
       "      <td>1.3</td>\n",
       "      <td>0.2</td>\n",
       "      <td>setosa</td>\n",
       "    </tr>\n",
       "    <tr>\n",
       "      <th>3</th>\n",
       "      <td>4.6</td>\n",
       "      <td>3.1</td>\n",
       "      <td>1.5</td>\n",
       "      <td>0.2</td>\n",
       "      <td>setosa</td>\n",
       "    </tr>\n",
       "    <tr>\n",
       "      <th>4</th>\n",
       "      <td>5.0</td>\n",
       "      <td>3.6</td>\n",
       "      <td>1.4</td>\n",
       "      <td>0.2</td>\n",
       "      <td>setosa</td>\n",
       "    </tr>\n",
       "    <tr>\n",
       "      <th>...</th>\n",
       "      <td>...</td>\n",
       "      <td>...</td>\n",
       "      <td>...</td>\n",
       "      <td>...</td>\n",
       "      <td>...</td>\n",
       "    </tr>\n",
       "    <tr>\n",
       "      <th>145</th>\n",
       "      <td>6.7</td>\n",
       "      <td>3.0</td>\n",
       "      <td>5.2</td>\n",
       "      <td>2.3</td>\n",
       "      <td>virginica</td>\n",
       "    </tr>\n",
       "    <tr>\n",
       "      <th>146</th>\n",
       "      <td>6.3</td>\n",
       "      <td>2.5</td>\n",
       "      <td>5.0</td>\n",
       "      <td>1.9</td>\n",
       "      <td>virginica</td>\n",
       "    </tr>\n",
       "    <tr>\n",
       "      <th>147</th>\n",
       "      <td>6.5</td>\n",
       "      <td>3.0</td>\n",
       "      <td>5.2</td>\n",
       "      <td>2.0</td>\n",
       "      <td>virginica</td>\n",
       "    </tr>\n",
       "    <tr>\n",
       "      <th>148</th>\n",
       "      <td>6.2</td>\n",
       "      <td>3.4</td>\n",
       "      <td>5.4</td>\n",
       "      <td>2.3</td>\n",
       "      <td>virginica</td>\n",
       "    </tr>\n",
       "    <tr>\n",
       "      <th>149</th>\n",
       "      <td>5.9</td>\n",
       "      <td>3.0</td>\n",
       "      <td>5.1</td>\n",
       "      <td>1.8</td>\n",
       "      <td>virginica</td>\n",
       "    </tr>\n",
       "  </tbody>\n",
       "</table>\n",
       "<p>150 rows × 5 columns</p>\n",
       "</div>"
      ],
      "text/plain": [
       "     sepal_length  sepal_width  petal_length  petal_width    species\n",
       "0             5.1          3.5           1.4          0.2     setosa\n",
       "1             4.9          3.0           1.4          0.2     setosa\n",
       "2             4.7          3.2           1.3          0.2     setosa\n",
       "3             4.6          3.1           1.5          0.2     setosa\n",
       "4             5.0          3.6           1.4          0.2     setosa\n",
       "..            ...          ...           ...          ...        ...\n",
       "145           6.7          3.0           5.2          2.3  virginica\n",
       "146           6.3          2.5           5.0          1.9  virginica\n",
       "147           6.5          3.0           5.2          2.0  virginica\n",
       "148           6.2          3.4           5.4          2.3  virginica\n",
       "149           5.9          3.0           5.1          1.8  virginica\n",
       "\n",
       "[150 rows x 5 columns]"
      ]
     },
     "execution_count": 92,
     "metadata": {},
     "output_type": "execute_result"
    },
    {
     "data": {
      "text/html": [
       "<div>\n",
       "<style scoped>\n",
       "    .dataframe tbody tr th:only-of-type {\n",
       "        vertical-align: middle;\n",
       "    }\n",
       "\n",
       "    .dataframe tbody tr th {\n",
       "        vertical-align: top;\n",
       "    }\n",
       "\n",
       "    .dataframe thead th {\n",
       "        text-align: right;\n",
       "    }\n",
       "</style>\n",
       "<table border=\"1\" class=\"dataframe\">\n",
       "  <thead>\n",
       "    <tr style=\"text-align: right;\">\n",
       "      <th></th>\n",
       "      <th>sepal_length</th>\n",
       "      <th>sepal_width</th>\n",
       "      <th>petal_length</th>\n",
       "      <th>petal_width</th>\n",
       "      <th>species</th>\n",
       "    </tr>\n",
       "  </thead>\n",
       "  <tbody>\n",
       "    <tr>\n",
       "      <th>0</th>\n",
       "      <td>5.1</td>\n",
       "      <td>3.5</td>\n",
       "      <td>1.4</td>\n",
       "      <td>0.2</td>\n",
       "      <td>0</td>\n",
       "    </tr>\n",
       "    <tr>\n",
       "      <th>1</th>\n",
       "      <td>4.9</td>\n",
       "      <td>3.0</td>\n",
       "      <td>1.4</td>\n",
       "      <td>0.2</td>\n",
       "      <td>0</td>\n",
       "    </tr>\n",
       "    <tr>\n",
       "      <th>2</th>\n",
       "      <td>4.7</td>\n",
       "      <td>3.2</td>\n",
       "      <td>1.3</td>\n",
       "      <td>0.2</td>\n",
       "      <td>0</td>\n",
       "    </tr>\n",
       "    <tr>\n",
       "      <th>3</th>\n",
       "      <td>4.6</td>\n",
       "      <td>3.1</td>\n",
       "      <td>1.5</td>\n",
       "      <td>0.2</td>\n",
       "      <td>0</td>\n",
       "    </tr>\n",
       "    <tr>\n",
       "      <th>4</th>\n",
       "      <td>5.0</td>\n",
       "      <td>3.6</td>\n",
       "      <td>1.4</td>\n",
       "      <td>0.2</td>\n",
       "      <td>0</td>\n",
       "    </tr>\n",
       "    <tr>\n",
       "      <th>...</th>\n",
       "      <td>...</td>\n",
       "      <td>...</td>\n",
       "      <td>...</td>\n",
       "      <td>...</td>\n",
       "      <td>...</td>\n",
       "    </tr>\n",
       "    <tr>\n",
       "      <th>145</th>\n",
       "      <td>6.7</td>\n",
       "      <td>3.0</td>\n",
       "      <td>5.2</td>\n",
       "      <td>2.3</td>\n",
       "      <td>2</td>\n",
       "    </tr>\n",
       "    <tr>\n",
       "      <th>146</th>\n",
       "      <td>6.3</td>\n",
       "      <td>2.5</td>\n",
       "      <td>5.0</td>\n",
       "      <td>1.9</td>\n",
       "      <td>2</td>\n",
       "    </tr>\n",
       "    <tr>\n",
       "      <th>147</th>\n",
       "      <td>6.5</td>\n",
       "      <td>3.0</td>\n",
       "      <td>5.2</td>\n",
       "      <td>2.0</td>\n",
       "      <td>2</td>\n",
       "    </tr>\n",
       "    <tr>\n",
       "      <th>148</th>\n",
       "      <td>6.2</td>\n",
       "      <td>3.4</td>\n",
       "      <td>5.4</td>\n",
       "      <td>2.3</td>\n",
       "      <td>2</td>\n",
       "    </tr>\n",
       "    <tr>\n",
       "      <th>149</th>\n",
       "      <td>5.9</td>\n",
       "      <td>3.0</td>\n",
       "      <td>5.1</td>\n",
       "      <td>1.8</td>\n",
       "      <td>2</td>\n",
       "    </tr>\n",
       "  </tbody>\n",
       "</table>\n",
       "<p>150 rows × 5 columns</p>\n",
       "</div>"
      ],
      "text/plain": [
       "     sepal_length  sepal_width  petal_length  petal_width  species\n",
       "0             5.1          3.5           1.4          0.2        0\n",
       "1             4.9          3.0           1.4          0.2        0\n",
       "2             4.7          3.2           1.3          0.2        0\n",
       "3             4.6          3.1           1.5          0.2        0\n",
       "4             5.0          3.6           1.4          0.2        0\n",
       "..            ...          ...           ...          ...      ...\n",
       "145           6.7          3.0           5.2          2.3        2\n",
       "146           6.3          2.5           5.0          1.9        2\n",
       "147           6.5          3.0           5.2          2.0        2\n",
       "148           6.2          3.4           5.4          2.3        2\n",
       "149           5.9          3.0           5.1          1.8        2\n",
       "\n",
       "[150 rows x 5 columns]"
      ]
     },
     "execution_count": 92,
     "metadata": {},
     "output_type": "execute_result"
    },
    {
     "data": {
      "text/plain": [
       "numpy.ndarray"
      ]
     },
     "execution_count": 92,
     "metadata": {},
     "output_type": "execute_result"
    },
    {
     "data": {
      "text/plain": [
       "array([[5.1, 3.5, 1.4, 0.2, 0. ],\n",
       "       [4.9, 3. , 1.4, 0.2, 0. ],\n",
       "       [4.7, 3.2, 1.3, 0.2, 0. ],\n",
       "       [4.6, 3.1, 1.5, 0.2, 0. ],\n",
       "       [5. , 3.6, 1.4, 0.2, 0. ],\n",
       "       [5.4, 3.9, 1.7, 0.4, 0. ],\n",
       "       [4.6, 3.4, 1.4, 0.3, 0. ],\n",
       "       [5. , 3.4, 1.5, 0.2, 0. ],\n",
       "       [4.4, 2.9, 1.4, 0.2, 0. ],\n",
       "       [4.9, 3.1, 1.5, 0.1, 0. ],\n",
       "       [5.4, 3.7, 1.5, 0.2, 0. ],\n",
       "       [4.8, 3.4, 1.6, 0.2, 0. ],\n",
       "       [4.8, 3. , 1.4, 0.1, 0. ],\n",
       "       [4.3, 3. , 1.1, 0.1, 0. ],\n",
       "       [5.8, 4. , 1.2, 0.2, 0. ],\n",
       "       [5.7, 4.4, 1.5, 0.4, 0. ],\n",
       "       [5.4, 3.9, 1.3, 0.4, 0. ],\n",
       "       [5.1, 3.5, 1.4, 0.3, 0. ],\n",
       "       [5.7, 3.8, 1.7, 0.3, 0. ],\n",
       "       [5.1, 3.8, 1.5, 0.3, 0. ],\n",
       "       [5.4, 3.4, 1.7, 0.2, 0. ],\n",
       "       [5.1, 3.7, 1.5, 0.4, 0. ],\n",
       "       [4.6, 3.6, 1. , 0.2, 0. ],\n",
       "       [5.1, 3.3, 1.7, 0.5, 0. ],\n",
       "       [4.8, 3.4, 1.9, 0.2, 0. ],\n",
       "       [5. , 3. , 1.6, 0.2, 0. ],\n",
       "       [5. , 3.4, 1.6, 0.4, 0. ],\n",
       "       [5.2, 3.5, 1.5, 0.2, 0. ],\n",
       "       [5.2, 3.4, 1.4, 0.2, 0. ],\n",
       "       [4.7, 3.2, 1.6, 0.2, 0. ],\n",
       "       [4.8, 3.1, 1.6, 0.2, 0. ],\n",
       "       [5.4, 3.4, 1.5, 0.4, 0. ],\n",
       "       [5.2, 4.1, 1.5, 0.1, 0. ],\n",
       "       [5.5, 4.2, 1.4, 0.2, 0. ],\n",
       "       [4.9, 3.1, 1.5, 0.2, 0. ],\n",
       "       [5. , 3.2, 1.2, 0.2, 0. ],\n",
       "       [5.5, 3.5, 1.3, 0.2, 0. ],\n",
       "       [4.9, 3.6, 1.4, 0.1, 0. ],\n",
       "       [4.4, 3. , 1.3, 0.2, 0. ],\n",
       "       [5.1, 3.4, 1.5, 0.2, 0. ],\n",
       "       [5. , 3.5, 1.3, 0.3, 0. ],\n",
       "       [4.5, 2.3, 1.3, 0.3, 0. ],\n",
       "       [4.4, 3.2, 1.3, 0.2, 0. ],\n",
       "       [5. , 3.5, 1.6, 0.6, 0. ],\n",
       "       [5.1, 3.8, 1.9, 0.4, 0. ],\n",
       "       [4.8, 3. , 1.4, 0.3, 0. ],\n",
       "       [5.1, 3.8, 1.6, 0.2, 0. ],\n",
       "       [4.6, 3.2, 1.4, 0.2, 0. ],\n",
       "       [5.3, 3.7, 1.5, 0.2, 0. ],\n",
       "       [5. , 3.3, 1.4, 0.2, 0. ],\n",
       "       [7. , 3.2, 4.7, 1.4, 1. ],\n",
       "       [6.4, 3.2, 4.5, 1.5, 1. ],\n",
       "       [6.9, 3.1, 4.9, 1.5, 1. ],\n",
       "       [5.5, 2.3, 4. , 1.3, 1. ],\n",
       "       [6.5, 2.8, 4.6, 1.5, 1. ],\n",
       "       [5.7, 2.8, 4.5, 1.3, 1. ],\n",
       "       [6.3, 3.3, 4.7, 1.6, 1. ],\n",
       "       [4.9, 2.4, 3.3, 1. , 1. ],\n",
       "       [6.6, 2.9, 4.6, 1.3, 1. ],\n",
       "       [5.2, 2.7, 3.9, 1.4, 1. ],\n",
       "       [5. , 2. , 3.5, 1. , 1. ],\n",
       "       [5.9, 3. , 4.2, 1.5, 1. ],\n",
       "       [6. , 2.2, 4. , 1. , 1. ],\n",
       "       [6.1, 2.9, 4.7, 1.4, 1. ],\n",
       "       [5.6, 2.9, 3.6, 1.3, 1. ],\n",
       "       [6.7, 3.1, 4.4, 1.4, 1. ],\n",
       "       [5.6, 3. , 4.5, 1.5, 1. ],\n",
       "       [5.8, 2.7, 4.1, 1. , 1. ],\n",
       "       [6.2, 2.2, 4.5, 1.5, 1. ],\n",
       "       [5.6, 2.5, 3.9, 1.1, 1. ],\n",
       "       [5.9, 3.2, 4.8, 1.8, 1. ],\n",
       "       [6.1, 2.8, 4. , 1.3, 1. ],\n",
       "       [6.3, 2.5, 4.9, 1.5, 1. ],\n",
       "       [6.1, 2.8, 4.7, 1.2, 1. ],\n",
       "       [6.4, 2.9, 4.3, 1.3, 1. ],\n",
       "       [6.6, 3. , 4.4, 1.4, 1. ],\n",
       "       [6.8, 2.8, 4.8, 1.4, 1. ],\n",
       "       [6.7, 3. , 5. , 1.7, 1. ],\n",
       "       [6. , 2.9, 4.5, 1.5, 1. ],\n",
       "       [5.7, 2.6, 3.5, 1. , 1. ],\n",
       "       [5.5, 2.4, 3.8, 1.1, 1. ],\n",
       "       [5.5, 2.4, 3.7, 1. , 1. ],\n",
       "       [5.8, 2.7, 3.9, 1.2, 1. ],\n",
       "       [6. , 2.7, 5.1, 1.6, 1. ],\n",
       "       [5.4, 3. , 4.5, 1.5, 1. ],\n",
       "       [6. , 3.4, 4.5, 1.6, 1. ],\n",
       "       [6.7, 3.1, 4.7, 1.5, 1. ],\n",
       "       [6.3, 2.3, 4.4, 1.3, 1. ],\n",
       "       [5.6, 3. , 4.1, 1.3, 1. ],\n",
       "       [5.5, 2.5, 4. , 1.3, 1. ],\n",
       "       [5.5, 2.6, 4.4, 1.2, 1. ],\n",
       "       [6.1, 3. , 4.6, 1.4, 1. ],\n",
       "       [5.8, 2.6, 4. , 1.2, 1. ],\n",
       "       [5. , 2.3, 3.3, 1. , 1. ],\n",
       "       [5.6, 2.7, 4.2, 1.3, 1. ],\n",
       "       [5.7, 3. , 4.2, 1.2, 1. ],\n",
       "       [5.7, 2.9, 4.2, 1.3, 1. ],\n",
       "       [6.2, 2.9, 4.3, 1.3, 1. ],\n",
       "       [5.1, 2.5, 3. , 1.1, 1. ],\n",
       "       [5.7, 2.8, 4.1, 1.3, 1. ],\n",
       "       [6.3, 3.3, 6. , 2.5, 2. ],\n",
       "       [5.8, 2.7, 5.1, 1.9, 2. ],\n",
       "       [7.1, 3. , 5.9, 2.1, 2. ],\n",
       "       [6.3, 2.9, 5.6, 1.8, 2. ],\n",
       "       [6.5, 3. , 5.8, 2.2, 2. ],\n",
       "       [7.6, 3. , 6.6, 2.1, 2. ],\n",
       "       [4.9, 2.5, 4.5, 1.7, 2. ],\n",
       "       [7.3, 2.9, 6.3, 1.8, 2. ],\n",
       "       [6.7, 2.5, 5.8, 1.8, 2. ],\n",
       "       [7.2, 3.6, 6.1, 2.5, 2. ],\n",
       "       [6.5, 3.2, 5.1, 2. , 2. ],\n",
       "       [6.4, 2.7, 5.3, 1.9, 2. ],\n",
       "       [6.8, 3. , 5.5, 2.1, 2. ],\n",
       "       [5.7, 2.5, 5. , 2. , 2. ],\n",
       "       [5.8, 2.8, 5.1, 2.4, 2. ],\n",
       "       [6.4, 3.2, 5.3, 2.3, 2. ],\n",
       "       [6.5, 3. , 5.5, 1.8, 2. ],\n",
       "       [7.7, 3.8, 6.7, 2.2, 2. ],\n",
       "       [7.7, 2.6, 6.9, 2.3, 2. ],\n",
       "       [6. , 2.2, 5. , 1.5, 2. ],\n",
       "       [6.9, 3.2, 5.7, 2.3, 2. ],\n",
       "       [5.6, 2.8, 4.9, 2. , 2. ],\n",
       "       [7.7, 2.8, 6.7, 2. , 2. ],\n",
       "       [6.3, 2.7, 4.9, 1.8, 2. ],\n",
       "       [6.7, 3.3, 5.7, 2.1, 2. ],\n",
       "       [7.2, 3.2, 6. , 1.8, 2. ],\n",
       "       [6.2, 2.8, 4.8, 1.8, 2. ],\n",
       "       [6.1, 3. , 4.9, 1.8, 2. ],\n",
       "       [6.4, 2.8, 5.6, 2.1, 2. ],\n",
       "       [7.2, 3. , 5.8, 1.6, 2. ],\n",
       "       [7.4, 2.8, 6.1, 1.9, 2. ],\n",
       "       [7.9, 3.8, 6.4, 2. , 2. ],\n",
       "       [6.4, 2.8, 5.6, 2.2, 2. ],\n",
       "       [6.3, 2.8, 5.1, 1.5, 2. ],\n",
       "       [6.1, 2.6, 5.6, 1.4, 2. ],\n",
       "       [7.7, 3. , 6.1, 2.3, 2. ],\n",
       "       [6.3, 3.4, 5.6, 2.4, 2. ],\n",
       "       [6.4, 3.1, 5.5, 1.8, 2. ],\n",
       "       [6. , 3. , 4.8, 1.8, 2. ],\n",
       "       [6.9, 3.1, 5.4, 2.1, 2. ],\n",
       "       [6.7, 3.1, 5.6, 2.4, 2. ],\n",
       "       [6.9, 3.1, 5.1, 2.3, 2. ],\n",
       "       [5.8, 2.7, 5.1, 1.9, 2. ],\n",
       "       [6.8, 3.2, 5.9, 2.3, 2. ],\n",
       "       [6.7, 3.3, 5.7, 2.5, 2. ],\n",
       "       [6.7, 3. , 5.2, 2.3, 2. ],\n",
       "       [6.3, 2.5, 5. , 1.9, 2. ],\n",
       "       [6.5, 3. , 5.2, 2. , 2. ],\n",
       "       [6.2, 3.4, 5.4, 2.3, 2. ],\n",
       "       [5.9, 3. , 5.1, 1.8, 2. ]])"
      ]
     },
     "execution_count": 92,
     "metadata": {},
     "output_type": "execute_result"
    },
    {
     "data": {
      "text/plain": [
       "<tf.Tensor: shape=(150, 5), dtype=float32, numpy=\n",
       "array([[5.1, 3.5, 1.4, 0.2, 0. ],\n",
       "       [4.9, 3. , 1.4, 0.2, 0. ],\n",
       "       [4.7, 3.2, 1.3, 0.2, 0. ],\n",
       "       [4.6, 3.1, 1.5, 0.2, 0. ],\n",
       "       [5. , 3.6, 1.4, 0.2, 0. ],\n",
       "       [5.4, 3.9, 1.7, 0.4, 0. ],\n",
       "       [4.6, 3.4, 1.4, 0.3, 0. ],\n",
       "       [5. , 3.4, 1.5, 0.2, 0. ],\n",
       "       [4.4, 2.9, 1.4, 0.2, 0. ],\n",
       "       [4.9, 3.1, 1.5, 0.1, 0. ],\n",
       "       [5.4, 3.7, 1.5, 0.2, 0. ],\n",
       "       [4.8, 3.4, 1.6, 0.2, 0. ],\n",
       "       [4.8, 3. , 1.4, 0.1, 0. ],\n",
       "       [4.3, 3. , 1.1, 0.1, 0. ],\n",
       "       [5.8, 4. , 1.2, 0.2, 0. ],\n",
       "       [5.7, 4.4, 1.5, 0.4, 0. ],\n",
       "       [5.4, 3.9, 1.3, 0.4, 0. ],\n",
       "       [5.1, 3.5, 1.4, 0.3, 0. ],\n",
       "       [5.7, 3.8, 1.7, 0.3, 0. ],\n",
       "       [5.1, 3.8, 1.5, 0.3, 0. ],\n",
       "       [5.4, 3.4, 1.7, 0.2, 0. ],\n",
       "       [5.1, 3.7, 1.5, 0.4, 0. ],\n",
       "       [4.6, 3.6, 1. , 0.2, 0. ],\n",
       "       [5.1, 3.3, 1.7, 0.5, 0. ],\n",
       "       [4.8, 3.4, 1.9, 0.2, 0. ],\n",
       "       [5. , 3. , 1.6, 0.2, 0. ],\n",
       "       [5. , 3.4, 1.6, 0.4, 0. ],\n",
       "       [5.2, 3.5, 1.5, 0.2, 0. ],\n",
       "       [5.2, 3.4, 1.4, 0.2, 0. ],\n",
       "       [4.7, 3.2, 1.6, 0.2, 0. ],\n",
       "       [4.8, 3.1, 1.6, 0.2, 0. ],\n",
       "       [5.4, 3.4, 1.5, 0.4, 0. ],\n",
       "       [5.2, 4.1, 1.5, 0.1, 0. ],\n",
       "       [5.5, 4.2, 1.4, 0.2, 0. ],\n",
       "       [4.9, 3.1, 1.5, 0.2, 0. ],\n",
       "       [5. , 3.2, 1.2, 0.2, 0. ],\n",
       "       [5.5, 3.5, 1.3, 0.2, 0. ],\n",
       "       [4.9, 3.6, 1.4, 0.1, 0. ],\n",
       "       [4.4, 3. , 1.3, 0.2, 0. ],\n",
       "       [5.1, 3.4, 1.5, 0.2, 0. ],\n",
       "       [5. , 3.5, 1.3, 0.3, 0. ],\n",
       "       [4.5, 2.3, 1.3, 0.3, 0. ],\n",
       "       [4.4, 3.2, 1.3, 0.2, 0. ],\n",
       "       [5. , 3.5, 1.6, 0.6, 0. ],\n",
       "       [5.1, 3.8, 1.9, 0.4, 0. ],\n",
       "       [4.8, 3. , 1.4, 0.3, 0. ],\n",
       "       [5.1, 3.8, 1.6, 0.2, 0. ],\n",
       "       [4.6, 3.2, 1.4, 0.2, 0. ],\n",
       "       [5.3, 3.7, 1.5, 0.2, 0. ],\n",
       "       [5. , 3.3, 1.4, 0.2, 0. ],\n",
       "       [7. , 3.2, 4.7, 1.4, 1. ],\n",
       "       [6.4, 3.2, 4.5, 1.5, 1. ],\n",
       "       [6.9, 3.1, 4.9, 1.5, 1. ],\n",
       "       [5.5, 2.3, 4. , 1.3, 1. ],\n",
       "       [6.5, 2.8, 4.6, 1.5, 1. ],\n",
       "       [5.7, 2.8, 4.5, 1.3, 1. ],\n",
       "       [6.3, 3.3, 4.7, 1.6, 1. ],\n",
       "       [4.9, 2.4, 3.3, 1. , 1. ],\n",
       "       [6.6, 2.9, 4.6, 1.3, 1. ],\n",
       "       [5.2, 2.7, 3.9, 1.4, 1. ],\n",
       "       [5. , 2. , 3.5, 1. , 1. ],\n",
       "       [5.9, 3. , 4.2, 1.5, 1. ],\n",
       "       [6. , 2.2, 4. , 1. , 1. ],\n",
       "       [6.1, 2.9, 4.7, 1.4, 1. ],\n",
       "       [5.6, 2.9, 3.6, 1.3, 1. ],\n",
       "       [6.7, 3.1, 4.4, 1.4, 1. ],\n",
       "       [5.6, 3. , 4.5, 1.5, 1. ],\n",
       "       [5.8, 2.7, 4.1, 1. , 1. ],\n",
       "       [6.2, 2.2, 4.5, 1.5, 1. ],\n",
       "       [5.6, 2.5, 3.9, 1.1, 1. ],\n",
       "       [5.9, 3.2, 4.8, 1.8, 1. ],\n",
       "       [6.1, 2.8, 4. , 1.3, 1. ],\n",
       "       [6.3, 2.5, 4.9, 1.5, 1. ],\n",
       "       [6.1, 2.8, 4.7, 1.2, 1. ],\n",
       "       [6.4, 2.9, 4.3, 1.3, 1. ],\n",
       "       [6.6, 3. , 4.4, 1.4, 1. ],\n",
       "       [6.8, 2.8, 4.8, 1.4, 1. ],\n",
       "       [6.7, 3. , 5. , 1.7, 1. ],\n",
       "       [6. , 2.9, 4.5, 1.5, 1. ],\n",
       "       [5.7, 2.6, 3.5, 1. , 1. ],\n",
       "       [5.5, 2.4, 3.8, 1.1, 1. ],\n",
       "       [5.5, 2.4, 3.7, 1. , 1. ],\n",
       "       [5.8, 2.7, 3.9, 1.2, 1. ],\n",
       "       [6. , 2.7, 5.1, 1.6, 1. ],\n",
       "       [5.4, 3. , 4.5, 1.5, 1. ],\n",
       "       [6. , 3.4, 4.5, 1.6, 1. ],\n",
       "       [6.7, 3.1, 4.7, 1.5, 1. ],\n",
       "       [6.3, 2.3, 4.4, 1.3, 1. ],\n",
       "       [5.6, 3. , 4.1, 1.3, 1. ],\n",
       "       [5.5, 2.5, 4. , 1.3, 1. ],\n",
       "       [5.5, 2.6, 4.4, 1.2, 1. ],\n",
       "       [6.1, 3. , 4.6, 1.4, 1. ],\n",
       "       [5.8, 2.6, 4. , 1.2, 1. ],\n",
       "       [5. , 2.3, 3.3, 1. , 1. ],\n",
       "       [5.6, 2.7, 4.2, 1.3, 1. ],\n",
       "       [5.7, 3. , 4.2, 1.2, 1. ],\n",
       "       [5.7, 2.9, 4.2, 1.3, 1. ],\n",
       "       [6.2, 2.9, 4.3, 1.3, 1. ],\n",
       "       [5.1, 2.5, 3. , 1.1, 1. ],\n",
       "       [5.7, 2.8, 4.1, 1.3, 1. ],\n",
       "       [6.3, 3.3, 6. , 2.5, 2. ],\n",
       "       [5.8, 2.7, 5.1, 1.9, 2. ],\n",
       "       [7.1, 3. , 5.9, 2.1, 2. ],\n",
       "       [6.3, 2.9, 5.6, 1.8, 2. ],\n",
       "       [6.5, 3. , 5.8, 2.2, 2. ],\n",
       "       [7.6, 3. , 6.6, 2.1, 2. ],\n",
       "       [4.9, 2.5, 4.5, 1.7, 2. ],\n",
       "       [7.3, 2.9, 6.3, 1.8, 2. ],\n",
       "       [6.7, 2.5, 5.8, 1.8, 2. ],\n",
       "       [7.2, 3.6, 6.1, 2.5, 2. ],\n",
       "       [6.5, 3.2, 5.1, 2. , 2. ],\n",
       "       [6.4, 2.7, 5.3, 1.9, 2. ],\n",
       "       [6.8, 3. , 5.5, 2.1, 2. ],\n",
       "       [5.7, 2.5, 5. , 2. , 2. ],\n",
       "       [5.8, 2.8, 5.1, 2.4, 2. ],\n",
       "       [6.4, 3.2, 5.3, 2.3, 2. ],\n",
       "       [6.5, 3. , 5.5, 1.8, 2. ],\n",
       "       [7.7, 3.8, 6.7, 2.2, 2. ],\n",
       "       [7.7, 2.6, 6.9, 2.3, 2. ],\n",
       "       [6. , 2.2, 5. , 1.5, 2. ],\n",
       "       [6.9, 3.2, 5.7, 2.3, 2. ],\n",
       "       [5.6, 2.8, 4.9, 2. , 2. ],\n",
       "       [7.7, 2.8, 6.7, 2. , 2. ],\n",
       "       [6.3, 2.7, 4.9, 1.8, 2. ],\n",
       "       [6.7, 3.3, 5.7, 2.1, 2. ],\n",
       "       [7.2, 3.2, 6. , 1.8, 2. ],\n",
       "       [6.2, 2.8, 4.8, 1.8, 2. ],\n",
       "       [6.1, 3. , 4.9, 1.8, 2. ],\n",
       "       [6.4, 2.8, 5.6, 2.1, 2. ],\n",
       "       [7.2, 3. , 5.8, 1.6, 2. ],\n",
       "       [7.4, 2.8, 6.1, 1.9, 2. ],\n",
       "       [7.9, 3.8, 6.4, 2. , 2. ],\n",
       "       [6.4, 2.8, 5.6, 2.2, 2. ],\n",
       "       [6.3, 2.8, 5.1, 1.5, 2. ],\n",
       "       [6.1, 2.6, 5.6, 1.4, 2. ],\n",
       "       [7.7, 3. , 6.1, 2.3, 2. ],\n",
       "       [6.3, 3.4, 5.6, 2.4, 2. ],\n",
       "       [6.4, 3.1, 5.5, 1.8, 2. ],\n",
       "       [6. , 3. , 4.8, 1.8, 2. ],\n",
       "       [6.9, 3.1, 5.4, 2.1, 2. ],\n",
       "       [6.7, 3.1, 5.6, 2.4, 2. ],\n",
       "       [6.9, 3.1, 5.1, 2.3, 2. ],\n",
       "       [5.8, 2.7, 5.1, 1.9, 2. ],\n",
       "       [6.8, 3.2, 5.9, 2.3, 2. ],\n",
       "       [6.7, 3.3, 5.7, 2.5, 2. ],\n",
       "       [6.7, 3. , 5.2, 2.3, 2. ],\n",
       "       [6.3, 2.5, 5. , 1.9, 2. ],\n",
       "       [6.5, 3. , 5.2, 2. , 2. ],\n",
       "       [6.2, 3.4, 5.4, 2.3, 2. ],\n",
       "       [5.9, 3. , 5.1, 1.8, 2. ]], dtype=float32)>"
      ]
     },
     "execution_count": 92,
     "metadata": {},
     "output_type": "execute_result"
    }
   ],
   "source": [
    "# 读入有表头、类别是文字的 csv\n",
    "# 借助 pandas \n",
    "import pandas as pd\n",
    "# 0. 指定 csv 文件的位置信息（目录、文件名）\n",
    "iris_csv = 'datasets/iris/iris.csv'\n",
    "# 1. 加载csv数据到 dataframe\n",
    "iris_df = pd.read_csv(iris_csv)\n",
    "type(iris_df)\n",
    "iris_df\n",
    "# 1-2. 完成文字形式的类别的数值化\n",
    "df_iris = iris_df.replace({'setosa': 0, 'versicolor': 1, 'virginica': 2})\n",
    "df_iris\n",
    "# 转换 dataframe 为 numpy ndarray\n",
    "# iris_np = iris_df.values\n",
    "# iris_np = df_iris.values\n",
    "iris_np = np.array(df_iris)\n",
    "type(iris_np)\n",
    "iris_np\n",
    "tf_iris = tf.convert_to_tensor(iris_np, dtype=tf.float32)\n",
    "tf_iris"
   ]
  },
  {
   "cell_type": "code",
   "execution_count": 94,
   "id": "2890d503-881b-4ba6-8d05-0060aa3e4496",
   "metadata": {},
   "outputs": [
    {
     "data": {
      "text/plain": [
       "pandas.core.frame.DataFrame"
      ]
     },
     "execution_count": 94,
     "metadata": {},
     "output_type": "execute_result"
    },
    {
     "data": {
      "text/html": [
       "<div>\n",
       "<style scoped>\n",
       "    .dataframe tbody tr th:only-of-type {\n",
       "        vertical-align: middle;\n",
       "    }\n",
       "\n",
       "    .dataframe tbody tr th {\n",
       "        vertical-align: top;\n",
       "    }\n",
       "\n",
       "    .dataframe thead th {\n",
       "        text-align: right;\n",
       "    }\n",
       "</style>\n",
       "<table border=\"1\" class=\"dataframe\">\n",
       "  <thead>\n",
       "    <tr style=\"text-align: right;\">\n",
       "      <th></th>\n",
       "      <th>0</th>\n",
       "      <th>1</th>\n",
       "      <th>2</th>\n",
       "      <th>3</th>\n",
       "      <th>4</th>\n",
       "    </tr>\n",
       "  </thead>\n",
       "  <tbody>\n",
       "    <tr>\n",
       "      <th>0</th>\n",
       "      <td>5.1</td>\n",
       "      <td>3.5</td>\n",
       "      <td>1.4</td>\n",
       "      <td>0.2</td>\n",
       "      <td>Iris-setosa</td>\n",
       "    </tr>\n",
       "    <tr>\n",
       "      <th>1</th>\n",
       "      <td>4.9</td>\n",
       "      <td>3.0</td>\n",
       "      <td>1.4</td>\n",
       "      <td>0.2</td>\n",
       "      <td>Iris-setosa</td>\n",
       "    </tr>\n",
       "    <tr>\n",
       "      <th>2</th>\n",
       "      <td>4.7</td>\n",
       "      <td>3.2</td>\n",
       "      <td>1.3</td>\n",
       "      <td>0.2</td>\n",
       "      <td>Iris-setosa</td>\n",
       "    </tr>\n",
       "    <tr>\n",
       "      <th>3</th>\n",
       "      <td>4.6</td>\n",
       "      <td>3.1</td>\n",
       "      <td>1.5</td>\n",
       "      <td>0.2</td>\n",
       "      <td>Iris-setosa</td>\n",
       "    </tr>\n",
       "    <tr>\n",
       "      <th>4</th>\n",
       "      <td>5.0</td>\n",
       "      <td>3.6</td>\n",
       "      <td>1.4</td>\n",
       "      <td>0.2</td>\n",
       "      <td>Iris-setosa</td>\n",
       "    </tr>\n",
       "    <tr>\n",
       "      <th>...</th>\n",
       "      <td>...</td>\n",
       "      <td>...</td>\n",
       "      <td>...</td>\n",
       "      <td>...</td>\n",
       "      <td>...</td>\n",
       "    </tr>\n",
       "    <tr>\n",
       "      <th>145</th>\n",
       "      <td>6.7</td>\n",
       "      <td>3.0</td>\n",
       "      <td>5.2</td>\n",
       "      <td>2.3</td>\n",
       "      <td>Iris-virginica</td>\n",
       "    </tr>\n",
       "    <tr>\n",
       "      <th>146</th>\n",
       "      <td>6.3</td>\n",
       "      <td>2.5</td>\n",
       "      <td>5.0</td>\n",
       "      <td>1.9</td>\n",
       "      <td>Iris-virginica</td>\n",
       "    </tr>\n",
       "    <tr>\n",
       "      <th>147</th>\n",
       "      <td>6.5</td>\n",
       "      <td>3.0</td>\n",
       "      <td>5.2</td>\n",
       "      <td>2.0</td>\n",
       "      <td>Iris-virginica</td>\n",
       "    </tr>\n",
       "    <tr>\n",
       "      <th>148</th>\n",
       "      <td>6.2</td>\n",
       "      <td>3.4</td>\n",
       "      <td>5.4</td>\n",
       "      <td>2.3</td>\n",
       "      <td>Iris-virginica</td>\n",
       "    </tr>\n",
       "    <tr>\n",
       "      <th>149</th>\n",
       "      <td>5.9</td>\n",
       "      <td>3.0</td>\n",
       "      <td>5.1</td>\n",
       "      <td>1.8</td>\n",
       "      <td>Iris-virginica</td>\n",
       "    </tr>\n",
       "  </tbody>\n",
       "</table>\n",
       "<p>150 rows × 5 columns</p>\n",
       "</div>"
      ],
      "text/plain": [
       "       0    1    2    3               4\n",
       "0    5.1  3.5  1.4  0.2     Iris-setosa\n",
       "1    4.9  3.0  1.4  0.2     Iris-setosa\n",
       "2    4.7  3.2  1.3  0.2     Iris-setosa\n",
       "3    4.6  3.1  1.5  0.2     Iris-setosa\n",
       "4    5.0  3.6  1.4  0.2     Iris-setosa\n",
       "..   ...  ...  ...  ...             ...\n",
       "145  6.7  3.0  5.2  2.3  Iris-virginica\n",
       "146  6.3  2.5  5.0  1.9  Iris-virginica\n",
       "147  6.5  3.0  5.2  2.0  Iris-virginica\n",
       "148  6.2  3.4  5.4  2.3  Iris-virginica\n",
       "149  5.9  3.0  5.1  1.8  Iris-virginica\n",
       "\n",
       "[150 rows x 5 columns]"
      ]
     },
     "execution_count": 94,
     "metadata": {},
     "output_type": "execute_result"
    },
    {
     "data": {
      "text/html": [
       "<div>\n",
       "<style scoped>\n",
       "    .dataframe tbody tr th:only-of-type {\n",
       "        vertical-align: middle;\n",
       "    }\n",
       "\n",
       "    .dataframe tbody tr th {\n",
       "        vertical-align: top;\n",
       "    }\n",
       "\n",
       "    .dataframe thead th {\n",
       "        text-align: right;\n",
       "    }\n",
       "</style>\n",
       "<table border=\"1\" class=\"dataframe\">\n",
       "  <thead>\n",
       "    <tr style=\"text-align: right;\">\n",
       "      <th></th>\n",
       "      <th>0</th>\n",
       "      <th>1</th>\n",
       "      <th>2</th>\n",
       "      <th>3</th>\n",
       "      <th>4</th>\n",
       "    </tr>\n",
       "  </thead>\n",
       "  <tbody>\n",
       "    <tr>\n",
       "      <th>0</th>\n",
       "      <td>5.1</td>\n",
       "      <td>3.5</td>\n",
       "      <td>1.4</td>\n",
       "      <td>0.2</td>\n",
       "      <td>0</td>\n",
       "    </tr>\n",
       "    <tr>\n",
       "      <th>1</th>\n",
       "      <td>4.9</td>\n",
       "      <td>3.0</td>\n",
       "      <td>1.4</td>\n",
       "      <td>0.2</td>\n",
       "      <td>0</td>\n",
       "    </tr>\n",
       "    <tr>\n",
       "      <th>2</th>\n",
       "      <td>4.7</td>\n",
       "      <td>3.2</td>\n",
       "      <td>1.3</td>\n",
       "      <td>0.2</td>\n",
       "      <td>0</td>\n",
       "    </tr>\n",
       "    <tr>\n",
       "      <th>3</th>\n",
       "      <td>4.6</td>\n",
       "      <td>3.1</td>\n",
       "      <td>1.5</td>\n",
       "      <td>0.2</td>\n",
       "      <td>0</td>\n",
       "    </tr>\n",
       "    <tr>\n",
       "      <th>4</th>\n",
       "      <td>5.0</td>\n",
       "      <td>3.6</td>\n",
       "      <td>1.4</td>\n",
       "      <td>0.2</td>\n",
       "      <td>0</td>\n",
       "    </tr>\n",
       "    <tr>\n",
       "      <th>...</th>\n",
       "      <td>...</td>\n",
       "      <td>...</td>\n",
       "      <td>...</td>\n",
       "      <td>...</td>\n",
       "      <td>...</td>\n",
       "    </tr>\n",
       "    <tr>\n",
       "      <th>145</th>\n",
       "      <td>6.7</td>\n",
       "      <td>3.0</td>\n",
       "      <td>5.2</td>\n",
       "      <td>2.3</td>\n",
       "      <td>2</td>\n",
       "    </tr>\n",
       "    <tr>\n",
       "      <th>146</th>\n",
       "      <td>6.3</td>\n",
       "      <td>2.5</td>\n",
       "      <td>5.0</td>\n",
       "      <td>1.9</td>\n",
       "      <td>2</td>\n",
       "    </tr>\n",
       "    <tr>\n",
       "      <th>147</th>\n",
       "      <td>6.5</td>\n",
       "      <td>3.0</td>\n",
       "      <td>5.2</td>\n",
       "      <td>2.0</td>\n",
       "      <td>2</td>\n",
       "    </tr>\n",
       "    <tr>\n",
       "      <th>148</th>\n",
       "      <td>6.2</td>\n",
       "      <td>3.4</td>\n",
       "      <td>5.4</td>\n",
       "      <td>2.3</td>\n",
       "      <td>2</td>\n",
       "    </tr>\n",
       "    <tr>\n",
       "      <th>149</th>\n",
       "      <td>5.9</td>\n",
       "      <td>3.0</td>\n",
       "      <td>5.1</td>\n",
       "      <td>1.8</td>\n",
       "      <td>2</td>\n",
       "    </tr>\n",
       "  </tbody>\n",
       "</table>\n",
       "<p>150 rows × 5 columns</p>\n",
       "</div>"
      ],
      "text/plain": [
       "       0    1    2    3  4\n",
       "0    5.1  3.5  1.4  0.2  0\n",
       "1    4.9  3.0  1.4  0.2  0\n",
       "2    4.7  3.2  1.3  0.2  0\n",
       "3    4.6  3.1  1.5  0.2  0\n",
       "4    5.0  3.6  1.4  0.2  0\n",
       "..   ...  ...  ...  ... ..\n",
       "145  6.7  3.0  5.2  2.3  2\n",
       "146  6.3  2.5  5.0  1.9  2\n",
       "147  6.5  3.0  5.2  2.0  2\n",
       "148  6.2  3.4  5.4  2.3  2\n",
       "149  5.9  3.0  5.1  1.8  2\n",
       "\n",
       "[150 rows x 5 columns]"
      ]
     },
     "execution_count": 94,
     "metadata": {},
     "output_type": "execute_result"
    }
   ],
   "source": [
    "# 读入没有表头，类别是文字的 csv\n",
    "# 借助 pandas \n",
    "import pandas as pd\n",
    "# 0. 指定 csv 文件的位置信息（目录、文件名）\n",
    "iris_csv = 'datasets/iris/iris.data'\n",
    "# 1. 加载csv数据到 dataframe\n",
    "iris_df = pd.read_csv(iris_csv, header=None)\n",
    "type(iris_df)\n",
    "iris_df\n",
    "# 替换类别文字为数值型数据\n",
    "df_iris = iris_df.replace(['Iris-setosa', 'Iris-versicolor', 'Iris-virginica'], [0, 1, 2])\n",
    "df_iris\n",
    "# 后续操作同前"
   ]
  },
  {
   "cell_type": "code",
   "execution_count": 97,
   "id": "c597f34b-d6ce-4ca1-8959-aa0aa42fcca9",
   "metadata": {},
   "outputs": [
    {
     "data": {
      "text/plain": [
       "<tf.Tensor: shape=(2,), dtype=int32, numpy=array([1, 2])>"
      ]
     },
     "execution_count": 97,
     "metadata": {},
     "output_type": "execute_result"
    },
    {
     "data": {
      "text/plain": [
       "<tf.Tensor: shape=(2,), dtype=int32, numpy=array([3, 4])>"
      ]
     },
     "execution_count": 97,
     "metadata": {},
     "output_type": "execute_result"
    }
   ],
   "source": [
    "# 极简 dataset \n",
    "data = np.array([[1,2],[3,4]])\n",
    "tf_data = tf.convert_to_tensor(data)\n",
    "# 基于tensor 、 numpy 生成 dataset \n",
    "# dataset_tensor = tf.data.Dataset.from_tensor_slices(tf_data)\n",
    "dataset_np = tf.data.Dataset.from_tensor_slices(data)\n",
    "# dataset_tensor\n",
    "# dataset_np.ndim, dataset_np.shape\n",
    "for sample in dataset_np:\n",
    "    sample"
   ]
  },
  {
   "cell_type": "code",
   "execution_count": 99,
   "id": "4bdc3ac5-e1bd-4268-a87d-850040bac3a7",
   "metadata": {},
   "outputs": [
    {
     "data": {
      "text/plain": [
       "(<tf.Tensor: shape=(2,), dtype=int32, numpy=array([1, 1])>,\n",
       " <tf.Tensor: shape=(), dtype=string, numpy=b'A'>)"
      ]
     },
     "execution_count": 99,
     "metadata": {},
     "output_type": "execute_result"
    },
    {
     "data": {
      "text/plain": [
       "(<tf.Tensor: shape=(2,), dtype=int32, numpy=array([2, 2])>,\n",
       " <tf.Tensor: shape=(), dtype=string, numpy=b'B'>)"
      ]
     },
     "execution_count": 99,
     "metadata": {},
     "output_type": "execute_result"
    },
    {
     "data": {
      "text/plain": [
       "(<tf.Tensor: shape=(2,), dtype=int32, numpy=array([3, 3])>,\n",
       " <tf.Tensor: shape=(), dtype=string, numpy=b'A'>)"
      ]
     },
     "execution_count": 99,
     "metadata": {},
     "output_type": "execute_result"
    },
    {
     "data": {
      "text/plain": [
       "(<tf.Tensor: shape=(2,), dtype=int32, numpy=array([1, 1])>,\n",
       " <tf.Tensor: shape=(), dtype=string, numpy=b'A'>)"
      ]
     },
     "execution_count": 99,
     "metadata": {},
     "output_type": "execute_result"
    },
    {
     "data": {
      "text/plain": [
       "(<tf.Tensor: shape=(2,), dtype=int32, numpy=array([2, 2])>,\n",
       " <tf.Tensor: shape=(), dtype=string, numpy=b'B'>)"
      ]
     },
     "execution_count": 99,
     "metadata": {},
     "output_type": "execute_result"
    },
    {
     "data": {
      "text/plain": [
       "(<tf.Tensor: shape=(2,), dtype=int32, numpy=array([3, 3])>,\n",
       " <tf.Tensor: shape=(), dtype=string, numpy=b'A'>)"
      ]
     },
     "execution_count": 99,
     "metadata": {},
     "output_type": "execute_result"
    }
   ],
   "source": [
    "features = tf.constant([[1, 1], [2, 2], [3, 3]])\n",
    "labels = tf.constant(['A', 'B', 'A'])\n",
    "dataset01 = tf.data.Dataset.from_tensor_slices((features, labels))\n",
    "# dataset01.ndim\n",
    "for feature, label in dataset01:\n",
    "    feature, label\n",
    "for sample in dataset01:\n",
    "    sample"
   ]
  },
  {
   "cell_type": "code",
   "execution_count": 102,
   "id": "2ed6a707-c5a6-49fa-8e20-aa86c3eefa35",
   "metadata": {},
   "outputs": [
    {
     "data": {
      "text/plain": [
       "(<tf.Tensor: shape=(3, 2), dtype=int32, numpy=\n",
       " array([[1, 1],\n",
       "        [2, 2],\n",
       "        [3, 3]])>,\n",
       " <tf.Tensor: shape=(3,), dtype=string, numpy=array([b'A', b'B', b'A'], dtype=object)>)"
      ]
     },
     "execution_count": 102,
     "metadata": {},
     "output_type": "execute_result"
    }
   ],
   "source": [
    "dataset02 = tf.data.Dataset.from_tensors((features, labels))\n",
    "for sample in dataset02:\n",
    "    sample"
   ]
  },
  {
   "cell_type": "code",
   "execution_count": null,
   "id": "0368ffc8-1ad9-41f3-8a29-c3a831e381b5",
   "metadata": {},
   "outputs": [],
   "source": []
  }
 ],
 "metadata": {
  "kernelspec": {
   "display_name": "Python 3 (ipykernel)",
   "language": "python",
   "name": "python3"
  },
  "language_info": {
   "codemirror_mode": {
    "name": "ipython",
    "version": 3
   },
   "file_extension": ".py",
   "mimetype": "text/x-python",
   "name": "python",
   "nbconvert_exporter": "python",
   "pygments_lexer": "ipython3",
   "version": "3.8.10"
  }
 },
 "nbformat": 4,
 "nbformat_minor": 5
}
