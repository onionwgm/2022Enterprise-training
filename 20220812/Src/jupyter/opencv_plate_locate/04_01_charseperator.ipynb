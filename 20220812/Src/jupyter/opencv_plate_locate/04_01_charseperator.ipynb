{
 "cells": [
  {
   "cell_type": "code",
   "execution_count": 1,
   "id": "0c748c4a",
   "metadata": {},
   "outputs": [],
   "source": [
    "import cv2 as cv\n",
    "import numpy as np\n",
    "#import util"
   ]
  },
  {
   "cell_type": "code",
   "execution_count": 2,
   "id": "619b46c6",
   "metadata": {},
   "outputs": [],
   "source": [
    "plate_image_file = 'images/candidate_plate.jpg'\n",
    "candidate_plate_image = cv.imread(plate_image_file)"
   ]
  },
  {
   "cell_type": "code",
   "execution_count": 3,
   "id": "101a2145",
   "metadata": {},
   "outputs": [],
   "source": [
    "# 1. 图片预处理：灰度+二值化\n",
    "# gray_image = cv.cvtColor(candidate_plate_image, cv.COLOR_BGR2GRAY)\n",
    "gray_image = cv.cvtColor(candidate_plate_image, cv.COLOR_BGR2GRAY)\n",
    "is_success, binary_image = cv.threshold(gray_image, 0, 255, cv.THRESH_OTSU)"
   ]
  },
  {
   "cell_type": "code",
   "execution_count": 4,
   "id": "4acc7810",
   "metadata": {},
   "outputs": [],
   "source": [
    "# 2. 向内缩进，去除外边框\n",
    "# 经验值\n",
    "offset_X = 3\n",
    "offset_Y = 5\n",
    "# 切片提取内嵌区域\n",
    "offset_region = binary_image[offset_Y:-offset_Y, offset_X:-offset_X]\n",
    "# 生成工作区域\n",
    "working_region = offset_region"
   ]
  },
  {
   "cell_type": "code",
   "execution_count": 5,
   "id": "434f3933",
   "metadata": {},
   "outputs": [
    {
     "data": {
      "text/plain": [
       "array([[0, 0, 0, ..., 0, 0, 0],\n",
       "       [0, 0, 0, ..., 0, 0, 0],\n",
       "       [0, 0, 0, ..., 0, 0, 0],\n",
       "       ...,\n",
       "       [0, 0, 0, ..., 0, 0, 0],\n",
       "       [0, 0, 0, ..., 0, 0, 0],\n",
       "       [0, 0, 0, ..., 0, 0, 0]], dtype=uint8)"
      ]
     },
     "execution_count": 5,
     "metadata": {},
     "output_type": "execute_result"
    },
    {
     "data": {
      "text/plain": [
       "array([[[154,  78,  56],\n",
       "        [156,  78,  55],\n",
       "        [155,  76,  49],\n",
       "        ...,\n",
       "        [142,  76,  41],\n",
       "        [129,  68,  34],\n",
       "        [147,  89,  54]],\n",
       "\n",
       "       [[153,  77,  55],\n",
       "        [153,  77,  54],\n",
       "        [155,  76,  49],\n",
       "        ...,\n",
       "        [149,  83,  48],\n",
       "        [138,  75,  41],\n",
       "        [153,  95,  60]],\n",
       "\n",
       "       [[151,  75,  56],\n",
       "        [150,  75,  53],\n",
       "        [153,  76,  50],\n",
       "        ...,\n",
       "        [159,  91,  56],\n",
       "        [148,  84,  49],\n",
       "        [162, 102,  66]],\n",
       "\n",
       "       ...,\n",
       "\n",
       "       [[155,  65,  54],\n",
       "        [164,  75,  61],\n",
       "        [167,  77,  66],\n",
       "        ...,\n",
       "        [146,  92,  67],\n",
       "        [168, 114,  89],\n",
       "        [196, 145, 119]],\n",
       "\n",
       "       [[153,  67,  55],\n",
       "        [161,  75,  63],\n",
       "        [166,  77,  66],\n",
       "        ...,\n",
       "        [145,  91,  66],\n",
       "        [165, 114,  88],\n",
       "        [195, 144, 118]],\n",
       "\n",
       "       [[152,  68,  56],\n",
       "        [159,  75,  63],\n",
       "        [163,  77,  65],\n",
       "        ...,\n",
       "        [144,  90,  65],\n",
       "        [164, 113,  87],\n",
       "        [191, 142, 116]]], dtype=uint8)"
      ]
     },
     "execution_count": 5,
     "metadata": {},
     "output_type": "execute_result"
    },
    {
     "data": {
      "text/plain": [
       "32"
      ]
     },
     "execution_count": 5,
     "metadata": {},
     "output_type": "execute_result"
    }
   ],
   "source": [
    "# 3. 对车牌区域进行等值线找区域（要先处理下汉字-模糊化）\n",
    "# 经验值：汉字区域占整体的 1/8\n",
    "chinese_char_max_width = working_region.shape[1] // 8\n",
    "# 提取汉字区域\n",
    "chinese_char_region = working_region[:, 0:chinese_char_max_width]\n",
    "# 对汉字区域进行模糊处理\n",
    "cv.GaussianBlur(chinese_char_region, (9, 9), 0, dst=chinese_char_region)\n",
    "# 对整个区域找轮廓==等值线\n",
    "char_contours, _ = cv.findContours(working_region, cv.RETR_CCOMP, cv.CHAIN_APPROX_NONE)\n",
    "# cv.drawContours(candidate_plate_image, char_contours, -1, (0,0,255))\n",
    "# cv.imshow('tmp', candidate_plate_image)\n",
    "# cv.waitKey()\n",
    "# cv.destroyAllWindows()"
   ]
  },
  {
   "cell_type": "code",
   "execution_count": 7,
   "id": "ae386c8a",
   "metadata": {},
   "outputs": [],
   "source": [
    "# 4. 过滤不合适的轮廓（等值线框）\n",
    "# 经验值\n",
    "CHAR_MIN_WIDTH = working_region.shape[1] // 40\n",
    "CHAR_MIN_HEIGHT = working_region.shape[0] * 7 // 10"
   ]
  },
  {
   "cell_type": "code",
   "execution_count": 8,
   "id": "9bd0b165",
   "metadata": {},
   "outputs": [],
   "source": [
    "# 5. 逐个遍历所有候选的字符区域轮廓==等值线框，按照大小进行过滤\n",
    "valid_char_regions = []\n",
    "for i in np.arange(len(char_contours)):\n",
    "    x, y, w, h = cv.boundingRect(char_contours[i])\n",
    "    if w >= CHAR_MIN_WIDTH and h >= CHAR_MIN_HEIGHT: \n",
    "        # 将字符区域的中心点x的坐标 和 字符区域 作为一个元组，放入 valid_char_regions 列表\n",
    "        valid_char_regions.append((x, offset_region[y:y+h, x:x+w]))"
   ]
  },
  {
   "cell_type": "code",
   "execution_count": 10,
   "id": "6c18e0f0",
   "metadata": {},
   "outputs": [],
   "source": [
    "# 6. 按找区域的x坐标进行排序，并返回字符列表\n",
    "sorted_regions = sorted(valid_char_regions, key=lambda region:region[0])\n",
    "# valid_char_regions\n",
    "# sorted_regions\n",
    "candidate_char_images = []\n",
    "for i in np.arange(len(sorted_regions)):\n",
    "    candidate_char_images.append(sorted_regions[i][1])"
   ]
  },
  {
   "cell_type": "code",
   "execution_count": 11,
   "id": "d6ac1db4",
   "metadata": {},
   "outputs": [
    {
     "data": {
      "text/plain": [
       "32"
      ]
     },
     "execution_count": 11,
     "metadata": {},
     "output_type": "execute_result"
    },
    {
     "data": {
      "text/plain": [
       "32"
      ]
     },
     "execution_count": 11,
     "metadata": {},
     "output_type": "execute_result"
    },
    {
     "data": {
      "text/plain": [
       "32"
      ]
     },
     "execution_count": 11,
     "metadata": {},
     "output_type": "execute_result"
    },
    {
     "data": {
      "text/plain": [
       "32"
      ]
     },
     "execution_count": 11,
     "metadata": {},
     "output_type": "execute_result"
    },
    {
     "data": {
      "text/plain": [
       "32"
      ]
     },
     "execution_count": 11,
     "metadata": {},
     "output_type": "execute_result"
    },
    {
     "data": {
      "text/plain": [
       "32"
      ]
     },
     "execution_count": 11,
     "metadata": {},
     "output_type": "execute_result"
    },
    {
     "data": {
      "text/plain": [
       "32"
      ]
     },
     "execution_count": 11,
     "metadata": {},
     "output_type": "execute_result"
    },
    {
     "data": {
      "text/plain": [
       "32"
      ]
     },
     "execution_count": 11,
     "metadata": {},
     "output_type": "execute_result"
    }
   ],
   "source": [
    "for candidate_char_image in candidate_char_images:\n",
    "    cv.imshow('tmp', candidate_char_image)\n",
    "    cv.waitKey()\n",
    "cv.destroyAllWindows()"
   ]
  },
  {
   "cell_type": "code",
   "execution_count": null,
   "id": "3491d6f5",
   "metadata": {},
   "outputs": [],
   "source": []
  }
 ],
 "metadata": {
  "kernelspec": {
   "display_name": "Python 3 (ipykernel)",
   "language": "python",
   "name": "python3"
  },
  "language_info": {
   "codemirror_mode": {
    "name": "ipython",
    "version": 3
   },
   "file_extension": ".py",
   "mimetype": "text/x-python",
   "name": "python",
   "nbconvert_exporter": "python",
   "pygments_lexer": "ipython3",
   "version": "3.8.10"
  }
 },
 "nbformat": 4,
 "nbformat_minor": 5
}
