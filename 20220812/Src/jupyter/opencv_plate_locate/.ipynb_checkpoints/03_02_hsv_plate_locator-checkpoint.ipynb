{
 "cells": [
  {
   "cell_type": "code",
   "execution_count": 1,
   "id": "0eb906f6",
   "metadata": {},
   "outputs": [],
   "source": [
    "import cv2 as cv\n",
    "import numpy as np\n",
    "#import util"
   ]
  },
  {
   "cell_type": "code",
   "execution_count": 2,
   "id": "e367b3a7",
   "metadata": {},
   "outputs": [],
   "source": [
    "plate_image_file = 'images/plate1.jpg'\n",
    "plate_image = cv.imread(plate_image_file)"
   ]
  },
  {
   "cell_type": "code",
   "execution_count": 3,
   "id": "b7494251",
   "metadata": {},
   "outputs": [],
   "source": [
    "# 1. 将一张RGB 图片转换为 HSV 图片格式\n",
    "hsv_image = cv.cvtColor(plate_image, cv.COLOR_BGR2HSV)"
   ]
  },
  {
   "cell_type": "code",
   "execution_count": 4,
   "id": "48ce8455",
   "metadata": {},
   "outputs": [
    {
     "data": {
      "text/plain": [
       "(480, 640)"
      ]
     },
     "execution_count": 4,
     "metadata": {},
     "output_type": "execute_result"
    }
   ],
   "source": [
    "# 获取h、s、v图片分量，图片h分量的shape\n",
    "h_split, s_split, v_split = cv.split(hsv_image)\n",
    "rows, cols = h_split.shape\n",
    "rows, cols"
   ]
  },
  {
   "cell_type": "code",
   "execution_count": 5,
   "id": "b064073c",
   "metadata": {},
   "outputs": [
    {
     "ename": "NameError",
     "evalue": "name 'HSV_SV_BLUE_SV' is not defined",
     "output_type": "error",
     "traceback": [
      "\u001b[1;31m---------------------------------------------------------------------------\u001b[0m",
      "\u001b[1;31mNameError\u001b[0m                                 Traceback (most recent call last)",
      "Input \u001b[1;32mIn [5]\u001b[0m, in \u001b[0;36m<cell line: 11>\u001b[1;34m()\u001b[0m\n\u001b[0;32m     15\u001b[0m V \u001b[38;5;241m=\u001b[39m v_split[row, col]\n\u001b[0;32m     16\u001b[0m \u001b[38;5;66;03m# 判断像素落在蓝色区域并满足 sv 条件\u001b[39;00m\n\u001b[1;32m---> 17\u001b[0m \u001b[38;5;28;01mif\u001b[39;00m (H \u001b[38;5;241m>\u001b[39m HSV_MIN_BLUE_H \u001b[38;5;129;01mand\u001b[39;00m H \u001b[38;5;241m<\u001b[39m HSV_MAX_BLUE_H) \u001b[38;5;129;01mand\u001b[39;00m (S \u001b[38;5;241m<\u001b[39m HSV_MIN_BLUE_SV \u001b[38;5;129;01mand\u001b[39;00m S \u001b[38;5;241m>\u001b[39m \u001b[43mHSV_SV_BLUE_SV\u001b[49m) \u001b[38;5;129;01mand\u001b[39;00m (V \u001b[38;5;241m<\u001b[39m HSV_MIN_BLUE_SV \u001b[38;5;129;01mand\u001b[39;00m V \u001b[38;5;241m>\u001b[39m HSV_MAX_BLUE_SV):\n\u001b[0;32m     18\u001b[0m     binary_image[row, col] \u001b[38;5;241m=\u001b[39m \u001b[38;5;241m255\u001b[39m\n",
      "\u001b[1;31mNameError\u001b[0m: name 'HSV_SV_BLUE_SV' is not defined"
     ]
    }
   ],
   "source": [
    "# 2. 遍历图片，找出蓝色区域\n",
    "# 创建全黑背景。== 原始图片大小\n",
    "binary_image = np.zeros((rows, cols), dtype=np.uint8)\n",
    "# 设置感兴趣|提取的 颜色的 hsv 的区间 : 可调的经验值\n",
    "HSV_MIN_BLUE_H = 100\n",
    "HSV_MAX_BLUE_H = 140\n",
    "HSV_MIN_BLUE_SV = 95\n",
    "HSV_MAX_BLUE_SV = 255\n",
    "\n",
    "# 遍历图片的每一个像素， 找到满足条件(hsv找蓝色)的像素点，设置为255 ==binary_image中\n",
    "for row in np.arange(rows):\n",
    "    for col in np.arange(cols):\n",
    "        H = h_split[row, col]\n",
    "        S = s_split[row, col]\n",
    "        V = v_split[row, col]\n",
    "        # 判断像素落在蓝色区域并满足 sv 条件\n",
    "        if (H > HSV_MIN_BLUE_H and H < HSV_MAX_BLUE_H) and (S > HSV_MIN_BLUE_SV and S < HSV_MAX_BLUE_SV) and (V > HSV_MIN_BLUE_SV and V < HSV_MAX_BLUE_SV):\n",
    "            binary_image[row, col] = 255"
   ]
  },
  {
   "cell_type": "code",
   "execution_count": null,
   "id": "4fc860f5",
   "metadata": {},
   "outputs": [],
   "source": []
  }
 ],
 "metadata": {
  "kernelspec": {
   "display_name": "Python 3 (ipykernel)",
   "language": "python",
   "name": "python3"
  },
  "language_info": {
   "codemirror_mode": {
    "name": "ipython",
    "version": 3
   },
   "file_extension": ".py",
   "mimetype": "text/x-python",
   "name": "python",
   "nbconvert_exporter": "python",
   "pygments_lexer": "ipython3",
   "version": "3.8.10"
  }
 },
 "nbformat": 4,
 "nbformat_minor": 5
}
