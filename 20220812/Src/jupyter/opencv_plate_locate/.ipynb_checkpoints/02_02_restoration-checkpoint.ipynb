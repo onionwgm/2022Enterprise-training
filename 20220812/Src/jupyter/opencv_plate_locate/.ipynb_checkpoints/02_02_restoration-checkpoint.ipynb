{
 "cells": [
  {
   "cell_type": "code",
   "execution_count": 1,
   "id": "5b9debdb",
   "metadata": {},
   "outputs": [],
   "source": [
    "# 导包\n",
    "import cv2 as cv\n",
    "import numpy as np"
   ]
  },
  {
   "cell_type": "code",
   "execution_count": 2,
   "id": "8357bd24",
   "metadata": {},
   "outputs": [],
   "source": [
    "# 初始化设置图片文件位置\n",
    "plate_file_path = 'images/restoration3.jpg'"
   ]
  },
  {
   "cell_type": "code",
   "execution_count": 3,
   "id": "f2a05703",
   "metadata": {},
   "outputs": [],
   "source": [
    "# 0. 加载图片\n",
    "plate_image = cv.imread(plate_file_path)"
   ]
  },
  {
   "cell_type": "code",
   "execution_count": 4,
   "id": "b4abb710",
   "metadata": {},
   "outputs": [],
   "source": [
    "# cv.imshow('plate_image', plate_image)\n",
    "# cv.waitKey()\n",
    "# cv.destroyAllWindows()"
   ]
  },
  {
   "cell_type": "code",
   "execution_count": 5,
   "id": "91b68a6d",
   "metadata": {},
   "outputs": [],
   "source": [
    "# 1. 图片预处理\n",
    "blured_image = cv.GaussianBlur(plate_image, (5, 5), 0)\n",
    "\n",
    "gray_image = cv.cvtColor(blured_image, cv.COLOR_BGR2GRAY)\n",
    "\n",
    "grad_x = cv.Sobel(gray_image, cv.CV_16S, 1, 0, ksize=3)\n",
    "\n",
    "abs_grad_x = cv.convertScaleAbs(grad_x)\n",
    "\n",
    "gray_image = cv.addWeighted(abs_grad_x, 1, 0, 0, 0)\n",
    "\n",
    "is_success, threshold_image = cv.threshold(gray_image, 0, 255, cv.THRESH_OTSU)\n",
    "\n",
    "kernel = cv.getStructuringElement(cv.MORPH_RECT, (10, 3))\n",
    "morphology_imge = cv.morphologyEx(threshold_image, cv.MORPH_CLOSE, kernel)\n",
    "\n",
    "contours, _ = cv.findContours(morphology_imge, cv.RETR_EXTERNAL, cv.CHAIN_APPROX_NONE)"
   ]
  },
  {
   "cell_type": "code",
   "execution_count": 6,
   "id": "60e8a568",
   "metadata": {},
   "outputs": [
    {
     "data": {
      "text/plain": [
       "array([[[0, 0, 0],\n",
       "        [0, 0, 0],\n",
       "        [0, 0, 0],\n",
       "        ...,\n",
       "        [0, 0, 0],\n",
       "        [0, 0, 0],\n",
       "        [0, 0, 0]],\n",
       "\n",
       "       [[0, 0, 0],\n",
       "        [0, 0, 0],\n",
       "        [0, 0, 0],\n",
       "        ...,\n",
       "        [0, 0, 0],\n",
       "        [0, 0, 0],\n",
       "        [0, 0, 0]],\n",
       "\n",
       "       [[0, 0, 0],\n",
       "        [0, 0, 0],\n",
       "        [0, 0, 0],\n",
       "        ...,\n",
       "        [0, 0, 0],\n",
       "        [0, 0, 0],\n",
       "        [0, 0, 0]],\n",
       "\n",
       "       ...,\n",
       "\n",
       "       [[0, 0, 0],\n",
       "        [0, 0, 0],\n",
       "        [0, 0, 0],\n",
       "        ...,\n",
       "        [0, 0, 0],\n",
       "        [0, 0, 0],\n",
       "        [0, 0, 0]],\n",
       "\n",
       "       [[0, 0, 0],\n",
       "        [0, 0, 0],\n",
       "        [0, 0, 0],\n",
       "        ...,\n",
       "        [0, 0, 0],\n",
       "        [0, 0, 0],\n",
       "        [0, 0, 0]],\n",
       "\n",
       "       [[0, 0, 0],\n",
       "        [0, 0, 0],\n",
       "        [0, 0, 0],\n",
       "        ...,\n",
       "        [0, 0, 0],\n",
       "        [0, 0, 0],\n",
       "        [0, 0, 0]]], dtype=uint8)"
      ]
     },
     "execution_count": 6,
     "metadata": {},
     "output_type": "execute_result"
    }
   ],
   "source": [
    "# 获取倾斜的轮廓\n",
    "contour = contours[0]\n",
    "# 获取矩形特征描述的等值线区域，返回：中心点坐标、长和宽、旋转角度\n",
    "rect = cv.minAreaRect(contour)\n",
    "# 获取整数形式的 长、宽\n",
    "rect_width, rect_height = np.int0(rect[1])\n",
    "angle = np.abs(rect[2])\n",
    "if rect_width > rect_height:\n",
    "    temp = rect_width\n",
    "    rect_width = rect_height\n",
    "    rect_height = temp\n",
    "    angle = 90 + angle    # 需要理解&修改\n",
    "    \n",
    "# boundingRect 用于获取与 等值线框（轮廓框）contour 的四个角点正交的矩形\n",
    "# 返回 左上的坐标（x, y），宽（w）、高（h）\n",
    "x, y, w, h = cv.boundingRect(contour)\n",
    "bounding_image = plate_image[y:y+h, x:x+w]\n",
    "\n",
    "enlarged_width = w * 3 // 2\n",
    "enlarged_height = h * 3 // 2\n",
    "enlarged_image = np.zeros((enlarged_height, enlarged_width, plate_image.shape[2]), dtype=plate_image.dtype)\n",
    "\n",
    "x_in_enlarged = (enlarged_width - w) // 2\n",
    "y_in_enlarged = (enlarged_height - h) // 2\n",
    "\n",
    "roi_image = enlarged_image[y_in_enlarged:y_in_enlarged+h, x_in_enlarged:x_in_enlarged+w, :]\n",
    "cv.addWeighted(roi_image, 0, bounding_image, 1, 0, roi_image)\n",
    "\n",
    "# 开始旋转\n",
    "new_center = (enlarged_width // 2, enlarged_height // 2)\n",
    "# 旋转\n",
    "transform_matrix = cv.getRotationMatrix2D(new_center, angle+270, 1.0)\n",
    "# transform_image = cv.warpAffine(enlarged_image, transform_matrix, (enlarged_width, enlarged_height))\n",
    "transform_image = cv.warpAffine(enlarged_image, transform_matrix, (enlarged_width, enlarged_height))\n",
    "\n",
    "# 获取输出图\n",
    "output_image = cv.getRectSubPix(transform_image, (rect_height, rect_width), new_center)\n"
   ]
  },
  {
   "cell_type": "code",
   "execution_count": 7,
   "id": "c3b6a6f8",
   "metadata": {},
   "outputs": [
    {
     "data": {
      "text/plain": [
       "32"
      ]
     },
     "execution_count": 7,
     "metadata": {},
     "output_type": "execute_result"
    }
   ],
   "source": [
    "cv.imshow('output_image', output_image)\n",
    "cv.waitKey()\n",
    "cv.destroyAllWindows()"
   ]
  },
  {
   "cell_type": "code",
   "execution_count": null,
   "id": "b4933386",
   "metadata": {},
   "outputs": [],
   "source": []
  }
 ],
 "metadata": {
  "kernelspec": {
   "display_name": "Python 3 (ipykernel)",
   "language": "python",
   "name": "python3"
  },
  "language_info": {
   "codemirror_mode": {
    "name": "ipython",
    "version": 3
   },
   "file_extension": ".py",
   "mimetype": "text/x-python",
   "name": "python",
   "nbconvert_exporter": "python",
   "pygments_lexer": "ipython3",
   "version": "3.8.10"
  }
 },
 "nbformat": 4,
 "nbformat_minor": 5
}
