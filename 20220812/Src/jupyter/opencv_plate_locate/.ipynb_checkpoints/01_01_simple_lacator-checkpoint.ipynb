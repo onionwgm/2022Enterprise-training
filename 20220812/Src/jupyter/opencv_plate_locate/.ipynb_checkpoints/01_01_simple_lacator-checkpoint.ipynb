{
 "cells": [
  {
   "cell_type": "code",
   "execution_count": 1,
   "id": "d13ae2b3-5ba1-4ccd-a100-4852a114594c",
   "metadata": {},
   "outputs": [],
   "source": [
    "#导包\n",
    "import cv2 as cv\n",
    "import numpy as np"
   ]
  },
  {
   "cell_type": "code",
   "execution_count": 2,
   "id": "ac86ae59-ddac-420e-8a96-6f9f18615fc0",
   "metadata": {},
   "outputs": [],
   "source": [
    "Window_Title = 'Plate Lacate'\n",
    "plate_file_path = 'images/A82806.jpg'"
   ]
  },
  {
   "cell_type": "code",
   "execution_count": 3,
   "id": "53967705-e0c6-4569-b4bb-7e7784a9a629",
   "metadata": {},
   "outputs": [],
   "source": [
    "#1. 装载图片\n",
    "# origin_image = cv.imread(plate_file_path)\n",
    "origin_image = cv.imdecode(np.fromfile(plate_file_path, dtype=np.uint8), -1)"
   ]
  },
  {
   "cell_type": "code",
   "execution_count": 4,
   "id": "702375b9-d736-4554-9964-c32d6e9eadff",
   "metadata": {},
   "outputs": [
    {
     "data": {
      "text/plain": [
       "32"
      ]
     },
     "execution_count": 4,
     "metadata": {},
     "output_type": "execute_result"
    }
   ],
   "source": [
    "cv.imshow('origin_image', origin_image)\n",
    "cv.waitKey()\n",
    "cv.destroyAllWindows()"
   ]
  },
  {
   "cell_type": "code",
   "execution_count": 5,
   "id": "0698e12b-15f2-4e28-ba6b-98ba937a82c9",
   "metadata": {},
   "outputs": [],
   "source": [
    "#2. 完成高斯模糊-预处理\n",
    "blured_image = cv.GaussianBlur(origin_image, (5, 5), 0)"
   ]
  },
  {
   "cell_type": "code",
   "execution_count": 6,
   "id": "b807d3d1-f7a8-435e-90a2-124eb6aba763",
   "metadata": {},
   "outputs": [
    {
     "data": {
      "text/plain": [
       "32"
      ]
     },
     "execution_count": 6,
     "metadata": {},
     "output_type": "execute_result"
    }
   ],
   "source": [
    "cv.imshow('blured_image', blured_image)\n",
    "cv.waitKey()\n",
    "cv.destroyAllWindows()"
   ]
  },
  {
   "cell_type": "code",
   "execution_count": 7,
   "id": "cdb0708e-49da-45f8-b2c8-81080a7177c4",
   "metadata": {},
   "outputs": [],
   "source": [
    "#3. 灰度+二值化\n",
    "gray_image = cv.cvtColor(blured_image, cv.COLOR_BGR2GRAY)\n",
    "is_success, binary_image = cv.threshold(gray_image, 0, 255, cv.THRESH_OTSU)"
   ]
  },
  {
   "cell_type": "code",
   "execution_count": 8,
   "id": "d0fdea2a-2faf-49f0-b1a9-b0b5ec5668bd",
   "metadata": {},
   "outputs": [
    {
     "data": {
      "text/plain": [
       "32"
      ]
     },
     "execution_count": 8,
     "metadata": {},
     "output_type": "execute_result"
    }
   ],
   "source": [
    "cv.imshow('binary_image', binary_image)\n",
    "cv.waitKey()\n",
    "cv.destroyAllWindows()"
   ]
  },
  {
   "cell_type": "code",
   "execution_count": 9,
   "id": "78307374-55d7-4dac-9bdf-28728f602edc",
   "metadata": {
    "tags": []
   },
   "outputs": [
    {
     "data": {
      "text/plain": [
       "array([[[ 39,  70,  71],\n",
       "        [ 46,  80,  80],\n",
       "        [ 55,  92,  90],\n",
       "        ...,\n",
       "        [  0,   0, 255],\n",
       "        [  0,   0, 255],\n",
       "        [  0,   0, 255]],\n",
       "\n",
       "       [[ 42,  72,  73],\n",
       "        [ 48,  80,  79],\n",
       "        [ 49,  83,  82],\n",
       "        ...,\n",
       "        [123, 129, 142],\n",
       "        [136, 139, 153],\n",
       "        [  0,   0, 255]],\n",
       "\n",
       "       [[ 46,  74,  74],\n",
       "        [ 36,  67,  64],\n",
       "        [ 36,  69,  65],\n",
       "        ...,\n",
       "        [135, 142, 151],\n",
       "        [146, 151, 160],\n",
       "        [  0,   0, 255]],\n",
       "\n",
       "       ...,\n",
       "\n",
       "       [[  0,   0, 255],\n",
       "        [215, 237, 242],\n",
       "        [218, 243, 247],\n",
       "        ...,\n",
       "        [185, 198, 200],\n",
       "        [182, 195, 197],\n",
       "        [  0,   0, 255]],\n",
       "\n",
       "       [[  0,   0, 255],\n",
       "        [208, 232, 238],\n",
       "        [212, 236, 242],\n",
       "        ...,\n",
       "        [181, 194, 196],\n",
       "        [180, 193, 195],\n",
       "        [  0,   0, 255]],\n",
       "\n",
       "       [[  0,   0, 255],\n",
       "        [  0,   0, 255],\n",
       "        [  0,   0, 255],\n",
       "        ...,\n",
       "        [  0,   0, 255],\n",
       "        [  0,   0, 255],\n",
       "        [  0,   0, 255]]], dtype=uint8)"
      ]
     },
     "execution_count": 9,
     "metadata": {},
     "output_type": "execute_result"
    }
   ],
   "source": [
    "#4. 在原图上获取轮廓并绘制\n",
    "# 获取所有的轮廓，轮廓边框使用最小模式（1个像素）\n",
    "contours, _ = cv.findContours(binary_image, cv.RETR_CCOMP, cv.CHAIN_APPROX_NONE)\n",
    "# 在原始图片上用红色线绘制所有轮廓\n",
    "cv.drawContours(origin_image, contours, -1, (0, 0, 255))"
   ]
  },
  {
   "cell_type": "code",
   "execution_count": 10,
   "id": "146ae5c0-bd5f-4882-82dd-488bf409b77a",
   "metadata": {},
   "outputs": [],
   "source": [
    "# contours"
   ]
  },
  {
   "cell_type": "code",
   "execution_count": 11,
   "id": "582d09c0-980d-4769-acf2-22b89181c8f5",
   "metadata": {},
   "outputs": [
    {
     "data": {
      "text/plain": [
       "32"
      ]
     },
     "execution_count": 11,
     "metadata": {},
     "output_type": "execute_result"
    }
   ],
   "source": [
    "cv.imshow('contours_image', origin_image)\n",
    "cv.waitKey()\n",
    "cv.destroyAllWindows()"
   ]
  },
  {
   "cell_type": "code",
   "execution_count": 12,
   "id": "377758fb-7d00-4bde-bc70-3f952a0d9036",
   "metadata": {},
   "outputs": [],
   "source": [
    "#5. 基于面积（长宽比）获取车牌区域\n",
    "# 声明所有候选|满足条件的区域列表\n",
    "candidate_regions = []\n",
    "# 遍历所有的轮廓\n",
    "for i in np.arange(len(contours)):\n",
    "    # 提取所有轮廓的左上坐标，及宽、高\n",
    "    x, y, w, h = cv.boundingRect(contours[i])\n",
    "    # 计算宽高比\n",
    "    ratio = w * 1.0 / h\n",
    "    # 如果是竖排情况，处理长宽比=取反\n",
    "    if ratio < 1:\n",
    "        ratio = 1.0 / ratio\n",
    "    # 求出该区域面积\n",
    "    area = w * h\n",
    "    # 关键条件：宽高比在[2, 5]之间\n",
    "    # 次要条件：区域面积在[136*36, 136*36*10]之间，主要目的是为了过滤过小、过大的封闭区域\n",
    "    if area > 136*36 and area < 136*36*10 and ratio > 2.0 and ratio < 5.0:\n",
    "        # 将满足条件的区域的追加到 候选|满足条件 区域列表中\n",
    "        # 注意：使用切片方式采样原始图片矩阵，\n",
    "        # 此时上面的 y（其实是高，对应原始图片的第一个维度）\n",
    "        # 此时上面的 x（其实是宽，对应原始图片的第二个维度）\n",
    "        candidate_regions.append(origin_image[y:y+h, x:x+w])\n",
    "# 如果候选区域没有数据，说明提取车牌区域失败|没有车牌区域\n",
    "if len(candidate_regions) == 0:\n",
    "    print('没有找到车牌区域')"
   ]
  },
  {
   "cell_type": "code",
   "execution_count": 13,
   "id": "cc8c441c-9472-4d12-aa38-561162698bd6",
   "metadata": {},
   "outputs": [
    {
     "data": {
      "text/plain": [
       "32"
      ]
     },
     "execution_count": 13,
     "metadata": {},
     "output_type": "execute_result"
    },
    {
     "data": {
      "text/plain": [
       "32"
      ]
     },
     "execution_count": 13,
     "metadata": {},
     "output_type": "execute_result"
    }
   ],
   "source": [
    "#6. 逐个显示提取的车牌候选区域(s)\n",
    "for i in np.arange(len(candidate_regions)):\n",
    "    # candidate_regions[i] 中保存的是满足条件的一个车牌区域在原始图片中的采样结果\n",
    "    cv.imshow(str(i), candidate_regions[i])\n",
    "    cv.waitKey()\n",
    "cv.destroyAllWindows()"
   ]
  },
  {
   "cell_type": "code",
   "execution_count": null,
   "id": "28dd0591-558e-4428-8bcc-9d9133ddf98f",
   "metadata": {},
   "outputs": [],
   "source": []
  }
 ],
 "metadata": {
  "kernelspec": {
   "display_name": "Python 3 (ipykernel)",
   "language": "python",
   "name": "python3"
  },
  "language_info": {
   "codemirror_mode": {
    "name": "ipython",
    "version": 3
   },
   "file_extension": ".py",
   "mimetype": "text/x-python",
   "name": "python",
   "nbconvert_exporter": "python",
   "pygments_lexer": "ipython3",
   "version": "3.8.10"
  }
 },
 "nbformat": 4,
 "nbformat_minor": 5
}
