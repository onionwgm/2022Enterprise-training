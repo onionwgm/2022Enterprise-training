{
 "cells": [
  {
   "cell_type": "code",
   "execution_count": 1,
   "id": "0c748c4a",
   "metadata": {},
   "outputs": [],
   "source": [
    "import cv2 as cv\n",
    "import numpy as np\n",
    "#import util"
   ]
  },
  {
   "cell_type": "code",
   "execution_count": 2,
   "id": "619b46c6",
   "metadata": {},
   "outputs": [],
   "source": [
    "plate_image_file = 'images/candidate_plate.jpg'\n",
    "candidate_plate_image = cv.imread(plate_image_file)"
   ]
  },
  {
   "cell_type": "code",
   "execution_count": 3,
   "id": "101a2145",
   "metadata": {},
   "outputs": [],
   "source": [
    "# 1. 图片预处理：灰度+二值化\n",
    "# gray_image = cv.cvtColor(candidate_plate_image, cv.COLOR_BGR2GRAY)\n",
    "gray_image = cv.cvtColor(candidate_plate_image, cv.COLOR_BGR2GRAY)\n",
    "is_success, binary_image = cv.threshold(gray_image, 0, 255, cv.THRESH_OTSU)"
   ]
  },
  {
   "cell_type": "code",
   "execution_count": null,
   "id": "4acc7810",
   "metadata": {},
   "outputs": [],
   "source": [
    "# 2. 向内缩进，去除外边框\n",
    "# 经验值\n",
    "offset_X = 3\n",
    "offset_Y = 5\n",
    "offset_region = binary_image"
   ]
  }
 ],
 "metadata": {
  "kernelspec": {
   "display_name": "Python 3 (ipykernel)",
   "language": "python",
   "name": "python3"
  },
  "language_info": {
   "codemirror_mode": {
    "name": "ipython",
    "version": 3
   },
   "file_extension": ".py",
   "mimetype": "text/x-python",
   "name": "python",
   "nbconvert_exporter": "python",
   "pygments_lexer": "ipython3",
   "version": "3.8.10"
  }
 },
 "nbformat": 4,
 "nbformat_minor": 5
}
