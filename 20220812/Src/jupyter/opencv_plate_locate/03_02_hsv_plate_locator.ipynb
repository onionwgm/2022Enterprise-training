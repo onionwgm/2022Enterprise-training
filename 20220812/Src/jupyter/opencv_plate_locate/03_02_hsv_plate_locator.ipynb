{
 "cells": [
  {
   "cell_type": "code",
   "execution_count": 1,
   "id": "1ef23385",
   "metadata": {},
   "outputs": [],
   "source": [
    "import cv2 as cv\n",
    "import numpy as np\n",
    "#import util"
   ]
  },
  {
   "cell_type": "code",
   "execution_count": 2,
   "id": "038948e9",
   "metadata": {},
   "outputs": [],
   "source": [
    "plate_image_file = 'images/plate1.jpg'\n",
    "plate_image = cv.imread(plate_image_file)"
   ]
  },
  {
   "cell_type": "code",
   "execution_count": 3,
   "id": "5f9ebddd",
   "metadata": {},
   "outputs": [],
   "source": [
    "# 1. 将一张RGB 图片转换为 HSV 图片格式\n",
    "hsv_image = cv.cvtColor(plate_image, cv.COLOR_BGR2HSV)"
   ]
  },
  {
   "cell_type": "code",
   "execution_count": 4,
   "id": "76727043",
   "metadata": {},
   "outputs": [
    {
     "data": {
      "text/plain": [
       "(480, 640)"
      ]
     },
     "execution_count": 4,
     "metadata": {},
     "output_type": "execute_result"
    }
   ],
   "source": [
    "# 获取h、s、v图片分量，图片h分量的shape\n",
    "h_split, s_split, v_split = cv.split(hsv_image)\n",
    "rows, cols = h_split.shape\n",
    "rows, cols"
   ]
  },
  {
   "cell_type": "code",
   "execution_count": 6,
   "id": "e5ead14c",
   "metadata": {},
   "outputs": [],
   "source": [
    "# 2. 遍历图片，找出蓝色区域\n",
    "# 创建全黑背景。== 原始图片大小\n",
    "binary_image = np.zeros((rows, cols), dtype=np.uint8)\n",
    "# 设置感兴趣|提取的 颜色的 hsv 的区间 : 可调的经验值 \n",
    "HSV_MIN_BLUE_H = 100\n",
    "HSV_MAX_BLUE_H = 140\n",
    "HSV_MIN_BLUE_SV = 95\n",
    "HSV_MAX_BLUE_SV = 255\n",
    "\n",
    "# 遍历图片的每一个像素， 找到满足条件(hsv找蓝色)的像素点，设置为255 ==binary_image中\n",
    "for row in np.arange(rows):\n",
    "    for col in np.arange(cols):\n",
    "        H = h_split[row, col]\n",
    "        S = s_split[row, col]\n",
    "        V = v_split[row, col]\n",
    "        # 判断像素落在蓝色区域并满足 sv 条件\n",
    "        if (H > HSV_MIN_BLUE_H and H < HSV_MAX_BLUE_H) and (S > HSV_MIN_BLUE_SV and S < HSV_MAX_BLUE_SV) and (V > HSV_MIN_BLUE_SV and V < HSV_MAX_BLUE_SV):\n",
    "            binary_image[row, col] = 255"
   ]
  },
  {
   "cell_type": "code",
   "execution_count": 7,
   "id": "015dcc64",
   "metadata": {},
   "outputs": [
    {
     "data": {
      "text/plain": [
       "32"
      ]
     },
     "execution_count": 7,
     "metadata": {},
     "output_type": "execute_result"
    }
   ],
   "source": [
    "cv.imshow('tmp', binary_image)\n",
    "cv.waitKey()\n",
    "cv.destroyAllWindows()"
   ]
  },
  {
   "cell_type": "code",
   "execution_count": 9,
   "id": "d0fbe157",
   "metadata": {},
   "outputs": [],
   "source": [
    "# 3. 进行提取\n",
    "# 执行闭操作=>车牌连成矩形区域\n",
    "kernel = cv.getStructuringElement(cv.MORPH_RECT, (10, 3))\n",
    "morphology_imge = cv.morphologyEx(binary_image, cv.MORPH_CLOSE, kernel)\n",
    "# 找出轮廓、判断轮廓..."
   ]
  },
  {
   "cell_type": "code",
   "execution_count": 10,
   "id": "bb84c95f",
   "metadata": {},
   "outputs": [
    {
     "data": {
      "text/plain": [
       "32"
      ]
     },
     "execution_count": 10,
     "metadata": {},
     "output_type": "execute_result"
    }
   ],
   "source": [
    "cv.imshow('tmp', morphology_imge)\n",
    "cv.waitKey()\n",
    "cv.destroyAllWindows()"
   ]
  },
  {
   "cell_type": "code",
   "execution_count": null,
   "id": "3769c3c8",
   "metadata": {},
   "outputs": [],
   "source": []
  }
 ],
 "metadata": {
  "kernelspec": {
   "display_name": "Python 3 (ipykernel)",
   "language": "python",
   "name": "python3"
  },
  "language_info": {
   "codemirror_mode": {
    "name": "ipython",
    "version": 3
   },
   "file_extension": ".py",
   "mimetype": "text/x-python",
   "name": "python",
   "nbconvert_exporter": "python",
   "pygments_lexer": "ipython3",
   "version": "3.8.10"
  }
 },
 "nbformat": 4,
 "nbformat_minor": 5
}
