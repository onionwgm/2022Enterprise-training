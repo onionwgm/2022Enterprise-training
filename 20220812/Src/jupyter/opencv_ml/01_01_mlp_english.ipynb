{
 "cells": [
  {
   "cell_type": "code",
   "execution_count": 22,
   "id": "ed545f94",
   "metadata": {},
   "outputs": [],
   "source": [
    "import cv2 as cv\n",
    "import numpy as np\n",
    "import os \n",
    "# 导入 多次感知机的分类模型 MLPClassifier \n",
    "from sklearn.neural_network import MLPClassifier\n",
    "# 导入 完成模型持久化的 joblib\n",
    "import joblib"
   ]
  },
  {
   "cell_type": "code",
   "execution_count": 23,
   "id": "f133c155",
   "metadata": {},
   "outputs": [],
   "source": [
    "# 初始配置\n",
    "# 训练集、测试集位置\n",
    "TRAIN_DIR = 'data/enu_train'\n",
    "TEST_DIR = 'data/enu_test'\n",
    "# 图片宽、高\n",
    "IMAGE_WIDTH = 20\n",
    "IMAGE_HEIGHT = 20\n",
    "# 给出类别数、类别-数值 字典\n",
    "CLASSIFICATION_COUNT = 34\n",
    "LABEL_DICT = {\n",
    "\t'0':0, '1':1, '2':2, '3':3, '4':4, '5':5, '6':6, '7':7, '8':8, '9':9,\n",
    "\t'A':10, 'B':11, 'C':12, 'D':13, 'E':14, 'F':15, 'G':16, 'H':17,\t'J':18, 'K':19,\n",
    "\t'L':20, 'M':21, 'N':22, 'P':23, 'Q':24, 'R':25, 'S':26, 'T':27, 'U':28, 'V':29,\n",
    "\t'W':30, 'X':31, 'Y':32, 'Z':33\n",
    "}\n",
    "# 模型持久化的位置\n",
    "MLP_ENU_MODEL_PATH = 'model/mlp_enu.m'"
   ]
  },
  {
   "cell_type": "markdown",
   "id": "5c7639b4",
   "metadata": {},
   "source": [
    "## 训练"
   ]
  },
  {
   "cell_type": "code",
   "execution_count": 24,
   "id": "17f2bee4",
   "metadata": {},
   "outputs": [],
   "source": [
    "# 1. 加载数据集\n",
    "data = []\n",
    "labels = []\n",
    "# 获取数据集目录下的所有的子目录，并逐一遍历\n",
    "for item in os.listdir(TRAIN_DIR):\n",
    "    # 获取每一个具体样本类型的 os 的路径形式\n",
    "    item_path = os.path.join(TRAIN_DIR, item)\n",
    "    # 判断只有目录，才进入进行下一级目录的遍历\n",
    "    if os.path.isdir(item_path):\n",
    "        # 到了每一个样本目录，遍历其下的每一个训练集样本文件-图片\n",
    "        for subitem in os.listdir(item_path):\n",
    "            subitem_path = os.path.join(item_path, subitem)\n",
    "            gray_image = cv.imread(subitem_path, cv.IMREAD_GRAYSCALE)\n",
    "            resized_image = cv.resize(gray_image, (IMAGE_WIDTH, IMAGE_HEIGHT))\n",
    "            data.append(resized_image.ravel())\n",
    "            labels.append(LABEL_DICT[item])\n",
    "\n",
    "# 分别赋值 训练数据特征、训练标签向量\n",
    "train_data = np.array(data)\n",
    "train_labels = np.array(labels)\n",
    "\n",
    "# 2. 预处理\n",
    "# 标准化\n",
    "normalized_data  = (train_data - train_data.mean()) / train_data.max()"
   ]
  },
  {
   "cell_type": "code",
   "execution_count": 25,
   "id": "69bdf8b6",
   "metadata": {},
   "outputs": [],
   "source": [
    "# 3. 创建模型\n",
    "model = MLPClassifier(hidden_layer_sizes=(48, 24), solver='lbfgs', alpha=1e-5, random_state=42)"
   ]
  },
  {
   "cell_type": "code",
   "execution_count": 26,
   "id": "09f722e0",
   "metadata": {},
   "outputs": [
    {
     "data": {
      "text/html": [
       "<style>#sk-container-id-3 {color: black;background-color: white;}#sk-container-id-3 pre{padding: 0;}#sk-container-id-3 div.sk-toggleable {background-color: white;}#sk-container-id-3 label.sk-toggleable__label {cursor: pointer;display: block;width: 100%;margin-bottom: 0;padding: 0.3em;box-sizing: border-box;text-align: center;}#sk-container-id-3 label.sk-toggleable__label-arrow:before {content: \"▸\";float: left;margin-right: 0.25em;color: #696969;}#sk-container-id-3 label.sk-toggleable__label-arrow:hover:before {color: black;}#sk-container-id-3 div.sk-estimator:hover label.sk-toggleable__label-arrow:before {color: black;}#sk-container-id-3 div.sk-toggleable__content {max-height: 0;max-width: 0;overflow: hidden;text-align: left;background-color: #f0f8ff;}#sk-container-id-3 div.sk-toggleable__content pre {margin: 0.2em;color: black;border-radius: 0.25em;background-color: #f0f8ff;}#sk-container-id-3 input.sk-toggleable__control:checked~div.sk-toggleable__content {max-height: 200px;max-width: 100%;overflow: auto;}#sk-container-id-3 input.sk-toggleable__control:checked~label.sk-toggleable__label-arrow:before {content: \"▾\";}#sk-container-id-3 div.sk-estimator input.sk-toggleable__control:checked~label.sk-toggleable__label {background-color: #d4ebff;}#sk-container-id-3 div.sk-label input.sk-toggleable__control:checked~label.sk-toggleable__label {background-color: #d4ebff;}#sk-container-id-3 input.sk-hidden--visually {border: 0;clip: rect(1px 1px 1px 1px);clip: rect(1px, 1px, 1px, 1px);height: 1px;margin: -1px;overflow: hidden;padding: 0;position: absolute;width: 1px;}#sk-container-id-3 div.sk-estimator {font-family: monospace;background-color: #f0f8ff;border: 1px dotted black;border-radius: 0.25em;box-sizing: border-box;margin-bottom: 0.5em;}#sk-container-id-3 div.sk-estimator:hover {background-color: #d4ebff;}#sk-container-id-3 div.sk-parallel-item::after {content: \"\";width: 100%;border-bottom: 1px solid gray;flex-grow: 1;}#sk-container-id-3 div.sk-label:hover label.sk-toggleable__label {background-color: #d4ebff;}#sk-container-id-3 div.sk-serial::before {content: \"\";position: absolute;border-left: 1px solid gray;box-sizing: border-box;top: 0;bottom: 0;left: 50%;z-index: 0;}#sk-container-id-3 div.sk-serial {display: flex;flex-direction: column;align-items: center;background-color: white;padding-right: 0.2em;padding-left: 0.2em;position: relative;}#sk-container-id-3 div.sk-item {position: relative;z-index: 1;}#sk-container-id-3 div.sk-parallel {display: flex;align-items: stretch;justify-content: center;background-color: white;position: relative;}#sk-container-id-3 div.sk-item::before, #sk-container-id-3 div.sk-parallel-item::before {content: \"\";position: absolute;border-left: 1px solid gray;box-sizing: border-box;top: 0;bottom: 0;left: 50%;z-index: -1;}#sk-container-id-3 div.sk-parallel-item {display: flex;flex-direction: column;z-index: 1;position: relative;background-color: white;}#sk-container-id-3 div.sk-parallel-item:first-child::after {align-self: flex-end;width: 50%;}#sk-container-id-3 div.sk-parallel-item:last-child::after {align-self: flex-start;width: 50%;}#sk-container-id-3 div.sk-parallel-item:only-child::after {width: 0;}#sk-container-id-3 div.sk-dashed-wrapped {border: 1px dashed gray;margin: 0 0.4em 0.5em 0.4em;box-sizing: border-box;padding-bottom: 0.4em;background-color: white;}#sk-container-id-3 div.sk-label label {font-family: monospace;font-weight: bold;display: inline-block;line-height: 1.2em;}#sk-container-id-3 div.sk-label-container {text-align: center;}#sk-container-id-3 div.sk-container {/* jupyter's `normalize.less` sets `[hidden] { display: none; }` but bootstrap.min.css set `[hidden] { display: none !important; }` so we also need the `!important` here to be able to override the default hidden behavior on the sphinx rendered scikit-learn.org. See: https://github.com/scikit-learn/scikit-learn/issues/21755 */display: inline-block !important;position: relative;}#sk-container-id-3 div.sk-text-repr-fallback {display: none;}</style><div id=\"sk-container-id-3\" class=\"sk-top-container\"><div class=\"sk-text-repr-fallback\"><pre>MLPClassifier(alpha=1e-05, hidden_layer_sizes=(48, 24), random_state=42,\n",
       "              solver=&#x27;lbfgs&#x27;)</pre><b>In a Jupyter environment, please rerun this cell to show the HTML representation or trust the notebook. <br />On GitHub, the HTML representation is unable to render, please try loading this page with nbviewer.org.</b></div><div class=\"sk-container\" hidden><div class=\"sk-item\"><div class=\"sk-estimator sk-toggleable\"><input class=\"sk-toggleable__control sk-hidden--visually\" id=\"sk-estimator-id-3\" type=\"checkbox\" checked><label for=\"sk-estimator-id-3\" class=\"sk-toggleable__label sk-toggleable__label-arrow\">MLPClassifier</label><div class=\"sk-toggleable__content\"><pre>MLPClassifier(alpha=1e-05, hidden_layer_sizes=(48, 24), random_state=42,\n",
       "              solver=&#x27;lbfgs&#x27;)</pre></div></div></div></div></div>"
      ],
      "text/plain": [
       "MLPClassifier(alpha=1e-05, hidden_layer_sizes=(48, 24), random_state=42,\n",
       "              solver='lbfgs')"
      ]
     },
     "execution_count": 26,
     "metadata": {},
     "output_type": "execute_result"
    }
   ],
   "source": [
    "# 4. 训练模型\n",
    "model.fit(normalized_data, train_labels)"
   ]
  },
  {
   "cell_type": "markdown",
   "id": "3f372ad3",
   "metadata": {},
   "source": [
    "## 模型持久化"
   ]
  },
  {
   "cell_type": "code",
   "execution_count": 27,
   "id": "05904aae",
   "metadata": {},
   "outputs": [
    {
     "data": {
      "text/plain": [
       "['model/mlp_enu.m']"
      ]
     },
     "execution_count": 27,
     "metadata": {},
     "output_type": "execute_result"
    }
   ],
   "source": [
    "# 模型持久化\n",
    "joblib.dump(model, MLP_ENU_MODEL_PATH)"
   ]
  },
  {
   "cell_type": "markdown",
   "id": "68335217",
   "metadata": {},
   "source": [
    "## 测试"
   ]
  },
  {
   "cell_type": "code",
   "execution_count": 28,
   "id": "8a405aaa",
   "metadata": {},
   "outputs": [],
   "source": [
    "# 1. 加载数据集\n",
    "data = []\n",
    "labels = []\n",
    "# 获取数据集目录下的所有的子目录，并逐一遍历\n",
    "for item in os.listdir(TEST_DIR):\n",
    "    # 获取每一个具体样本类型的 os 的路径形式\n",
    "    item_path = os.path.join(TEST_DIR, item)\n",
    "    # 判断只有目录，才进入进行下一级目录的遍历\n",
    "    if os.path.isdir(item_path):\n",
    "        # 到了每一个样本目录，遍历其下的每一个训练集样本文件-图片\n",
    "        for subitem in os.listdir(item_path):\n",
    "            subitem_path = os.path.join(item_path, subitem)\n",
    "            gray_image = cv.imread(subitem_path, cv.IMREAD_GRAYSCALE)\n",
    "            resized_image = cv.resize(gray_image, (IMAGE_WIDTH, IMAGE_HEIGHT))\n",
    "            data.append(resized_image.ravel())\n",
    "            labels.append(LABEL_DICT[item])\n",
    "\n",
    "# 分别赋值 训练数据特征、训练标签向量\n",
    "test_data = np.array(data)\n",
    "test_labels = np.array(labels)"
   ]
  },
  {
   "cell_type": "code",
   "execution_count": 29,
   "id": "370a4d55",
   "metadata": {},
   "outputs": [],
   "source": [
    "# 2. 预处理标准化\n",
    "test_normalized_data  = (test_data - test_data.mean()) / test_data.max()"
   ]
  },
  {
   "cell_type": "code",
   "execution_count": 31,
   "id": "650d64b4",
   "metadata": {},
   "outputs": [
    {
     "data": {
      "text/plain": [
       "46"
      ]
     },
     "execution_count": 31,
     "metadata": {},
     "output_type": "execute_result"
    },
    {
     "data": {
      "text/plain": [
       "0.9436274509803921"
      ]
     },
     "execution_count": 31,
     "metadata": {},
     "output_type": "execute_result"
    }
   ],
   "source": [
    "# fitted_model = model\n",
    "fitted_model = joblib.load(MLP_ENU_MODEL_PATH)\n",
    "predicts = fitted_model.predict(test_normalized_data)\n",
    "# 评估\n",
    "errors = np.count_nonzero(predicts - test_labels)\n",
    "errors\n",
    "(len(predicts)-errors) / len(predicts)"
   ]
  },
  {
   "cell_type": "code",
   "execution_count": null,
   "id": "14c748f8",
   "metadata": {},
   "outputs": [],
   "source": []
  }
 ],
 "metadata": {
  "kernelspec": {
   "display_name": "Python 3 (ipykernel)",
   "language": "python",
   "name": "python3"
  },
  "language_info": {
   "codemirror_mode": {
    "name": "ipython",
    "version": 3
   },
   "file_extension": ".py",
   "mimetype": "text/x-python",
   "name": "python",
   "nbconvert_exporter": "python",
   "pygments_lexer": "ipython3",
   "version": "3.8.10"
  }
 },
 "nbformat": 4,
 "nbformat_minor": 5
}
