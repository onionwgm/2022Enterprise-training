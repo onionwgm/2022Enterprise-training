{
 "cells": [
  {
   "cell_type": "markdown",
   "metadata": {},
   "source": [
    "# TensorFlow基础"
   ]
  },
  {
   "cell_type": "code",
   "execution_count": 1,
   "metadata": {},
   "outputs": [],
   "source": [
    "import tensorflow as tf\n",
    "import tensorflow.keras as keras\n",
    "import tensorflow.keras.layers as layers\n",
    "\n",
    "physical_devices = tf.config.experimental.list_physical_devices('GPU')\n",
    "assert len(physical_devices) > 0, \"Not enough GPU hardware devices available\"\n",
    "tf.config.experimental.set_memory_growth(physical_devices[0], True)"
   ]
  },
  {
   "cell_type": "markdown",
   "metadata": {},
   "source": [
    "## 数据类型\n",
    "\n",
    "### 数值类型\n",
    "\n",
    "标量在 TensorFlow 是如何创建的"
   ]
  },
  {
   "cell_type": "code",
   "execution_count": 2,
   "metadata": {},
   "outputs": [
    {
     "data": {
      "text/plain": [
       "(float, tensorflow.python.framework.ops.EagerTensor, True)"
      ]
     },
     "execution_count": 2,
     "metadata": {},
     "output_type": "execute_result"
    }
   ],
   "source": [
    "# python 语言方式创建标量\n",
    "a = 1.2 \n",
    "# TF 方式创建标量\n",
    "aa = tf.constant(1.2)\n",
    "\n",
    "type(a), type(aa), tf.is_tensor(aa)"
   ]
  },
  {
   "cell_type": "markdown",
   "metadata": {},
   "source": [
    "如果要使用 TensorFlow 提供的功能函数， 须通过 TensorFlow 规定的方式去创建张量，而不能使用 Python 语言的标准变量创建方式。"
   ]
  },
  {
   "cell_type": "code",
   "execution_count": 3,
   "metadata": {},
   "outputs": [
    {
     "data": {
      "text/plain": [
       "<tf.Tensor: shape=(3,), dtype=float32, numpy=array([1. , 2. , 3.3], dtype=float32)>"
      ]
     },
     "execution_count": 3,
     "metadata": {},
     "output_type": "execute_result"
    }
   ],
   "source": [
    "x = tf.constant([1,2.,3.3])\n",
    "# 打印 TF 张量的相关信息                \n",
    "x"
   ]
  },
  {
   "cell_type": "code",
   "execution_count": 4,
   "metadata": {},
   "outputs": [
    {
     "data": {
      "text/plain": [
       "array([1. , 2. , 3.3], dtype=float32)"
      ]
     },
     "execution_count": 4,
     "metadata": {},
     "output_type": "execute_result"
    }
   ],
   "source": [
    "# 将 TF 张量的数据导出为 numpy 数组格式\n",
    "x.numpy() "
   ]
  },
  {
   "cell_type": "markdown",
   "metadata": {},
   "source": [
    "与标量不同，向量的定义须通过 List 容器传给 tf.constant()函数。\n",
    "\n",
    "创建一个元素的向量："
   ]
  },
  {
   "cell_type": "code",
   "execution_count": 5,
   "metadata": {},
   "outputs": [
    {
     "data": {
      "text/plain": [
       "(<tf.Tensor: shape=(1,), dtype=float32, numpy=array([1.2], dtype=float32)>,\n",
       " TensorShape([1]))"
      ]
     },
     "execution_count": 5,
     "metadata": {},
     "output_type": "execute_result"
    }
   ],
   "source": [
    "# 创建一个元素的向量\n",
    "a = tf.constant([1.2]) \n",
    "a, a.shape"
   ]
  },
  {
   "cell_type": "markdown",
   "metadata": {},
   "source": [
    "创建 3 个元素的向量："
   ]
  },
  {
   "cell_type": "code",
   "execution_count": 6,
   "metadata": {},
   "outputs": [
    {
     "data": {
      "text/plain": [
       "(<tf.Tensor: shape=(3,), dtype=float32, numpy=array([1., 2., 3.], dtype=float32)>,\n",
       " TensorShape([3]))"
      ]
     },
     "execution_count": 6,
     "metadata": {},
     "output_type": "execute_result"
    }
   ],
   "source": [
    " # 创建 3 个元素的向量\n",
    "a = tf.constant([1,2, 3.])\n",
    "a, a.shape"
   ]
  },
  {
   "cell_type": "markdown",
   "metadata": {},
   "source": [
    "定义矩阵"
   ]
  },
  {
   "cell_type": "code",
   "execution_count": 7,
   "metadata": {},
   "outputs": [
    {
     "data": {
      "text/plain": [
       "(<tf.Tensor: shape=(2, 2), dtype=int32, numpy=\n",
       " array([[1, 2],\n",
       "        [3, 4]])>,\n",
       " TensorShape([2, 2]))"
      ]
     },
     "execution_count": 7,
     "metadata": {},
     "output_type": "execute_result"
    }
   ],
   "source": [
    "# 创建 2 行 2 列的矩阵\n",
    "a = tf.constant([[1,2],[3,4]]) \n",
    "a, a.shape"
   ]
  },
  {
   "cell_type": "markdown",
   "metadata": {},
   "source": [
    "三维张量可以定义为："
   ]
  },
  {
   "cell_type": "code",
   "execution_count": 8,
   "metadata": {},
   "outputs": [
    {
     "data": {
      "text/plain": [
       "<tf.Tensor: shape=(2, 2, 2), dtype=int32, numpy=\n",
       "array([[[1, 2],\n",
       "        [3, 4]],\n",
       "\n",
       "       [[5, 6],\n",
       "        [7, 8]]])>"
      ]
     },
     "execution_count": 8,
     "metadata": {},
     "output_type": "execute_result"
    }
   ],
   "source": [
    "# 创建 3 维张量\n",
    "tf.constant([[[1,2],[3,4]],[[5,6],[7,8]]]) "
   ]
  },
  {
   "cell_type": "markdown",
   "metadata": {},
   "source": [
    "通过传入字符串对象即可创建字符串类型的张量"
   ]
  },
  {
   "cell_type": "code",
   "execution_count": 9,
   "metadata": {},
   "outputs": [
    {
     "data": {
      "text/plain": [
       "<tf.Tensor: shape=(), dtype=string, numpy=b'Hello, Deep Learning.'>"
      ]
     },
     "execution_count": 9,
     "metadata": {},
     "output_type": "execute_result"
    }
   ],
   "source": [
    "# 创建字符串\n",
    "a = tf.constant('Hello, Deep Learning.') \n",
    "a"
   ]
  },
  {
   "cell_type": "markdown",
   "metadata": {},
   "source": [
    "### 字符串类型\n",
    "\n",
    "通过传入字符串对象即可创建字符串类型的张量"
   ]
  },
  {
   "cell_type": "code",
   "execution_count": 10,
   "metadata": {},
   "outputs": [
    {
     "data": {
      "text/plain": [
       "<tf.Tensor: shape=(), dtype=string, numpy=b'Hello, Deep Learning.'>"
      ]
     },
     "execution_count": 10,
     "metadata": {},
     "output_type": "execute_result"
    }
   ],
   "source": [
    "# 创建字符串\n",
    "a = tf.constant('Hello, Deep Learning.') \n",
    "a"
   ]
  },
  {
   "cell_type": "markdown",
   "metadata": {},
   "source": [
    "在 tf.strings 模块中，提供了常见的字符串类型的工具函数，如小写化 lower()、 拼接\n",
    "join()、 长度 length()、 切分 split()等。"
   ]
  },
  {
   "cell_type": "code",
   "execution_count": 11,
   "metadata": {},
   "outputs": [
    {
     "data": {
      "text/plain": [
       "<tf.Tensor: shape=(), dtype=string, numpy=b'hello, deep learning.'>"
      ]
     },
     "execution_count": 11,
     "metadata": {},
     "output_type": "execute_result"
    }
   ],
   "source": [
    "# 小写化字符串\n",
    "tf.strings.lower(a) "
   ]
  },
  {
   "cell_type": "markdown",
   "metadata": {},
   "source": [
    "### 布尔类型\n",
    "布尔类型的张量只需要传入 Python 语言的布尔类型数据，转换成 TensorFlow 内部布尔型即可。"
   ]
  },
  {
   "cell_type": "code",
   "execution_count": 12,
   "metadata": {},
   "outputs": [
    {
     "data": {
      "text/plain": [
       "<tf.Tensor: shape=(), dtype=bool, numpy=True>"
      ]
     },
     "execution_count": 12,
     "metadata": {},
     "output_type": "execute_result"
    }
   ],
   "source": [
    "# 创建布尔类型标量\n",
    "tf.constant(True) "
   ]
  },
  {
   "cell_type": "markdown",
   "metadata": {},
   "source": [
    "创建布尔类型的向量"
   ]
  },
  {
   "cell_type": "code",
   "execution_count": 13,
   "metadata": {},
   "outputs": [
    {
     "data": {
      "text/plain": [
       "<tf.Tensor: shape=(2,), dtype=bool, numpy=array([ True, False])>"
      ]
     },
     "execution_count": 13,
     "metadata": {},
     "output_type": "execute_result"
    }
   ],
   "source": [
    " # 创建布尔类型向量\n",
    "tf.constant([True, False])"
   ]
  },
  {
   "cell_type": "markdown",
   "metadata": {},
   "source": [
    "需要注意的是， TensorFlow 的布尔类型和 Python 语言的布尔类型并不等价，不能通用"
   ]
  },
  {
   "cell_type": "code",
   "execution_count": 14,
   "metadata": {},
   "outputs": [
    {
     "name": "stdout",
     "output_type": "stream",
     "text": [
      "False\n",
      "tf.Tensor(True, shape=(), dtype=bool)\n"
     ]
    }
   ],
   "source": [
    "# 创建 TF 布尔张量\n",
    "a = tf.constant(True) \n",
    "# TF 布尔类型张量与 python 布尔类型比较\n",
    "print(a is True) \n",
    "# 仅数值比较\n",
    "print(a == True) "
   ]
  },
  {
   "cell_type": "markdown",
   "metadata": {},
   "source": [
    "## 数值精度\n",
    "\n",
    "在创建张量时，可以指定张量的保存精度"
   ]
  },
  {
   "cell_type": "code",
   "execution_count": 15,
   "metadata": {},
   "outputs": [
    {
     "data": {
      "text/plain": [
       "<tf.Tensor: shape=(), dtype=int16, numpy=-13035>"
      ]
     },
     "execution_count": 15,
     "metadata": {},
     "output_type": "execute_result"
    }
   ],
   "source": [
    "# 创建指定精度的张量\n",
    "tf.constant(123456789, dtype=tf.int16)"
   ]
  },
  {
   "cell_type": "code",
   "execution_count": 16,
   "metadata": {},
   "outputs": [
    {
     "data": {
      "text/plain": [
       "<tf.Tensor: shape=(), dtype=int32, numpy=123456789>"
      ]
     },
     "execution_count": 16,
     "metadata": {},
     "output_type": "execute_result"
    }
   ],
   "source": [
    "tf.constant(123456789, dtype=tf.int32)"
   ]
  },
  {
   "cell_type": "markdown",
   "metadata": {},
   "source": [
    "对于浮点数， 高精度的张量可以表示更精准的数据，例如采用 tf.float32 精度保存π时，实际保存的数据为 3.1415927"
   ]
  },
  {
   "cell_type": "code",
   "execution_count": 17,
   "metadata": {},
   "outputs": [
    {
     "data": {
      "text/plain": [
       "3.141592653589793"
      ]
     },
     "execution_count": 17,
     "metadata": {},
     "output_type": "execute_result"
    },
    {
     "data": {
      "text/plain": [
       "<tf.Tensor: shape=(), dtype=float32, numpy=3.1415927>"
      ]
     },
     "execution_count": 17,
     "metadata": {},
     "output_type": "execute_result"
    }
   ],
   "source": [
    "import numpy as np\n",
    "# 从 numpy 中导入 pi 常量\n",
    "np.pi \n",
    "# 32 位\n",
    "tf.constant(np.pi, dtype=tf.float32) "
   ]
  },
  {
   "cell_type": "markdown",
   "metadata": {},
   "source": [
    "如果采用 tf.float64 精度保存π，则能获得更高的精度"
   ]
  },
  {
   "cell_type": "code",
   "execution_count": 18,
   "metadata": {},
   "outputs": [
    {
     "data": {
      "text/plain": [
       "<tf.Tensor: shape=(), dtype=float64, numpy=3.141592653589793>"
      ]
     },
     "execution_count": 18,
     "metadata": {},
     "output_type": "execute_result"
    }
   ],
   "source": [
    "tf.constant(np.pi, dtype=tf.float64) # 64 位"
   ]
  },
  {
   "cell_type": "markdown",
   "metadata": {},
   "source": [
    "### 读取精度\n",
    "\n",
    "通过访问张量的 dtype 成员属性可以判断张量的保存精度"
   ]
  },
  {
   "cell_type": "code",
   "execution_count": 19,
   "metadata": {},
   "outputs": [
    {
     "name": "stdout",
     "output_type": "stream",
     "text": [
      "before: <dtype: 'float16'>\n",
      "after : <dtype: 'float32'>\n"
     ]
    }
   ],
   "source": [
    "a = tf.constant(np.pi, dtype=tf.float16)\n",
    "\n",
    "# 读取原有张量的数值精度\n",
    "print('before:',a.dtype) \n",
    "# 如果精度不符合要求，则进行转换\n",
    "if a.dtype != tf.float32: \n",
    "    # tf.cast 函数可以完成精度转换\n",
    "    a = tf.cast(a,tf.float32) \n",
    "# 打印转换后的精度\n",
    "print('after :',a.dtype) "
   ]
  },
  {
   "cell_type": "markdown",
   "metadata": {},
   "source": [
    "### 类型转换\n",
    "系统的每个模块使用的数据类型、 数值精度可能各不相同， 对于不符合要求的张量的类型及精度， 需要通过 tf.cast 函数进行转换"
   ]
  },
  {
   "cell_type": "code",
   "execution_count": 20,
   "metadata": {},
   "outputs": [
    {
     "data": {
      "text/plain": [
       "<tf.Tensor: shape=(), dtype=float64, numpy=3.140625>"
      ]
     },
     "execution_count": 20,
     "metadata": {},
     "output_type": "execute_result"
    }
   ],
   "source": [
    "# 创建 tf.float16 低精度张量\n",
    "a = tf.constant(np.pi, dtype=tf.float16) \n",
    "# 转换为高精度张量\n",
    "tf.cast(a, tf.double) "
   ]
  },
  {
   "cell_type": "markdown",
   "metadata": {},
   "source": [
    "进行类型转换时，需要保证转换操作的合法性， 例如将高精度的张量转换为低精度的张量时，可能发生数据溢出隐患："
   ]
  },
  {
   "cell_type": "code",
   "execution_count": 21,
   "metadata": {},
   "outputs": [
    {
     "data": {
      "text/plain": [
       "<tf.Tensor: shape=(), dtype=int16, numpy=-13035>"
      ]
     },
     "execution_count": 21,
     "metadata": {},
     "output_type": "execute_result"
    }
   ],
   "source": [
    "a = tf.constant(123456789, dtype=tf.int32)\n",
    "# 转换为低精度整型\n",
    "tf.cast(a, tf.int16) "
   ]
  },
  {
   "cell_type": "markdown",
   "metadata": {},
   "source": [
    "布尔类型与整型之间相互转换也是合法的， 是比较常见的操作"
   ]
  },
  {
   "cell_type": "code",
   "execution_count": 22,
   "metadata": {},
   "outputs": [
    {
     "data": {
      "text/plain": [
       "<tf.Tensor: shape=(2,), dtype=int32, numpy=array([1, 0])>"
      ]
     },
     "execution_count": 22,
     "metadata": {},
     "output_type": "execute_result"
    }
   ],
   "source": [
    "a = tf.constant([True, False])\n",
    "# 布尔类型转整型\n",
    "tf.cast(a, tf.int32) "
   ]
  },
  {
   "cell_type": "markdown",
   "metadata": {},
   "source": [
    "一般默认 0 表示 False， 1 表示 True，在 TensorFlow 中，将非 0 数字都视为 True，"
   ]
  },
  {
   "cell_type": "code",
   "execution_count": 23,
   "metadata": {},
   "outputs": [
    {
     "data": {
      "text/plain": [
       "<tf.Tensor: shape=(4,), dtype=bool, numpy=array([ True, False,  True,  True])>"
      ]
     },
     "execution_count": 23,
     "metadata": {},
     "output_type": "execute_result"
    }
   ],
   "source": [
    "a = tf.constant([-1, 0, 1, 2])\n",
    "# 整型转布尔类型\n",
    "tf.cast(a, tf.bool) "
   ]
  },
  {
   "cell_type": "markdown",
   "metadata": {},
   "source": [
    "## 待优化张量\n",
    "\n",
    "TensorFlow 增加了一种专门的数据类型来支持梯度信息的记录： tf.Variable。 tf.Variable 类型在普通的张量类型基础上添加了 name， trainable 等属性来支持计算图的构建。"
   ]
  },
  {
   "cell_type": "code",
   "execution_count": 24,
   "metadata": {},
   "outputs": [
    {
     "data": {
      "text/plain": [
       "('Variable:0', True)"
      ]
     },
     "execution_count": 24,
     "metadata": {},
     "output_type": "execute_result"
    }
   ],
   "source": [
    "# 创建 TF 张量\n",
    "a = tf.constant([-1, 0, 1, 2]) \n",
    "# 转换为 Variable 类型\n",
    "aa = tf.Variable(a) \n",
    "# Variable 类型张量的属性\n",
    "aa.name, aa.trainable "
   ]
  },
  {
   "cell_type": "markdown",
   "metadata": {},
   "source": [
    "name 属性用于命名计算图中的变量，这套命名体系是 TensorFlow 内部维护的， 一般不需要用户关注 name 属性；   \n",
    "trainable属性表征当前张量是否需要被优化，创建 Variable 对象时是默认启用优化标志，可以设置trainable=False 来设置张量不需要优化。"
   ]
  },
  {
   "cell_type": "code",
   "execution_count": 25,
   "metadata": {},
   "outputs": [
    {
     "data": {
      "text/plain": [
       "<tf.Variable 'Variable:0' shape=(2, 2) dtype=int32, numpy=\n",
       "array([[1, 2],\n",
       "       [3, 4]])>"
      ]
     },
     "execution_count": 25,
     "metadata": {},
     "output_type": "execute_result"
    }
   ],
   "source": [
    "# 直接创建 Variable 张量\n",
    "tf.Variable([[1,2],[3,4]]) "
   ]
  },
  {
   "cell_type": "markdown",
   "metadata": {},
   "source": [
    "## 创建张量\n",
    "\n",
    "### 从数组、列表对象创建"
   ]
  },
  {
   "cell_type": "markdown",
   "metadata": {},
   "source": [
    "通过 tf.convert_to_tensor 函数可以创建新 Tensor，并将保存在 Python List 对象或者Numpy Array 对象中的数据导入到新 Tensor 中。"
   ]
  },
  {
   "cell_type": "code",
   "execution_count": 26,
   "metadata": {},
   "outputs": [
    {
     "data": {
      "text/plain": [
       "<tf.Tensor: shape=(2,), dtype=float32, numpy=array([1., 2.], dtype=float32)>"
      ]
     },
     "execution_count": 26,
     "metadata": {},
     "output_type": "execute_result"
    }
   ],
   "source": [
    "# 从列表创建张量\n",
    "tf.convert_to_tensor([1,2.]) "
   ]
  },
  {
   "cell_type": "code",
   "execution_count": 27,
   "metadata": {},
   "outputs": [
    {
     "data": {
      "text/plain": [
       "<tf.Tensor: shape=(2, 2), dtype=float64, numpy=\n",
       "array([[1., 2.],\n",
       "       [3., 4.]])>"
      ]
     },
     "execution_count": 27,
     "metadata": {},
     "output_type": "execute_result"
    }
   ],
   "source": [
    "# 从数组中创建张量\n",
    "tf.convert_to_tensor(np.array([[1,2.],[3,4]])) "
   ]
  },
  {
   "cell_type": "markdown",
   "metadata": {},
   "source": [
    "### 创建全0或全1张量"
   ]
  },
  {
   "cell_type": "code",
   "execution_count": 28,
   "metadata": {},
   "outputs": [
    {
     "data": {
      "text/plain": [
       "(<tf.Tensor: shape=(), dtype=float32, numpy=0.0>,\n",
       " <tf.Tensor: shape=(), dtype=float32, numpy=1.0>)"
      ]
     },
     "execution_count": 28,
     "metadata": {},
     "output_type": "execute_result"
    }
   ],
   "source": [
    "# 创建全 0，全 1 的标量\n",
    "tf.zeros([]),tf.ones([]) "
   ]
  },
  {
   "cell_type": "code",
   "execution_count": 29,
   "metadata": {},
   "outputs": [
    {
     "data": {
      "text/plain": [
       "(<tf.Tensor: shape=(1,), dtype=float32, numpy=array([0.], dtype=float32)>,\n",
       " <tf.Tensor: shape=(1,), dtype=float32, numpy=array([1.], dtype=float32)>)"
      ]
     },
     "execution_count": 29,
     "metadata": {},
     "output_type": "execute_result"
    }
   ],
   "source": [
    "# 创建全 0，全 1 的向量\n",
    "tf.zeros([1]),tf.ones([1]) "
   ]
  },
  {
   "cell_type": "markdown",
   "metadata": {},
   "source": [
    "创建全 0 的矩阵"
   ]
  },
  {
   "cell_type": "code",
   "execution_count": 30,
   "metadata": {},
   "outputs": [
    {
     "data": {
      "text/plain": [
       "<tf.Tensor: shape=(2, 2), dtype=float32, numpy=\n",
       "array([[0., 0.],\n",
       "       [0., 0.]], dtype=float32)>"
      ]
     },
     "execution_count": 30,
     "metadata": {},
     "output_type": "execute_result"
    }
   ],
   "source": [
    "# 创建全 0 矩阵，指定 shape 为 2 行 2 列\n",
    "tf.zeros([2,2]) "
   ]
  },
  {
   "cell_type": "markdown",
   "metadata": {},
   "source": [
    "创建全 1 的矩阵"
   ]
  },
  {
   "cell_type": "code",
   "execution_count": 31,
   "metadata": {},
   "outputs": [
    {
     "data": {
      "text/plain": [
       "<tf.Tensor: shape=(3, 2), dtype=float32, numpy=\n",
       "array([[1., 1.],\n",
       "       [1., 1.],\n",
       "       [1., 1.]], dtype=float32)>"
      ]
     },
     "execution_count": 31,
     "metadata": {},
     "output_type": "execute_result"
    }
   ],
   "source": [
    "# 创建全 1 矩阵，指定 shape 为 3 行 2 列\n",
    "tf.ones([3,2]) "
   ]
  },
  {
   "cell_type": "markdown",
   "metadata": {},
   "source": [
    "通过 tf.zeros_like, tf.ones_like 可以方便地新建与某个张量 shape 一致， 且内容为全 0 或全 1 的张量。"
   ]
  },
  {
   "cell_type": "code",
   "execution_count": 32,
   "metadata": {},
   "outputs": [
    {
     "data": {
      "text/plain": [
       "<tf.Tensor: shape=(2, 3), dtype=float32, numpy=\n",
       "array([[0., 0., 0.],\n",
       "       [0., 0., 0.]], dtype=float32)>"
      ]
     },
     "execution_count": 32,
     "metadata": {},
     "output_type": "execute_result"
    }
   ],
   "source": [
    "# 创建一个矩阵\n",
    "a = tf.ones([2,3]) \n",
    "# 创建一个与 a 形状相同，但是全 0 的新矩阵\n",
    "tf.zeros_like(a) "
   ]
  },
  {
   "cell_type": "markdown",
   "metadata": {},
   "source": [
    "创建与张量A形状一样的全 1 张量"
   ]
  },
  {
   "cell_type": "code",
   "execution_count": 33,
   "metadata": {},
   "outputs": [
    {
     "data": {
      "text/plain": [
       "<tf.Tensor: shape=(3, 2), dtype=float32, numpy=\n",
       "array([[1., 1.],\n",
       "       [1., 1.],\n",
       "       [1., 1.]], dtype=float32)>"
      ]
     },
     "execution_count": 33,
     "metadata": {},
     "output_type": "execute_result"
    }
   ],
   "source": [
    "# 创建一个矩阵\n",
    "a = tf.zeros([3,2]) \n",
    "# 创建一个与 a 形状相同，但是全 1 的新矩阵\n",
    "tf.ones_like(a) "
   ]
  },
  {
   "cell_type": "markdown",
   "metadata": {},
   "source": [
    "### 创建自定义数值张量\n",
    "\n",
    "通过 tf.fill(shape, value)可以创建全为自定义数值 value 的张量，形状由 shape 参数指定。"
   ]
  },
  {
   "cell_type": "code",
   "execution_count": 34,
   "metadata": {},
   "outputs": [
    {
     "data": {
      "text/plain": [
       "<tf.Tensor: shape=(), dtype=int32, numpy=-1>"
      ]
     },
     "execution_count": 34,
     "metadata": {},
     "output_type": "execute_result"
    }
   ],
   "source": [
    "# 创建-1 的标量\n",
    "tf.fill([], -1) "
   ]
  },
  {
   "cell_type": "code",
   "execution_count": 35,
   "metadata": {},
   "outputs": [
    {
     "data": {
      "text/plain": [
       "<tf.Tensor: shape=(1,), dtype=int32, numpy=array([-1])>"
      ]
     },
     "execution_count": 35,
     "metadata": {},
     "output_type": "execute_result"
    }
   ],
   "source": [
    "# 创建-1 的向量\n",
    "tf.fill([1], -1) "
   ]
  },
  {
   "cell_type": "code",
   "execution_count": 36,
   "metadata": {},
   "outputs": [
    {
     "data": {
      "text/plain": [
       "<tf.Tensor: shape=(2, 2), dtype=int32, numpy=\n",
       "array([[99, 99],\n",
       "       [99, 99]])>"
      ]
     },
     "execution_count": 36,
     "metadata": {},
     "output_type": "execute_result"
    }
   ],
   "source": [
    "# 创建 2 行 2 列，元素全为 99 的矩阵\n",
    "tf.fill([2,2], 99) "
   ]
  },
  {
   "cell_type": "markdown",
   "metadata": {},
   "source": [
    "### 创建已知分布的张量"
   ]
  },
  {
   "cell_type": "markdown",
   "metadata": {},
   "source": [
    "通过 tf.random.normal(shape, mean=0.0, stddev=1.0)可以创建形状为 shape，均值为mean，标准差为 stddev 的正态分布$\\mathcal{N}(mean, stddev^2)$。"
   ]
  },
  {
   "cell_type": "code",
   "execution_count": 37,
   "metadata": {},
   "outputs": [
    {
     "data": {
      "text/plain": [
       "<tf.Tensor: shape=(2, 2), dtype=float32, numpy=\n",
       "array([[ 0.63831323,  0.83312804],\n",
       "       [-1.4102253 ,  0.24303935]], dtype=float32)>"
      ]
     },
     "execution_count": 37,
     "metadata": {},
     "output_type": "execute_result"
    }
   ],
   "source": [
    "# 创建标准正态分布的张量\n",
    "tf.random.normal([2,2]) "
   ]
  },
  {
   "cell_type": "code",
   "execution_count": 38,
   "metadata": {},
   "outputs": [
    {
     "data": {
      "text/plain": [
       "<tf.Tensor: shape=(2, 2), dtype=float32, numpy=\n",
       "array([[ 1.6345923,  1.8404381],\n",
       "       [ 1.7937942, -1.5469558]], dtype=float32)>"
      ]
     },
     "execution_count": 38,
     "metadata": {},
     "output_type": "execute_result"
    }
   ],
   "source": [
    "# 创建均值为 1，标准差为 2 的正态分布的张量\n",
    "tf.random.normal([2,2], mean=1,stddev=2) "
   ]
  },
  {
   "cell_type": "markdown",
   "metadata": {},
   "source": [
    "通过 tf.random.uniform(shape, minval=0, maxval=None, dtype=tf.float32)可以创建采样自[minval, maxval)区间的均匀分布的张量"
   ]
  },
  {
   "cell_type": "code",
   "execution_count": 39,
   "metadata": {},
   "outputs": [
    {
     "data": {
      "text/plain": [
       "<tf.Tensor: shape=(3, 2), dtype=float32, numpy=\n",
       "array([[0.08317411, 0.11959207],\n",
       "       [0.5689585 , 0.64667904],\n",
       "       [0.15649176, 0.6020361 ]], dtype=float32)>"
      ]
     },
     "execution_count": 39,
     "metadata": {},
     "output_type": "execute_result"
    }
   ],
   "source": [
    "# 创建采样自[0,1)均匀分布的矩阵\n",
    "tf.random.uniform([3,2]) "
   ]
  },
  {
   "cell_type": "code",
   "execution_count": 40,
   "metadata": {},
   "outputs": [
    {
     "data": {
      "text/plain": [
       "<tf.Tensor: shape=(2, 2), dtype=float32, numpy=\n",
       "array([[6.113701 , 6.7698774],\n",
       "       [5.1222076, 4.5097685]], dtype=float32)>"
      ]
     },
     "execution_count": 40,
     "metadata": {},
     "output_type": "execute_result"
    }
   ],
   "source": [
    "# 创建采样自[0,10)均匀分布的矩阵\n",
    "tf.random.uniform([2,2],maxval=10) "
   ]
  },
  {
   "cell_type": "markdown",
   "metadata": {},
   "source": [
    "如果需要均匀采样整形类型的数据，必须指定采样区间的最大值 maxval 参数，同时指定数据类型为 tf.int*型"
   ]
  },
  {
   "cell_type": "code",
   "execution_count": 41,
   "metadata": {},
   "outputs": [
    {
     "data": {
      "text/plain": [
       "<tf.Tensor: shape=(2, 2), dtype=int32, numpy=\n",
       "array([[40, 85],\n",
       "       [97, 47]])>"
      ]
     },
     "execution_count": 41,
     "metadata": {},
     "output_type": "execute_result"
    }
   ],
   "source": [
    "# 创建采样自[0,100)均匀分布的整型矩阵\n",
    "tf.random.uniform([2,2],maxval=100,dtype=tf.int32)"
   ]
  },
  {
   "cell_type": "markdown",
   "metadata": {},
   "source": [
    "### 创建序列\n",
    "\n",
    "tf.range(limit, delta=1)可以创建[0, limit)之间，步长为 delta 的整型序列，不包含 limit 本身。"
   ]
  },
  {
   "cell_type": "code",
   "execution_count": 42,
   "metadata": {},
   "outputs": [
    {
     "data": {
      "text/plain": [
       "<tf.Tensor: shape=(10,), dtype=int32, numpy=array([0, 1, 2, 3, 4, 5, 6, 7, 8, 9])>"
      ]
     },
     "execution_count": 42,
     "metadata": {},
     "output_type": "execute_result"
    }
   ],
   "source": [
    "# 0~10，不包含 10\n",
    "tf.range(10) "
   ]
  },
  {
   "cell_type": "code",
   "execution_count": 43,
   "metadata": {},
   "outputs": [
    {
     "data": {
      "text/plain": [
       "<tf.Tensor: shape=(5,), dtype=int32, numpy=array([0, 2, 4, 6, 8])>"
      ]
     },
     "execution_count": 43,
     "metadata": {},
     "output_type": "execute_result"
    }
   ],
   "source": [
    "# 创建 0~10，步长为 2 的整形序列\n",
    "tf.range(10,delta=2)"
   ]
  },
  {
   "cell_type": "code",
   "execution_count": 44,
   "metadata": {},
   "outputs": [
    {
     "data": {
      "text/plain": [
       "<tf.Tensor: shape=(5,), dtype=int32, numpy=array([1, 3, 5, 7, 9])>"
      ]
     },
     "execution_count": 44,
     "metadata": {},
     "output_type": "execute_result"
    }
   ],
   "source": [
    "tf.range(1,10,delta=2) # 1~10"
   ]
  },
  {
   "cell_type": "markdown",
   "metadata": {},
   "source": [
    "## 张量的典型应用\n",
    "\n",
    "### 标量"
   ]
  },
  {
   "cell_type": "code",
   "execution_count": 45,
   "metadata": {},
   "outputs": [
    {
     "name": "stdout",
     "output_type": "stream",
     "text": [
      "tf.Tensor(0.37264675, shape=(), dtype=float32)\n"
     ]
    }
   ],
   "source": [
    "# 随机模拟网络输出\n",
    "out = tf.random.uniform([4,10]) \n",
    "# 随机构造样本真实标签\n",
    "y = tf.constant([2,3,2,0]) \n",
    "# one-hot 编码\n",
    "y = tf.one_hot(y, depth=10) \n",
    "# 计算每个样本的 MSE\n",
    "loss = tf.keras.losses.mse(y, out) \n",
    "# 平均 MSE,loss 应是标量\n",
    "loss = tf.reduce_mean(loss) \n",
    "print(loss)"
   ]
  },
  {
   "cell_type": "markdown",
   "metadata": {},
   "source": [
    "### 向量\n",
    "\n",
    "考虑 2 个输出节点的网络层， 创建长度为 2 的偏置向量b，并累加在每个输出节点上："
   ]
  },
  {
   "cell_type": "code",
   "execution_count": 46,
   "metadata": {},
   "outputs": [
    {
     "data": {
      "text/plain": [
       "<tf.Tensor: shape=(4, 2), dtype=float32, numpy=\n",
       "array([[ 0.33739573, -0.4755593 ],\n",
       "       [ 0.67105454, -0.05554426],\n",
       "       [-1.0956205 ,  0.43591323],\n",
       "       [-1.5428708 ,  0.62618303]], dtype=float32)>"
      ]
     },
     "execution_count": 46,
     "metadata": {},
     "output_type": "execute_result"
    }
   ],
   "source": [
    "# z=wx,模拟获得激活函数的输入 z\n",
    "z = tf.random.normal([4,2])\n",
    "# 创建偏置向量\n",
    "b = tf.zeros([2])\n",
    "# 累加上偏置向量\n",
    "z = z + b \n",
    "z"
   ]
  },
  {
   "cell_type": "markdown",
   "metadata": {},
   "source": [
    "创建输入节点数为 4，输出节点数为 3 的线性层网络，那么它的偏置向量 b 的长度应为 3"
   ]
  },
  {
   "cell_type": "code",
   "execution_count": 47,
   "metadata": {},
   "outputs": [
    {
     "data": {
      "text/plain": [
       "<tf.Variable 'bias:0' shape=(3,) dtype=float32, numpy=array([0., 0., 0.], dtype=float32)>"
      ]
     },
     "execution_count": 47,
     "metadata": {},
     "output_type": "execute_result"
    }
   ],
   "source": [
    "# 创建一层 Wx+b，输出节点为 3\n",
    "fc = tf.keras.layers.Dense(3) \n",
    "# 通过 build 函数创建 W,b 张量，输入节点为 4\n",
    "fc.build(input_shape=(2,4))\n",
    "# 查看偏置向量\n",
    "fc.bias "
   ]
  },
  {
   "cell_type": "markdown",
   "metadata": {},
   "source": [
    "### 矩阵"
   ]
  },
  {
   "cell_type": "code",
   "execution_count": 48,
   "metadata": {},
   "outputs": [
    {
     "data": {
      "text/plain": [
       "<tf.Tensor: shape=(2, 3), dtype=float32, numpy=\n",
       "array([[ 0.9897445,  0.9897445,  0.9897445],\n",
       "       [-3.8175297, -3.8175297, -3.8175297]], dtype=float32)>"
      ]
     },
     "execution_count": 48,
     "metadata": {},
     "output_type": "execute_result"
    }
   ],
   "source": [
    "# 2 个样本，特征长度为 4 的张量\n",
    "x = tf.random.normal([2,4]) \n",
    "# 定义 W 张量\n",
    "w = tf.ones([4,3])\n",
    "# 定义 b 张量\n",
    "b = tf.zeros([3]) \n",
    "# X@W+b 运算\n",
    "o = x@w+b \n",
    "o"
   ]
  },
  {
   "cell_type": "code",
   "execution_count": 49,
   "metadata": {},
   "outputs": [
    {
     "data": {
      "text/plain": [
       "<tf.Variable 'kernel:0' shape=(4, 3) dtype=float32, numpy=\n",
       "array([[ 0.41081643, -0.0912447 , -0.18749475],\n",
       "       [-0.71149904, -0.07780278,  0.4368075 ],\n",
       "       [-0.35581762, -0.5862403 ,  0.4269439 ],\n",
       "       [-0.235573  ,  0.1428225 ,  0.57331765]], dtype=float32)>"
      ]
     },
     "execution_count": 49,
     "metadata": {},
     "output_type": "execute_result"
    }
   ],
   "source": [
    "# 定义全连接层的输出节点为 3\n",
    "fc = tf.keras.layers.Dense(3) \n",
    "# 定义全连接层的输入节点为 4\n",
    "fc.build(input_shape=(2,4)) \n",
    "# 查看权值矩阵 W\n",
    "fc.kernel "
   ]
  },
  {
   "cell_type": "markdown",
   "metadata": {},
   "source": [
    "### 三维张量"
   ]
  },
  {
   "cell_type": "code",
   "execution_count": 50,
   "metadata": {},
   "outputs": [
    {
     "data": {
      "text/plain": [
       "(25000, 80)"
      ]
     },
     "execution_count": 50,
     "metadata": {},
     "output_type": "execute_result"
    }
   ],
   "source": [
    "# 自动加载 IMDB 电影评价数据集\n",
    "(x_train,y_train),(x_test,y_test)=keras.datasets.imdb.load_data(num_words=10000)\n",
    "# 将句子填充、截断为等长 80 个单词的句子\n",
    "x_train = keras.preprocessing.sequence.pad_sequences(x_train,maxlen=80)\n",
    "x_train.shape"
   ]
  },
  {
   "cell_type": "markdown",
   "metadata": {},
   "source": [
    "可以看到 x_train 张量的 shape 为[25000,80]，其中 25000 表示句子个数， 80 表示每个句子共 80 个单词，每个单词使用数字编码方式表示。\n",
    "\n",
    "通过 layers.Embedding 层将数字编码的单词转换为长度为 100 个词向量："
   ]
  },
  {
   "cell_type": "code",
   "execution_count": 51,
   "metadata": {},
   "outputs": [
    {
     "data": {
      "text/plain": [
       "TensorShape([25000, 80, 100])"
      ]
     },
     "execution_count": 51,
     "metadata": {},
     "output_type": "execute_result"
    }
   ],
   "source": [
    "# 创建词向量 Embedding 层类\n",
    "embedding = tf.keras.layers.Embedding(10000, 100)\n",
    "# 将数字编码的单词转换为词向量\n",
    "out = embedding(x_train)\n",
    "out.shape"
   ]
  },
  {
   "cell_type": "markdown",
   "metadata": {},
   "source": [
    "可以看到，经过 Embedding 层编码后，句子张量的 shape 变为[25000,80,100]，其中 100 表示每个单词编码为长度是 100 的向量。"
   ]
  },
  {
   "cell_type": "markdown",
   "metadata": {},
   "source": [
    "### 四维张量"
   ]
  },
  {
   "cell_type": "code",
   "execution_count": 52,
   "metadata": {},
   "outputs": [
    {
     "data": {
      "text/plain": [
       "'\\nx = tf.random.normal([4,32,32,3])\\n# 创建卷积神经网络\\nlayer = layers.Conv2D(16, kernel_size=3)\\n# 前向计算\\nout = layer(x) \\n# 输出大小\\nout.shape \\n'"
      ]
     },
     "execution_count": 52,
     "metadata": {},
     "output_type": "execute_result"
    }
   ],
   "source": [
    "## 会死机\n",
    "# 创建 32x32 的彩色图片输入，个数为 4\n",
    "'''\n",
    "x = tf.random.normal([4,32,32,3])\n",
    "# 创建卷积神经网络\n",
    "layer = layers.Conv2D(16, kernel_size=3)\n",
    "# 前向计算\n",
    "out = layer(x) \n",
    "# 输出大小\n",
    "out.shape \n",
    "'''"
   ]
  },
  {
   "cell_type": "code",
   "execution_count": 53,
   "metadata": {},
   "outputs": [],
   "source": [
    "# 访问卷积核张量\n",
    "#layer.kernel.shape "
   ]
  },
  {
   "cell_type": "markdown",
   "metadata": {},
   "source": [
    "## 索引与切片\n",
    "### 索引"
   ]
  },
  {
   "cell_type": "code",
   "execution_count": 54,
   "metadata": {},
   "outputs": [],
   "source": [
    "# 创建4维张量\n",
    "x = tf.random.normal([4,32,32,3]) "
   ]
  },
  {
   "cell_type": "code",
   "execution_count": 55,
   "metadata": {
    "scrolled": true
   },
   "outputs": [
    {
     "data": {
      "text/plain": [
       "<tf.Tensor: shape=(32, 32, 3), dtype=float32, numpy=\n",
       "array([[[ 1.2545774 , -1.0170593 ,  0.02082   ],\n",
       "        [ 0.21327215, -2.1825764 , -0.54671514],\n",
       "        [-0.21446662,  0.28898394,  0.75723064],\n",
       "        ...,\n",
       "        [-1.8021274 , -0.42671084, -1.3394758 ],\n",
       "        [-0.04653804,  0.5682521 , -1.4023389 ],\n",
       "        [ 1.5029337 , -0.07159987,  0.57535034]],\n",
       "\n",
       "       [[-0.27369487,  1.4121635 ,  0.28168362],\n",
       "        [ 0.01800903, -0.7729349 ,  1.3797023 ],\n",
       "        [-0.5168264 ,  1.1987525 , -0.30684844],\n",
       "        ...,\n",
       "        [ 2.3188171 , -0.14195183, -0.8707891 ],\n",
       "        [ 0.42092633, -0.39236894,  1.1176186 ],\n",
       "        [ 0.360246  , -0.58662724,  0.89317346]],\n",
       "\n",
       "       [[ 0.46539912, -1.296782  , -0.76569223],\n",
       "        [ 0.39905614, -0.43602353,  1.3001657 ],\n",
       "        [ 1.3105263 ,  0.36291873,  1.6328793 ],\n",
       "        ...,\n",
       "        [ 0.82884216,  1.6621009 , -1.2801238 ],\n",
       "        [ 0.43498784, -0.2771078 ,  1.213158  ],\n",
       "        [ 0.98423755,  0.59390306,  1.0248052 ]],\n",
       "\n",
       "       ...,\n",
       "\n",
       "       [[-1.5965309 , -0.65929115, -1.4514191 ],\n",
       "        [-0.26865155,  0.8074527 ,  0.6785629 ],\n",
       "        [-1.8105494 ,  0.38714167,  1.9882447 ],\n",
       "        ...,\n",
       "        [ 0.30238456,  0.0718936 ,  0.70561755],\n",
       "        [ 0.49815282, -1.2316275 , -0.6334629 ],\n",
       "        [ 0.05095745, -0.3241729 ,  0.12253913]],\n",
       "\n",
       "       [[-0.36839923, -0.28471157,  0.28649083],\n",
       "        [-1.3290564 ,  0.9439659 , -1.0527836 ],\n",
       "        [ 0.8833958 ,  0.13313377, -0.45145103],\n",
       "        ...,\n",
       "        [-0.08223378, -0.14127737, -1.6692337 ],\n",
       "        [-1.6221449 , -1.097848  ,  0.23986131],\n",
       "        [-0.15516905,  2.591266  ,  1.0466568 ]],\n",
       "\n",
       "       [[-0.13223287,  0.73707473, -1.8948834 ],\n",
       "        [-1.7461786 , -0.14702374,  3.1880016 ],\n",
       "        [ 1.7915946 ,  0.21977872, -0.6500841 ],\n",
       "        ...,\n",
       "        [-0.39940974,  0.6563567 , -1.1388412 ],\n",
       "        [-1.088339  ,  1.3682783 , -0.14913695],\n",
       "        [ 0.18602604, -0.5241568 ,  0.7341843 ]]], dtype=float32)>"
      ]
     },
     "execution_count": 55,
     "metadata": {},
     "output_type": "execute_result"
    }
   ],
   "source": [
    "# 取第 1 张图片的数据\n",
    "x[0]"
   ]
  },
  {
   "cell_type": "code",
   "execution_count": 56,
   "metadata": {
    "scrolled": true
   },
   "outputs": [
    {
     "data": {
      "text/plain": [
       "<tf.Tensor: shape=(32, 3), dtype=float32, numpy=\n",
       "array([[-0.27369487,  1.4121635 ,  0.28168362],\n",
       "       [ 0.01800903, -0.7729349 ,  1.3797023 ],\n",
       "       [-0.5168264 ,  1.1987525 , -0.30684844],\n",
       "       [-0.9468006 ,  0.00732185, -0.00676857],\n",
       "       [-2.256179  , -0.44373134, -0.0562191 ],\n",
       "       [ 0.37595022,  0.9427263 , -2.758662  ],\n",
       "       [-0.27143145,  1.4982243 , -1.7196097 ],\n",
       "       [ 0.01312888,  0.6239445 , -1.2956845 ],\n",
       "       [-3.1363857 ,  0.27454135, -0.5306218 ],\n",
       "       [-0.78003544, -1.6704823 , -0.9359121 ],\n",
       "       [-1.448802  ,  0.77224904, -0.41489652],\n",
       "       [-0.48878458, -0.6514064 , -0.5546613 ],\n",
       "       [ 1.1635596 , -0.48536378,  1.0009813 ],\n",
       "       [-1.0121468 , -0.23655379, -0.25446948],\n",
       "       [-0.33776426,  0.17118722, -1.0826678 ],\n",
       "       [-1.3795882 , -0.9007333 , -0.12421604],\n",
       "       [-1.1348493 , -0.86449414,  1.0518949 ],\n",
       "       [ 0.43396842,  0.41446525,  0.21395993],\n",
       "       [ 1.2850289 , -0.7291185 , -0.09188025],\n",
       "       [ 2.0777323 , -1.772839  ,  0.08173442],\n",
       "       [ 0.3728286 , -0.36923248,  0.76995945],\n",
       "       [-0.02241498,  0.72935706, -0.39173812],\n",
       "       [-1.0005379 ,  0.17817408, -0.15076914],\n",
       "       [ 0.29354626,  2.50813   ,  2.5773647 ],\n",
       "       [ 0.87792856,  0.20296356,  3.001548  ],\n",
       "       [-0.5661634 , -1.5942559 , -0.63051105],\n",
       "       [ 0.7965496 ,  0.03921867,  0.70621866],\n",
       "       [ 0.6817173 , -2.0579007 ,  1.2940454 ],\n",
       "       [-0.04194605,  1.1035359 ,  0.31112027],\n",
       "       [ 2.3188171 , -0.14195183, -0.8707891 ],\n",
       "       [ 0.42092633, -0.39236894,  1.1176186 ],\n",
       "       [ 0.360246  , -0.58662724,  0.89317346]], dtype=float32)>"
      ]
     },
     "execution_count": 56,
     "metadata": {},
     "output_type": "execute_result"
    }
   ],
   "source": [
    "# 取第 1 张图片的第 2 行\n",
    "x[0][1]"
   ]
  },
  {
   "cell_type": "code",
   "execution_count": 57,
   "metadata": {},
   "outputs": [
    {
     "data": {
      "text/plain": [
       "<tf.Tensor: shape=(3,), dtype=float32, numpy=array([-0.5168264 ,  1.1987525 , -0.30684844], dtype=float32)>"
      ]
     },
     "execution_count": 57,
     "metadata": {},
     "output_type": "execute_result"
    }
   ],
   "source": [
    "# 取第 1 张图片，第 2 行，第 3 列的数据\n",
    "x[0][1][2]"
   ]
  },
  {
   "cell_type": "code",
   "execution_count": 58,
   "metadata": {},
   "outputs": [
    {
     "data": {
      "text/plain": [
       "<tf.Tensor: shape=(), dtype=float32, numpy=0.034506705>"
      ]
     },
     "execution_count": 58,
     "metadata": {},
     "output_type": "execute_result"
    }
   ],
   "source": [
    "# 取第 3 张图片，第 2 行，第 1 列的像素， B 通道(第 2 个通道)颜色强度值\n",
    "x[2][1][0][1]"
   ]
  },
  {
   "cell_type": "code",
   "execution_count": 59,
   "metadata": {},
   "outputs": [
    {
     "data": {
      "text/plain": [
       "<tf.Tensor: shape=(3,), dtype=float32, numpy=array([ 1.0922838 , -0.50789064, -1.2113303 ], dtype=float32)>"
      ]
     },
     "execution_count": 59,
     "metadata": {},
     "output_type": "execute_result"
    }
   ],
   "source": [
    "# 取第 2 张图片，第 10 行，第 3 列的数据\n",
    "x[1,9,2]"
   ]
  },
  {
   "cell_type": "markdown",
   "metadata": {},
   "source": [
    "### 切片"
   ]
  },
  {
   "cell_type": "code",
   "execution_count": 60,
   "metadata": {
    "scrolled": true
   },
   "outputs": [
    {
     "data": {
      "text/plain": [
       "<tf.Tensor: shape=(2, 32, 32, 3), dtype=float32, numpy=\n",
       "array([[[[ 0.8867247 , -0.338028  , -1.4309174 ],\n",
       "         [ 1.5751325 , -0.96558064,  1.0024261 ],\n",
       "         [-1.0185283 , -1.6963713 ,  0.7937141 ],\n",
       "         ...,\n",
       "         [-0.5661966 , -1.1826229 , -0.29436755],\n",
       "         [-1.2304176 ,  0.04800363, -0.8876361 ],\n",
       "         [ 0.2903763 , -0.46952146,  2.1569552 ]],\n",
       "\n",
       "        [[ 0.23080467, -0.69749624,  1.1988776 ],\n",
       "         [ 1.8113406 ,  1.0741656 , -1.253679  ],\n",
       "         [ 1.3089635 ,  1.3956884 ,  0.01996148],\n",
       "         ...,\n",
       "         [-1.6520303 , -0.19735892,  1.4991722 ],\n",
       "         [-0.56144375, -1.4162642 , -0.36117023],\n",
       "         [-1.0155089 ,  0.448156  , -0.5519001 ]],\n",
       "\n",
       "        [[ 1.8318013 ,  0.9017905 ,  0.4290015 ],\n",
       "         [-0.5160071 ,  1.7883003 , -0.23343036],\n",
       "         [ 0.61453795,  0.23706722,  0.10774346],\n",
       "         ...,\n",
       "         [ 2.192905  , -0.89318717,  0.2719069 ],\n",
       "         [ 0.22355455,  2.056685  , -0.97920996],\n",
       "         [ 1.9134163 , -0.2084771 , -0.38167936]],\n",
       "\n",
       "        ...,\n",
       "\n",
       "        [[-0.41002676, -1.1179801 ,  0.58851933],\n",
       "         [ 0.79503137, -0.697725  , -0.4584375 ],\n",
       "         [ 1.9260095 , -0.84408444, -1.3097041 ],\n",
       "         ...,\n",
       "         [ 0.6239432 ,  0.90994227,  2.4446056 ],\n",
       "         [ 0.98903   ,  0.59962845,  0.33529052],\n",
       "         [ 0.28202605, -0.02158878,  1.8318979 ]],\n",
       "\n",
       "        [[ 0.9752221 ,  1.1449717 , -0.12473267],\n",
       "         [ 0.9218256 ,  2.1129923 ,  1.3144143 ],\n",
       "         [ 0.06383854, -0.5561256 , -1.7163236 ],\n",
       "         ...,\n",
       "         [-0.15620086,  0.997917  ,  0.47336417],\n",
       "         [-0.4331362 , -0.07932245,  0.1339668 ],\n",
       "         [-0.6444835 ,  2.7198877 , -1.1699793 ]],\n",
       "\n",
       "        [[ 0.55576956,  0.27664402, -0.5162858 ],\n",
       "         [ 1.4676299 ,  0.3937415 ,  1.2256832 ],\n",
       "         [ 0.06578452,  0.5829338 ,  1.4184376 ],\n",
       "         ...,\n",
       "         [-0.5262536 , -1.065115  , -0.31808394],\n",
       "         [-0.28529942, -0.4405632 , -1.3580128 ],\n",
       "         [ 1.4194181 ,  1.0233264 , -1.1919116 ]]],\n",
       "\n",
       "\n",
       "       [[[-2.1131938 , -1.2461764 ,  1.7133362 ],\n",
       "         [ 1.4188809 , -0.11488269, -0.22774912],\n",
       "         [ 1.0240833 , -0.18962112, -0.49432963],\n",
       "         ...,\n",
       "         [-0.7809377 , -0.47846946,  0.6611313 ],\n",
       "         [-0.7418716 ,  0.01176785,  1.9412858 ],\n",
       "         [-0.28394398, -0.7394302 ,  1.580715  ]],\n",
       "\n",
       "        [[ 1.0380596 ,  0.0345067 , -1.8793918 ],\n",
       "         [ 2.4002094 , -1.5984687 ,  0.1540788 ],\n",
       "         [-1.1982186 , -0.0919693 , -1.9745475 ],\n",
       "         ...,\n",
       "         [-0.49022055,  1.183867  , -0.03075437],\n",
       "         [ 0.8821967 ,  0.09021195, -1.0981491 ],\n",
       "         [-2.0765967 ,  0.11271483, -2.1314805 ]],\n",
       "\n",
       "        [[-0.46920428, -1.1755621 , -1.3432517 ],\n",
       "         [ 1.5514256 ,  1.1093792 ,  1.0224967 ],\n",
       "         [-0.4960965 ,  0.796274  ,  0.5981498 ],\n",
       "         ...,\n",
       "         [-0.04446213,  1.596943  ,  1.3435334 ],\n",
       "         [ 0.1967187 ,  2.281537  , -0.5122279 ],\n",
       "         [-0.25289047, -0.03332983,  1.5870656 ]],\n",
       "\n",
       "        ...,\n",
       "\n",
       "        [[-0.37801862,  0.64349544,  1.0573589 ],\n",
       "         [ 0.36385536,  0.30648884,  1.1028217 ],\n",
       "         [ 0.15784857, -1.4790096 , -0.99328214],\n",
       "         ...,\n",
       "         [-0.4366745 , -0.41542777,  1.2324499 ],\n",
       "         [ 0.1821783 ,  2.4640455 ,  1.447994  ],\n",
       "         [-0.45628768,  0.08777791,  1.0547947 ]],\n",
       "\n",
       "        [[-0.572782  ,  0.04335846, -0.06329801],\n",
       "         [-0.5722721 , -0.7749274 ,  0.6369374 ],\n",
       "         [ 0.6145526 ,  1.3360112 ,  0.06590789],\n",
       "         ...,\n",
       "         [ 0.31941453,  2.0406353 , -0.99377126],\n",
       "         [ 0.7009616 , -1.1258655 ,  0.33818585],\n",
       "         [ 0.35493293,  1.6102258 , -2.6738842 ]],\n",
       "\n",
       "        [[-0.81566143,  0.35015833, -1.1238756 ],\n",
       "         [-0.00279742, -1.3006984 , -1.0787184 ],\n",
       "         [-0.36741793, -1.1267035 ,  1.4298776 ],\n",
       "         ...,\n",
       "         [ 1.3511962 ,  0.21501155,  0.43851823],\n",
       "         [ 1.2849194 ,  0.39761084, -0.46090862],\n",
       "         [-2.7247708 , -0.8325534 ,  2.1749144 ]]]], dtype=float32)>"
      ]
     },
     "execution_count": 60,
     "metadata": {},
     "output_type": "execute_result"
    }
   ],
   "source": [
    "# 读取第 2,3 张图片\n",
    "x[1:3]"
   ]
  },
  {
   "cell_type": "code",
   "execution_count": 61,
   "metadata": {
    "scrolled": true
   },
   "outputs": [
    {
     "data": {
      "text/plain": [
       "<tf.Tensor: shape=(32, 32, 3), dtype=float32, numpy=\n",
       "array([[[ 1.2545774 , -1.0170593 ,  0.02082   ],\n",
       "        [ 0.21327215, -2.1825764 , -0.54671514],\n",
       "        [-0.21446662,  0.28898394,  0.75723064],\n",
       "        ...,\n",
       "        [-1.8021274 , -0.42671084, -1.3394758 ],\n",
       "        [-0.04653804,  0.5682521 , -1.4023389 ],\n",
       "        [ 1.5029337 , -0.07159987,  0.57535034]],\n",
       "\n",
       "       [[-0.27369487,  1.4121635 ,  0.28168362],\n",
       "        [ 0.01800903, -0.7729349 ,  1.3797023 ],\n",
       "        [-0.5168264 ,  1.1987525 , -0.30684844],\n",
       "        ...,\n",
       "        [ 2.3188171 , -0.14195183, -0.8707891 ],\n",
       "        [ 0.42092633, -0.39236894,  1.1176186 ],\n",
       "        [ 0.360246  , -0.58662724,  0.89317346]],\n",
       "\n",
       "       [[ 0.46539912, -1.296782  , -0.76569223],\n",
       "        [ 0.39905614, -0.43602353,  1.3001657 ],\n",
       "        [ 1.3105263 ,  0.36291873,  1.6328793 ],\n",
       "        ...,\n",
       "        [ 0.82884216,  1.6621009 , -1.2801238 ],\n",
       "        [ 0.43498784, -0.2771078 ,  1.213158  ],\n",
       "        [ 0.98423755,  0.59390306,  1.0248052 ]],\n",
       "\n",
       "       ...,\n",
       "\n",
       "       [[-1.5965309 , -0.65929115, -1.4514191 ],\n",
       "        [-0.26865155,  0.8074527 ,  0.6785629 ],\n",
       "        [-1.8105494 ,  0.38714167,  1.9882447 ],\n",
       "        ...,\n",
       "        [ 0.30238456,  0.0718936 ,  0.70561755],\n",
       "        [ 0.49815282, -1.2316275 , -0.6334629 ],\n",
       "        [ 0.05095745, -0.3241729 ,  0.12253913]],\n",
       "\n",
       "       [[-0.36839923, -0.28471157,  0.28649083],\n",
       "        [-1.3290564 ,  0.9439659 , -1.0527836 ],\n",
       "        [ 0.8833958 ,  0.13313377, -0.45145103],\n",
       "        ...,\n",
       "        [-0.08223378, -0.14127737, -1.6692337 ],\n",
       "        [-1.6221449 , -1.097848  ,  0.23986131],\n",
       "        [-0.15516905,  2.591266  ,  1.0466568 ]],\n",
       "\n",
       "       [[-0.13223287,  0.73707473, -1.8948834 ],\n",
       "        [-1.7461786 , -0.14702374,  3.1880016 ],\n",
       "        [ 1.7915946 ,  0.21977872, -0.6500841 ],\n",
       "        ...,\n",
       "        [-0.39940974,  0.6563567 , -1.1388412 ],\n",
       "        [-1.088339  ,  1.3682783 , -0.14913695],\n",
       "        [ 0.18602604, -0.5241568 ,  0.7341843 ]]], dtype=float32)>"
      ]
     },
     "execution_count": 61,
     "metadata": {},
     "output_type": "execute_result"
    }
   ],
   "source": [
    "# 读取第一张图片\n",
    "x[0,::] "
   ]
  },
  {
   "cell_type": "code",
   "execution_count": 62,
   "metadata": {},
   "outputs": [
    {
     "data": {
      "text/plain": [
       "<tf.Tensor: shape=(4, 14, 14, 3), dtype=float32, numpy=\n",
       "array([[[[ 1.2545774e+00, -1.0170593e+00,  2.0820003e-02],\n",
       "         [-2.1446662e-01,  2.8898394e-01,  7.5723064e-01],\n",
       "         [-8.3671939e-01, -1.6107623e-01, -9.1035205e-01],\n",
       "         ...,\n",
       "         [ 1.5878419e+00,  6.0463589e-01,  8.3175009e-01],\n",
       "         [-6.0506177e-01,  6.6002417e-01, -4.2977223e-01],\n",
       "         [-3.2438061e-01,  7.9472029e-01, -7.8513235e-01]],\n",
       "\n",
       "        [[ 4.6539912e-01, -1.2967820e+00, -7.6569223e-01],\n",
       "         [ 1.3105263e+00,  3.6291873e-01,  1.6328793e+00],\n",
       "         [ 2.0225037e-02, -1.0550002e-01,  1.1871971e+00],\n",
       "         ...,\n",
       "         [ 1.4087859e+00, -2.4079413e+00,  9.7291535e-01],\n",
       "         [ 6.5193951e-02,  1.0466748e+00, -1.0891838e+00],\n",
       "         [-7.8339882e-02, -2.6639089e-01, -6.2809622e-01]],\n",
       "\n",
       "        [[ 2.2390328e-01,  1.2526652e+00,  3.1956699e-01],\n",
       "         [-4.0274900e-01, -1.0830327e+00, -1.0377827e+00],\n",
       "         [-2.3247400e-01, -1.8664018e+00, -6.1416805e-01],\n",
       "         ...,\n",
       "         [ 2.5065127e-01, -1.7210612e-01, -6.1137985e-02],\n",
       "         [ 2.1041114e+00,  1.6543914e-01,  1.2678694e+00],\n",
       "         [ 4.1983053e-01,  4.7031051e-01, -8.2471240e-01]],\n",
       "\n",
       "        ...,\n",
       "\n",
       "        [[ 2.7462405e-01,  1.5766041e-01, -1.7262510e+00],\n",
       "         [ 5.8621103e-01,  6.9421202e-01,  1.2049492e-01],\n",
       "         [ 7.9923555e-02, -7.9156198e-02, -2.6849124e-01],\n",
       "         ...,\n",
       "         [ 3.8265668e-02,  7.5641710e-01,  7.9554373e-01],\n",
       "         [ 2.7335504e-01,  1.8663523e+00, -4.8728189e-01],\n",
       "         [-3.8843772e-01,  7.3194408e-01, -1.3831097e+00]],\n",
       "\n",
       "        [[-1.9849055e-01, -2.9510677e-01,  9.7709554e-01],\n",
       "         [-1.3535737e+00,  9.3994969e-01, -1.4371747e+00],\n",
       "         [ 1.7636880e+00, -1.5748133e-01, -1.1005751e+00],\n",
       "         ...,\n",
       "         [ 1.3457632e+00, -1.5830295e+00, -2.7645257e-01],\n",
       "         [ 1.4936993e-01,  6.6234732e-01, -4.3778118e-02],\n",
       "         [ 1.3345252e+00, -9.3475294e-01,  1.7537290e+00]],\n",
       "\n",
       "        [[-8.0383950e-01,  9.0442181e-01,  1.1203963e+00],\n",
       "         [-4.4450173e-01, -1.0634130e+00, -1.4773312e-01],\n",
       "         [-2.2020188e-01, -3.8873309e-01,  8.2879233e-01],\n",
       "         ...,\n",
       "         [-7.2492409e-01, -1.1933979e+00,  5.5052835e-01],\n",
       "         [-2.1682602e-01, -8.4218858e-03,  1.6393658e-02],\n",
       "         [-1.4236095e+00, -1.1042360e+00,  5.2032405e-01]]],\n",
       "\n",
       "\n",
       "       [[[ 8.8672471e-01, -3.3802801e-01, -1.4309174e+00],\n",
       "         [-1.0185283e+00, -1.6963713e+00,  7.9371411e-01],\n",
       "         [-1.4113305e+00,  3.0194530e-01,  1.5174536e+00],\n",
       "         ...,\n",
       "         [ 9.0624350e-01, -4.6298969e-01,  4.9098164e-02],\n",
       "         [ 1.6388265e+00,  1.7550440e+00,  1.9676925e-01],\n",
       "         [ 1.1281258e+00,  1.6080350e+00, -1.0162145e+00]],\n",
       "\n",
       "        [[ 1.8318013e+00,  9.0179050e-01,  4.2900151e-01],\n",
       "         [ 6.1453795e-01,  2.3706722e-01,  1.0774346e-01],\n",
       "         [ 2.2446354e-01, -3.2314956e-01,  6.3510947e-02],\n",
       "         ...,\n",
       "         [ 2.5695999e+00,  4.3411395e-01, -3.0275536e-01],\n",
       "         [-5.6006007e-02, -9.9685711e-01, -2.6381892e-01],\n",
       "         [-3.7678571e+00, -3.3474877e-01,  8.0992085e-01]],\n",
       "\n",
       "        [[ 4.2111561e-01,  2.8546154e-01, -2.0004727e-01],\n",
       "         [ 5.8588421e-01,  8.2480609e-01, -1.3092431e+00],\n",
       "         [ 2.3000985e-01,  5.1599216e-01, -1.0170718e-01],\n",
       "         ...,\n",
       "         [ 4.0765664e-01,  2.5614155e-02,  6.0507381e-01],\n",
       "         [ 8.6433303e-01,  9.6864738e-02,  7.7905399e-01],\n",
       "         [ 2.8233550e+00,  2.0694697e+00, -3.3150056e-01]],\n",
       "\n",
       "        ...,\n",
       "\n",
       "        [[-1.5730438e+00,  1.0308948e+00, -1.7547697e-01],\n",
       "         [-2.9765800e-01,  9.4436300e-01, -1.3031677e+00],\n",
       "         [-7.0847556e-02,  9.2614454e-01, -1.9618801e+00],\n",
       "         ...,\n",
       "         [ 2.3457643e-01,  1.0107037e+00,  3.1933960e-01],\n",
       "         [-5.5291814e-01,  6.9410896e-01,  1.4226775e+00],\n",
       "         [-7.9949290e-01, -2.0830178e+00,  5.5077392e-01]],\n",
       "\n",
       "        [[-2.4442059e-01, -1.0361888e+00,  1.1240923e+00],\n",
       "         [-5.7775073e-02,  1.4444488e-01, -5.2652740e-01],\n",
       "         [-4.1001165e-01, -1.3860283e+00, -1.3330485e+00],\n",
       "         ...,\n",
       "         [ 1.6339751e-02, -2.6700509e-01, -7.1088201e-01],\n",
       "         [-9.4488335e-01, -4.2184609e-01,  1.7511032e+00],\n",
       "         [ 1.1631906e+00, -1.1306438e+00,  1.3004597e+00]],\n",
       "\n",
       "        [[ 1.2096807e-01, -1.1491313e+00, -5.3027511e-01],\n",
       "         [-6.7415458e-01,  4.7318235e-01,  2.6158905e-01],\n",
       "         [ 5.7722753e-01, -5.4890072e-01, -3.0151385e-01],\n",
       "         ...,\n",
       "         [ 8.8243216e-01,  4.1009593e-01,  7.7019840e-01],\n",
       "         [-7.3868597e-01, -4.5738551e-01, -1.5679446e+00],\n",
       "         [ 1.1714014e+00,  2.9830605e-01,  8.9672959e-01]]],\n",
       "\n",
       "\n",
       "       [[[-2.1131938e+00, -1.2461764e+00,  1.7133362e+00],\n",
       "         [ 1.0240833e+00, -1.8962112e-01, -4.9432963e-01],\n",
       "         [ 6.0446989e-02,  2.9413649e-01,  5.8321655e-01],\n",
       "         ...,\n",
       "         [ 1.4072905e-01, -6.8008766e-02,  5.3661263e-01],\n",
       "         [ 1.4386942e+00, -2.0897512e+00,  7.1152669e-01],\n",
       "         [ 1.7248415e+00, -8.4736025e-01,  1.4750563e+00]],\n",
       "\n",
       "        [[-4.6920428e-01, -1.1755621e+00, -1.3432517e+00],\n",
       "         [-4.9609649e-01,  7.9627401e-01,  5.9814978e-01],\n",
       "         [-1.4943292e+00, -1.2805125e+00, -5.9809315e-01],\n",
       "         ...,\n",
       "         [-4.7558719e-01, -6.0317141e-01,  8.9200616e-01],\n",
       "         [-1.6479678e+00, -3.3566141e-01, -8.0171955e-01],\n",
       "         [-1.1414912e+00,  9.9345577e-01, -5.5324984e-01]],\n",
       "\n",
       "        [[ 2.9328096e-01, -1.7196674e+00, -1.3785422e+00],\n",
       "         [-1.2612152e+00,  9.5267129e-01, -3.4523112e-01],\n",
       "         [-5.1652175e-01,  1.0314678e+00, -5.2001190e-01],\n",
       "         ...,\n",
       "         [-2.2350421e+00, -4.4372797e-01, -1.0150017e+00],\n",
       "         [ 1.5231612e+00,  7.8773159e-01,  1.4322636e-01],\n",
       "         [-2.9197025e-01,  3.3974293e-01,  1.0325258e+00]],\n",
       "\n",
       "        ...,\n",
       "\n",
       "        [[ 5.0627673e-01, -1.0437216e+00, -7.2703785e-01],\n",
       "         [-5.2777238e-02,  1.2670485e+00,  3.0564982e-01],\n",
       "         [ 6.3003081e-01, -3.1911945e-01, -1.3926517e+00],\n",
       "         ...,\n",
       "         [ 1.5895790e+00, -5.2852196e-01, -1.5465426e+00],\n",
       "         [-5.8865064e-01, -1.2793938e+00, -7.7782869e-01],\n",
       "         [ 6.2233871e-01, -8.0457307e-02,  7.0123470e-01]],\n",
       "\n",
       "        [[-8.7375879e-02,  3.1391636e-01, -3.0173001e-01],\n",
       "         [ 1.4145972e+00,  2.0379153e-01,  2.1347277e+00],\n",
       "         [-5.7074547e-01, -8.8767594e-01, -1.3508862e+00],\n",
       "         ...,\n",
       "         [-1.6835747e+00, -2.9589534e-01, -8.5168898e-01],\n",
       "         [ 9.1270578e-01, -1.1848133e+00, -4.9110526e-01],\n",
       "         [ 1.8869084e+00,  7.3884028e-01,  2.0794504e+00]],\n",
       "\n",
       "        [[ 3.3041984e-01,  1.5804532e+00, -2.0149982e+00],\n",
       "         [-7.1227384e-01, -1.7707548e-01, -7.2255826e-01],\n",
       "         [-3.1706762e-01, -4.8926103e-01,  2.6995555e-02],\n",
       "         ...,\n",
       "         [-1.1549628e+00, -9.4999927e-01,  1.5365817e-01],\n",
       "         [-5.6253278e-01, -4.8436880e-02,  3.2455519e-01],\n",
       "         [-2.6205841e-01, -1.1307864e+00, -5.1503962e-01]]],\n",
       "\n",
       "\n",
       "       [[[-6.2976688e-01, -5.6772238e-01, -6.7858350e-01],\n",
       "         [-1.5138674e-01,  1.1775813e+00, -6.3135356e-01],\n",
       "         [-1.8390607e+00, -2.5083616e-01,  3.1174639e-01],\n",
       "         ...,\n",
       "         [-1.1014372e+00,  7.7457970e-01, -9.1984344e-01],\n",
       "         [-4.5495352e-01,  8.6276925e-01,  9.7767033e-02],\n",
       "         [-8.4496224e-01, -8.6816323e-01,  1.4996514e+00]],\n",
       "\n",
       "        [[-1.9392849e+00,  9.5090878e-01,  8.8213015e-01],\n",
       "         [ 4.3770057e-01,  7.8264600e-01, -1.9149473e+00],\n",
       "         [-7.1214610e-01,  6.1687064e-01,  4.2790619e-01],\n",
       "         ...,\n",
       "         [-3.8591680e-01,  4.3078893e-01, -1.0462850e+00],\n",
       "         [ 2.1427153e-01, -6.7776717e-02, -4.7461706e-01],\n",
       "         [-4.3381068e-01, -1.6571522e+00, -9.4377577e-01]],\n",
       "\n",
       "        [[-1.1837534e+00, -5.2460396e-01, -1.8170577e+00],\n",
       "         [ 1.2353518e-01, -1.0408671e+00,  2.6203761e-01],\n",
       "         [ 7.5802404e-01,  6.5975678e-01, -3.0442306e-01],\n",
       "         ...,\n",
       "         [-1.4867374e+00, -1.3858254e+00, -3.3474211e-02],\n",
       "         [ 1.9121363e+00, -7.0842272e-01,  1.8400744e+00],\n",
       "         [-9.1994512e-01, -8.3772266e-01,  5.3485221e-01]],\n",
       "\n",
       "        ...,\n",
       "\n",
       "        [[-1.0298339e+00,  2.0700960e-01,  9.0622552e-02],\n",
       "         [-1.7431498e-01,  3.2827374e-01,  6.7589188e-01],\n",
       "         [-8.8885528e-01,  8.7840879e-01,  1.6713141e+00],\n",
       "         ...,\n",
       "         [ 8.7782764e-01,  5.1560420e-01,  7.8330532e-02],\n",
       "         [-5.8428347e-01, -5.0052643e-01, -2.1037259e+00],\n",
       "         [ 3.8856801e-01,  2.5564611e-01,  1.0467383e+00]],\n",
       "\n",
       "        [[ 4.2936096e-01, -1.2747355e-02, -3.9453360e-01],\n",
       "         [-4.7375354e-01,  6.3671911e-01, -4.6619084e-01],\n",
       "         [ 9.1002721e-01, -8.9814419e-01,  2.8672972e+00],\n",
       "         ...,\n",
       "         [-6.6636783e-01,  1.2127048e+00, -1.2177550e+00],\n",
       "         [-7.1344250e-01,  7.9871729e-02,  9.7048372e-01],\n",
       "         [-1.2116706e-01, -1.2985905e+00, -8.3223999e-01]],\n",
       "\n",
       "        [[-7.0994511e-02, -1.3788651e-01, -3.6654484e-01],\n",
       "         [-2.2333915e+00, -1.1835247e-01, -9.6855873e-01],\n",
       "         [ 5.5057704e-02, -6.4852244e-01, -6.2597609e-01],\n",
       "         ...,\n",
       "         [-1.0880119e+00,  9.4168544e-01,  6.1543858e-01],\n",
       "         [ 2.1102922e-03,  4.4949046e-01, -8.0285537e-01],\n",
       "         [ 9.0039432e-01, -4.0895853e-02, -4.5212257e-01]]]],\n",
       "      dtype=float32)>"
      ]
     },
     "execution_count": 62,
     "metadata": {},
     "output_type": "execute_result"
    }
   ],
   "source": [
    "x[:,0:28:2,0:28:2,:]"
   ]
  },
  {
   "cell_type": "code",
   "execution_count": 63,
   "metadata": {},
   "outputs": [
    {
     "data": {
      "text/plain": [
       "<tf.Tensor: shape=(8,), dtype=int32, numpy=array([8, 7, 6, 5, 4, 3, 2, 1])>"
      ]
     },
     "execution_count": 63,
     "metadata": {},
     "output_type": "execute_result"
    }
   ],
   "source": [
    "# 考虑一个 0~9 的简单序列向量， 逆序取到第 1 号元素，不包含第 1 号\n",
    "# 创建 0~9 向量\n",
    "x = tf.range(9) \n",
    "# 从 8 取到 0，逆序，不包含 0\n",
    "x[8:0:-1] "
   ]
  },
  {
   "cell_type": "code",
   "execution_count": 64,
   "metadata": {},
   "outputs": [
    {
     "data": {
      "text/plain": [
       "<tf.Tensor: shape=(9,), dtype=int32, numpy=array([8, 7, 6, 5, 4, 3, 2, 1, 0])>"
      ]
     },
     "execution_count": 64,
     "metadata": {},
     "output_type": "execute_result"
    }
   ],
   "source": [
    "# 逆序全部元素\n",
    "x[::-1] "
   ]
  },
  {
   "cell_type": "code",
   "execution_count": 65,
   "metadata": {},
   "outputs": [
    {
     "data": {
      "text/plain": [
       "<tf.Tensor: shape=(5,), dtype=int32, numpy=array([8, 6, 4, 2, 0])>"
      ]
     },
     "execution_count": 65,
     "metadata": {},
     "output_type": "execute_result"
    }
   ],
   "source": [
    "# 逆序间隔采样\n",
    "x[::-2] "
   ]
  },
  {
   "cell_type": "markdown",
   "metadata": {},
   "source": [
    "读取每张图片的所有通道，其中行按着逆序隔行采样，列按着逆序隔行采样"
   ]
  },
  {
   "cell_type": "code",
   "execution_count": 66,
   "metadata": {},
   "outputs": [
    {
     "data": {
      "text/plain": [
       "<tf.Tensor: shape=(16, 16, 3), dtype=float32, numpy=\n",
       "array([[[-9.95936394e-02,  8.82336736e-01, -2.22658459e-02],\n",
       "        [ 7.01684296e-01,  7.04878867e-01, -4.64812666e-01],\n",
       "        [-1.93915024e-01, -6.48531139e-01,  1.15222013e+00],\n",
       "        [-6.32495224e-01,  4.31432337e-01,  8.35550249e-01],\n",
       "        [-7.31612742e-01,  6.85788691e-01,  4.48920757e-01],\n",
       "        [-3.45843911e-01, -1.47717917e+00,  1.06461942e+00],\n",
       "        [ 1.14014447e+00, -5.02861798e-01, -7.57571459e-01],\n",
       "        [ 1.55264223e+00, -4.87770706e-01,  1.78656876e-01],\n",
       "        [-3.07022452e-01, -4.30840731e-01, -3.00106823e-01],\n",
       "        [ 1.17470670e+00,  1.26714694e+00, -3.43394101e-01],\n",
       "        [ 6.25606835e-01, -1.21786499e+00, -2.69864619e-01],\n",
       "        [ 1.89580858e+00, -8.69623780e-01, -7.26907611e-01],\n",
       "        [-8.33853126e-01, -1.53253770e+00,  9.80700254e-01],\n",
       "        [-6.70542657e-01,  4.02551055e-01, -1.85248375e+00],\n",
       "        [-8.74813795e-01,  1.24636018e+00, -1.29300486e-02],\n",
       "        [-6.04968905e-01,  1.80016911e+00,  2.04491511e-01]],\n",
       "\n",
       "       [[-3.50992560e-01, -9.47558701e-01,  7.26803958e-01],\n",
       "        [ 2.34976768e+00, -3.63738209e-01, -1.96120843e-01],\n",
       "        [-2.48485263e-02,  2.23839736e+00,  5.06836772e-01],\n",
       "        [-2.95687109e-01, -1.66824424e+00, -1.79654896e+00],\n",
       "        [ 1.97850570e-01, -3.99037391e-01,  1.68482673e+00],\n",
       "        [-2.78616548e-01, -1.39140463e+00,  1.62651944e+00],\n",
       "        [ 3.79466385e-01, -6.55571282e-01, -1.35269821e-01],\n",
       "        [-1.15564620e+00, -9.52802598e-02, -5.20006835e-01],\n",
       "        [-6.81026459e-01, -9.85429227e-01,  3.12276036e-01],\n",
       "        [ 2.77460694e-01,  4.41027343e-01,  2.51024932e-01],\n",
       "        [-6.10234439e-01, -1.45928371e+00,  1.24959096e-01],\n",
       "        [ 5.99512160e-01,  9.56510365e-01,  2.63795662e+00],\n",
       "        [-1.27378500e+00,  1.27636507e-01, -1.90933836e+00],\n",
       "        [-1.10586077e-01, -8.95520389e-01, -2.28658885e-01],\n",
       "        [ 1.34047580e+00,  1.61709452e+00, -1.49428219e-01],\n",
       "        [ 1.07765722e+00,  3.54155332e-01,  6.99778557e-01]],\n",
       "\n",
       "       [[-3.13403666e-01, -8.68779361e-01,  1.24314439e+00],\n",
       "        [ 7.12693989e-01, -9.14454103e-01,  7.84677446e-01],\n",
       "        [-1.59856474e+00, -1.16385734e+00,  3.54049295e-01],\n",
       "        [-1.41261113e+00,  1.57517517e+00, -9.09456551e-01],\n",
       "        [-6.61599517e-01,  1.93510771e-01,  1.79854035e+00],\n",
       "        [-2.35175475e-01, -4.02811654e-02, -7.24182606e-01],\n",
       "        [-8.64747703e-01, -7.21090212e-02, -2.37460232e+00],\n",
       "        [-1.61505416e-01,  1.09146726e+00, -1.22299349e+00],\n",
       "        [ 2.58212537e-01,  1.40875030e+00, -9.61216331e-01],\n",
       "        [-5.61706066e-01,  1.26448369e+00,  7.97761008e-02],\n",
       "        [ 3.23318571e-01, -2.78151453e-01,  6.86109960e-01],\n",
       "        [-3.42564762e-01,  7.76973844e-01, -7.17629373e-01],\n",
       "        [ 1.58067489e+00, -1.10540485e+00, -1.22176373e+00],\n",
       "        [ 6.11545503e-01,  4.37453538e-02, -8.79329264e-01],\n",
       "        [-8.49665940e-01,  2.98412032e-02,  4.27078933e-01],\n",
       "        [-4.34694946e-01,  1.86159885e+00, -7.74301648e-01]],\n",
       "\n",
       "       [[ 9.70860839e-01,  9.02330160e-01, -2.74414212e-01],\n",
       "        [ 1.71294093e-01,  9.05636609e-01, -2.96339989e+00],\n",
       "        [ 6.55475199e-01, -3.13463002e-01,  1.23353088e+00],\n",
       "        [ 1.15688324e-01,  1.03252578e+00, -1.84923482e+00],\n",
       "        [ 1.06119525e+00,  1.74952567e+00,  1.16964793e+00],\n",
       "        [ 2.38792971e-01,  2.04032391e-01,  7.30986714e-01],\n",
       "        [ 1.20482787e-01,  1.75460792e+00, -6.04902267e-01],\n",
       "        [ 2.60625029e+00, -2.73718715e-01,  3.57138783e-01],\n",
       "        [ 3.23237866e-01, -1.17316639e+00, -8.28532636e-01],\n",
       "        [-8.61496091e-01, -7.75831103e-01,  1.40500259e+00],\n",
       "        [ 5.11905313e-01, -9.52501357e-01, -5.50642870e-02],\n",
       "        [-7.19088852e-01,  1.17147219e+00, -1.28184462e+00],\n",
       "        [ 6.79981291e-01, -1.34260714e+00,  1.87264428e-01],\n",
       "        [ 7.38487422e-01,  7.79309392e-01,  7.68671155e-01],\n",
       "        [ 1.48898780e+00, -9.14913535e-01, -1.41917622e+00],\n",
       "        [ 1.09794724e+00, -1.63264990e-01,  1.41582322e+00]],\n",
       "\n",
       "       [[-7.81591594e-01, -2.92117059e-01,  7.94610262e-01],\n",
       "        [ 1.47030711e+00,  4.05298978e-01, -1.35981679e+00],\n",
       "        [ 1.22288018e-01,  7.97809422e-01,  1.05176330e+00],\n",
       "        [-1.74250528e-01, -1.26465768e-01, -1.30077943e-01],\n",
       "        [ 5.89358807e-01, -9.80561793e-01,  1.51422441e+00],\n",
       "        [-2.07513118e+00, -4.12011415e-01,  8.38116825e-01],\n",
       "        [-1.01016855e+00, -5.26598752e-01, -1.16096902e+00],\n",
       "        [-2.43471608e-01, -7.32629001e-01, -1.08326387e+00],\n",
       "        [-6.81195617e-01,  6.20039880e-01,  9.10223722e-01],\n",
       "        [ 1.65043938e+00,  1.88168216e+00, -3.28447253e-01],\n",
       "        [ 2.94429481e-01,  1.88802922e+00, -2.24261379e+00],\n",
       "        [ 3.71508092e-01,  2.65074670e-01,  1.03385011e-02],\n",
       "        [-1.06012416e+00, -1.12792945e+00, -1.14550483e+00],\n",
       "        [ 2.54381716e-01,  1.43342510e-01,  7.80349001e-02],\n",
       "        [ 1.33269751e+00,  2.18358278e+00, -2.94822846e-02],\n",
       "        [-3.11014342e+00,  6.90126538e-01,  4.51511621e-01]],\n",
       "\n",
       "       [[-9.21446383e-01,  4.92773838e-02, -6.68912172e-01],\n",
       "        [ 6.19216144e-01,  2.93510288e-01,  1.83927631e+00],\n",
       "        [-1.08375156e+00, -2.40477872e+00, -9.32885036e-02],\n",
       "        [-1.41379938e-01,  2.19236898e+00, -1.48608792e+00],\n",
       "        [ 2.84527481e-01,  1.34335482e+00, -1.23578155e+00],\n",
       "        [ 1.81319684e-01, -9.74385381e-01,  3.17635596e-01],\n",
       "        [-4.89744604e-01, -1.39137819e-01,  1.44423270e+00],\n",
       "        [ 7.98842967e-01,  3.66222888e-01,  5.56179404e-01],\n",
       "        [-7.59784102e-01,  7.05464721e-01, -4.94988263e-02],\n",
       "        [-3.54559630e-01, -3.74716938e-01,  9.80564773e-01],\n",
       "        [ 5.24969697e-01,  1.79611266e+00,  8.55795383e-01],\n",
       "        [-2.32448697e+00,  2.03642711e-01, -2.73261825e-03],\n",
       "        [ 1.67319512e+00,  1.14262402e+00,  9.41296220e-01],\n",
       "        [ 6.51129007e-01,  1.86255538e+00, -6.52399123e-01],\n",
       "        [ 8.77264321e-01, -8.03532064e-01,  8.25080991e-01],\n",
       "        [-8.17027807e-01, -2.12189808e-01,  1.28668475e+00]],\n",
       "\n",
       "       [[-8.83157790e-01, -7.27757037e-01,  9.11062241e-01],\n",
       "        [-1.46281552e+00, -4.20105100e-01,  2.63670772e-01],\n",
       "        [-2.59864986e-01,  1.85813665e+00, -1.92852646e-01],\n",
       "        [-1.11476183e-01, -1.95735455e-01, -1.04157817e+00],\n",
       "        [ 5.75687110e-01,  7.62747109e-01, -9.53562438e-01],\n",
       "        [ 1.33824682e+00,  3.41310427e-02,  9.10313800e-03],\n",
       "        [ 3.95200789e-01,  5.26295304e-01,  8.97802353e-01],\n",
       "        [ 2.10926890e+00, -5.77153683e-01,  1.80424702e+00],\n",
       "        [-2.72038728e-01,  8.26728702e-01,  1.46270728e+00],\n",
       "        [ 3.56797814e-01,  1.55886984e+00, -3.24762017e-01],\n",
       "        [-9.75721002e-01, -8.65341365e-01, -1.24277508e+00],\n",
       "        [-2.78773159e-02,  2.55156875e-01, -1.04224019e-01],\n",
       "        [ 1.94017783e-01, -6.78511932e-02,  1.94017112e-01],\n",
       "        [-1.24357820e+00, -3.15821290e-01, -7.25224137e-01],\n",
       "        [ 9.45407629e-01, -6.48764133e-01,  9.22471225e-01],\n",
       "        [ 7.10685611e-01, -5.08571640e-02,  1.28608990e+00]],\n",
       "\n",
       "       [[ 1.42017555e+00, -3.82174373e-01, -1.61406547e-02],\n",
       "        [ 1.10259902e+00,  3.86255354e-01,  9.47980344e-01],\n",
       "        [ 1.73474550e+00,  3.65450867e-02, -1.64096701e+00],\n",
       "        [-1.51853931e+00,  2.60825300e+00,  8.05616677e-01],\n",
       "        [-1.10205388e+00, -5.16890407e-01, -9.89569545e-01],\n",
       "        [-4.86836940e-01, -8.60307217e-02, -7.25144923e-01],\n",
       "        [ 1.67625082e+00,  6.76499665e-01,  2.57172316e-01],\n",
       "        [ 8.44036341e-01, -8.44416142e-01,  5.32424867e-01],\n",
       "        [-1.32200456e+00,  9.37252402e-01,  7.43011981e-02],\n",
       "        [-4.52259302e-01,  4.06272352e-01,  7.28258014e-01],\n",
       "        [-9.34789836e-01, -3.57493609e-01, -7.82021224e-01],\n",
       "        [ 1.78083435e-01, -3.75270277e-01,  9.90626097e-01],\n",
       "        [ 6.96817458e-01,  1.07315099e+00, -1.51021052e-02],\n",
       "        [ 1.98465943e+00,  5.17252862e-01, -3.84813726e-01],\n",
       "        [-8.06170106e-01, -5.77017307e-01,  1.02529705e+00],\n",
       "        [-5.82908750e-01, -1.52869999e-01, -9.25994039e-01]],\n",
       "\n",
       "       [[-7.11313903e-01,  1.26173794e+00, -4.19308543e-01],\n",
       "        [ 4.86176103e-01, -1.14713693e+00,  5.79708554e-02],\n",
       "        [ 2.58911610e-01, -1.48310339e+00,  5.42704761e-01],\n",
       "        [ 1.56111628e-01,  7.92048633e-01,  3.61900419e-01],\n",
       "        [-5.09113312e-01, -5.29657602e-01,  8.56330872e-01],\n",
       "        [ 3.58910322e-01, -1.85038126e+00,  8.06725681e-01],\n",
       "        [-5.46732962e-01, -6.64935648e-01,  1.00588357e+00],\n",
       "        [ 1.80644751e+00,  6.72587097e-01,  9.77744997e-01],\n",
       "        [ 1.41096115e+00,  2.16832116e-01, -1.33715630e-01],\n",
       "        [ 5.22235751e-01, -6.73327625e-01, -1.06416094e+00],\n",
       "        [-9.98547852e-01,  2.74681598e-01,  6.51452720e-01],\n",
       "        [-3.62721324e-01,  6.78350210e-01, -8.75573814e-01],\n",
       "        [-2.14567327e+00, -1.47782826e+00,  2.31597453e-01],\n",
       "        [ 5.87888777e-01,  2.47394845e-01,  1.58592686e-02],\n",
       "        [ 9.71285999e-01,  1.93979427e-01, -6.64106846e-01],\n",
       "        [-1.03204405e+00,  9.86821651e-01, -4.96202767e-01]],\n",
       "\n",
       "       [[ 1.33176935e+00, -2.84866661e-01,  1.30722177e+00],\n",
       "        [-3.63073617e-01,  7.50568658e-02, -7.12870657e-01],\n",
       "        [-1.86398339e+00,  1.81567299e+00, -4.97500032e-01],\n",
       "        [-5.11430681e-01,  1.04217768e+00, -2.57589277e-02],\n",
       "        [ 9.72860277e-01,  3.08026280e-02, -2.86819309e-01],\n",
       "        [ 2.17687321e+00, -7.47347534e-01, -2.20855713e-01],\n",
       "        [ 5.00818133e-01,  7.03772485e-01,  7.76805401e-01],\n",
       "        [-3.08722146e-02, -3.80101979e-01, -1.93887043e+00],\n",
       "        [ 6.56965971e-01,  6.63576841e-01, -5.64198792e-01],\n",
       "        [ 2.56410271e-01,  5.42898238e-01, -1.18761218e+00],\n",
       "        [-1.94656979e-02,  1.20833123e+00, -2.12948680e+00],\n",
       "        [ 5.09271771e-02, -1.04471993e+00,  6.79829657e-01],\n",
       "        [ 3.38965088e-01,  3.41912359e-01, -5.91294587e-01],\n",
       "        [ 7.30235994e-01,  9.20426905e-01, -1.95388508e+00],\n",
       "        [ 1.38436937e+00,  1.99266171e+00, -1.59914479e-01],\n",
       "        [-2.58596927e-01, -1.06231928e+00,  8.05704772e-01]],\n",
       "\n",
       "       [[-2.76003146e+00,  1.02941918e+00, -1.07662630e+00],\n",
       "        [ 1.23280573e+00,  2.01722309e-01,  1.72279608e+00],\n",
       "        [-2.45182902e-01,  5.26984394e-01, -1.45745307e-01],\n",
       "        [-4.97906841e-02,  1.82499683e+00,  1.33868051e+00],\n",
       "        [ 1.82347775e-01, -9.99751091e-02, -3.03419423e-03],\n",
       "        [-1.77804053e+00, -1.17411986e-01, -1.44384170e+00],\n",
       "        [-5.35630882e-01, -1.18487738e-02, -1.17357981e+00],\n",
       "        [-5.29103816e-01,  3.94844115e-01,  3.34875017e-01],\n",
       "        [-4.78339761e-01, -9.64359105e-01, -2.90833026e-01],\n",
       "        [ 8.03774953e-01,  1.09840363e-01,  3.61731462e-02],\n",
       "        [ 5.49326003e-01,  1.39068589e-01, -2.19729841e-01],\n",
       "        [-7.86196291e-01,  1.87157202e+00, -2.33739465e-02],\n",
       "        [-5.97013056e-01,  1.06726980e+00, -2.34376267e-01],\n",
       "        [ 4.58644539e-01, -5.97150624e-02,  2.71817058e-01],\n",
       "        [ 2.48199511e+00,  1.06671250e+00,  1.79661548e+00],\n",
       "        [ 4.61402953e-01, -5.66425622e-01,  1.96573839e-01]],\n",
       "\n",
       "       [[ 4.45644796e-01, -1.72419560e+00, -3.71138334e-01],\n",
       "        [ 5.31719863e-01, -8.76708269e-01, -4.97060567e-01],\n",
       "        [-5.70866108e-01,  3.62498909e-02,  8.85326028e-01],\n",
       "        [ 1.12073794e-01, -6.75134808e-02,  1.77243459e+00],\n",
       "        [-2.13960290e+00,  7.56727636e-01,  5.24255991e-01],\n",
       "        [-6.86498344e-01, -7.41895080e-01, -6.72494292e-01],\n",
       "        [-1.75062776e+00,  1.34773207e+00,  1.66168988e+00],\n",
       "        [-1.61158752e+00, -1.01093002e-01, -1.57101348e-01],\n",
       "        [ 3.74446571e-01,  1.70948684e+00, -1.29666126e+00],\n",
       "        [ 1.19591546e+00,  2.61481196e-01,  5.57570159e-01],\n",
       "        [ 4.03545260e-01, -1.40757471e-01,  9.12994862e-01],\n",
       "        [-4.26049203e-01,  1.17177331e+00, -3.70036185e-01],\n",
       "        [ 4.48610842e-01, -5.34721375e-01, -1.44207740e+00],\n",
       "        [ 7.10510731e-01,  2.08541617e-01, -7.77946293e-01],\n",
       "        [ 1.08273888e+00, -1.38269806e+00,  1.80896568e+00],\n",
       "        [ 7.65260518e-01,  8.30600739e-01, -3.29973668e-01]],\n",
       "\n",
       "       [[ 8.51682603e-01,  4.56409752e-01, -1.57958567e+00],\n",
       "        [ 1.29555511e+00,  1.47041333e+00, -1.20885062e+00],\n",
       "        [-8.13921273e-01,  2.23126337e-01, -1.21634912e+00],\n",
       "        [ 8.23097304e-02, -2.18318552e-01, -7.01760411e-01],\n",
       "        [ 9.20184910e-01,  1.28298700e-01,  8.75173688e-01],\n",
       "        [-4.86486584e-01,  6.96419418e-01, -2.47079372e+00],\n",
       "        [-2.59404922e+00,  1.11612594e+00, -3.73062640e-01],\n",
       "        [-1.75062776e+00, -6.93238378e-01,  1.00331247e+00],\n",
       "        [ 1.68003726e+00,  7.73556471e-01, -2.77099967e-01],\n",
       "        [-8.87168169e-01,  1.37747073e+00, -2.52512860e+00],\n",
       "        [ 1.41582954e+00, -8.67986679e-01, -7.22607374e-01],\n",
       "        [-9.69140053e-01, -1.43729389e+00,  3.56908679e-01],\n",
       "        [ 9.75519180e-01,  5.99124432e-01,  1.59771085e+00],\n",
       "        [ 8.96289706e-01,  7.39427060e-02, -6.27763718e-02],\n",
       "        [ 9.25095737e-01, -2.47340173e-01,  1.15977256e-02],\n",
       "        [-1.40569103e+00, -8.86124074e-01,  1.73764133e+00]],\n",
       "\n",
       "       [[ 4.32646394e-01,  1.70454644e-02,  2.04554391e+00],\n",
       "        [-8.40110064e-01,  6.53638005e-01,  3.76068711e-01],\n",
       "        [ 1.16560149e+00,  4.51272167e-02,  7.72564292e-01],\n",
       "        [-1.88692138e-01, -1.69968092e+00,  4.54903394e-01],\n",
       "        [-1.34941852e+00, -1.20031953e+00,  4.66900952e-02],\n",
       "        [-2.13356644e-01, -5.99259138e-01,  8.03865731e-01],\n",
       "        [ 3.00940782e-01,  5.31888664e-01,  9.48118091e-01],\n",
       "        [ 1.11640334e+00, -1.51088193e-01, -5.84331155e-01],\n",
       "        [ 1.27983525e-01,  2.03772449e+00, -4.01910514e-01],\n",
       "        [-1.37368727e+00,  1.16964269e+00, -7.26500601e-02],\n",
       "        [ 2.08588280e-02,  1.49056029e+00, -3.05736989e-01],\n",
       "        [ 6.30805373e-01,  1.19439292e+00, -2.63583630e-01],\n",
       "        [ 8.55085373e-01, -1.26195836e+00,  2.61729479e-01],\n",
       "        [-5.21504223e-01,  3.83185060e-03,  6.05849266e-01],\n",
       "        [ 1.86187439e-02, -1.02295375e+00, -8.03479850e-01],\n",
       "        [ 1.74578547e+00,  1.17714632e+00,  2.38232519e-02]],\n",
       "\n",
       "       [[ 6.54002309e-01,  8.85603726e-01, -1.38339376e+00],\n",
       "        [ 3.20840240e-01, -2.14190364e+00,  4.01941240e-01],\n",
       "        [ 9.81236339e-01, -1.10601389e+00, -9.30272222e-01],\n",
       "        [ 1.31027424e+00, -6.83618724e-01, -3.90993357e-01],\n",
       "        [ 7.22336292e-01, -3.41772020e-01,  1.16909727e-01],\n",
       "        [-2.01322407e-01,  7.40941882e-01, -4.14255589e-01],\n",
       "        [-5.75880945e-01, -8.61200988e-01, -4.05373514e-01],\n",
       "        [ 1.31675327e+00, -8.68877888e-01, -3.87427896e-01],\n",
       "        [ 7.26100206e-01, -6.99558020e-01, -4.19104517e-01],\n",
       "        [ 1.35873485e+00, -1.06485820e+00, -1.47222924e+00],\n",
       "        [-4.34488237e-01,  1.44435346e+00, -3.81672412e-01],\n",
       "        [-9.01052535e-01, -4.05567229e-01, -1.13320386e+00],\n",
       "        [-5.34581468e-02,  1.79053473e+00, -1.09897220e+00],\n",
       "        [ 2.92085540e-02, -1.68193614e+00,  5.90183020e-01],\n",
       "        [ 9.02903140e-01,  1.85001776e-01,  8.46726596e-01],\n",
       "        [-8.20851624e-01,  1.61424756e+00, -8.32885653e-02]],\n",
       "\n",
       "       [[ 1.34570551e+00,  2.03009152e+00,  1.23153947e-01],\n",
       "        [-2.49410093e-01, -8.65493178e-01, -2.37993526e+00],\n",
       "        [ 1.88343525e+00, -5.71607053e-01, -1.11534429e+00],\n",
       "        [-1.25097539e-02,  1.03230150e-02,  5.20857751e-01],\n",
       "        [-5.57685852e-01,  8.63904506e-02, -3.52607280e-01],\n",
       "        [-6.43502295e-01,  1.39735460e+00, -1.99994934e+00],\n",
       "        [ 8.43438029e-01,  1.00665402e+00,  1.68907773e+00],\n",
       "        [ 1.04654467e+00,  2.46852618e-02,  1.41080761e+00],\n",
       "        [ 1.34732819e+00,  8.28363776e-01,  7.60313451e-01],\n",
       "        [-1.02752113e+00, -1.53707504e+00,  1.45843327e+00],\n",
       "        [-5.92067897e-01,  1.01770365e+00, -4.52909440e-01],\n",
       "        [ 1.92718312e-01, -5.44733405e-01,  3.93790826e-02],\n",
       "        [ 2.92319846e+00, -4.45225127e-02,  4.46939915e-01],\n",
       "        [ 4.28681076e-01,  1.85683861e-01, -1.06975198e+00],\n",
       "        [-1.40999898e-01,  1.42605126e+00,  1.77864397e+00],\n",
       "        [ 5.43457381e-02,  1.48731619e-01,  1.27790546e+00]]],\n",
       "      dtype=float32)>"
      ]
     },
     "execution_count": 66,
     "metadata": {},
     "output_type": "execute_result"
    }
   ],
   "source": [
    "x = tf.random.normal([4,32,32,3])\n",
    "# 行、列逆序间隔采样\n",
    "x[0,::-2,::-2] "
   ]
  },
  {
   "cell_type": "code",
   "execution_count": 67,
   "metadata": {
    "scrolled": true
   },
   "outputs": [
    {
     "data": {
      "text/plain": [
       "<tf.Tensor: shape=(4, 32, 32), dtype=float32, numpy=\n",
       "array([[[-0.43485448,  0.59878385,  0.10812633, ...,  0.37309998,\n",
       "         -1.8077748 ,  1.2934529 ],\n",
       "        [ 0.67328906,  0.14873162, -0.06061584, ..., -0.8654932 ,\n",
       "         -0.11128695,  2.0300915 ],\n",
       "        [-0.13634354,  1.1417246 , -0.00953978, ...,  0.7543638 ,\n",
       "         -0.54992014,  0.47776836],\n",
       "        ...,\n",
       "        [ 0.07220273,  0.35415533,  1.5137832 , ..., -0.3637382 ,\n",
       "          0.2252399 , -0.9475587 ],\n",
       "        [ 1.2919954 ,  0.54189277,  0.9535876 , ..., -0.87958264,\n",
       "          1.6228554 , -0.13720566],\n",
       "        [-0.21788535,  1.8001691 , -0.323124  , ...,  0.70487887,\n",
       "          0.3843003 ,  0.88233674]],\n",
       "\n",
       "       [[ 0.2524799 ,  1.0996078 ,  0.22496632, ...,  0.1850968 ,\n",
       "          1.7631083 ,  0.10119608],\n",
       "        [ 1.2359561 , -0.66114783,  0.0201116 , ...,  0.7427121 ,\n",
       "         -1.0807939 ,  0.24089292],\n",
       "        [ 0.32663518,  1.3744712 ,  2.662527  , ..., -0.8146008 ,\n",
       "         -0.16113637, -1.5895308 ],\n",
       "        ...,\n",
       "        [ 0.82102025,  0.6104424 ,  0.5981882 , ...,  0.9449682 ,\n",
       "          1.3681662 ,  0.04271709],\n",
       "        [ 0.55495226, -0.8211644 ,  0.04656341, ..., -0.83204985,\n",
       "         -0.7690614 , -1.7561703 ],\n",
       "        [-0.9054936 ,  0.56380695,  1.4125619 , ..., -0.32644317,\n",
       "          1.1232158 ,  0.89549506]],\n",
       "\n",
       "       [[-0.00381852, -0.06616333,  1.2527987 , ...,  0.68851   ,\n",
       "          0.5365708 , -0.3996083 ],\n",
       "        [ 0.33730692, -0.3020712 , -0.13271035, ..., -0.9543225 ,\n",
       "          0.538134  ,  0.7732443 ],\n",
       "        [ 0.28440726,  1.1565074 ,  0.7784413 , ...,  1.0424658 ,\n",
       "         -0.6863191 , -0.5145216 ],\n",
       "        ...,\n",
       "        [ 1.0645646 , -0.63321763, -1.1429546 , ...,  0.22129624,\n",
       "          0.12422625,  0.86142015],\n",
       "        [ 0.2833743 ,  1.3417529 , -1.2215447 , ..., -0.882757  ,\n",
       "          0.12185515, -2.1114151 ],\n",
       "        [ 0.47943497,  0.07197307, -2.1536248 , ..., -0.23293181,\n",
       "         -0.31845236,  2.282966  ]],\n",
       "\n",
       "       [[-0.26295823, -1.1656117 , -0.879724  , ...,  0.64558935,\n",
       "         -0.9722343 , -0.29989067],\n",
       "        [-0.32476467, -1.5108091 ,  1.1815243 , ...,  0.37967306,\n",
       "          0.01345498, -0.4916613 ],\n",
       "        [-1.5652217 , -1.7496246 , -1.0555708 , ..., -1.0201551 ,\n",
       "          1.8690825 ,  0.70785177],\n",
       "        ...,\n",
       "        [ 0.5770626 , -0.6231026 ,  0.6055182 , ..., -2.289893  ,\n",
       "          1.3148235 ,  0.18304601],\n",
       "        [ 0.6985345 ,  0.7753601 ,  0.04743446, ..., -0.15708274,\n",
       "         -0.6920566 ,  1.2206081 ],\n",
       "        [ 0.32660186,  1.2725317 ,  0.30411053, ..., -0.07879279,\n",
       "          0.19533257, -2.3712573 ]]], dtype=float32)>"
      ]
     },
     "execution_count": 67,
     "metadata": {},
     "output_type": "execute_result"
    }
   ],
   "source": [
    "# 取 G 通道数据\n",
    "x[:,:,:,1] "
   ]
  },
  {
   "cell_type": "code",
   "execution_count": 68,
   "metadata": {
    "scrolled": true
   },
   "outputs": [
    {
     "data": {
      "text/plain": [
       "<tf.Tensor: shape=(2, 32, 32, 2), dtype=float32, numpy=\n",
       "array([[[[-0.43485448, -2.3243394 ],\n",
       "         [ 0.59878385,  0.50591636],\n",
       "         [ 0.10812633,  0.0740279 ],\n",
       "         ...,\n",
       "         [ 0.37309998,  0.552228  ],\n",
       "         [-1.8077748 , -1.1232791 ],\n",
       "         [ 1.2934529 , -0.74371374]],\n",
       "\n",
       "        [[ 0.67328906,  1.6542827 ],\n",
       "         [ 0.14873162,  1.2779055 ],\n",
       "         [-0.06061584,  1.32513   ],\n",
       "         ...,\n",
       "         [-0.8654932 , -2.3799353 ],\n",
       "         [-0.11128695,  0.02212252],\n",
       "         [ 2.0300915 ,  0.12315395]],\n",
       "\n",
       "        [[-0.13634354, -0.8924387 ],\n",
       "         [ 1.1417246 , -0.510152  ],\n",
       "         [-0.00953978, -0.52842844],\n",
       "         ...,\n",
       "         [ 0.7543638 ,  1.1858222 ],\n",
       "         [-0.54992014,  0.7185566 ],\n",
       "         [ 0.47776836,  0.9088925 ]],\n",
       "\n",
       "        ...,\n",
       "\n",
       "        [[ 0.07220273,  0.38777035],\n",
       "         [ 0.35415533,  0.69977856],\n",
       "         [ 1.5137832 , -1.8282644 ],\n",
       "         ...,\n",
       "         [-0.3637382 , -0.19612084],\n",
       "         [ 0.2252399 ,  1.3547904 ],\n",
       "         [-0.9475587 ,  0.72680396]],\n",
       "\n",
       "        [[ 1.2919954 , -1.5461829 ],\n",
       "         [ 0.54189277,  1.0553871 ],\n",
       "         [ 0.9535876 , -1.5827508 ],\n",
       "         ...,\n",
       "         [-0.87958264, -2.5482602 ],\n",
       "         [ 1.6228554 ,  1.8127606 ],\n",
       "         [-0.13720566,  1.8026769 ]],\n",
       "\n",
       "        [[-0.21788535,  0.9289005 ],\n",
       "         [ 1.8001691 ,  0.20449151],\n",
       "         [-0.323124  , -0.997773  ],\n",
       "         ...,\n",
       "         [ 0.70487887, -0.46481267],\n",
       "         [ 0.3843003 ,  1.4119862 ],\n",
       "         [ 0.88233674, -0.02226585]]],\n",
       "\n",
       "\n",
       "       [[[ 0.2524799 , -0.9472792 ],\n",
       "         [ 1.0996078 ,  0.15462509],\n",
       "         [ 0.22496632, -1.113881  ],\n",
       "         ...,\n",
       "         [ 0.1850968 ,  0.44000918],\n",
       "         [ 1.7631083 ,  2.5775228 ],\n",
       "         [ 0.10119608, -0.09434779]],\n",
       "\n",
       "        [[ 1.2359561 , -0.7775895 ],\n",
       "         [-0.66114783,  0.32983357],\n",
       "         [ 0.0201116 ,  1.0472658 ],\n",
       "         ...,\n",
       "         [ 0.7427121 ,  0.75837344],\n",
       "         [-1.0807939 , -2.130319  ],\n",
       "         [ 0.24089292, -1.003619  ]],\n",
       "\n",
       "        [[ 0.32663518,  0.63870454],\n",
       "         [ 1.3744712 ,  0.6424008 ],\n",
       "         [ 2.662527  , -0.4872444 ],\n",
       "         ...,\n",
       "         [-0.8146008 , -1.1051825 ],\n",
       "         [-0.16113637, -2.0320656 ],\n",
       "         [-1.5895308 ,  1.5198163 ]],\n",
       "\n",
       "        ...,\n",
       "\n",
       "        [[ 0.82102025, -0.1288657 ],\n",
       "         [ 0.6104424 , -0.73974377],\n",
       "         [ 0.5981882 ,  0.5030183 ],\n",
       "         ...,\n",
       "         [ 0.9449682 , -0.98751146],\n",
       "         [ 1.3681662 ,  1.0641094 ],\n",
       "         [ 0.04271709,  0.01892642]],\n",
       "\n",
       "        [[ 0.55495226, -0.6570474 ],\n",
       "         [-0.8211644 ,  0.44442979],\n",
       "         [ 0.04656341, -0.7378326 ],\n",
       "         ...,\n",
       "         [-0.83204985,  1.7463672 ],\n",
       "         [-0.7690614 , -0.46977946],\n",
       "         [-1.7561703 ,  0.6724311 ]],\n",
       "\n",
       "        [[-0.9054936 ,  0.0259025 ],\n",
       "         [ 0.56380695,  1.3698254 ],\n",
       "         [ 1.4125619 , -0.45319194],\n",
       "         ...,\n",
       "         [-0.32644317, -0.08507393],\n",
       "         [ 1.1232158 ,  1.1922982 ],\n",
       "         [ 0.89549506, -1.1558714 ]]]], dtype=float32)>"
      ]
     },
     "execution_count": 68,
     "metadata": {},
     "output_type": "execute_result"
    }
   ],
   "source": [
    "# 读取第 1~2 张图片的 G/B 通道数据\n",
    "# 高宽维度全部采集\n",
    "x[0:2,...,1:] "
   ]
  },
  {
   "cell_type": "code",
   "execution_count": 69,
   "metadata": {
    "scrolled": true
   },
   "outputs": [
    {
     "data": {
      "text/plain": [
       "<tf.Tensor: shape=(2, 32, 32, 3), dtype=float32, numpy=\n",
       "array([[[[ 5.8449280e-01, -3.8185171e-03, -1.1533016e+00],\n",
       "         [ 1.0114981e+00, -6.6163331e-02,  1.6588715e+00],\n",
       "         [ 2.2398436e+00,  1.2527987e+00, -6.4843196e-01],\n",
       "         ...,\n",
       "         [-2.8734022e-01,  6.8851000e-01, -3.5598832e-01],\n",
       "         [-3.7197772e-01,  5.3657079e-01,  2.2014954e+00],\n",
       "         [ 8.6628121e-01, -3.9960831e-01,  4.6039239e-01]],\n",
       "\n",
       "        [[-7.1151160e-02,  3.3730692e-01, -1.0924158e+00],\n",
       "         [-3.1732145e-01, -3.0207121e-01, -1.1807126e+00],\n",
       "         [ 2.1551581e-01, -1.3271035e-01,  6.7313421e-01],\n",
       "         ...,\n",
       "         [-1.9318353e+00, -9.5432252e-01, -3.4762282e+00],\n",
       "         [-2.1615419e+00,  5.3813398e-01,  4.0223420e-01],\n",
       "         [ 1.7501615e-01,  7.7324432e-01,  2.0703700e+00]],\n",
       "\n",
       "        [[ 4.2603505e-01,  2.8440726e-01, -2.2201571e+00],\n",
       "         [ 3.7939665e-01,  1.1565074e+00, -4.7890618e-02],\n",
       "         [ 1.5278967e-01,  7.7844131e-01,  2.7274054e-02],\n",
       "         ...,\n",
       "         [ 2.4075681e-02,  1.0424658e+00, -9.5307153e-01],\n",
       "         [-4.3678272e-01, -6.8631911e-01,  1.5486330e-01],\n",
       "         [-1.5481595e+00, -5.1452160e-01, -2.9229859e-01]],\n",
       "\n",
       "        ...,\n",
       "\n",
       "        [[ 4.3624401e-01,  1.0645646e+00, -1.0091274e+00],\n",
       "         [ 7.7909076e-01, -6.3321763e-01, -8.8072330e-01],\n",
       "         [ 3.7433857e-01, -1.1429546e+00,  8.3221149e-01],\n",
       "         ...,\n",
       "         [-1.4713153e+00,  2.2129624e-01, -9.3421280e-01],\n",
       "         [ 9.7173184e-01,  1.2422625e-01,  1.1778445e+00],\n",
       "         [-2.9739186e-01,  8.6142015e-01, -5.6989568e-01]],\n",
       "\n",
       "        [[ 1.3660423e+00,  2.8337431e-01, -3.7157449e-01],\n",
       "         [-3.0618835e-02,  1.3417529e+00, -2.8379932e-01],\n",
       "         [-6.4392823e-01, -1.2215447e+00,  4.1630208e-01],\n",
       "         ...,\n",
       "         [ 1.4135311e+00, -8.8275701e-01, -9.2125005e-01],\n",
       "         [-7.2906584e-01,  1.2185515e-01, -1.6681118e+00],\n",
       "         [-6.6625422e-01, -2.1114151e+00,  6.9496435e-01]],\n",
       "\n",
       "        [[ 2.7243568e-02,  4.7943497e-01,  1.9913173e-01],\n",
       "         [ 2.0916997e-01,  7.1973071e-02,  6.8250668e-01],\n",
       "         [ 1.9328761e+00, -2.1536248e+00,  1.0318940e+00],\n",
       "         ...,\n",
       "         [ 3.7253943e-01, -2.3293181e-01, -1.9057870e-01],\n",
       "         [ 3.6902335e-01, -3.1845236e-01, -3.4623080e-01],\n",
       "         [ 2.0399494e+00,  2.2829659e+00, -1.0595658e+00]]],\n",
       "\n",
       "\n",
       "       [[[ 1.1567036e+00, -2.6295823e-01,  3.9894375e-01],\n",
       "         [ 1.0886767e-01, -1.1656117e+00, -1.6689613e-01],\n",
       "         [ 1.4221667e-01, -8.7972403e-01, -3.7787560e-02],\n",
       "         ...,\n",
       "         [ 1.5837930e+00,  6.4558935e-01,  5.5569351e-01],\n",
       "         [-3.2222596e-01, -9.7223431e-01,  9.2885298e-01],\n",
       "         [-4.5098498e-01, -2.9989067e-01, -2.5235948e-01]],\n",
       "\n",
       "        [[ 2.5731155e-01, -3.2476467e-01, -3.1655163e-01],\n",
       "         [ 1.7652059e+00, -1.5108091e+00,  1.0611951e+00],\n",
       "         [ 6.2726039e-01,  1.1815243e+00, -1.9801316e-01],\n",
       "         ...,\n",
       "         [ 5.9201056e-01,  3.7967306e-01,  2.0670308e-01],\n",
       "         [ 1.2667114e-01,  1.3454982e-02, -8.3619487e-01],\n",
       "         [-6.5471900e-01, -4.9166131e-01, -1.9109356e-01]],\n",
       "\n",
       "        [[-2.0490643e-02, -1.5652217e+00,  4.4699389e-01],\n",
       "         [ 1.5966083e+00, -1.7496246e+00, -2.0640397e+00],\n",
       "         [ 6.6422015e-01, -1.0555708e+00, -2.9907632e-01],\n",
       "         ...,\n",
       "         [ 9.1040701e-01, -1.0201551e+00,  4.0386143e-01],\n",
       "         [ 9.9760950e-01,  1.8690825e+00,  2.2845253e-01],\n",
       "         [ 1.7267948e-01,  7.0785177e-01,  1.8169087e+00]],\n",
       "\n",
       "        ...,\n",
       "\n",
       "        [[ 1.5185221e+00,  5.7706261e-01,  3.1385964e-01],\n",
       "         [-2.0465834e-02, -6.2310261e-01,  8.2562959e-01],\n",
       "         [ 4.1047117e-01,  6.0551822e-01,  1.7566170e+00],\n",
       "         ...,\n",
       "         [ 6.8449157e-01, -2.2898929e+00, -1.2392207e+00],\n",
       "         [ 3.2172459e-01,  1.3148235e+00,  5.0743985e-01],\n",
       "         [ 7.7880709e-04,  1.8304601e-01,  5.9535980e-02]],\n",
       "\n",
       "        [[-8.5049993e-01,  6.9853449e-01, -8.4500676e-01],\n",
       "         [ 1.9820161e+00,  7.7536011e-01, -1.6989046e+00],\n",
       "         [-1.9534831e+00,  4.7434460e-02, -2.0081671e-01],\n",
       "         ...,\n",
       "         [-7.8748059e-01, -1.5708274e-01,  1.1349711e+00],\n",
       "         [-2.3264863e-01, -6.9205660e-01,  2.0502432e-01],\n",
       "         [-2.5197521e-01,  1.2206081e+00, -4.1956908e-01]],\n",
       "\n",
       "        [[ 2.6733795e-01,  3.2660186e-01, -9.4749224e-01],\n",
       "         [ 5.3116161e-01,  1.2725317e+00,  9.0813828e-01],\n",
       "         [ 2.3054602e+00,  3.0411053e-01,  1.7618634e+00],\n",
       "         ...,\n",
       "         [ 3.0834085e-01, -7.8792788e-02,  8.7132359e-01],\n",
       "         [ 1.6463680e+00,  1.9533257e-01, -2.4161239e-01],\n",
       "         [-9.5097238e-01, -2.3712573e+00,  1.1915431e+00]]]],\n",
       "      dtype=float32)>"
      ]
     },
     "execution_count": 69,
     "metadata": {},
     "output_type": "execute_result"
    }
   ],
   "source": [
    "# 读取最后 2 张图片\n",
    "# 高、宽、通道维度全部采集，等价于 x[2:]\n",
    "x[2:,...] "
   ]
  },
  {
   "cell_type": "code",
   "execution_count": 70,
   "metadata": {},
   "outputs": [
    {
     "data": {
      "text/plain": [
       "<tf.Tensor: shape=(4, 32, 32, 2), dtype=float32, numpy=\n",
       "array([[[[ 1.73271000e+00, -4.34854478e-01],\n",
       "         [-1.04403293e+00,  5.98783851e-01],\n",
       "         [-9.67675447e-01,  1.08126335e-01],\n",
       "         ...,\n",
       "         [ 3.55284684e-03,  3.73099983e-01],\n",
       "         [-5.17482996e-01, -1.80777478e+00],\n",
       "         [-2.32151374e-01,  1.29345286e+00]],\n",
       "\n",
       "        [[-1.01513553e+00,  6.73289061e-01],\n",
       "         [ 5.43457381e-02,  1.48731619e-01],\n",
       "         [-1.43889236e+00, -6.06158413e-02],\n",
       "         ...,\n",
       "         [-2.49410093e-01, -8.65493178e-01],\n",
       "         [-4.46378350e-01, -1.11286946e-01],\n",
       "         [ 1.34570551e+00,  2.03009152e+00]],\n",
       "\n",
       "        [[-1.84786171e-01, -1.36343539e-01],\n",
       "         [-1.51001132e+00,  1.14172459e+00],\n",
       "         [-3.86809766e-01, -9.53977928e-03],\n",
       "         ...,\n",
       "         [-5.09255648e-01,  7.54363775e-01],\n",
       "         [ 1.32803547e+00, -5.49920142e-01],\n",
       "         [ 6.80674016e-02,  4.77768362e-01]],\n",
       "\n",
       "        ...,\n",
       "\n",
       "        [[ 7.98494577e-01,  7.22027272e-02],\n",
       "         [ 1.07765722e+00,  3.54155332e-01],\n",
       "         [ 9.33424532e-01,  1.51378322e+00],\n",
       "         ...,\n",
       "         [ 2.34976768e+00, -3.63738209e-01],\n",
       "         [ 1.35089695e+00,  2.25239903e-01],\n",
       "         [-3.50992560e-01, -9.47558701e-01]],\n",
       "\n",
       "        [[ 7.87013695e-02,  1.29199541e+00],\n",
       "         [ 8.40152442e-01,  5.41892767e-01],\n",
       "         [ 1.25244367e+00,  9.53587592e-01],\n",
       "         ...,\n",
       "         [-4.59308624e-01, -8.79582644e-01],\n",
       "         [-7.23356664e-01,  1.62285542e+00],\n",
       "         [-6.10396266e-01, -1.37205660e-01]],\n",
       "\n",
       "        [[ 1.56468228e-01, -2.17885345e-01],\n",
       "         [-6.04968905e-01,  1.80016911e+00],\n",
       "         [-1.22085750e+00, -3.23123991e-01],\n",
       "         ...,\n",
       "         [ 7.01684296e-01,  7.04878867e-01],\n",
       "         [ 4.14849609e-01,  3.84300292e-01],\n",
       "         [-9.95936394e-02,  8.82336736e-01]]],\n",
       "\n",
       "\n",
       "       [[[-9.21744943e-01,  2.52479911e-01],\n",
       "         [-5.13081551e-01,  1.09960783e+00],\n",
       "         [-7.15766847e-01,  2.24966317e-01],\n",
       "         ...,\n",
       "         [-6.09988809e-01,  1.85096800e-01],\n",
       "         [ 2.96677828e-01,  1.76310825e+00],\n",
       "         [-1.57807022e-01,  1.01196080e-01]],\n",
       "\n",
       "        [[ 2.01013967e-01,  1.23595607e+00],\n",
       "         [ 1.31080163e+00, -6.61147833e-01],\n",
       "         [-7.71902978e-01,  2.01115962e-02],\n",
       "         ...,\n",
       "         [-8.30284715e-01,  7.42712080e-01],\n",
       "         [-1.18156731e-01, -1.08079386e+00],\n",
       "         [ 2.28595400e+00,  2.40892917e-01]],\n",
       "\n",
       "        [[-1.55507398e+00,  3.26635182e-01],\n",
       "         [-3.78156573e-01,  1.37447119e+00],\n",
       "         [-1.50558099e-01,  2.66252708e+00],\n",
       "         ...,\n",
       "         [ 2.12998271e+00, -8.14600825e-01],\n",
       "         [-5.80054224e-01, -1.61136374e-01],\n",
       "         [ 1.69010711e+00, -1.58953083e+00]],\n",
       "\n",
       "        ...,\n",
       "\n",
       "        [[ 9.73705109e-03,  8.21020246e-01],\n",
       "         [-8.28157842e-01,  6.10442400e-01],\n",
       "         [-1.10770762e+00,  5.98188221e-01],\n",
       "         ...,\n",
       "         [-1.30227137e+00,  9.44968224e-01],\n",
       "         [-1.22383988e+00,  1.36816621e+00],\n",
       "         [ 1.91662505e-01,  4.27170917e-02]],\n",
       "\n",
       "        [[-1.39176967e-02,  5.54952264e-01],\n",
       "         [ 1.41390944e+00, -8.21164429e-01],\n",
       "         [ 1.85853612e+00,  4.65634130e-02],\n",
       "         ...,\n",
       "         [-4.90945846e-01, -8.32049847e-01],\n",
       "         [-5.06594121e-01, -7.69061387e-01],\n",
       "         [ 9.44099069e-01, -1.75617027e+00]],\n",
       "\n",
       "        [[ 1.93327710e-01, -9.05493617e-01],\n",
       "         [-6.57577217e-01,  5.63806951e-01],\n",
       "         [-5.64436436e-01,  1.41256189e+00],\n",
       "         ...,\n",
       "         [ 1.33950019e+00, -3.26443166e-01],\n",
       "         [ 4.35967952e-01,  1.12321579e+00],\n",
       "         [ 5.20446241e-01,  8.95495057e-01]]],\n",
       "\n",
       "\n",
       "       [[[ 5.84492803e-01, -3.81851709e-03],\n",
       "         [ 1.01149809e+00, -6.61633313e-02],\n",
       "         [ 2.23984361e+00,  1.25279868e+00],\n",
       "         ...,\n",
       "         [-2.87340224e-01,  6.88510001e-01],\n",
       "         [-3.71977717e-01,  5.36570787e-01],\n",
       "         [ 8.66281211e-01, -3.99608314e-01]],\n",
       "\n",
       "        [[-7.11511597e-02,  3.37306917e-01],\n",
       "         [-3.17321450e-01, -3.02071214e-01],\n",
       "         [ 2.15515807e-01, -1.32710353e-01],\n",
       "         ...,\n",
       "         [-1.93183529e+00, -9.54322517e-01],\n",
       "         [-2.16154194e+00,  5.38133979e-01],\n",
       "         [ 1.75016150e-01,  7.73244321e-01]],\n",
       "\n",
       "        [[ 4.26035047e-01,  2.84407258e-01],\n",
       "         [ 3.79396647e-01,  1.15650737e+00],\n",
       "         [ 1.52789667e-01,  7.78441310e-01],\n",
       "         ...,\n",
       "         [ 2.40756813e-02,  1.04246581e+00],\n",
       "         [-4.36782718e-01, -6.86319113e-01],\n",
       "         [-1.54815948e+00, -5.14521599e-01]],\n",
       "\n",
       "        ...,\n",
       "\n",
       "        [[ 4.36244011e-01,  1.06456459e+00],\n",
       "         [ 7.79090762e-01, -6.33217633e-01],\n",
       "         [ 3.74338567e-01, -1.14295459e+00],\n",
       "         ...,\n",
       "         [-1.47131526e+00,  2.21296236e-01],\n",
       "         [ 9.71731842e-01,  1.24226250e-01],\n",
       "         [-2.97391862e-01,  8.61420155e-01]],\n",
       "\n",
       "        [[ 1.36604226e+00,  2.83374310e-01],\n",
       "         [-3.06188352e-02,  1.34175289e+00],\n",
       "         [-6.43928230e-01, -1.22154474e+00],\n",
       "         ...,\n",
       "         [ 1.41353106e+00, -8.82757008e-01],\n",
       "         [-7.29065835e-01,  1.21855147e-01],\n",
       "         [-6.66254222e-01, -2.11141515e+00]],\n",
       "\n",
       "        [[ 2.72435676e-02,  4.79434967e-01],\n",
       "         [ 2.09169969e-01,  7.19730705e-02],\n",
       "         [ 1.93287611e+00, -2.15362477e+00],\n",
       "         ...,\n",
       "         [ 3.72539431e-01, -2.32931808e-01],\n",
       "         [ 3.69023353e-01, -3.18452358e-01],\n",
       "         [ 2.03994942e+00,  2.28296590e+00]]],\n",
       "\n",
       "\n",
       "       [[[ 1.15670359e+00, -2.62958229e-01],\n",
       "         [ 1.08867668e-01, -1.16561174e+00],\n",
       "         [ 1.42216668e-01, -8.79724026e-01],\n",
       "         ...,\n",
       "         [ 1.58379304e+00,  6.45589352e-01],\n",
       "         [-3.22225958e-01, -9.72234309e-01],\n",
       "         [-4.50984985e-01, -2.99890667e-01]],\n",
       "\n",
       "        [[ 2.57311553e-01, -3.24764669e-01],\n",
       "         [ 1.76520586e+00, -1.51080906e+00],\n",
       "         [ 6.27260387e-01,  1.18152428e+00],\n",
       "         ...,\n",
       "         [ 5.92010558e-01,  3.79673064e-01],\n",
       "         [ 1.26671135e-01,  1.34549821e-02],\n",
       "         [-6.54718995e-01, -4.91661310e-01]],\n",
       "\n",
       "        [[-2.04906426e-02, -1.56522167e+00],\n",
       "         [ 1.59660828e+00, -1.74962461e+00],\n",
       "         [ 6.64220154e-01, -1.05557084e+00],\n",
       "         ...,\n",
       "         [ 9.10407007e-01, -1.02015507e+00],\n",
       "         [ 9.97609496e-01,  1.86908245e+00],\n",
       "         [ 1.72679484e-01,  7.07851768e-01]],\n",
       "\n",
       "        ...,\n",
       "\n",
       "        [[ 1.51852214e+00,  5.77062607e-01],\n",
       "         [-2.04658341e-02, -6.23102605e-01],\n",
       "         [ 4.10471171e-01,  6.05518222e-01],\n",
       "         ...,\n",
       "         [ 6.84491575e-01, -2.28989291e+00],\n",
       "         [ 3.21724594e-01,  1.31482351e+00],\n",
       "         [ 7.78807094e-04,  1.83046013e-01]],\n",
       "\n",
       "        [[-8.50499928e-01,  6.98534489e-01],\n",
       "         [ 1.98201609e+00,  7.75360107e-01],\n",
       "         [-1.95348310e+00,  4.74344604e-02],\n",
       "         ...,\n",
       "         [-7.87480593e-01, -1.57082736e-01],\n",
       "         [-2.32648626e-01, -6.92056596e-01],\n",
       "         [-2.51975209e-01,  1.22060812e+00]],\n",
       "\n",
       "        [[ 2.67337948e-01,  3.26601863e-01],\n",
       "         [ 5.31161606e-01,  1.27253175e+00],\n",
       "         [ 2.30546021e+00,  3.04110527e-01],\n",
       "         ...,\n",
       "         [ 3.08340847e-01, -7.87927881e-02],\n",
       "         [ 1.64636803e+00,  1.95332572e-01],\n",
       "         [-9.50972378e-01, -2.37125731e+00]]]], dtype=float32)>"
      ]
     },
     "execution_count": 70,
     "metadata": {},
     "output_type": "execute_result"
    }
   ],
   "source": [
    "# 读取 R/G 通道数据\n",
    "# 所有样本，所有高、宽的前 2 个通道\n",
    "x[...,:2] "
   ]
  },
  {
   "cell_type": "markdown",
   "metadata": {},
   "source": [
    "## 维度变换\n",
    "\n",
    "### 改变视图"
   ]
  },
  {
   "cell_type": "code",
   "execution_count": 71,
   "metadata": {
    "scrolled": true
   },
   "outputs": [
    {
     "data": {
      "text/plain": [
       "<tf.Tensor: shape=(2, 4, 4, 3), dtype=int32, numpy=\n",
       "array([[[[ 0,  1,  2],\n",
       "         [ 3,  4,  5],\n",
       "         [ 6,  7,  8],\n",
       "         [ 9, 10, 11]],\n",
       "\n",
       "        [[12, 13, 14],\n",
       "         [15, 16, 17],\n",
       "         [18, 19, 20],\n",
       "         [21, 22, 23]],\n",
       "\n",
       "        [[24, 25, 26],\n",
       "         [27, 28, 29],\n",
       "         [30, 31, 32],\n",
       "         [33, 34, 35]],\n",
       "\n",
       "        [[36, 37, 38],\n",
       "         [39, 40, 41],\n",
       "         [42, 43, 44],\n",
       "         [45, 46, 47]]],\n",
       "\n",
       "\n",
       "       [[[48, 49, 50],\n",
       "         [51, 52, 53],\n",
       "         [54, 55, 56],\n",
       "         [57, 58, 59]],\n",
       "\n",
       "        [[60, 61, 62],\n",
       "         [63, 64, 65],\n",
       "         [66, 67, 68],\n",
       "         [69, 70, 71]],\n",
       "\n",
       "        [[72, 73, 74],\n",
       "         [75, 76, 77],\n",
       "         [78, 79, 80],\n",
       "         [81, 82, 83]],\n",
       "\n",
       "        [[84, 85, 86],\n",
       "         [87, 88, 89],\n",
       "         [90, 91, 92],\n",
       "         [93, 94, 95]]]])>"
      ]
     },
     "execution_count": 71,
     "metadata": {},
     "output_type": "execute_result"
    }
   ],
   "source": [
    "# 生成向量\n",
    "x=tf.range(96)\n",
    "# 改变 x 的视图，获得 4D 张量，存储并未改变\n",
    "x=tf.reshape(x,[2,4,4,3]) \n",
    "x"
   ]
  },
  {
   "cell_type": "markdown",
   "metadata": {},
   "source": [
    "### 改变视图"
   ]
  },
  {
   "cell_type": "markdown",
   "metadata": {},
   "source": [
    "通过 tf.range()模拟生成一个向量数据，并通过 tf.reshape 视图改变函数产生不同的视图"
   ]
  },
  {
   "cell_type": "code",
   "execution_count": 72,
   "metadata": {
    "scrolled": true
   },
   "outputs": [
    {
     "data": {
      "text/plain": [
       "<tf.Tensor: shape=(2, 4, 4, 3), dtype=int32, numpy=\n",
       "array([[[[ 0,  1,  2],\n",
       "         [ 3,  4,  5],\n",
       "         [ 6,  7,  8],\n",
       "         [ 9, 10, 11]],\n",
       "\n",
       "        [[12, 13, 14],\n",
       "         [15, 16, 17],\n",
       "         [18, 19, 20],\n",
       "         [21, 22, 23]],\n",
       "\n",
       "        [[24, 25, 26],\n",
       "         [27, 28, 29],\n",
       "         [30, 31, 32],\n",
       "         [33, 34, 35]],\n",
       "\n",
       "        [[36, 37, 38],\n",
       "         [39, 40, 41],\n",
       "         [42, 43, 44],\n",
       "         [45, 46, 47]]],\n",
       "\n",
       "\n",
       "       [[[48, 49, 50],\n",
       "         [51, 52, 53],\n",
       "         [54, 55, 56],\n",
       "         [57, 58, 59]],\n",
       "\n",
       "        [[60, 61, 62],\n",
       "         [63, 64, 65],\n",
       "         [66, 67, 68],\n",
       "         [69, 70, 71]],\n",
       "\n",
       "        [[72, 73, 74],\n",
       "         [75, 76, 77],\n",
       "         [78, 79, 80],\n",
       "         [81, 82, 83]],\n",
       "\n",
       "        [[84, 85, 86],\n",
       "         [87, 88, 89],\n",
       "         [90, 91, 92],\n",
       "         [93, 94, 95]]]])>"
      ]
     },
     "execution_count": 72,
     "metadata": {},
     "output_type": "execute_result"
    }
   ],
   "source": [
    "# 生成向量\n",
    "x = tf.range(96) \n",
    "# 改变 x 的视图，获得 4D 张量，存储并未改变\n",
    "x = tf.reshape(x,[2,4,4,3]) \n",
    "x"
   ]
  },
  {
   "cell_type": "code",
   "execution_count": 73,
   "metadata": {},
   "outputs": [
    {
     "data": {
      "text/plain": [
       "(4, TensorShape([2, 4, 4, 3]))"
      ]
     },
     "execution_count": 73,
     "metadata": {},
     "output_type": "execute_result"
    }
   ],
   "source": [
    "# 获取张量的维度数和形状列表\n",
    "x.ndim,x.shape "
   ]
  },
  {
   "cell_type": "markdown",
   "metadata": {},
   "source": [
    "通过 tf.reshape(x, new_shape)，可以将张量的视图任意地合法改变"
   ]
  },
  {
   "cell_type": "code",
   "execution_count": 74,
   "metadata": {},
   "outputs": [
    {
     "data": {
      "text/plain": [
       "<tf.Tensor: shape=(2, 48), dtype=int32, numpy=\n",
       "array([[ 0,  1,  2,  3,  4,  5,  6,  7,  8,  9, 10, 11, 12, 13, 14, 15,\n",
       "        16, 17, 18, 19, 20, 21, 22, 23, 24, 25, 26, 27, 28, 29, 30, 31,\n",
       "        32, 33, 34, 35, 36, 37, 38, 39, 40, 41, 42, 43, 44, 45, 46, 47],\n",
       "       [48, 49, 50, 51, 52, 53, 54, 55, 56, 57, 58, 59, 60, 61, 62, 63,\n",
       "        64, 65, 66, 67, 68, 69, 70, 71, 72, 73, 74, 75, 76, 77, 78, 79,\n",
       "        80, 81, 82, 83, 84, 85, 86, 87, 88, 89, 90, 91, 92, 93, 94, 95]])>"
      ]
     },
     "execution_count": 74,
     "metadata": {},
     "output_type": "execute_result"
    }
   ],
   "source": [
    "tf.reshape(x,[2,-1])"
   ]
  },
  {
   "cell_type": "code",
   "execution_count": 75,
   "metadata": {},
   "outputs": [
    {
     "data": {
      "text/plain": [
       "<tf.Tensor: shape=(2, 4, 12), dtype=int32, numpy=\n",
       "array([[[ 0,  1,  2,  3,  4,  5,  6,  7,  8,  9, 10, 11],\n",
       "        [12, 13, 14, 15, 16, 17, 18, 19, 20, 21, 22, 23],\n",
       "        [24, 25, 26, 27, 28, 29, 30, 31, 32, 33, 34, 35],\n",
       "        [36, 37, 38, 39, 40, 41, 42, 43, 44, 45, 46, 47]],\n",
       "\n",
       "       [[48, 49, 50, 51, 52, 53, 54, 55, 56, 57, 58, 59],\n",
       "        [60, 61, 62, 63, 64, 65, 66, 67, 68, 69, 70, 71],\n",
       "        [72, 73, 74, 75, 76, 77, 78, 79, 80, 81, 82, 83],\n",
       "        [84, 85, 86, 87, 88, 89, 90, 91, 92, 93, 94, 95]]])>"
      ]
     },
     "execution_count": 75,
     "metadata": {},
     "output_type": "execute_result"
    }
   ],
   "source": [
    " tf.reshape(x,[2,4,12])"
   ]
  },
  {
   "cell_type": "code",
   "execution_count": 76,
   "metadata": {
    "scrolled": true
   },
   "outputs": [
    {
     "data": {
      "text/plain": [
       "<tf.Tensor: shape=(2, 16, 3), dtype=int32, numpy=\n",
       "array([[[ 0,  1,  2],\n",
       "        [ 3,  4,  5],\n",
       "        [ 6,  7,  8],\n",
       "        [ 9, 10, 11],\n",
       "        [12, 13, 14],\n",
       "        [15, 16, 17],\n",
       "        [18, 19, 20],\n",
       "        [21, 22, 23],\n",
       "        [24, 25, 26],\n",
       "        [27, 28, 29],\n",
       "        [30, 31, 32],\n",
       "        [33, 34, 35],\n",
       "        [36, 37, 38],\n",
       "        [39, 40, 41],\n",
       "        [42, 43, 44],\n",
       "        [45, 46, 47]],\n",
       "\n",
       "       [[48, 49, 50],\n",
       "        [51, 52, 53],\n",
       "        [54, 55, 56],\n",
       "        [57, 58, 59],\n",
       "        [60, 61, 62],\n",
       "        [63, 64, 65],\n",
       "        [66, 67, 68],\n",
       "        [69, 70, 71],\n",
       "        [72, 73, 74],\n",
       "        [75, 76, 77],\n",
       "        [78, 79, 80],\n",
       "        [81, 82, 83],\n",
       "        [84, 85, 86],\n",
       "        [87, 88, 89],\n",
       "        [90, 91, 92],\n",
       "        [93, 94, 95]]])>"
      ]
     },
     "execution_count": 76,
     "metadata": {},
     "output_type": "execute_result"
    }
   ],
   "source": [
    "tf.reshape(x,[2,-1,3])"
   ]
  },
  {
   "cell_type": "markdown",
   "metadata": {},
   "source": [
    "### 增、删维度"
   ]
  },
  {
   "cell_type": "code",
   "execution_count": 77,
   "metadata": {
    "scrolled": true
   },
   "outputs": [
    {
     "data": {
      "text/plain": [
       "<tf.Tensor: shape=(28, 28), dtype=int32, numpy=\n",
       "array([[6, 5, 5, 5, 9, 2, 3, 6, 4, 9, 3, 6, 0, 3, 4, 0, 9, 7, 6, 6, 5, 8,\n",
       "        2, 4, 8, 5, 0, 3],\n",
       "       [7, 4, 6, 6, 8, 5, 3, 6, 3, 1, 6, 4, 3, 4, 2, 0, 3, 2, 4, 5, 2, 7,\n",
       "        8, 7, 5, 0, 6, 5],\n",
       "       [9, 5, 0, 5, 8, 8, 8, 8, 4, 6, 1, 1, 1, 7, 7, 4, 3, 6, 0, 4, 6, 8,\n",
       "        0, 0, 4, 1, 3, 3],\n",
       "       [6, 4, 6, 7, 2, 6, 6, 0, 3, 7, 8, 6, 3, 9, 5, 1, 1, 7, 8, 6, 9, 1,\n",
       "        8, 5, 2, 9, 4, 1],\n",
       "       [0, 9, 6, 4, 3, 4, 6, 1, 4, 7, 6, 6, 8, 6, 1, 1, 6, 9, 0, 3, 5, 0,\n",
       "        7, 7, 8, 9, 8, 9],\n",
       "       [5, 1, 9, 2, 7, 1, 9, 2, 5, 7, 4, 3, 5, 5, 5, 7, 1, 3, 6, 4, 8, 5,\n",
       "        1, 2, 8, 7, 7, 8],\n",
       "       [2, 6, 9, 9, 7, 4, 5, 0, 9, 9, 6, 0, 5, 7, 2, 6, 1, 4, 6, 1, 2, 4,\n",
       "        8, 7, 9, 7, 9, 1],\n",
       "       [4, 9, 1, 1, 2, 3, 3, 8, 1, 8, 9, 7, 8, 6, 9, 3, 2, 9, 1, 3, 3, 1,\n",
       "        4, 8, 4, 4, 5, 8],\n",
       "       [6, 3, 2, 5, 8, 6, 0, 7, 4, 7, 4, 8, 4, 4, 3, 4, 3, 4, 6, 1, 5, 6,\n",
       "        0, 6, 8, 9, 3, 5],\n",
       "       [1, 7, 0, 3, 5, 1, 1, 0, 6, 6, 5, 4, 9, 7, 7, 3, 4, 6, 0, 9, 3, 6,\n",
       "        5, 0, 1, 9, 5, 9],\n",
       "       [2, 5, 8, 0, 4, 6, 4, 4, 4, 7, 5, 2, 1, 1, 3, 9, 5, 2, 4, 0, 9, 8,\n",
       "        1, 5, 0, 1, 3, 0],\n",
       "       [9, 9, 5, 4, 1, 0, 2, 1, 8, 5, 0, 9, 5, 7, 5, 3, 0, 7, 0, 9, 6, 4,\n",
       "        0, 0, 6, 8, 5, 0],\n",
       "       [2, 7, 3, 1, 1, 7, 2, 9, 5, 9, 8, 3, 6, 2, 5, 4, 9, 1, 1, 4, 5, 0,\n",
       "        8, 6, 9, 9, 4, 0],\n",
       "       [8, 0, 5, 9, 7, 2, 8, 3, 9, 7, 3, 2, 1, 0, 8, 3, 9, 9, 7, 8, 9, 9,\n",
       "        9, 3, 1, 2, 9, 7],\n",
       "       [7, 6, 5, 7, 4, 1, 2, 5, 0, 9, 8, 3, 7, 1, 0, 9, 3, 3, 7, 6, 3, 3,\n",
       "        7, 4, 2, 4, 2, 0],\n",
       "       [5, 3, 4, 0, 1, 3, 9, 4, 9, 9, 5, 8, 1, 4, 1, 9, 0, 8, 6, 6, 0, 2,\n",
       "        7, 3, 6, 0, 1, 5],\n",
       "       [6, 9, 5, 2, 1, 4, 4, 5, 2, 0, 8, 3, 8, 9, 7, 5, 5, 9, 7, 2, 6, 8,\n",
       "        2, 6, 4, 5, 1, 2],\n",
       "       [9, 8, 7, 4, 3, 1, 6, 2, 1, 4, 3, 3, 8, 7, 3, 7, 5, 2, 8, 8, 8, 9,\n",
       "        7, 3, 7, 4, 8, 7],\n",
       "       [9, 8, 8, 1, 7, 2, 1, 7, 8, 5, 4, 5, 8, 8, 7, 1, 2, 1, 6, 4, 1, 7,\n",
       "        5, 2, 7, 6, 4, 4],\n",
       "       [6, 1, 4, 8, 4, 6, 1, 8, 9, 5, 1, 2, 4, 7, 6, 0, 3, 4, 6, 1, 2, 8,\n",
       "        7, 8, 8, 6, 4, 5],\n",
       "       [1, 8, 9, 5, 1, 7, 2, 0, 3, 2, 9, 2, 8, 1, 3, 6, 4, 4, 4, 4, 2, 4,\n",
       "        5, 3, 0, 0, 7, 6],\n",
       "       [7, 4, 2, 6, 4, 8, 5, 6, 3, 8, 1, 1, 5, 8, 0, 8, 6, 8, 4, 5, 1, 0,\n",
       "        2, 6, 1, 9, 9, 7],\n",
       "       [5, 7, 6, 5, 0, 7, 7, 4, 9, 5, 6, 6, 2, 8, 5, 3, 4, 3, 2, 8, 7, 9,\n",
       "        5, 0, 5, 8, 7, 6],\n",
       "       [2, 0, 6, 5, 4, 1, 0, 8, 4, 2, 3, 8, 6, 0, 7, 8, 7, 1, 6, 7, 2, 7,\n",
       "        3, 3, 6, 3, 0, 2],\n",
       "       [0, 1, 9, 2, 6, 2, 7, 6, 5, 2, 3, 8, 4, 2, 0, 8, 7, 4, 5, 9, 9, 4,\n",
       "        3, 3, 4, 4, 0, 3],\n",
       "       [0, 2, 5, 4, 5, 4, 0, 7, 1, 2, 3, 1, 2, 1, 6, 1, 9, 2, 8, 0, 7, 8,\n",
       "        3, 6, 5, 2, 8, 7],\n",
       "       [3, 2, 5, 0, 2, 6, 6, 6, 6, 5, 5, 9, 6, 7, 2, 5, 9, 4, 7, 6, 7, 4,\n",
       "        6, 6, 5, 7, 7, 1],\n",
       "       [3, 2, 1, 0, 3, 6, 4, 9, 5, 6, 0, 9, 3, 9, 9, 4, 8, 8, 0, 8, 1, 0,\n",
       "        8, 0, 9, 3, 2, 9]])>"
      ]
     },
     "execution_count": 77,
     "metadata": {},
     "output_type": "execute_result"
    }
   ],
   "source": [
    "# 产生矩阵\n",
    "x = tf.random.uniform([28,28],maxval=10,dtype=tf.int32)\n",
    "x"
   ]
  },
  {
   "cell_type": "markdown",
   "metadata": {},
   "source": [
    "通过 tf.expand_dims(x, axis)可在指定的 axis 轴前可以插入一个新的维度"
   ]
  },
  {
   "cell_type": "code",
   "execution_count": 78,
   "metadata": {
    "scrolled": true
   },
   "outputs": [
    {
     "data": {
      "text/plain": [
       "<tf.Tensor: shape=(28, 28, 1), dtype=int32, numpy=\n",
       "array([[[6],\n",
       "        [5],\n",
       "        [5],\n",
       "        [5],\n",
       "        [9],\n",
       "        [2],\n",
       "        [3],\n",
       "        [6],\n",
       "        [4],\n",
       "        [9],\n",
       "        [3],\n",
       "        [6],\n",
       "        [0],\n",
       "        [3],\n",
       "        [4],\n",
       "        [0],\n",
       "        [9],\n",
       "        [7],\n",
       "        [6],\n",
       "        [6],\n",
       "        [5],\n",
       "        [8],\n",
       "        [2],\n",
       "        [4],\n",
       "        [8],\n",
       "        [5],\n",
       "        [0],\n",
       "        [3]],\n",
       "\n",
       "       [[7],\n",
       "        [4],\n",
       "        [6],\n",
       "        [6],\n",
       "        [8],\n",
       "        [5],\n",
       "        [3],\n",
       "        [6],\n",
       "        [3],\n",
       "        [1],\n",
       "        [6],\n",
       "        [4],\n",
       "        [3],\n",
       "        [4],\n",
       "        [2],\n",
       "        [0],\n",
       "        [3],\n",
       "        [2],\n",
       "        [4],\n",
       "        [5],\n",
       "        [2],\n",
       "        [7],\n",
       "        [8],\n",
       "        [7],\n",
       "        [5],\n",
       "        [0],\n",
       "        [6],\n",
       "        [5]],\n",
       "\n",
       "       [[9],\n",
       "        [5],\n",
       "        [0],\n",
       "        [5],\n",
       "        [8],\n",
       "        [8],\n",
       "        [8],\n",
       "        [8],\n",
       "        [4],\n",
       "        [6],\n",
       "        [1],\n",
       "        [1],\n",
       "        [1],\n",
       "        [7],\n",
       "        [7],\n",
       "        [4],\n",
       "        [3],\n",
       "        [6],\n",
       "        [0],\n",
       "        [4],\n",
       "        [6],\n",
       "        [8],\n",
       "        [0],\n",
       "        [0],\n",
       "        [4],\n",
       "        [1],\n",
       "        [3],\n",
       "        [3]],\n",
       "\n",
       "       [[6],\n",
       "        [4],\n",
       "        [6],\n",
       "        [7],\n",
       "        [2],\n",
       "        [6],\n",
       "        [6],\n",
       "        [0],\n",
       "        [3],\n",
       "        [7],\n",
       "        [8],\n",
       "        [6],\n",
       "        [3],\n",
       "        [9],\n",
       "        [5],\n",
       "        [1],\n",
       "        [1],\n",
       "        [7],\n",
       "        [8],\n",
       "        [6],\n",
       "        [9],\n",
       "        [1],\n",
       "        [8],\n",
       "        [5],\n",
       "        [2],\n",
       "        [9],\n",
       "        [4],\n",
       "        [1]],\n",
       "\n",
       "       [[0],\n",
       "        [9],\n",
       "        [6],\n",
       "        [4],\n",
       "        [3],\n",
       "        [4],\n",
       "        [6],\n",
       "        [1],\n",
       "        [4],\n",
       "        [7],\n",
       "        [6],\n",
       "        [6],\n",
       "        [8],\n",
       "        [6],\n",
       "        [1],\n",
       "        [1],\n",
       "        [6],\n",
       "        [9],\n",
       "        [0],\n",
       "        [3],\n",
       "        [5],\n",
       "        [0],\n",
       "        [7],\n",
       "        [7],\n",
       "        [8],\n",
       "        [9],\n",
       "        [8],\n",
       "        [9]],\n",
       "\n",
       "       [[5],\n",
       "        [1],\n",
       "        [9],\n",
       "        [2],\n",
       "        [7],\n",
       "        [1],\n",
       "        [9],\n",
       "        [2],\n",
       "        [5],\n",
       "        [7],\n",
       "        [4],\n",
       "        [3],\n",
       "        [5],\n",
       "        [5],\n",
       "        [5],\n",
       "        [7],\n",
       "        [1],\n",
       "        [3],\n",
       "        [6],\n",
       "        [4],\n",
       "        [8],\n",
       "        [5],\n",
       "        [1],\n",
       "        [2],\n",
       "        [8],\n",
       "        [7],\n",
       "        [7],\n",
       "        [8]],\n",
       "\n",
       "       [[2],\n",
       "        [6],\n",
       "        [9],\n",
       "        [9],\n",
       "        [7],\n",
       "        [4],\n",
       "        [5],\n",
       "        [0],\n",
       "        [9],\n",
       "        [9],\n",
       "        [6],\n",
       "        [0],\n",
       "        [5],\n",
       "        [7],\n",
       "        [2],\n",
       "        [6],\n",
       "        [1],\n",
       "        [4],\n",
       "        [6],\n",
       "        [1],\n",
       "        [2],\n",
       "        [4],\n",
       "        [8],\n",
       "        [7],\n",
       "        [9],\n",
       "        [7],\n",
       "        [9],\n",
       "        [1]],\n",
       "\n",
       "       [[4],\n",
       "        [9],\n",
       "        [1],\n",
       "        [1],\n",
       "        [2],\n",
       "        [3],\n",
       "        [3],\n",
       "        [8],\n",
       "        [1],\n",
       "        [8],\n",
       "        [9],\n",
       "        [7],\n",
       "        [8],\n",
       "        [6],\n",
       "        [9],\n",
       "        [3],\n",
       "        [2],\n",
       "        [9],\n",
       "        [1],\n",
       "        [3],\n",
       "        [3],\n",
       "        [1],\n",
       "        [4],\n",
       "        [8],\n",
       "        [4],\n",
       "        [4],\n",
       "        [5],\n",
       "        [8]],\n",
       "\n",
       "       [[6],\n",
       "        [3],\n",
       "        [2],\n",
       "        [5],\n",
       "        [8],\n",
       "        [6],\n",
       "        [0],\n",
       "        [7],\n",
       "        [4],\n",
       "        [7],\n",
       "        [4],\n",
       "        [8],\n",
       "        [4],\n",
       "        [4],\n",
       "        [3],\n",
       "        [4],\n",
       "        [3],\n",
       "        [4],\n",
       "        [6],\n",
       "        [1],\n",
       "        [5],\n",
       "        [6],\n",
       "        [0],\n",
       "        [6],\n",
       "        [8],\n",
       "        [9],\n",
       "        [3],\n",
       "        [5]],\n",
       "\n",
       "       [[1],\n",
       "        [7],\n",
       "        [0],\n",
       "        [3],\n",
       "        [5],\n",
       "        [1],\n",
       "        [1],\n",
       "        [0],\n",
       "        [6],\n",
       "        [6],\n",
       "        [5],\n",
       "        [4],\n",
       "        [9],\n",
       "        [7],\n",
       "        [7],\n",
       "        [3],\n",
       "        [4],\n",
       "        [6],\n",
       "        [0],\n",
       "        [9],\n",
       "        [3],\n",
       "        [6],\n",
       "        [5],\n",
       "        [0],\n",
       "        [1],\n",
       "        [9],\n",
       "        [5],\n",
       "        [9]],\n",
       "\n",
       "       [[2],\n",
       "        [5],\n",
       "        [8],\n",
       "        [0],\n",
       "        [4],\n",
       "        [6],\n",
       "        [4],\n",
       "        [4],\n",
       "        [4],\n",
       "        [7],\n",
       "        [5],\n",
       "        [2],\n",
       "        [1],\n",
       "        [1],\n",
       "        [3],\n",
       "        [9],\n",
       "        [5],\n",
       "        [2],\n",
       "        [4],\n",
       "        [0],\n",
       "        [9],\n",
       "        [8],\n",
       "        [1],\n",
       "        [5],\n",
       "        [0],\n",
       "        [1],\n",
       "        [3],\n",
       "        [0]],\n",
       "\n",
       "       [[9],\n",
       "        [9],\n",
       "        [5],\n",
       "        [4],\n",
       "        [1],\n",
       "        [0],\n",
       "        [2],\n",
       "        [1],\n",
       "        [8],\n",
       "        [5],\n",
       "        [0],\n",
       "        [9],\n",
       "        [5],\n",
       "        [7],\n",
       "        [5],\n",
       "        [3],\n",
       "        [0],\n",
       "        [7],\n",
       "        [0],\n",
       "        [9],\n",
       "        [6],\n",
       "        [4],\n",
       "        [0],\n",
       "        [0],\n",
       "        [6],\n",
       "        [8],\n",
       "        [5],\n",
       "        [0]],\n",
       "\n",
       "       [[2],\n",
       "        [7],\n",
       "        [3],\n",
       "        [1],\n",
       "        [1],\n",
       "        [7],\n",
       "        [2],\n",
       "        [9],\n",
       "        [5],\n",
       "        [9],\n",
       "        [8],\n",
       "        [3],\n",
       "        [6],\n",
       "        [2],\n",
       "        [5],\n",
       "        [4],\n",
       "        [9],\n",
       "        [1],\n",
       "        [1],\n",
       "        [4],\n",
       "        [5],\n",
       "        [0],\n",
       "        [8],\n",
       "        [6],\n",
       "        [9],\n",
       "        [9],\n",
       "        [4],\n",
       "        [0]],\n",
       "\n",
       "       [[8],\n",
       "        [0],\n",
       "        [5],\n",
       "        [9],\n",
       "        [7],\n",
       "        [2],\n",
       "        [8],\n",
       "        [3],\n",
       "        [9],\n",
       "        [7],\n",
       "        [3],\n",
       "        [2],\n",
       "        [1],\n",
       "        [0],\n",
       "        [8],\n",
       "        [3],\n",
       "        [9],\n",
       "        [9],\n",
       "        [7],\n",
       "        [8],\n",
       "        [9],\n",
       "        [9],\n",
       "        [9],\n",
       "        [3],\n",
       "        [1],\n",
       "        [2],\n",
       "        [9],\n",
       "        [7]],\n",
       "\n",
       "       [[7],\n",
       "        [6],\n",
       "        [5],\n",
       "        [7],\n",
       "        [4],\n",
       "        [1],\n",
       "        [2],\n",
       "        [5],\n",
       "        [0],\n",
       "        [9],\n",
       "        [8],\n",
       "        [3],\n",
       "        [7],\n",
       "        [1],\n",
       "        [0],\n",
       "        [9],\n",
       "        [3],\n",
       "        [3],\n",
       "        [7],\n",
       "        [6],\n",
       "        [3],\n",
       "        [3],\n",
       "        [7],\n",
       "        [4],\n",
       "        [2],\n",
       "        [4],\n",
       "        [2],\n",
       "        [0]],\n",
       "\n",
       "       [[5],\n",
       "        [3],\n",
       "        [4],\n",
       "        [0],\n",
       "        [1],\n",
       "        [3],\n",
       "        [9],\n",
       "        [4],\n",
       "        [9],\n",
       "        [9],\n",
       "        [5],\n",
       "        [8],\n",
       "        [1],\n",
       "        [4],\n",
       "        [1],\n",
       "        [9],\n",
       "        [0],\n",
       "        [8],\n",
       "        [6],\n",
       "        [6],\n",
       "        [0],\n",
       "        [2],\n",
       "        [7],\n",
       "        [3],\n",
       "        [6],\n",
       "        [0],\n",
       "        [1],\n",
       "        [5]],\n",
       "\n",
       "       [[6],\n",
       "        [9],\n",
       "        [5],\n",
       "        [2],\n",
       "        [1],\n",
       "        [4],\n",
       "        [4],\n",
       "        [5],\n",
       "        [2],\n",
       "        [0],\n",
       "        [8],\n",
       "        [3],\n",
       "        [8],\n",
       "        [9],\n",
       "        [7],\n",
       "        [5],\n",
       "        [5],\n",
       "        [9],\n",
       "        [7],\n",
       "        [2],\n",
       "        [6],\n",
       "        [8],\n",
       "        [2],\n",
       "        [6],\n",
       "        [4],\n",
       "        [5],\n",
       "        [1],\n",
       "        [2]],\n",
       "\n",
       "       [[9],\n",
       "        [8],\n",
       "        [7],\n",
       "        [4],\n",
       "        [3],\n",
       "        [1],\n",
       "        [6],\n",
       "        [2],\n",
       "        [1],\n",
       "        [4],\n",
       "        [3],\n",
       "        [3],\n",
       "        [8],\n",
       "        [7],\n",
       "        [3],\n",
       "        [7],\n",
       "        [5],\n",
       "        [2],\n",
       "        [8],\n",
       "        [8],\n",
       "        [8],\n",
       "        [9],\n",
       "        [7],\n",
       "        [3],\n",
       "        [7],\n",
       "        [4],\n",
       "        [8],\n",
       "        [7]],\n",
       "\n",
       "       [[9],\n",
       "        [8],\n",
       "        [8],\n",
       "        [1],\n",
       "        [7],\n",
       "        [2],\n",
       "        [1],\n",
       "        [7],\n",
       "        [8],\n",
       "        [5],\n",
       "        [4],\n",
       "        [5],\n",
       "        [8],\n",
       "        [8],\n",
       "        [7],\n",
       "        [1],\n",
       "        [2],\n",
       "        [1],\n",
       "        [6],\n",
       "        [4],\n",
       "        [1],\n",
       "        [7],\n",
       "        [5],\n",
       "        [2],\n",
       "        [7],\n",
       "        [6],\n",
       "        [4],\n",
       "        [4]],\n",
       "\n",
       "       [[6],\n",
       "        [1],\n",
       "        [4],\n",
       "        [8],\n",
       "        [4],\n",
       "        [6],\n",
       "        [1],\n",
       "        [8],\n",
       "        [9],\n",
       "        [5],\n",
       "        [1],\n",
       "        [2],\n",
       "        [4],\n",
       "        [7],\n",
       "        [6],\n",
       "        [0],\n",
       "        [3],\n",
       "        [4],\n",
       "        [6],\n",
       "        [1],\n",
       "        [2],\n",
       "        [8],\n",
       "        [7],\n",
       "        [8],\n",
       "        [8],\n",
       "        [6],\n",
       "        [4],\n",
       "        [5]],\n",
       "\n",
       "       [[1],\n",
       "        [8],\n",
       "        [9],\n",
       "        [5],\n",
       "        [1],\n",
       "        [7],\n",
       "        [2],\n",
       "        [0],\n",
       "        [3],\n",
       "        [2],\n",
       "        [9],\n",
       "        [2],\n",
       "        [8],\n",
       "        [1],\n",
       "        [3],\n",
       "        [6],\n",
       "        [4],\n",
       "        [4],\n",
       "        [4],\n",
       "        [4],\n",
       "        [2],\n",
       "        [4],\n",
       "        [5],\n",
       "        [3],\n",
       "        [0],\n",
       "        [0],\n",
       "        [7],\n",
       "        [6]],\n",
       "\n",
       "       [[7],\n",
       "        [4],\n",
       "        [2],\n",
       "        [6],\n",
       "        [4],\n",
       "        [8],\n",
       "        [5],\n",
       "        [6],\n",
       "        [3],\n",
       "        [8],\n",
       "        [1],\n",
       "        [1],\n",
       "        [5],\n",
       "        [8],\n",
       "        [0],\n",
       "        [8],\n",
       "        [6],\n",
       "        [8],\n",
       "        [4],\n",
       "        [5],\n",
       "        [1],\n",
       "        [0],\n",
       "        [2],\n",
       "        [6],\n",
       "        [1],\n",
       "        [9],\n",
       "        [9],\n",
       "        [7]],\n",
       "\n",
       "       [[5],\n",
       "        [7],\n",
       "        [6],\n",
       "        [5],\n",
       "        [0],\n",
       "        [7],\n",
       "        [7],\n",
       "        [4],\n",
       "        [9],\n",
       "        [5],\n",
       "        [6],\n",
       "        [6],\n",
       "        [2],\n",
       "        [8],\n",
       "        [5],\n",
       "        [3],\n",
       "        [4],\n",
       "        [3],\n",
       "        [2],\n",
       "        [8],\n",
       "        [7],\n",
       "        [9],\n",
       "        [5],\n",
       "        [0],\n",
       "        [5],\n",
       "        [8],\n",
       "        [7],\n",
       "        [6]],\n",
       "\n",
       "       [[2],\n",
       "        [0],\n",
       "        [6],\n",
       "        [5],\n",
       "        [4],\n",
       "        [1],\n",
       "        [0],\n",
       "        [8],\n",
       "        [4],\n",
       "        [2],\n",
       "        [3],\n",
       "        [8],\n",
       "        [6],\n",
       "        [0],\n",
       "        [7],\n",
       "        [8],\n",
       "        [7],\n",
       "        [1],\n",
       "        [6],\n",
       "        [7],\n",
       "        [2],\n",
       "        [7],\n",
       "        [3],\n",
       "        [3],\n",
       "        [6],\n",
       "        [3],\n",
       "        [0],\n",
       "        [2]],\n",
       "\n",
       "       [[0],\n",
       "        [1],\n",
       "        [9],\n",
       "        [2],\n",
       "        [6],\n",
       "        [2],\n",
       "        [7],\n",
       "        [6],\n",
       "        [5],\n",
       "        [2],\n",
       "        [3],\n",
       "        [8],\n",
       "        [4],\n",
       "        [2],\n",
       "        [0],\n",
       "        [8],\n",
       "        [7],\n",
       "        [4],\n",
       "        [5],\n",
       "        [9],\n",
       "        [9],\n",
       "        [4],\n",
       "        [3],\n",
       "        [3],\n",
       "        [4],\n",
       "        [4],\n",
       "        [0],\n",
       "        [3]],\n",
       "\n",
       "       [[0],\n",
       "        [2],\n",
       "        [5],\n",
       "        [4],\n",
       "        [5],\n",
       "        [4],\n",
       "        [0],\n",
       "        [7],\n",
       "        [1],\n",
       "        [2],\n",
       "        [3],\n",
       "        [1],\n",
       "        [2],\n",
       "        [1],\n",
       "        [6],\n",
       "        [1],\n",
       "        [9],\n",
       "        [2],\n",
       "        [8],\n",
       "        [0],\n",
       "        [7],\n",
       "        [8],\n",
       "        [3],\n",
       "        [6],\n",
       "        [5],\n",
       "        [2],\n",
       "        [8],\n",
       "        [7]],\n",
       "\n",
       "       [[3],\n",
       "        [2],\n",
       "        [5],\n",
       "        [0],\n",
       "        [2],\n",
       "        [6],\n",
       "        [6],\n",
       "        [6],\n",
       "        [6],\n",
       "        [5],\n",
       "        [5],\n",
       "        [9],\n",
       "        [6],\n",
       "        [7],\n",
       "        [2],\n",
       "        [5],\n",
       "        [9],\n",
       "        [4],\n",
       "        [7],\n",
       "        [6],\n",
       "        [7],\n",
       "        [4],\n",
       "        [6],\n",
       "        [6],\n",
       "        [5],\n",
       "        [7],\n",
       "        [7],\n",
       "        [1]],\n",
       "\n",
       "       [[3],\n",
       "        [2],\n",
       "        [1],\n",
       "        [0],\n",
       "        [3],\n",
       "        [6],\n",
       "        [4],\n",
       "        [9],\n",
       "        [5],\n",
       "        [6],\n",
       "        [0],\n",
       "        [9],\n",
       "        [3],\n",
       "        [9],\n",
       "        [9],\n",
       "        [4],\n",
       "        [8],\n",
       "        [8],\n",
       "        [0],\n",
       "        [8],\n",
       "        [1],\n",
       "        [0],\n",
       "        [8],\n",
       "        [0],\n",
       "        [9],\n",
       "        [3],\n",
       "        [2],\n",
       "        [9]]])>"
      ]
     },
     "execution_count": 78,
     "metadata": {},
     "output_type": "execute_result"
    }
   ],
   "source": [
    "# axis=2 表示宽维度后面的一个维度\n",
    "x = tf.expand_dims(x,axis=2) \n",
    "x"
   ]
  },
  {
   "cell_type": "code",
   "execution_count": 79,
   "metadata": {},
   "outputs": [
    {
     "data": {
      "text/plain": [
       "<tf.Tensor: shape=(1, 28, 28, 1), dtype=int32, numpy=\n",
       "array([[[[6],\n",
       "         [5],\n",
       "         [5],\n",
       "         [5],\n",
       "         [9],\n",
       "         [2],\n",
       "         [3],\n",
       "         [6],\n",
       "         [4],\n",
       "         [9],\n",
       "         [3],\n",
       "         [6],\n",
       "         [0],\n",
       "         [3],\n",
       "         [4],\n",
       "         [0],\n",
       "         [9],\n",
       "         [7],\n",
       "         [6],\n",
       "         [6],\n",
       "         [5],\n",
       "         [8],\n",
       "         [2],\n",
       "         [4],\n",
       "         [8],\n",
       "         [5],\n",
       "         [0],\n",
       "         [3]],\n",
       "\n",
       "        [[7],\n",
       "         [4],\n",
       "         [6],\n",
       "         [6],\n",
       "         [8],\n",
       "         [5],\n",
       "         [3],\n",
       "         [6],\n",
       "         [3],\n",
       "         [1],\n",
       "         [6],\n",
       "         [4],\n",
       "         [3],\n",
       "         [4],\n",
       "         [2],\n",
       "         [0],\n",
       "         [3],\n",
       "         [2],\n",
       "         [4],\n",
       "         [5],\n",
       "         [2],\n",
       "         [7],\n",
       "         [8],\n",
       "         [7],\n",
       "         [5],\n",
       "         [0],\n",
       "         [6],\n",
       "         [5]],\n",
       "\n",
       "        [[9],\n",
       "         [5],\n",
       "         [0],\n",
       "         [5],\n",
       "         [8],\n",
       "         [8],\n",
       "         [8],\n",
       "         [8],\n",
       "         [4],\n",
       "         [6],\n",
       "         [1],\n",
       "         [1],\n",
       "         [1],\n",
       "         [7],\n",
       "         [7],\n",
       "         [4],\n",
       "         [3],\n",
       "         [6],\n",
       "         [0],\n",
       "         [4],\n",
       "         [6],\n",
       "         [8],\n",
       "         [0],\n",
       "         [0],\n",
       "         [4],\n",
       "         [1],\n",
       "         [3],\n",
       "         [3]],\n",
       "\n",
       "        [[6],\n",
       "         [4],\n",
       "         [6],\n",
       "         [7],\n",
       "         [2],\n",
       "         [6],\n",
       "         [6],\n",
       "         [0],\n",
       "         [3],\n",
       "         [7],\n",
       "         [8],\n",
       "         [6],\n",
       "         [3],\n",
       "         [9],\n",
       "         [5],\n",
       "         [1],\n",
       "         [1],\n",
       "         [7],\n",
       "         [8],\n",
       "         [6],\n",
       "         [9],\n",
       "         [1],\n",
       "         [8],\n",
       "         [5],\n",
       "         [2],\n",
       "         [9],\n",
       "         [4],\n",
       "         [1]],\n",
       "\n",
       "        [[0],\n",
       "         [9],\n",
       "         [6],\n",
       "         [4],\n",
       "         [3],\n",
       "         [4],\n",
       "         [6],\n",
       "         [1],\n",
       "         [4],\n",
       "         [7],\n",
       "         [6],\n",
       "         [6],\n",
       "         [8],\n",
       "         [6],\n",
       "         [1],\n",
       "         [1],\n",
       "         [6],\n",
       "         [9],\n",
       "         [0],\n",
       "         [3],\n",
       "         [5],\n",
       "         [0],\n",
       "         [7],\n",
       "         [7],\n",
       "         [8],\n",
       "         [9],\n",
       "         [8],\n",
       "         [9]],\n",
       "\n",
       "        [[5],\n",
       "         [1],\n",
       "         [9],\n",
       "         [2],\n",
       "         [7],\n",
       "         [1],\n",
       "         [9],\n",
       "         [2],\n",
       "         [5],\n",
       "         [7],\n",
       "         [4],\n",
       "         [3],\n",
       "         [5],\n",
       "         [5],\n",
       "         [5],\n",
       "         [7],\n",
       "         [1],\n",
       "         [3],\n",
       "         [6],\n",
       "         [4],\n",
       "         [8],\n",
       "         [5],\n",
       "         [1],\n",
       "         [2],\n",
       "         [8],\n",
       "         [7],\n",
       "         [7],\n",
       "         [8]],\n",
       "\n",
       "        [[2],\n",
       "         [6],\n",
       "         [9],\n",
       "         [9],\n",
       "         [7],\n",
       "         [4],\n",
       "         [5],\n",
       "         [0],\n",
       "         [9],\n",
       "         [9],\n",
       "         [6],\n",
       "         [0],\n",
       "         [5],\n",
       "         [7],\n",
       "         [2],\n",
       "         [6],\n",
       "         [1],\n",
       "         [4],\n",
       "         [6],\n",
       "         [1],\n",
       "         [2],\n",
       "         [4],\n",
       "         [8],\n",
       "         [7],\n",
       "         [9],\n",
       "         [7],\n",
       "         [9],\n",
       "         [1]],\n",
       "\n",
       "        [[4],\n",
       "         [9],\n",
       "         [1],\n",
       "         [1],\n",
       "         [2],\n",
       "         [3],\n",
       "         [3],\n",
       "         [8],\n",
       "         [1],\n",
       "         [8],\n",
       "         [9],\n",
       "         [7],\n",
       "         [8],\n",
       "         [6],\n",
       "         [9],\n",
       "         [3],\n",
       "         [2],\n",
       "         [9],\n",
       "         [1],\n",
       "         [3],\n",
       "         [3],\n",
       "         [1],\n",
       "         [4],\n",
       "         [8],\n",
       "         [4],\n",
       "         [4],\n",
       "         [5],\n",
       "         [8]],\n",
       "\n",
       "        [[6],\n",
       "         [3],\n",
       "         [2],\n",
       "         [5],\n",
       "         [8],\n",
       "         [6],\n",
       "         [0],\n",
       "         [7],\n",
       "         [4],\n",
       "         [7],\n",
       "         [4],\n",
       "         [8],\n",
       "         [4],\n",
       "         [4],\n",
       "         [3],\n",
       "         [4],\n",
       "         [3],\n",
       "         [4],\n",
       "         [6],\n",
       "         [1],\n",
       "         [5],\n",
       "         [6],\n",
       "         [0],\n",
       "         [6],\n",
       "         [8],\n",
       "         [9],\n",
       "         [3],\n",
       "         [5]],\n",
       "\n",
       "        [[1],\n",
       "         [7],\n",
       "         [0],\n",
       "         [3],\n",
       "         [5],\n",
       "         [1],\n",
       "         [1],\n",
       "         [0],\n",
       "         [6],\n",
       "         [6],\n",
       "         [5],\n",
       "         [4],\n",
       "         [9],\n",
       "         [7],\n",
       "         [7],\n",
       "         [3],\n",
       "         [4],\n",
       "         [6],\n",
       "         [0],\n",
       "         [9],\n",
       "         [3],\n",
       "         [6],\n",
       "         [5],\n",
       "         [0],\n",
       "         [1],\n",
       "         [9],\n",
       "         [5],\n",
       "         [9]],\n",
       "\n",
       "        [[2],\n",
       "         [5],\n",
       "         [8],\n",
       "         [0],\n",
       "         [4],\n",
       "         [6],\n",
       "         [4],\n",
       "         [4],\n",
       "         [4],\n",
       "         [7],\n",
       "         [5],\n",
       "         [2],\n",
       "         [1],\n",
       "         [1],\n",
       "         [3],\n",
       "         [9],\n",
       "         [5],\n",
       "         [2],\n",
       "         [4],\n",
       "         [0],\n",
       "         [9],\n",
       "         [8],\n",
       "         [1],\n",
       "         [5],\n",
       "         [0],\n",
       "         [1],\n",
       "         [3],\n",
       "         [0]],\n",
       "\n",
       "        [[9],\n",
       "         [9],\n",
       "         [5],\n",
       "         [4],\n",
       "         [1],\n",
       "         [0],\n",
       "         [2],\n",
       "         [1],\n",
       "         [8],\n",
       "         [5],\n",
       "         [0],\n",
       "         [9],\n",
       "         [5],\n",
       "         [7],\n",
       "         [5],\n",
       "         [3],\n",
       "         [0],\n",
       "         [7],\n",
       "         [0],\n",
       "         [9],\n",
       "         [6],\n",
       "         [4],\n",
       "         [0],\n",
       "         [0],\n",
       "         [6],\n",
       "         [8],\n",
       "         [5],\n",
       "         [0]],\n",
       "\n",
       "        [[2],\n",
       "         [7],\n",
       "         [3],\n",
       "         [1],\n",
       "         [1],\n",
       "         [7],\n",
       "         [2],\n",
       "         [9],\n",
       "         [5],\n",
       "         [9],\n",
       "         [8],\n",
       "         [3],\n",
       "         [6],\n",
       "         [2],\n",
       "         [5],\n",
       "         [4],\n",
       "         [9],\n",
       "         [1],\n",
       "         [1],\n",
       "         [4],\n",
       "         [5],\n",
       "         [0],\n",
       "         [8],\n",
       "         [6],\n",
       "         [9],\n",
       "         [9],\n",
       "         [4],\n",
       "         [0]],\n",
       "\n",
       "        [[8],\n",
       "         [0],\n",
       "         [5],\n",
       "         [9],\n",
       "         [7],\n",
       "         [2],\n",
       "         [8],\n",
       "         [3],\n",
       "         [9],\n",
       "         [7],\n",
       "         [3],\n",
       "         [2],\n",
       "         [1],\n",
       "         [0],\n",
       "         [8],\n",
       "         [3],\n",
       "         [9],\n",
       "         [9],\n",
       "         [7],\n",
       "         [8],\n",
       "         [9],\n",
       "         [9],\n",
       "         [9],\n",
       "         [3],\n",
       "         [1],\n",
       "         [2],\n",
       "         [9],\n",
       "         [7]],\n",
       "\n",
       "        [[7],\n",
       "         [6],\n",
       "         [5],\n",
       "         [7],\n",
       "         [4],\n",
       "         [1],\n",
       "         [2],\n",
       "         [5],\n",
       "         [0],\n",
       "         [9],\n",
       "         [8],\n",
       "         [3],\n",
       "         [7],\n",
       "         [1],\n",
       "         [0],\n",
       "         [9],\n",
       "         [3],\n",
       "         [3],\n",
       "         [7],\n",
       "         [6],\n",
       "         [3],\n",
       "         [3],\n",
       "         [7],\n",
       "         [4],\n",
       "         [2],\n",
       "         [4],\n",
       "         [2],\n",
       "         [0]],\n",
       "\n",
       "        [[5],\n",
       "         [3],\n",
       "         [4],\n",
       "         [0],\n",
       "         [1],\n",
       "         [3],\n",
       "         [9],\n",
       "         [4],\n",
       "         [9],\n",
       "         [9],\n",
       "         [5],\n",
       "         [8],\n",
       "         [1],\n",
       "         [4],\n",
       "         [1],\n",
       "         [9],\n",
       "         [0],\n",
       "         [8],\n",
       "         [6],\n",
       "         [6],\n",
       "         [0],\n",
       "         [2],\n",
       "         [7],\n",
       "         [3],\n",
       "         [6],\n",
       "         [0],\n",
       "         [1],\n",
       "         [5]],\n",
       "\n",
       "        [[6],\n",
       "         [9],\n",
       "         [5],\n",
       "         [2],\n",
       "         [1],\n",
       "         [4],\n",
       "         [4],\n",
       "         [5],\n",
       "         [2],\n",
       "         [0],\n",
       "         [8],\n",
       "         [3],\n",
       "         [8],\n",
       "         [9],\n",
       "         [7],\n",
       "         [5],\n",
       "         [5],\n",
       "         [9],\n",
       "         [7],\n",
       "         [2],\n",
       "         [6],\n",
       "         [8],\n",
       "         [2],\n",
       "         [6],\n",
       "         [4],\n",
       "         [5],\n",
       "         [1],\n",
       "         [2]],\n",
       "\n",
       "        [[9],\n",
       "         [8],\n",
       "         [7],\n",
       "         [4],\n",
       "         [3],\n",
       "         [1],\n",
       "         [6],\n",
       "         [2],\n",
       "         [1],\n",
       "         [4],\n",
       "         [3],\n",
       "         [3],\n",
       "         [8],\n",
       "         [7],\n",
       "         [3],\n",
       "         [7],\n",
       "         [5],\n",
       "         [2],\n",
       "         [8],\n",
       "         [8],\n",
       "         [8],\n",
       "         [9],\n",
       "         [7],\n",
       "         [3],\n",
       "         [7],\n",
       "         [4],\n",
       "         [8],\n",
       "         [7]],\n",
       "\n",
       "        [[9],\n",
       "         [8],\n",
       "         [8],\n",
       "         [1],\n",
       "         [7],\n",
       "         [2],\n",
       "         [1],\n",
       "         [7],\n",
       "         [8],\n",
       "         [5],\n",
       "         [4],\n",
       "         [5],\n",
       "         [8],\n",
       "         [8],\n",
       "         [7],\n",
       "         [1],\n",
       "         [2],\n",
       "         [1],\n",
       "         [6],\n",
       "         [4],\n",
       "         [1],\n",
       "         [7],\n",
       "         [5],\n",
       "         [2],\n",
       "         [7],\n",
       "         [6],\n",
       "         [4],\n",
       "         [4]],\n",
       "\n",
       "        [[6],\n",
       "         [1],\n",
       "         [4],\n",
       "         [8],\n",
       "         [4],\n",
       "         [6],\n",
       "         [1],\n",
       "         [8],\n",
       "         [9],\n",
       "         [5],\n",
       "         [1],\n",
       "         [2],\n",
       "         [4],\n",
       "         [7],\n",
       "         [6],\n",
       "         [0],\n",
       "         [3],\n",
       "         [4],\n",
       "         [6],\n",
       "         [1],\n",
       "         [2],\n",
       "         [8],\n",
       "         [7],\n",
       "         [8],\n",
       "         [8],\n",
       "         [6],\n",
       "         [4],\n",
       "         [5]],\n",
       "\n",
       "        [[1],\n",
       "         [8],\n",
       "         [9],\n",
       "         [5],\n",
       "         [1],\n",
       "         [7],\n",
       "         [2],\n",
       "         [0],\n",
       "         [3],\n",
       "         [2],\n",
       "         [9],\n",
       "         [2],\n",
       "         [8],\n",
       "         [1],\n",
       "         [3],\n",
       "         [6],\n",
       "         [4],\n",
       "         [4],\n",
       "         [4],\n",
       "         [4],\n",
       "         [2],\n",
       "         [4],\n",
       "         [5],\n",
       "         [3],\n",
       "         [0],\n",
       "         [0],\n",
       "         [7],\n",
       "         [6]],\n",
       "\n",
       "        [[7],\n",
       "         [4],\n",
       "         [2],\n",
       "         [6],\n",
       "         [4],\n",
       "         [8],\n",
       "         [5],\n",
       "         [6],\n",
       "         [3],\n",
       "         [8],\n",
       "         [1],\n",
       "         [1],\n",
       "         [5],\n",
       "         [8],\n",
       "         [0],\n",
       "         [8],\n",
       "         [6],\n",
       "         [8],\n",
       "         [4],\n",
       "         [5],\n",
       "         [1],\n",
       "         [0],\n",
       "         [2],\n",
       "         [6],\n",
       "         [1],\n",
       "         [9],\n",
       "         [9],\n",
       "         [7]],\n",
       "\n",
       "        [[5],\n",
       "         [7],\n",
       "         [6],\n",
       "         [5],\n",
       "         [0],\n",
       "         [7],\n",
       "         [7],\n",
       "         [4],\n",
       "         [9],\n",
       "         [5],\n",
       "         [6],\n",
       "         [6],\n",
       "         [2],\n",
       "         [8],\n",
       "         [5],\n",
       "         [3],\n",
       "         [4],\n",
       "         [3],\n",
       "         [2],\n",
       "         [8],\n",
       "         [7],\n",
       "         [9],\n",
       "         [5],\n",
       "         [0],\n",
       "         [5],\n",
       "         [8],\n",
       "         [7],\n",
       "         [6]],\n",
       "\n",
       "        [[2],\n",
       "         [0],\n",
       "         [6],\n",
       "         [5],\n",
       "         [4],\n",
       "         [1],\n",
       "         [0],\n",
       "         [8],\n",
       "         [4],\n",
       "         [2],\n",
       "         [3],\n",
       "         [8],\n",
       "         [6],\n",
       "         [0],\n",
       "         [7],\n",
       "         [8],\n",
       "         [7],\n",
       "         [1],\n",
       "         [6],\n",
       "         [7],\n",
       "         [2],\n",
       "         [7],\n",
       "         [3],\n",
       "         [3],\n",
       "         [6],\n",
       "         [3],\n",
       "         [0],\n",
       "         [2]],\n",
       "\n",
       "        [[0],\n",
       "         [1],\n",
       "         [9],\n",
       "         [2],\n",
       "         [6],\n",
       "         [2],\n",
       "         [7],\n",
       "         [6],\n",
       "         [5],\n",
       "         [2],\n",
       "         [3],\n",
       "         [8],\n",
       "         [4],\n",
       "         [2],\n",
       "         [0],\n",
       "         [8],\n",
       "         [7],\n",
       "         [4],\n",
       "         [5],\n",
       "         [9],\n",
       "         [9],\n",
       "         [4],\n",
       "         [3],\n",
       "         [3],\n",
       "         [4],\n",
       "         [4],\n",
       "         [0],\n",
       "         [3]],\n",
       "\n",
       "        [[0],\n",
       "         [2],\n",
       "         [5],\n",
       "         [4],\n",
       "         [5],\n",
       "         [4],\n",
       "         [0],\n",
       "         [7],\n",
       "         [1],\n",
       "         [2],\n",
       "         [3],\n",
       "         [1],\n",
       "         [2],\n",
       "         [1],\n",
       "         [6],\n",
       "         [1],\n",
       "         [9],\n",
       "         [2],\n",
       "         [8],\n",
       "         [0],\n",
       "         [7],\n",
       "         [8],\n",
       "         [3],\n",
       "         [6],\n",
       "         [5],\n",
       "         [2],\n",
       "         [8],\n",
       "         [7]],\n",
       "\n",
       "        [[3],\n",
       "         [2],\n",
       "         [5],\n",
       "         [0],\n",
       "         [2],\n",
       "         [6],\n",
       "         [6],\n",
       "         [6],\n",
       "         [6],\n",
       "         [5],\n",
       "         [5],\n",
       "         [9],\n",
       "         [6],\n",
       "         [7],\n",
       "         [2],\n",
       "         [5],\n",
       "         [9],\n",
       "         [4],\n",
       "         [7],\n",
       "         [6],\n",
       "         [7],\n",
       "         [4],\n",
       "         [6],\n",
       "         [6],\n",
       "         [5],\n",
       "         [7],\n",
       "         [7],\n",
       "         [1]],\n",
       "\n",
       "        [[3],\n",
       "         [2],\n",
       "         [1],\n",
       "         [0],\n",
       "         [3],\n",
       "         [6],\n",
       "         [4],\n",
       "         [9],\n",
       "         [5],\n",
       "         [6],\n",
       "         [0],\n",
       "         [9],\n",
       "         [3],\n",
       "         [9],\n",
       "         [9],\n",
       "         [4],\n",
       "         [8],\n",
       "         [8],\n",
       "         [0],\n",
       "         [8],\n",
       "         [1],\n",
       "         [0],\n",
       "         [8],\n",
       "         [0],\n",
       "         [9],\n",
       "         [3],\n",
       "         [2],\n",
       "         [9]]]])>"
      ]
     },
     "execution_count": 79,
     "metadata": {},
     "output_type": "execute_result"
    }
   ],
   "source": [
    "x = tf.expand_dims(x,axis=0) # 高维度之前插入新维度\n",
    "x"
   ]
  },
  {
   "cell_type": "code",
   "execution_count": 80,
   "metadata": {},
   "outputs": [
    {
     "data": {
      "text/plain": [
       "<tf.Tensor: shape=(28, 28, 1), dtype=int32, numpy=\n",
       "array([[[6],\n",
       "        [5],\n",
       "        [5],\n",
       "        [5],\n",
       "        [9],\n",
       "        [2],\n",
       "        [3],\n",
       "        [6],\n",
       "        [4],\n",
       "        [9],\n",
       "        [3],\n",
       "        [6],\n",
       "        [0],\n",
       "        [3],\n",
       "        [4],\n",
       "        [0],\n",
       "        [9],\n",
       "        [7],\n",
       "        [6],\n",
       "        [6],\n",
       "        [5],\n",
       "        [8],\n",
       "        [2],\n",
       "        [4],\n",
       "        [8],\n",
       "        [5],\n",
       "        [0],\n",
       "        [3]],\n",
       "\n",
       "       [[7],\n",
       "        [4],\n",
       "        [6],\n",
       "        [6],\n",
       "        [8],\n",
       "        [5],\n",
       "        [3],\n",
       "        [6],\n",
       "        [3],\n",
       "        [1],\n",
       "        [6],\n",
       "        [4],\n",
       "        [3],\n",
       "        [4],\n",
       "        [2],\n",
       "        [0],\n",
       "        [3],\n",
       "        [2],\n",
       "        [4],\n",
       "        [5],\n",
       "        [2],\n",
       "        [7],\n",
       "        [8],\n",
       "        [7],\n",
       "        [5],\n",
       "        [0],\n",
       "        [6],\n",
       "        [5]],\n",
       "\n",
       "       [[9],\n",
       "        [5],\n",
       "        [0],\n",
       "        [5],\n",
       "        [8],\n",
       "        [8],\n",
       "        [8],\n",
       "        [8],\n",
       "        [4],\n",
       "        [6],\n",
       "        [1],\n",
       "        [1],\n",
       "        [1],\n",
       "        [7],\n",
       "        [7],\n",
       "        [4],\n",
       "        [3],\n",
       "        [6],\n",
       "        [0],\n",
       "        [4],\n",
       "        [6],\n",
       "        [8],\n",
       "        [0],\n",
       "        [0],\n",
       "        [4],\n",
       "        [1],\n",
       "        [3],\n",
       "        [3]],\n",
       "\n",
       "       [[6],\n",
       "        [4],\n",
       "        [6],\n",
       "        [7],\n",
       "        [2],\n",
       "        [6],\n",
       "        [6],\n",
       "        [0],\n",
       "        [3],\n",
       "        [7],\n",
       "        [8],\n",
       "        [6],\n",
       "        [3],\n",
       "        [9],\n",
       "        [5],\n",
       "        [1],\n",
       "        [1],\n",
       "        [7],\n",
       "        [8],\n",
       "        [6],\n",
       "        [9],\n",
       "        [1],\n",
       "        [8],\n",
       "        [5],\n",
       "        [2],\n",
       "        [9],\n",
       "        [4],\n",
       "        [1]],\n",
       "\n",
       "       [[0],\n",
       "        [9],\n",
       "        [6],\n",
       "        [4],\n",
       "        [3],\n",
       "        [4],\n",
       "        [6],\n",
       "        [1],\n",
       "        [4],\n",
       "        [7],\n",
       "        [6],\n",
       "        [6],\n",
       "        [8],\n",
       "        [6],\n",
       "        [1],\n",
       "        [1],\n",
       "        [6],\n",
       "        [9],\n",
       "        [0],\n",
       "        [3],\n",
       "        [5],\n",
       "        [0],\n",
       "        [7],\n",
       "        [7],\n",
       "        [8],\n",
       "        [9],\n",
       "        [8],\n",
       "        [9]],\n",
       "\n",
       "       [[5],\n",
       "        [1],\n",
       "        [9],\n",
       "        [2],\n",
       "        [7],\n",
       "        [1],\n",
       "        [9],\n",
       "        [2],\n",
       "        [5],\n",
       "        [7],\n",
       "        [4],\n",
       "        [3],\n",
       "        [5],\n",
       "        [5],\n",
       "        [5],\n",
       "        [7],\n",
       "        [1],\n",
       "        [3],\n",
       "        [6],\n",
       "        [4],\n",
       "        [8],\n",
       "        [5],\n",
       "        [1],\n",
       "        [2],\n",
       "        [8],\n",
       "        [7],\n",
       "        [7],\n",
       "        [8]],\n",
       "\n",
       "       [[2],\n",
       "        [6],\n",
       "        [9],\n",
       "        [9],\n",
       "        [7],\n",
       "        [4],\n",
       "        [5],\n",
       "        [0],\n",
       "        [9],\n",
       "        [9],\n",
       "        [6],\n",
       "        [0],\n",
       "        [5],\n",
       "        [7],\n",
       "        [2],\n",
       "        [6],\n",
       "        [1],\n",
       "        [4],\n",
       "        [6],\n",
       "        [1],\n",
       "        [2],\n",
       "        [4],\n",
       "        [8],\n",
       "        [7],\n",
       "        [9],\n",
       "        [7],\n",
       "        [9],\n",
       "        [1]],\n",
       "\n",
       "       [[4],\n",
       "        [9],\n",
       "        [1],\n",
       "        [1],\n",
       "        [2],\n",
       "        [3],\n",
       "        [3],\n",
       "        [8],\n",
       "        [1],\n",
       "        [8],\n",
       "        [9],\n",
       "        [7],\n",
       "        [8],\n",
       "        [6],\n",
       "        [9],\n",
       "        [3],\n",
       "        [2],\n",
       "        [9],\n",
       "        [1],\n",
       "        [3],\n",
       "        [3],\n",
       "        [1],\n",
       "        [4],\n",
       "        [8],\n",
       "        [4],\n",
       "        [4],\n",
       "        [5],\n",
       "        [8]],\n",
       "\n",
       "       [[6],\n",
       "        [3],\n",
       "        [2],\n",
       "        [5],\n",
       "        [8],\n",
       "        [6],\n",
       "        [0],\n",
       "        [7],\n",
       "        [4],\n",
       "        [7],\n",
       "        [4],\n",
       "        [8],\n",
       "        [4],\n",
       "        [4],\n",
       "        [3],\n",
       "        [4],\n",
       "        [3],\n",
       "        [4],\n",
       "        [6],\n",
       "        [1],\n",
       "        [5],\n",
       "        [6],\n",
       "        [0],\n",
       "        [6],\n",
       "        [8],\n",
       "        [9],\n",
       "        [3],\n",
       "        [5]],\n",
       "\n",
       "       [[1],\n",
       "        [7],\n",
       "        [0],\n",
       "        [3],\n",
       "        [5],\n",
       "        [1],\n",
       "        [1],\n",
       "        [0],\n",
       "        [6],\n",
       "        [6],\n",
       "        [5],\n",
       "        [4],\n",
       "        [9],\n",
       "        [7],\n",
       "        [7],\n",
       "        [3],\n",
       "        [4],\n",
       "        [6],\n",
       "        [0],\n",
       "        [9],\n",
       "        [3],\n",
       "        [6],\n",
       "        [5],\n",
       "        [0],\n",
       "        [1],\n",
       "        [9],\n",
       "        [5],\n",
       "        [9]],\n",
       "\n",
       "       [[2],\n",
       "        [5],\n",
       "        [8],\n",
       "        [0],\n",
       "        [4],\n",
       "        [6],\n",
       "        [4],\n",
       "        [4],\n",
       "        [4],\n",
       "        [7],\n",
       "        [5],\n",
       "        [2],\n",
       "        [1],\n",
       "        [1],\n",
       "        [3],\n",
       "        [9],\n",
       "        [5],\n",
       "        [2],\n",
       "        [4],\n",
       "        [0],\n",
       "        [9],\n",
       "        [8],\n",
       "        [1],\n",
       "        [5],\n",
       "        [0],\n",
       "        [1],\n",
       "        [3],\n",
       "        [0]],\n",
       "\n",
       "       [[9],\n",
       "        [9],\n",
       "        [5],\n",
       "        [4],\n",
       "        [1],\n",
       "        [0],\n",
       "        [2],\n",
       "        [1],\n",
       "        [8],\n",
       "        [5],\n",
       "        [0],\n",
       "        [9],\n",
       "        [5],\n",
       "        [7],\n",
       "        [5],\n",
       "        [3],\n",
       "        [0],\n",
       "        [7],\n",
       "        [0],\n",
       "        [9],\n",
       "        [6],\n",
       "        [4],\n",
       "        [0],\n",
       "        [0],\n",
       "        [6],\n",
       "        [8],\n",
       "        [5],\n",
       "        [0]],\n",
       "\n",
       "       [[2],\n",
       "        [7],\n",
       "        [3],\n",
       "        [1],\n",
       "        [1],\n",
       "        [7],\n",
       "        [2],\n",
       "        [9],\n",
       "        [5],\n",
       "        [9],\n",
       "        [8],\n",
       "        [3],\n",
       "        [6],\n",
       "        [2],\n",
       "        [5],\n",
       "        [4],\n",
       "        [9],\n",
       "        [1],\n",
       "        [1],\n",
       "        [4],\n",
       "        [5],\n",
       "        [0],\n",
       "        [8],\n",
       "        [6],\n",
       "        [9],\n",
       "        [9],\n",
       "        [4],\n",
       "        [0]],\n",
       "\n",
       "       [[8],\n",
       "        [0],\n",
       "        [5],\n",
       "        [9],\n",
       "        [7],\n",
       "        [2],\n",
       "        [8],\n",
       "        [3],\n",
       "        [9],\n",
       "        [7],\n",
       "        [3],\n",
       "        [2],\n",
       "        [1],\n",
       "        [0],\n",
       "        [8],\n",
       "        [3],\n",
       "        [9],\n",
       "        [9],\n",
       "        [7],\n",
       "        [8],\n",
       "        [9],\n",
       "        [9],\n",
       "        [9],\n",
       "        [3],\n",
       "        [1],\n",
       "        [2],\n",
       "        [9],\n",
       "        [7]],\n",
       "\n",
       "       [[7],\n",
       "        [6],\n",
       "        [5],\n",
       "        [7],\n",
       "        [4],\n",
       "        [1],\n",
       "        [2],\n",
       "        [5],\n",
       "        [0],\n",
       "        [9],\n",
       "        [8],\n",
       "        [3],\n",
       "        [7],\n",
       "        [1],\n",
       "        [0],\n",
       "        [9],\n",
       "        [3],\n",
       "        [3],\n",
       "        [7],\n",
       "        [6],\n",
       "        [3],\n",
       "        [3],\n",
       "        [7],\n",
       "        [4],\n",
       "        [2],\n",
       "        [4],\n",
       "        [2],\n",
       "        [0]],\n",
       "\n",
       "       [[5],\n",
       "        [3],\n",
       "        [4],\n",
       "        [0],\n",
       "        [1],\n",
       "        [3],\n",
       "        [9],\n",
       "        [4],\n",
       "        [9],\n",
       "        [9],\n",
       "        [5],\n",
       "        [8],\n",
       "        [1],\n",
       "        [4],\n",
       "        [1],\n",
       "        [9],\n",
       "        [0],\n",
       "        [8],\n",
       "        [6],\n",
       "        [6],\n",
       "        [0],\n",
       "        [2],\n",
       "        [7],\n",
       "        [3],\n",
       "        [6],\n",
       "        [0],\n",
       "        [1],\n",
       "        [5]],\n",
       "\n",
       "       [[6],\n",
       "        [9],\n",
       "        [5],\n",
       "        [2],\n",
       "        [1],\n",
       "        [4],\n",
       "        [4],\n",
       "        [5],\n",
       "        [2],\n",
       "        [0],\n",
       "        [8],\n",
       "        [3],\n",
       "        [8],\n",
       "        [9],\n",
       "        [7],\n",
       "        [5],\n",
       "        [5],\n",
       "        [9],\n",
       "        [7],\n",
       "        [2],\n",
       "        [6],\n",
       "        [8],\n",
       "        [2],\n",
       "        [6],\n",
       "        [4],\n",
       "        [5],\n",
       "        [1],\n",
       "        [2]],\n",
       "\n",
       "       [[9],\n",
       "        [8],\n",
       "        [7],\n",
       "        [4],\n",
       "        [3],\n",
       "        [1],\n",
       "        [6],\n",
       "        [2],\n",
       "        [1],\n",
       "        [4],\n",
       "        [3],\n",
       "        [3],\n",
       "        [8],\n",
       "        [7],\n",
       "        [3],\n",
       "        [7],\n",
       "        [5],\n",
       "        [2],\n",
       "        [8],\n",
       "        [8],\n",
       "        [8],\n",
       "        [9],\n",
       "        [7],\n",
       "        [3],\n",
       "        [7],\n",
       "        [4],\n",
       "        [8],\n",
       "        [7]],\n",
       "\n",
       "       [[9],\n",
       "        [8],\n",
       "        [8],\n",
       "        [1],\n",
       "        [7],\n",
       "        [2],\n",
       "        [1],\n",
       "        [7],\n",
       "        [8],\n",
       "        [5],\n",
       "        [4],\n",
       "        [5],\n",
       "        [8],\n",
       "        [8],\n",
       "        [7],\n",
       "        [1],\n",
       "        [2],\n",
       "        [1],\n",
       "        [6],\n",
       "        [4],\n",
       "        [1],\n",
       "        [7],\n",
       "        [5],\n",
       "        [2],\n",
       "        [7],\n",
       "        [6],\n",
       "        [4],\n",
       "        [4]],\n",
       "\n",
       "       [[6],\n",
       "        [1],\n",
       "        [4],\n",
       "        [8],\n",
       "        [4],\n",
       "        [6],\n",
       "        [1],\n",
       "        [8],\n",
       "        [9],\n",
       "        [5],\n",
       "        [1],\n",
       "        [2],\n",
       "        [4],\n",
       "        [7],\n",
       "        [6],\n",
       "        [0],\n",
       "        [3],\n",
       "        [4],\n",
       "        [6],\n",
       "        [1],\n",
       "        [2],\n",
       "        [8],\n",
       "        [7],\n",
       "        [8],\n",
       "        [8],\n",
       "        [6],\n",
       "        [4],\n",
       "        [5]],\n",
       "\n",
       "       [[1],\n",
       "        [8],\n",
       "        [9],\n",
       "        [5],\n",
       "        [1],\n",
       "        [7],\n",
       "        [2],\n",
       "        [0],\n",
       "        [3],\n",
       "        [2],\n",
       "        [9],\n",
       "        [2],\n",
       "        [8],\n",
       "        [1],\n",
       "        [3],\n",
       "        [6],\n",
       "        [4],\n",
       "        [4],\n",
       "        [4],\n",
       "        [4],\n",
       "        [2],\n",
       "        [4],\n",
       "        [5],\n",
       "        [3],\n",
       "        [0],\n",
       "        [0],\n",
       "        [7],\n",
       "        [6]],\n",
       "\n",
       "       [[7],\n",
       "        [4],\n",
       "        [2],\n",
       "        [6],\n",
       "        [4],\n",
       "        [8],\n",
       "        [5],\n",
       "        [6],\n",
       "        [3],\n",
       "        [8],\n",
       "        [1],\n",
       "        [1],\n",
       "        [5],\n",
       "        [8],\n",
       "        [0],\n",
       "        [8],\n",
       "        [6],\n",
       "        [8],\n",
       "        [4],\n",
       "        [5],\n",
       "        [1],\n",
       "        [0],\n",
       "        [2],\n",
       "        [6],\n",
       "        [1],\n",
       "        [9],\n",
       "        [9],\n",
       "        [7]],\n",
       "\n",
       "       [[5],\n",
       "        [7],\n",
       "        [6],\n",
       "        [5],\n",
       "        [0],\n",
       "        [7],\n",
       "        [7],\n",
       "        [4],\n",
       "        [9],\n",
       "        [5],\n",
       "        [6],\n",
       "        [6],\n",
       "        [2],\n",
       "        [8],\n",
       "        [5],\n",
       "        [3],\n",
       "        [4],\n",
       "        [3],\n",
       "        [2],\n",
       "        [8],\n",
       "        [7],\n",
       "        [9],\n",
       "        [5],\n",
       "        [0],\n",
       "        [5],\n",
       "        [8],\n",
       "        [7],\n",
       "        [6]],\n",
       "\n",
       "       [[2],\n",
       "        [0],\n",
       "        [6],\n",
       "        [5],\n",
       "        [4],\n",
       "        [1],\n",
       "        [0],\n",
       "        [8],\n",
       "        [4],\n",
       "        [2],\n",
       "        [3],\n",
       "        [8],\n",
       "        [6],\n",
       "        [0],\n",
       "        [7],\n",
       "        [8],\n",
       "        [7],\n",
       "        [1],\n",
       "        [6],\n",
       "        [7],\n",
       "        [2],\n",
       "        [7],\n",
       "        [3],\n",
       "        [3],\n",
       "        [6],\n",
       "        [3],\n",
       "        [0],\n",
       "        [2]],\n",
       "\n",
       "       [[0],\n",
       "        [1],\n",
       "        [9],\n",
       "        [2],\n",
       "        [6],\n",
       "        [2],\n",
       "        [7],\n",
       "        [6],\n",
       "        [5],\n",
       "        [2],\n",
       "        [3],\n",
       "        [8],\n",
       "        [4],\n",
       "        [2],\n",
       "        [0],\n",
       "        [8],\n",
       "        [7],\n",
       "        [4],\n",
       "        [5],\n",
       "        [9],\n",
       "        [9],\n",
       "        [4],\n",
       "        [3],\n",
       "        [3],\n",
       "        [4],\n",
       "        [4],\n",
       "        [0],\n",
       "        [3]],\n",
       "\n",
       "       [[0],\n",
       "        [2],\n",
       "        [5],\n",
       "        [4],\n",
       "        [5],\n",
       "        [4],\n",
       "        [0],\n",
       "        [7],\n",
       "        [1],\n",
       "        [2],\n",
       "        [3],\n",
       "        [1],\n",
       "        [2],\n",
       "        [1],\n",
       "        [6],\n",
       "        [1],\n",
       "        [9],\n",
       "        [2],\n",
       "        [8],\n",
       "        [0],\n",
       "        [7],\n",
       "        [8],\n",
       "        [3],\n",
       "        [6],\n",
       "        [5],\n",
       "        [2],\n",
       "        [8],\n",
       "        [7]],\n",
       "\n",
       "       [[3],\n",
       "        [2],\n",
       "        [5],\n",
       "        [0],\n",
       "        [2],\n",
       "        [6],\n",
       "        [6],\n",
       "        [6],\n",
       "        [6],\n",
       "        [5],\n",
       "        [5],\n",
       "        [9],\n",
       "        [6],\n",
       "        [7],\n",
       "        [2],\n",
       "        [5],\n",
       "        [9],\n",
       "        [4],\n",
       "        [7],\n",
       "        [6],\n",
       "        [7],\n",
       "        [4],\n",
       "        [6],\n",
       "        [6],\n",
       "        [5],\n",
       "        [7],\n",
       "        [7],\n",
       "        [1]],\n",
       "\n",
       "       [[3],\n",
       "        [2],\n",
       "        [1],\n",
       "        [0],\n",
       "        [3],\n",
       "        [6],\n",
       "        [4],\n",
       "        [9],\n",
       "        [5],\n",
       "        [6],\n",
       "        [0],\n",
       "        [9],\n",
       "        [3],\n",
       "        [9],\n",
       "        [9],\n",
       "        [4],\n",
       "        [8],\n",
       "        [8],\n",
       "        [0],\n",
       "        [8],\n",
       "        [1],\n",
       "        [0],\n",
       "        [8],\n",
       "        [0],\n",
       "        [9],\n",
       "        [3],\n",
       "        [2],\n",
       "        [9]]])>"
      ]
     },
     "execution_count": 80,
     "metadata": {},
     "output_type": "execute_result"
    }
   ],
   "source": [
    "x = tf.squeeze(x, axis=0) # 删除图片数量维度\n",
    "x"
   ]
  },
  {
   "cell_type": "code",
   "execution_count": 81,
   "metadata": {
    "scrolled": true
   },
   "outputs": [
    {
     "data": {
      "text/plain": [
       "<tf.Tensor: shape=(28, 28), dtype=int32, numpy=\n",
       "array([[0, 0, 5, 9, 9, 8, 4, 3, 7, 0, 0, 3, 2, 6, 7, 7, 1, 2, 8, 0, 9, 6,\n",
       "        1, 4, 8, 4, 4, 0],\n",
       "       [1, 3, 4, 2, 7, 0, 5, 4, 0, 3, 9, 4, 5, 1, 6, 6, 4, 8, 8, 2, 1, 1,\n",
       "        5, 8, 1, 8, 3, 9],\n",
       "       [5, 7, 4, 5, 2, 6, 7, 4, 3, 7, 8, 6, 3, 2, 8, 2, 8, 0, 8, 6, 1, 9,\n",
       "        3, 6, 8, 5, 6, 3],\n",
       "       [2, 8, 6, 8, 2, 4, 4, 0, 4, 1, 2, 3, 9, 1, 9, 7, 5, 4, 9, 6, 0, 5,\n",
       "        0, 7, 2, 2, 2, 0],\n",
       "       [9, 3, 3, 7, 3, 2, 0, 1, 6, 3, 6, 1, 4, 2, 5, 5, 9, 8, 3, 2, 9, 0,\n",
       "        2, 7, 4, 6, 6, 8],\n",
       "       [2, 6, 2, 5, 6, 6, 7, 9, 0, 9, 3, 1, 1, 2, 7, 0, 8, 6, 7, 0, 4, 6,\n",
       "        8, 0, 5, 3, 6, 7],\n",
       "       [8, 7, 6, 2, 0, 2, 2, 4, 7, 0, 5, 3, 4, 3, 7, 3, 7, 3, 9, 5, 8, 9,\n",
       "        6, 1, 5, 7, 0, 1],\n",
       "       [7, 4, 8, 0, 5, 5, 7, 5, 6, 2, 8, 7, 5, 7, 5, 8, 9, 9, 1, 1, 4, 6,\n",
       "        1, 4, 1, 2, 4, 7],\n",
       "       [4, 5, 8, 1, 2, 6, 2, 6, 7, 7, 7, 2, 5, 2, 5, 6, 3, 6, 1, 1, 8, 4,\n",
       "        9, 6, 8, 4, 1, 6],\n",
       "       [0, 5, 6, 4, 4, 2, 8, 6, 8, 1, 2, 1, 1, 8, 0, 8, 7, 2, 7, 8, 6, 8,\n",
       "        6, 8, 5, 2, 9, 0],\n",
       "       [5, 7, 8, 3, 4, 4, 1, 8, 5, 6, 5, 5, 9, 3, 5, 0, 2, 9, 1, 9, 0, 7,\n",
       "        7, 4, 9, 4, 7, 7],\n",
       "       [1, 4, 3, 2, 5, 3, 1, 8, 3, 7, 7, 5, 3, 2, 4, 6, 2, 4, 4, 2, 6, 6,\n",
       "        4, 9, 7, 6, 0, 6],\n",
       "       [5, 6, 0, 3, 8, 7, 7, 8, 1, 4, 3, 1, 1, 7, 7, 3, 3, 6, 0, 5, 2, 1,\n",
       "        0, 2, 2, 6, 3, 0],\n",
       "       [7, 8, 6, 7, 5, 3, 6, 0, 5, 9, 2, 2, 0, 9, 9, 7, 4, 4, 4, 5, 5, 5,\n",
       "        6, 5, 1, 7, 8, 6],\n",
       "       [0, 8, 1, 6, 6, 2, 8, 9, 6, 4, 3, 4, 2, 7, 6, 3, 5, 4, 3, 8, 3, 4,\n",
       "        9, 2, 7, 3, 3, 0],\n",
       "       [7, 8, 5, 8, 6, 2, 5, 5, 3, 4, 8, 2, 6, 8, 4, 3, 7, 4, 1, 0, 5, 4,\n",
       "        9, 7, 7, 6, 6, 5],\n",
       "       [3, 5, 3, 7, 2, 3, 6, 4, 7, 1, 4, 6, 7, 8, 0, 8, 8, 7, 4, 9, 4, 2,\n",
       "        0, 7, 7, 0, 4, 9],\n",
       "       [8, 8, 2, 7, 8, 7, 7, 7, 3, 0, 7, 4, 2, 0, 5, 9, 6, 4, 1, 3, 0, 2,\n",
       "        4, 7, 8, 3, 0, 1],\n",
       "       [7, 6, 8, 3, 5, 2, 5, 4, 0, 6, 2, 0, 5, 7, 6, 7, 0, 9, 6, 8, 1, 5,\n",
       "        7, 1, 5, 6, 7, 3],\n",
       "       [0, 2, 5, 8, 7, 3, 2, 2, 4, 0, 5, 2, 8, 3, 9, 2, 0, 5, 3, 2, 2, 6,\n",
       "        3, 2, 7, 4, 4, 0],\n",
       "       [0, 2, 8, 4, 8, 8, 9, 2, 6, 6, 3, 4, 3, 0, 2, 6, 3, 8, 9, 6, 5, 2,\n",
       "        1, 5, 5, 1, 6, 4],\n",
       "       [1, 8, 9, 0, 2, 3, 2, 6, 1, 1, 5, 6, 6, 0, 4, 2, 9, 4, 0, 1, 1, 1,\n",
       "        3, 8, 2, 3, 6, 6],\n",
       "       [5, 2, 3, 1, 6, 4, 1, 2, 5, 9, 0, 6, 9, 6, 7, 1, 9, 3, 8, 5, 9, 3,\n",
       "        1, 6, 6, 0, 6, 9],\n",
       "       [7, 6, 8, 8, 0, 0, 4, 0, 8, 2, 1, 7, 2, 5, 1, 5, 8, 1, 6, 3, 3, 5,\n",
       "        4, 1, 9, 7, 4, 8],\n",
       "       [1, 6, 9, 2, 7, 8, 4, 4, 0, 3, 3, 6, 3, 3, 0, 8, 2, 2, 2, 0, 0, 0,\n",
       "        0, 7, 8, 6, 6, 5],\n",
       "       [8, 5, 9, 1, 5, 9, 1, 5, 6, 8, 2, 2, 0, 0, 9, 2, 9, 7, 0, 3, 8, 4,\n",
       "        7, 0, 0, 2, 5, 7],\n",
       "       [1, 9, 0, 2, 0, 6, 3, 1, 9, 4, 5, 1, 1, 5, 3, 0, 2, 3, 2, 6, 5, 6,\n",
       "        9, 6, 3, 3, 0, 6],\n",
       "       [9, 7, 2, 4, 0, 9, 8, 1, 8, 4, 4, 0, 5, 3, 2, 7, 9, 1, 0, 8, 1, 8,\n",
       "        2, 1, 8, 2, 0, 5]])>"
      ]
     },
     "execution_count": 81,
     "metadata": {},
     "output_type": "execute_result"
    }
   ],
   "source": [
    "x = tf.random.uniform([1,28,28,1],maxval=10,dtype=tf.int32)\n",
    "tf.squeeze(x) # 删除所有长度为 1 的维度"
   ]
  },
  {
   "cell_type": "markdown",
   "metadata": {},
   "source": [
    "### 交换维度"
   ]
  },
  {
   "cell_type": "code",
   "execution_count": 82,
   "metadata": {
    "scrolled": true
   },
   "outputs": [
    {
     "data": {
      "text/plain": [
       "<tf.Tensor: shape=(2, 3, 32, 32), dtype=float32, numpy=\n",
       "array([[[[-2.3094486e-01,  2.1794619e-01, -5.9694374e-01, ...,\n",
       "           1.0093470e+00,  1.6139764e-01,  1.6201589e-01],\n",
       "         [ 1.7214738e+00, -8.3074337e-01,  1.1330024e+00, ...,\n",
       "          -2.7022662e-04, -4.7087342e-01,  3.6168125e-01],\n",
       "         [ 4.4892591e-01, -8.1774926e-01, -5.3018975e-01, ...,\n",
       "           8.7632829e-01,  5.5626708e-01,  1.4412377e+00],\n",
       "         ...,\n",
       "         [-8.1656516e-01,  5.4746902e-01, -5.4373968e-01, ...,\n",
       "          -1.1083370e+00,  1.3126255e+00, -1.7813559e+00],\n",
       "         [ 1.6231346e+00,  2.4010038e+00,  4.7997171e-01, ...,\n",
       "           1.7543197e+00, -1.5369122e+00, -1.3649890e+00],\n",
       "         [-9.5587170e-01, -8.6372536e-01, -2.4791344e-01, ...,\n",
       "          -6.9689709e-01,  2.6183194e-01,  9.8480976e-01]],\n",
       "\n",
       "        [[-4.6099982e-01, -8.3686876e-01,  8.6580294e-01, ...,\n",
       "          -1.0670048e-02,  5.8303386e-02, -1.0354419e+00],\n",
       "         [-2.3359153e-01, -2.1906233e+00,  6.7211378e-01, ...,\n",
       "           1.4923813e+00, -2.7733619e+00, -5.4386067e-01],\n",
       "         [ 2.2210214e-01, -8.9589477e-01, -9.9551588e-01, ...,\n",
       "           3.8667908e-01, -3.3947772e-01,  7.4481177e-01],\n",
       "         ...,\n",
       "         [ 6.4952528e-01,  9.5319700e-01, -5.4096097e-01, ...,\n",
       "          -5.5972964e-01,  6.6814935e-01, -4.3420842e-01],\n",
       "         [ 1.4662787e+00, -8.0108583e-01,  1.8897401e-01, ...,\n",
       "           1.9124242e+00,  2.0128977e-01, -3.1817618e-01],\n",
       "         [ 4.9150369e-01, -2.4942724e-01,  5.7719177e-01, ...,\n",
       "          -6.7686182e-01,  2.0510988e-01,  7.2650647e-01]],\n",
       "\n",
       "        [[-1.3163872e-01, -1.8721409e-01,  1.0612687e+00, ...,\n",
       "           4.8441681e-01, -4.5300081e-01,  8.0151290e-01],\n",
       "         [-3.9937806e-01,  2.3774253e-01, -7.9970384e-01, ...,\n",
       "           8.3139247e-01, -2.4003243e-01,  2.5873104e-01],\n",
       "         [ 6.9464183e-01,  7.0494688e-01,  1.5808765e+00, ...,\n",
       "          -8.2777411e-01,  1.3778927e+00,  4.9930787e-01],\n",
       "         ...,\n",
       "         [-1.4810077e+00,  4.8520380e-01, -4.3059924e-01, ...,\n",
       "          -4.5621312e-01,  4.0978257e-02, -5.1613456e-01],\n",
       "         [-5.5083859e-01, -7.4495286e-02,  3.1993845e-01, ...,\n",
       "           7.7753413e-01, -5.0560665e-01, -8.5678816e-01],\n",
       "         [ 1.1909883e+00, -2.0011388e-01, -4.7118682e-01, ...,\n",
       "           3.5083485e-01,  8.9494032e-01,  9.2514342e-01]]],\n",
       "\n",
       "\n",
       "       [[[ 5.7361341e-01, -5.5466360e-01,  4.1297150e-01, ...,\n",
       "          -1.1586223e+00, -8.1164998e-01, -1.5792853e-01],\n",
       "         [-1.2939657e+00,  2.1327598e+00, -1.8533335e+00, ...,\n",
       "           4.2460394e-01, -4.9658257e-01, -1.8740207e+00],\n",
       "         [-8.1453151e-01,  5.0300789e-01, -1.3441615e-01, ...,\n",
       "          -1.2211790e+00,  1.3643199e-01,  7.3308563e-01],\n",
       "         ...,\n",
       "         [-7.2605014e-01,  3.3123142e-01,  9.0218103e-01, ...,\n",
       "           1.0477338e+00, -5.1468360e-01, -6.8422270e-01],\n",
       "         [ 2.1885425e-01, -1.1638711e-01,  1.5820327e-01, ...,\n",
       "           6.8497163e-01,  1.3021976e+00,  1.2541462e+00],\n",
       "         [-7.6086688e-01,  9.7181904e-01,  1.7131000e+00, ...,\n",
       "          -1.7624567e+00, -1.8052140e+00, -5.1228350e-01]],\n",
       "\n",
       "        [[ 7.8307992e-01,  6.4301938e-01,  4.1837153e-01, ...,\n",
       "          -7.1372585e-03, -2.1123796e+00,  2.6853645e-01],\n",
       "         [-2.3537347e-01,  3.8946486e-01, -1.7166512e+00, ...,\n",
       "           2.8131464e-01,  3.5637790e-01,  3.7145372e-02],\n",
       "         [ 6.0073709e-01, -7.1162194e-01, -6.6722661e-01, ...,\n",
       "           1.3417574e+00,  5.2341801e-01,  8.8166662e-02],\n",
       "         ...,\n",
       "         [-5.3600326e-02,  5.4291505e-01,  1.4386096e+00, ...,\n",
       "           7.6861393e-01, -7.2326714e-01, -8.8901275e-01],\n",
       "         [ 3.5694632e-01,  7.8827834e-01, -3.6263171e-01, ...,\n",
       "          -1.2804188e+00,  6.3704759e-01,  1.7083290e+00],\n",
       "         [ 7.7957189e-01, -2.8357944e-01,  1.0372066e+00, ...,\n",
       "           9.7333086e-01,  1.5089922e-03, -2.8160888e-01]],\n",
       "\n",
       "        [[-1.2231240e+00,  1.3501347e+00,  5.9139639e-01, ...,\n",
       "          -5.3805012e-01,  2.1125126e+00,  2.5510484e-01],\n",
       "         [ 1.1044513e+00,  4.8881906e-01,  2.5239995e-01, ...,\n",
       "          -1.0746323e+00,  8.7199062e-01, -1.7428123e+00],\n",
       "         [-9.8939193e-03, -4.2222787e-02, -1.3913376e+00, ...,\n",
       "          -5.8159518e-01, -5.3833145e-01,  3.3659497e-01],\n",
       "         ...,\n",
       "         [-4.0718699e-01, -7.7051485e-01, -4.9650899e-01, ...,\n",
       "           5.5402291e-01, -1.1242325e+00, -1.0295991e+00],\n",
       "         [-3.2861629e-01, -6.7095149e-01,  2.8803450e-01, ...,\n",
       "          -9.3628418e-01, -1.8599776e+00, -8.3375776e-01],\n",
       "         [-2.0667977e+00,  3.1211394e-01, -9.5625722e-01, ...,\n",
       "          -2.9398417e-01,  2.5840646e-01,  1.6086417e+00]]]],\n",
       "      dtype=float32)>"
      ]
     },
     "execution_count": 82,
     "metadata": {},
     "output_type": "execute_result"
    }
   ],
   "source": [
    "x = tf.random.normal([2,32,32,3])\n",
    "# 交换维度\n",
    "tf.transpose(x,perm=[0,3,1,2]) "
   ]
  },
  {
   "cell_type": "code",
   "execution_count": 83,
   "metadata": {
    "scrolled": true
   },
   "outputs": [
    {
     "data": {
      "text/plain": [
       "<tf.Tensor: shape=(2, 32, 32, 3), dtype=float32, numpy=\n",
       "array([[[[-1.6529113e-01, -6.0160625e-01, -9.2974871e-01],\n",
       "         [ 9.2648661e-01,  4.0368918e-01, -4.6902788e-01],\n",
       "         [ 1.1172168e-03,  1.1274245e+00, -7.7025402e-01],\n",
       "         ...,\n",
       "         [ 2.9336649e-01, -2.5043854e-02,  2.0709429e+00],\n",
       "         [-3.0312485e-01,  1.3396661e-01, -5.0376046e-01],\n",
       "         [ 1.4863020e+00,  6.3351816e-01, -1.3217340e+00]],\n",
       "\n",
       "        [[ 1.1789652e+00, -1.1024311e+00, -1.5837561e+00],\n",
       "         [-6.6696554e-01, -4.4781163e-01, -1.3154438e+00],\n",
       "         [-3.7180148e-02, -4.2731261e-01, -4.2299953e-01],\n",
       "         ...,\n",
       "         [ 1.6480418e-01, -6.7489278e-01,  7.6971835e-01],\n",
       "         [-1.6603124e+00,  6.6784072e-01,  5.2952045e-01],\n",
       "         [ 2.8570506e-01,  3.2725930e-01, -6.3787848e-01]],\n",
       "\n",
       "        [[ 1.2668657e+00, -1.0599893e+00, -5.2661610e-01],\n",
       "         [ 1.9967605e+00,  8.7720990e-02,  5.5822778e-01],\n",
       "         [ 8.3083302e-01,  4.4236115e-01, -8.7076318e-01],\n",
       "         ...,\n",
       "         [-4.8097727e-01, -1.0173076e+00, -7.3810673e-01],\n",
       "         [-9.4115210e-01,  1.3041233e+00,  6.0208138e-02],\n",
       "         [-7.6840766e-02, -3.9165106e-01,  1.1705161e+00]],\n",
       "\n",
       "        ...,\n",
       "\n",
       "        [[ 2.6817715e-01,  1.7046133e-01,  6.4667612e-01],\n",
       "         [-8.5857028e-01,  1.1831332e-01, -6.7656004e-01],\n",
       "         [ 4.4066913e-02, -2.0622764e+00, -6.2303376e-01],\n",
       "         ...,\n",
       "         [-1.0256386e+00, -1.1599977e+00,  7.5776264e-02],\n",
       "         [ 1.3633606e+00,  1.6617959e+00,  5.7218820e-01],\n",
       "         [-4.6422568e-01, -7.5691128e-01, -5.0679177e-01]],\n",
       "\n",
       "        [[-1.7714677e+00, -1.0420294e+00,  2.5573800e+00],\n",
       "         [-5.6503985e-02, -3.2586491e-01, -2.0010262e+00],\n",
       "         [ 1.4533715e-01,  9.6792221e-01,  8.0210543e-01],\n",
       "         ...,\n",
       "         [ 4.5579362e-01, -6.0284227e-01, -3.1323391e-01],\n",
       "         [-8.8880676e-01,  9.8308057e-01,  9.8289287e-01],\n",
       "         [ 4.2603877e-01, -3.6215112e-02, -8.5386175e-01]],\n",
       "\n",
       "        [[ 4.6992445e-01, -1.6293265e+00, -2.3868777e-02],\n",
       "         [-7.7934754e-01,  8.5004807e-01, -1.3535093e+00],\n",
       "         [ 1.3750744e-01,  4.2574838e-01, -2.0218052e-01],\n",
       "         ...,\n",
       "         [-3.1531581e-01, -1.1937606e+00,  2.2612188e+00],\n",
       "         [ 2.5396597e-01,  1.0979944e+00,  1.4517832e+00],\n",
       "         [ 4.4848424e-01,  4.6981618e-01, -8.5753822e-01]]],\n",
       "\n",
       "\n",
       "       [[[-6.7876562e-02,  3.8092291e-01, -8.3840442e-01],\n",
       "         [-8.4474313e-01, -7.2022051e-02,  1.1913009e-01],\n",
       "         [ 9.9326384e-01, -4.5492849e-01, -1.2338768e+00],\n",
       "         ...,\n",
       "         [-5.3577161e-01,  1.7327795e+00, -1.0920900e+00],\n",
       "         [-2.8749304e+00,  1.8003225e+00,  5.3854793e-01],\n",
       "         [-4.5274717e-01,  2.4271302e-01,  8.6376274e-01]],\n",
       "\n",
       "        [[ 1.1566294e-01,  3.3061722e-01,  7.9785097e-01],\n",
       "         [ 1.1124173e-01,  1.3156523e-01, -6.7972690e-01],\n",
       "         [ 1.7944192e+00, -9.3370885e-01,  5.5982124e-02],\n",
       "         ...,\n",
       "         [-1.0611031e+00,  1.1139474e+00, -8.0983418e-01],\n",
       "         [-1.3220896e-01, -5.6288713e-01,  1.1122939e-01],\n",
       "         [-9.6371531e-01, -1.7874299e-01, -5.6817108e-01]],\n",
       "\n",
       "        [[-1.1000760e+00, -1.6998934e+00, -1.2390237e+00],\n",
       "         [ 3.9142147e-01, -9.7463518e-02, -9.6121043e-01],\n",
       "         [ 1.8358881e+00, -4.3446295e-02,  7.2231546e-02],\n",
       "         ...,\n",
       "         [-9.5016964e-02,  4.8930031e-01, -1.6655636e+00],\n",
       "         [-1.4493339e-01,  3.0915487e+00,  3.9264256e-01],\n",
       "         [ 1.2455804e+00,  8.1436288e-01, -3.7027276e-01]],\n",
       "\n",
       "        ...,\n",
       "\n",
       "        [[-1.0720278e+00, -2.5862083e-01,  1.8312864e+00],\n",
       "         [-1.7792174e+00, -5.0705910e-01, -3.1876639e-01],\n",
       "         [ 1.4493955e+00,  1.8005302e+00,  2.5905028e-01],\n",
       "         ...,\n",
       "         [ 3.3136505e-01, -1.0074435e+00, -7.0369184e-02],\n",
       "         [ 4.1645360e-01, -1.9963281e-01,  1.7340798e+00],\n",
       "         [ 1.0729425e+00, -7.3023963e-01, -4.5235902e-01]],\n",
       "\n",
       "        [[ 1.4476478e-01, -4.5730427e-01, -8.7905246e-01],\n",
       "         [-6.2440071e-02,  4.3519941e-01, -1.2266438e+00],\n",
       "         [ 2.6590874e+00, -1.7606139e+00, -1.5111998e-01],\n",
       "         ...,\n",
       "         [ 3.0882505e-01, -3.6751449e-01, -2.7452353e-01],\n",
       "         [-2.9191599e+00,  8.8624978e-01, -5.5583525e-01],\n",
       "         [-1.1948606e+00, -6.9076097e-01,  5.1828188e-01]],\n",
       "\n",
       "        [[-1.1861993e-01, -7.6987892e-01,  7.0282537e-01],\n",
       "         [ 1.3771982e+00, -4.9337086e-01, -1.1183722e+00],\n",
       "         [-9.1102469e-01, -2.8309774e-01, -9.6858956e-02],\n",
       "         ...,\n",
       "         [-2.4138232e-01, -1.9352504e+00, -2.9457191e-01],\n",
       "         [ 2.1199651e-01, -4.2477363e-01,  1.1725006e+00],\n",
       "         [-2.1698632e+00, -2.5712344e-01, -6.7681682e-01]]]],\n",
       "      dtype=float32)>"
      ]
     },
     "execution_count": 83,
     "metadata": {},
     "output_type": "execute_result"
    }
   ],
   "source": [
    "x = tf.random.normal([2,32,32,3])\n",
    "# 交换维度\n",
    "tf.transpose(x,perm=[0,2,1,3]) "
   ]
  },
  {
   "cell_type": "markdown",
   "metadata": {},
   "source": [
    "### 复制数据"
   ]
  },
  {
   "cell_type": "code",
   "execution_count": 84,
   "metadata": {},
   "outputs": [
    {
     "data": {
      "text/plain": [
       "<tf.Tensor: shape=(1, 2), dtype=int32, numpy=array([[1, 2]])>"
      ]
     },
     "execution_count": 84,
     "metadata": {},
     "output_type": "execute_result"
    }
   ],
   "source": [
    "# 创建向量 b\n",
    "b = tf.constant([1,2]) \n",
    "# 插入新维度，变成矩阵\n",
    "b = tf.expand_dims(b, axis=0) \n",
    "b"
   ]
  },
  {
   "cell_type": "code",
   "execution_count": 85,
   "metadata": {},
   "outputs": [
    {
     "data": {
      "text/plain": [
       "<tf.Tensor: shape=(2, 2), dtype=int32, numpy=\n",
       "array([[1, 2],\n",
       "       [1, 2]])>"
      ]
     },
     "execution_count": 85,
     "metadata": {},
     "output_type": "execute_result"
    }
   ],
   "source": [
    "# 样本维度上复制一份\n",
    "b = tf.tile(b, multiples=[2,1]) \n",
    "b"
   ]
  },
  {
   "cell_type": "code",
   "execution_count": 86,
   "metadata": {},
   "outputs": [
    {
     "data": {
      "text/plain": [
       "<tf.Tensor: shape=(2, 2), dtype=int32, numpy=\n",
       "array([[0, 1],\n",
       "       [2, 3]])>"
      ]
     },
     "execution_count": 86,
     "metadata": {},
     "output_type": "execute_result"
    }
   ],
   "source": [
    "x = tf.range(4)\n",
    "# 创建 2 行 2 列矩阵\n",
    "x=tf.reshape(x,[2,2]) \n",
    "x"
   ]
  },
  {
   "cell_type": "code",
   "execution_count": 87,
   "metadata": {},
   "outputs": [
    {
     "data": {
      "text/plain": [
       "<tf.Tensor: shape=(2, 4), dtype=int32, numpy=\n",
       "array([[0, 1, 0, 1],\n",
       "       [2, 3, 2, 3]])>"
      ]
     },
     "execution_count": 87,
     "metadata": {},
     "output_type": "execute_result"
    }
   ],
   "source": [
    "# 列维度复制一份\n",
    "x = tf.tile(x,multiples=[1,2]) \n",
    "x"
   ]
  },
  {
   "cell_type": "code",
   "execution_count": 88,
   "metadata": {
    "scrolled": true
   },
   "outputs": [
    {
     "data": {
      "text/plain": [
       "<tf.Tensor: shape=(4, 4), dtype=int32, numpy=\n",
       "array([[0, 1, 0, 1],\n",
       "       [2, 3, 2, 3],\n",
       "       [0, 1, 0, 1],\n",
       "       [2, 3, 2, 3]])>"
      ]
     },
     "execution_count": 88,
     "metadata": {},
     "output_type": "execute_result"
    }
   ],
   "source": [
    "# 行维度复制一份\n",
    "x = tf.tile(x,multiples=[2,1]) \n",
    "x"
   ]
  },
  {
   "cell_type": "markdown",
   "metadata": {},
   "source": [
    "## Broadcasting"
   ]
  },
  {
   "cell_type": "code",
   "execution_count": 89,
   "metadata": {
    "scrolled": true
   },
   "outputs": [
    {
     "data": {
      "text/plain": [
       "<tf.Tensor: shape=(2, 32, 32, 3), dtype=float32, numpy=\n",
       "array([[[[ 1.2648423 ,  1.2648423 ,  1.2648423 ],\n",
       "         [ 0.6620017 ,  0.6620017 ,  0.6620017 ],\n",
       "         [-0.5220996 , -0.5220996 , -0.5220996 ],\n",
       "         ...,\n",
       "         [-0.54274464, -0.54274464, -0.54274464],\n",
       "         [-0.16161223, -0.16161223, -0.16161223],\n",
       "         [-1.6670909 , -1.6670909 , -1.6670909 ]],\n",
       "\n",
       "        [[ 1.2648423 ,  1.2648423 ,  1.2648423 ],\n",
       "         [ 0.6620017 ,  0.6620017 ,  0.6620017 ],\n",
       "         [-0.5220996 , -0.5220996 , -0.5220996 ],\n",
       "         ...,\n",
       "         [-0.54274464, -0.54274464, -0.54274464],\n",
       "         [-0.16161223, -0.16161223, -0.16161223],\n",
       "         [-1.6670909 , -1.6670909 , -1.6670909 ]],\n",
       "\n",
       "        [[ 1.2648423 ,  1.2648423 ,  1.2648423 ],\n",
       "         [ 0.6620017 ,  0.6620017 ,  0.6620017 ],\n",
       "         [-0.5220996 , -0.5220996 , -0.5220996 ],\n",
       "         ...,\n",
       "         [-0.54274464, -0.54274464, -0.54274464],\n",
       "         [-0.16161223, -0.16161223, -0.16161223],\n",
       "         [-1.6670909 , -1.6670909 , -1.6670909 ]],\n",
       "\n",
       "        ...,\n",
       "\n",
       "        [[ 1.2648423 ,  1.2648423 ,  1.2648423 ],\n",
       "         [ 0.6620017 ,  0.6620017 ,  0.6620017 ],\n",
       "         [-0.5220996 , -0.5220996 , -0.5220996 ],\n",
       "         ...,\n",
       "         [-0.54274464, -0.54274464, -0.54274464],\n",
       "         [-0.16161223, -0.16161223, -0.16161223],\n",
       "         [-1.6670909 , -1.6670909 , -1.6670909 ]],\n",
       "\n",
       "        [[ 1.2648423 ,  1.2648423 ,  1.2648423 ],\n",
       "         [ 0.6620017 ,  0.6620017 ,  0.6620017 ],\n",
       "         [-0.5220996 , -0.5220996 , -0.5220996 ],\n",
       "         ...,\n",
       "         [-0.54274464, -0.54274464, -0.54274464],\n",
       "         [-0.16161223, -0.16161223, -0.16161223],\n",
       "         [-1.6670909 , -1.6670909 , -1.6670909 ]],\n",
       "\n",
       "        [[ 1.2648423 ,  1.2648423 ,  1.2648423 ],\n",
       "         [ 0.6620017 ,  0.6620017 ,  0.6620017 ],\n",
       "         [-0.5220996 , -0.5220996 , -0.5220996 ],\n",
       "         ...,\n",
       "         [-0.54274464, -0.54274464, -0.54274464],\n",
       "         [-0.16161223, -0.16161223, -0.16161223],\n",
       "         [-1.6670909 , -1.6670909 , -1.6670909 ]]],\n",
       "\n",
       "\n",
       "       [[[ 1.2648423 ,  1.2648423 ,  1.2648423 ],\n",
       "         [ 0.6620017 ,  0.6620017 ,  0.6620017 ],\n",
       "         [-0.5220996 , -0.5220996 , -0.5220996 ],\n",
       "         ...,\n",
       "         [-0.54274464, -0.54274464, -0.54274464],\n",
       "         [-0.16161223, -0.16161223, -0.16161223],\n",
       "         [-1.6670909 , -1.6670909 , -1.6670909 ]],\n",
       "\n",
       "        [[ 1.2648423 ,  1.2648423 ,  1.2648423 ],\n",
       "         [ 0.6620017 ,  0.6620017 ,  0.6620017 ],\n",
       "         [-0.5220996 , -0.5220996 , -0.5220996 ],\n",
       "         ...,\n",
       "         [-0.54274464, -0.54274464, -0.54274464],\n",
       "         [-0.16161223, -0.16161223, -0.16161223],\n",
       "         [-1.6670909 , -1.6670909 , -1.6670909 ]],\n",
       "\n",
       "        [[ 1.2648423 ,  1.2648423 ,  1.2648423 ],\n",
       "         [ 0.6620017 ,  0.6620017 ,  0.6620017 ],\n",
       "         [-0.5220996 , -0.5220996 , -0.5220996 ],\n",
       "         ...,\n",
       "         [-0.54274464, -0.54274464, -0.54274464],\n",
       "         [-0.16161223, -0.16161223, -0.16161223],\n",
       "         [-1.6670909 , -1.6670909 , -1.6670909 ]],\n",
       "\n",
       "        ...,\n",
       "\n",
       "        [[ 1.2648423 ,  1.2648423 ,  1.2648423 ],\n",
       "         [ 0.6620017 ,  0.6620017 ,  0.6620017 ],\n",
       "         [-0.5220996 , -0.5220996 , -0.5220996 ],\n",
       "         ...,\n",
       "         [-0.54274464, -0.54274464, -0.54274464],\n",
       "         [-0.16161223, -0.16161223, -0.16161223],\n",
       "         [-1.6670909 , -1.6670909 , -1.6670909 ]],\n",
       "\n",
       "        [[ 1.2648423 ,  1.2648423 ,  1.2648423 ],\n",
       "         [ 0.6620017 ,  0.6620017 ,  0.6620017 ],\n",
       "         [-0.5220996 , -0.5220996 , -0.5220996 ],\n",
       "         ...,\n",
       "         [-0.54274464, -0.54274464, -0.54274464],\n",
       "         [-0.16161223, -0.16161223, -0.16161223],\n",
       "         [-1.6670909 , -1.6670909 , -1.6670909 ]],\n",
       "\n",
       "        [[ 1.2648423 ,  1.2648423 ,  1.2648423 ],\n",
       "         [ 0.6620017 ,  0.6620017 ,  0.6620017 ],\n",
       "         [-0.5220996 , -0.5220996 , -0.5220996 ],\n",
       "         ...,\n",
       "         [-0.54274464, -0.54274464, -0.54274464],\n",
       "         [-0.16161223, -0.16161223, -0.16161223],\n",
       "         [-1.6670909 , -1.6670909 , -1.6670909 ]]]], dtype=float32)>"
      ]
     },
     "execution_count": 89,
     "metadata": {},
     "output_type": "execute_result"
    }
   ],
   "source": [
    "# 创建矩阵\n",
    "A = tf.random.normal([32,1]) \n",
    "# 扩展为 4D 张量\n",
    "tf.broadcast_to(A, [2,32,32,3]) "
   ]
  },
  {
   "cell_type": "code",
   "execution_count": 90,
   "metadata": {},
   "outputs": [
    {
     "name": "stdout",
     "output_type": "stream",
     "text": [
      "Incompatible shapes: [32,2] vs. [2,32,32,4] [Op:BroadcastTo]\n"
     ]
    }
   ],
   "source": [
    "A = tf.random.normal([32,2])\n",
    "# 不符合 Broadcasting 条件\n",
    "try: \n",
    "    tf.broadcast_to(A, [2,32,32,4])\n",
    "except Exception as e:\n",
    "    print(e)"
   ]
  },
  {
   "cell_type": "markdown",
   "metadata": {},
   "source": [
    "## 数学运算\n",
    "\n",
    "### 加、减、乘、除运算"
   ]
  },
  {
   "cell_type": "code",
   "execution_count": 91,
   "metadata": {},
   "outputs": [
    {
     "data": {
      "text/plain": [
       "<tf.Tensor: shape=(5,), dtype=int32, numpy=array([0, 0, 1, 1, 2])>"
      ]
     },
     "execution_count": 91,
     "metadata": {},
     "output_type": "execute_result"
    }
   ],
   "source": [
    "a = tf.range(5)\n",
    "b = tf.constant(2)\n",
    "# 整除运算\n",
    "a//b "
   ]
  },
  {
   "cell_type": "code",
   "execution_count": 92,
   "metadata": {},
   "outputs": [
    {
     "data": {
      "text/plain": [
       "<tf.Tensor: shape=(5,), dtype=int32, numpy=array([0, 1, 0, 1, 0])>"
      ]
     },
     "execution_count": 92,
     "metadata": {},
     "output_type": "execute_result"
    }
   ],
   "source": [
    "# 余除运算\n",
    "a%b "
   ]
  },
  {
   "cell_type": "markdown",
   "metadata": {},
   "source": [
    "### 乘方运算"
   ]
  },
  {
   "cell_type": "code",
   "execution_count": 93,
   "metadata": {},
   "outputs": [
    {
     "data": {
      "text/plain": [
       "<tf.Tensor: shape=(4,), dtype=int32, numpy=array([ 0,  1,  8, 27])>"
      ]
     },
     "execution_count": 93,
     "metadata": {},
     "output_type": "execute_result"
    }
   ],
   "source": [
    "x = tf.range(4)\n",
    "# 乘方运算\n",
    "tf.pow(x,3) "
   ]
  },
  {
   "cell_type": "code",
   "execution_count": 94,
   "metadata": {},
   "outputs": [
    {
     "data": {
      "text/plain": [
       "<tf.Tensor: shape=(4,), dtype=int32, numpy=array([0, 1, 4, 9])>"
      ]
     },
     "execution_count": 94,
     "metadata": {},
     "output_type": "execute_result"
    }
   ],
   "source": [
    "# 乘方运算符\n",
    "x**2 "
   ]
  },
  {
   "cell_type": "code",
   "execution_count": 95,
   "metadata": {},
   "outputs": [
    {
     "data": {
      "text/plain": [
       "<tf.Tensor: shape=(3,), dtype=float32, numpy=array([1., 2., 3.], dtype=float32)>"
      ]
     },
     "execution_count": 95,
     "metadata": {},
     "output_type": "execute_result"
    }
   ],
   "source": [
    "x=tf.constant([1.,4.,9.])\n",
    "# 平方根\n",
    "x**(0.5) "
   ]
  },
  {
   "cell_type": "code",
   "execution_count": 96,
   "metadata": {},
   "outputs": [],
   "source": [
    "x = tf.range(5)\n",
    "# 转换为浮点数\n",
    "x = tf.cast(x, dtype=tf.float32) \n",
    "# 平方\n",
    "x = tf.square(x) "
   ]
  },
  {
   "cell_type": "code",
   "execution_count": 97,
   "metadata": {},
   "outputs": [
    {
     "data": {
      "text/plain": [
       "<tf.Tensor: shape=(5,), dtype=float32, numpy=\n",
       "array([0.       , 1.       , 2.       , 3.0000002, 4.       ],\n",
       "      dtype=float32)>"
      ]
     },
     "execution_count": 97,
     "metadata": {},
     "output_type": "execute_result"
    }
   ],
   "source": [
    "# 平方根\n",
    "tf.sqrt(x) "
   ]
  },
  {
   "cell_type": "markdown",
   "metadata": {},
   "source": [
    "### 指数和对数运算"
   ]
  },
  {
   "cell_type": "code",
   "execution_count": 98,
   "metadata": {},
   "outputs": [
    {
     "data": {
      "text/plain": [
       "<tf.Tensor: shape=(3,), dtype=float32, numpy=array([2., 4., 8.], dtype=float32)>"
      ]
     },
     "execution_count": 98,
     "metadata": {},
     "output_type": "execute_result"
    }
   ],
   "source": [
    "x = tf.constant([1.,2.,3.])\n",
    "# 指数运算\n",
    "2**x "
   ]
  },
  {
   "cell_type": "code",
   "execution_count": 99,
   "metadata": {},
   "outputs": [
    {
     "data": {
      "text/plain": [
       "<tf.Tensor: shape=(), dtype=float32, numpy=2.7182817>"
      ]
     },
     "execution_count": 99,
     "metadata": {},
     "output_type": "execute_result"
    }
   ],
   "source": [
    "# 自然指数运算\n",
    "tf.exp(1.)"
   ]
  },
  {
   "cell_type": "code",
   "execution_count": 100,
   "metadata": {},
   "outputs": [
    {
     "data": {
      "text/plain": [
       "<tf.Tensor: shape=(), dtype=float32, numpy=3.0>"
      ]
     },
     "execution_count": 100,
     "metadata": {},
     "output_type": "execute_result"
    }
   ],
   "source": [
    "x = tf.exp(3.)\n",
    "# 对数运算\n",
    "tf.math.log(x) "
   ]
  },
  {
   "cell_type": "code",
   "execution_count": 101,
   "metadata": {},
   "outputs": [
    {
     "data": {
      "text/plain": [
       "<tf.Tensor: shape=(2,), dtype=float32, numpy=array([1., 2.], dtype=float32)>"
      ]
     },
     "execution_count": 101,
     "metadata": {},
     "output_type": "execute_result"
    }
   ],
   "source": [
    "x = tf.constant([1.,2.])\n",
    "x = 10**x\n",
    "# 换底公式\n",
    "tf.math.log(x)/tf.math.log(10.) "
   ]
  },
  {
   "cell_type": "markdown",
   "metadata": {},
   "source": [
    "### 矩阵相乘运算"
   ]
  },
  {
   "cell_type": "code",
   "execution_count": 102,
   "metadata": {},
   "outputs": [
    {
     "data": {
      "text/plain": [
       "<tf.Tensor: shape=(4, 3, 28, 2), dtype=float32, numpy=\n",
       "array([[[[-3.11485946e-01, -1.68124902e+00],\n",
       "         [-8.33041859e+00,  1.07139091e+01],\n",
       "         [-1.52294800e-01,  1.10487347e+01],\n",
       "         [ 1.38460283e+01, -1.25497179e+01],\n",
       "         [-2.26845169e+00,  6.58291292e+00],\n",
       "         [-1.58433378e+00,  3.99927878e+00],\n",
       "         [-3.06415343e+00,  7.67608523e-01],\n",
       "         [ 3.13866448e+00, -9.02907276e+00],\n",
       "         [-3.50686264e+00, -1.20776772e+00],\n",
       "         [-6.01170249e-02, -3.96678662e+00],\n",
       "         [ 1.90231442e-01, -3.83427930e+00],\n",
       "         [-6.06145811e+00,  7.44735146e+00],\n",
       "         [ 5.38872290e+00, -5.04191065e+00],\n",
       "         [ 3.11129045e+00, -1.67458320e+00],\n",
       "         [-8.81903350e-01,  6.15568066e+00],\n",
       "         [-1.52699566e+00, -1.75167770e+01],\n",
       "         [-8.86147439e-01, -1.33167639e+01],\n",
       "         [ 3.00390983e+00,  2.85052729e+00],\n",
       "         [-9.17243481e+00,  9.30847740e+00],\n",
       "         [ 5.60230446e+00,  1.79661274e+00],\n",
       "         [ 9.80711222e-01,  2.42344236e+00],\n",
       "         [-8.40898216e-01, -6.18254423e+00],\n",
       "         [ 9.16247940e+00, -8.15521145e+00],\n",
       "         [-4.62764120e+00,  2.46237516e+00],\n",
       "         [-1.25639021e+00,  6.64137554e+00],\n",
       "         [ 1.60420144e+00, -3.26913095e+00],\n",
       "         [ 7.70034599e+00,  2.49036288e+00],\n",
       "         [-4.98352861e+00,  6.67682838e+00]],\n",
       "\n",
       "        [[ 1.62209380e+00, -5.92626953e+00],\n",
       "         [-3.68990064e+00,  6.21371627e-01],\n",
       "         [-8.43241787e+00,  1.73446441e+00],\n",
       "         [-1.20502675e+00, -1.28869247e+00],\n",
       "         [-8.53031397e-01, -3.23185295e-01],\n",
       "         [-1.69474339e+00, -4.14123297e+00],\n",
       "         [ 1.23106503e+00, -7.77937555e+00],\n",
       "         [ 4.46939379e-01,  9.82438183e+00],\n",
       "         [-9.28407192e-01, -9.01524639e+00],\n",
       "         [-3.06781650e+00,  1.72063577e+00],\n",
       "         [-5.87294054e+00,  6.40375853e+00],\n",
       "         [ 7.78840005e-01,  5.04147863e+00],\n",
       "         [ 4.69692183e+00, -2.12127733e+00],\n",
       "         [-4.55182695e+00, -1.04070311e+01],\n",
       "         [-3.81547356e+00,  3.89234018e+00],\n",
       "         [-6.52590275e+00, -4.81943935e-01],\n",
       "         [ 9.38232040e+00, -6.37303066e+00],\n",
       "         [ 3.69988346e+00, -1.06633574e-01],\n",
       "         [ 3.21397877e+00,  9.78102207e-01],\n",
       "         [-4.52343655e+00,  5.78552151e+00],\n",
       "         [-8.13628864e+00, -3.30848289e+00],\n",
       "         [ 1.78307950e+00, -4.10544872e+00],\n",
       "         [-2.98506308e+00,  7.45025516e-01],\n",
       "         [ 1.15667801e+01, -2.52131248e+00],\n",
       "         [ 9.83454168e-01,  1.83195603e+00],\n",
       "         [ 2.01287913e+00, -2.62923670e+00],\n",
       "         [ 8.32426834e+00, -5.03594732e+00],\n",
       "         [-7.62018156e+00,  6.09174681e+00]],\n",
       "\n",
       "        [[-1.49947107e+00,  8.04041290e+00],\n",
       "         [ 4.30204010e+00,  5.22886848e+00],\n",
       "         [-9.56595516e+00,  6.15786171e+00],\n",
       "         [ 1.48782082e+01,  4.14414614e-01],\n",
       "         [-6.81197214e+00, -1.88933039e+00],\n",
       "         [-6.27741575e+00, -1.15713108e+00],\n",
       "         [-7.39835143e-01, -1.66491165e+01],\n",
       "         [-6.80670834e+00,  7.29224741e-01],\n",
       "         [ 7.56966531e-01,  9.40261936e+00],\n",
       "         [-9.83895016e+00, -1.50663090e+01],\n",
       "         [ 1.76909471e+00,  1.01312227e+01],\n",
       "         [ 1.14591396e+00, -1.40396559e+00],\n",
       "         [ 7.49776840e+00, -2.86091328e+00],\n",
       "         [ 2.41838145e+00,  2.43780637e+00],\n",
       "         [-8.37686539e+00, -1.63361740e+01],\n",
       "         [-2.27807069e+00,  1.50252056e+00],\n",
       "         [-9.98347855e+00,  8.89624023e+00],\n",
       "         [-7.40601063e+00, -7.49568653e+00],\n",
       "         [ 1.01066313e+01, -1.03913250e+01],\n",
       "         [-1.94638729e-01,  1.07021484e+01],\n",
       "         [-3.34109515e-01,  2.22703409e+00],\n",
       "         [-1.63008308e+00, -3.39017063e-01],\n",
       "         [-6.17647982e+00, -1.57866430e+00],\n",
       "         [ 2.85787177e+00,  1.69559240e+00],\n",
       "         [-7.17766190e+00,  1.02305222e+01],\n",
       "         [ 4.93806553e+00,  5.22850847e+00],\n",
       "         [-7.89033318e+00,  2.30496860e+00],\n",
       "         [ 4.88619137e+00,  3.15522265e+00]]],\n",
       "\n",
       "\n",
       "       [[[-9.70102692e+00, -2.99134350e+00],\n",
       "         [ 6.95450306e+00, -6.56806827e-01],\n",
       "         [ 4.95756626e+00,  7.27360630e+00],\n",
       "         [-1.88289475e+00, -2.87679148e+00],\n",
       "         [-2.37174630e-01,  1.75175369e-01],\n",
       "         [ 7.56027269e+00,  1.25109100e+00],\n",
       "         [-1.91229773e+00, -2.17723513e+00],\n",
       "         [ 4.99101496e+00, -1.21427143e+00],\n",
       "         [ 5.38992643e-01,  6.65047979e+00],\n",
       "         [ 6.62375593e+00,  1.11271734e+01],\n",
       "         [ 1.96580267e+00,  3.06718588e+00],\n",
       "         [-8.63823354e-01,  1.80818236e+00],\n",
       "         [ 5.12832594e+00,  1.73222899e+00],\n",
       "         [-2.76023626e-01,  8.61543560e+00],\n",
       "         [-3.42711163e+00,  4.67157459e+00],\n",
       "         [-6.70457315e+00, -3.75481462e+00],\n",
       "         [ 2.57630253e+00,  1.09629526e+01],\n",
       "         [ 5.48744678e+00,  2.82082844e+00],\n",
       "         [ 5.85155344e+00,  8.77077818e-01],\n",
       "         [ 4.62609291e+00,  3.39072967e+00],\n",
       "         [-1.44170725e+00, -4.97454023e+00],\n",
       "         [-6.94553947e+00, -5.41353512e+00],\n",
       "         [-2.63399625e+00, -5.22585273e-01],\n",
       "         [ 6.91332626e+00,  4.62954193e-01],\n",
       "         [-5.46176481e+00,  9.63652432e-01],\n",
       "         [-1.26131558e+00, -3.55511737e+00],\n",
       "         [-2.99628377e+00,  1.08305378e+01],\n",
       "         [-7.83058286e-01,  3.47137451e+00]],\n",
       "\n",
       "        [[ 5.15536451e+00,  3.95976734e+00],\n",
       "         [ 1.24796487e-01, -1.44780505e+00],\n",
       "         [ 1.95177937e+00, -3.18280745e+00],\n",
       "         [-2.84599394e-01, -3.68677640e+00],\n",
       "         [ 5.54783821e+00, -9.53616238e+00],\n",
       "         [ 3.88599539e+00, -8.79729867e-01],\n",
       "         [ 4.49277496e+00, -1.60549664e+00],\n",
       "         [-3.73018336e+00,  1.32993755e+01],\n",
       "         [-5.75541687e+00, -2.01183891e+00],\n",
       "         [ 2.00865269e+00, -3.11661046e-02],\n",
       "         [-7.14448833e+00, -8.99620438e+00],\n",
       "         [ 6.10860538e+00,  1.82054448e+00],\n",
       "         [-1.91314816e+00,  8.53597641e+00],\n",
       "         [ 6.74781322e+00,  2.66650271e+00],\n",
       "         [-3.39916730e+00, -1.19553292e+00],\n",
       "         [-5.91760874e+00,  8.71934295e-01],\n",
       "         [-7.41845131e+00, -4.27113962e+00],\n",
       "         [-5.24326611e+00,  4.83819157e-01],\n",
       "         [ 4.57281065e+00,  7.64118242e+00],\n",
       "         [-9.32893372e+00,  1.61142445e+01],\n",
       "         [-6.34658411e-02, -3.55171537e+00],\n",
       "         [ 5.46550798e+00,  2.15890026e+00],\n",
       "         [-5.80270100e+00, -1.03900967e+01],\n",
       "         [ 1.99343705e+00, -7.73335218e+00],\n",
       "         [-2.70735335e+00, -2.78459525e+00],\n",
       "         [-3.87423372e+00, -5.12567234e+00],\n",
       "         [ 2.71256518e+00, -8.49335098e+00],\n",
       "         [-6.33868504e+00,  6.60968781e+00]],\n",
       "\n",
       "        [[ 2.18522406e+00,  8.08250237e+00],\n",
       "         [-7.82956219e+00, -5.48690557e-01],\n",
       "         [-1.00192776e+01, -1.84126008e+00],\n",
       "         [-8.73804629e-01, -1.39774024e-01],\n",
       "         [ 8.60978889e+00, -1.03455276e+01],\n",
       "         [ 4.91914511e+00,  8.93327332e+00],\n",
       "         [-3.75527215e+00,  4.64726257e+00],\n",
       "         [-9.50874710e+00, -1.00124426e+01],\n",
       "         [-7.24582815e+00,  2.42549825e+00],\n",
       "         [ 1.66636300e+00,  3.41296983e+00],\n",
       "         [-8.70317996e-01,  4.38648081e+00],\n",
       "         [ 1.06656094e+01,  1.72243202e+00],\n",
       "         [-9.10321331e+00,  7.49578536e-01],\n",
       "         [ 2.49373937e+00, -1.53239314e-02],\n",
       "         [-2.97353458e+00, -8.80052745e-01],\n",
       "         [-4.06928396e+00,  1.14189281e+01],\n",
       "         [-2.88052940e+00,  3.17695427e+00],\n",
       "         [-2.95415378e+00, -3.30639958e+00],\n",
       "         [ 9.56927299e-01, -4.82619345e-01],\n",
       "         [ 1.96832776e+00,  3.72368884e+00],\n",
       "         [ 7.46781540e+00, -4.13612127e+00],\n",
       "         [ 1.09456372e+00,  3.91872597e+00],\n",
       "         [-5.33967352e+00,  7.39108515e+00],\n",
       "         [-4.02304411e+00,  1.40394497e+00],\n",
       "         [ 8.54982018e-01, -3.69587731e+00],\n",
       "         [-9.50895131e-01, -7.15909052e+00],\n",
       "         [ 6.19639933e-01, -3.61959481e+00],\n",
       "         [-1.44567752e+00,  8.01253080e-01]]],\n",
       "\n",
       "\n",
       "       [[[ 1.09918416e+00, -3.30600905e+00],\n",
       "         [ 6.00115776e+00,  5.51095581e+00],\n",
       "         [-3.14969206e+00,  2.00778079e+00],\n",
       "         [-1.02880037e+00, -1.36054592e+01],\n",
       "         [ 3.42352629e+00,  1.32872736e+00],\n",
       "         [ 8.08707118e-01,  1.71258330e+00],\n",
       "         [-1.86958337e+00,  1.30575979e+00],\n",
       "         [-6.99857664e+00, -5.74026108e+00],\n",
       "         [-1.07007444e+00, -7.49076557e+00],\n",
       "         [ 3.23617554e+00,  5.84168386e+00],\n",
       "         [-1.07562571e+01, -5.63149786e+00],\n",
       "         [-8.78004360e+00,  4.16963720e+00],\n",
       "         [-9.35588646e+00,  1.59167397e+00],\n",
       "         [-2.50260520e+00, -5.76534414e+00],\n",
       "         [-6.37423754e+00,  4.09261942e-01],\n",
       "         [ 6.10636659e-02,  8.29835320e+00],\n",
       "         [ 4.42259455e+00,  1.09684811e+01],\n",
       "         [ 3.61686563e+00,  1.27894175e+00],\n",
       "         [ 7.15274000e+00,  5.77614832e+00],\n",
       "         [-3.82379703e-02,  6.23443508e+00],\n",
       "         [-1.78328431e+00, -9.93561935e+00],\n",
       "         [-1.68538451e-01, -4.94624281e+00],\n",
       "         [ 5.54237890e+00,  1.28049059e+01],\n",
       "         [ 5.81262493e+00,  9.48118401e+00],\n",
       "         [-5.24916351e-01,  7.82668209e+00],\n",
       "         [-1.26194966e+00,  5.83704901e+00],\n",
       "         [ 1.62715986e-01,  1.04872999e+01],\n",
       "         [ 7.67804444e-01,  2.97073531e+00]],\n",
       "\n",
       "        [[ 5.48834896e+00,  1.02113934e+01],\n",
       "         [ 9.55278695e-01, -4.26858521e+00],\n",
       "         [-5.13556385e+00, -3.34204268e+00],\n",
       "         [-2.64620876e+00, -6.16286898e+00],\n",
       "         [-5.35691381e-01,  6.70288134e+00],\n",
       "         [ 3.19608927e-01, -6.18217230e-01],\n",
       "         [ 1.14820452e+01,  9.01755333e+00],\n",
       "         [-6.75142241e+00, -6.66720057e+00],\n",
       "         [ 4.81180334e+00, -3.57703090e+00],\n",
       "         [ 1.71804667e+00,  5.23150969e+00],\n",
       "         [ 1.88811970e+00, -3.85093474e+00],\n",
       "         [ 1.63820481e+00, -8.40249538e+00],\n",
       "         [-2.61952728e-01, -9.83859158e+00],\n",
       "         [ 3.34142017e+00,  1.61965966e-01],\n",
       "         [-4.30177736e+00, -4.38650751e+00],\n",
       "         [-3.91908467e-01, -2.85125803e-03],\n",
       "         [-5.62148952e+00,  9.21197701e+00],\n",
       "         [ 9.06689048e-01,  9.05648899e+00],\n",
       "         [-5.80178118e+00,  3.00681567e+00],\n",
       "         [-1.98643848e-01,  6.06009865e+00],\n",
       "         [ 4.67500162e+00,  7.67792523e-01],\n",
       "         [-2.09163737e+00,  1.10286438e+00],\n",
       "         [-1.21557989e+01,  1.46410584e+00],\n",
       "         [ 6.91078138e+00, -2.43845367e+00],\n",
       "         [-9.71263051e-01, -1.23378146e+00],\n",
       "         [ 5.24951124e+00, -2.20615244e+00],\n",
       "         [-4.92938566e+00,  9.13001251e+00],\n",
       "         [-6.59777164e+00, -3.35557580e+00]],\n",
       "\n",
       "        [[-4.47944117e+00, -6.30015755e+00],\n",
       "         [-5.57752132e+00,  1.04710770e+00],\n",
       "         [-5.92459869e+00,  5.73600054e+00],\n",
       "         [-5.88721514e+00, -2.17790914e+00],\n",
       "         [-6.23621166e-01, -6.97794724e+00],\n",
       "         [ 3.50331569e+00,  8.73543918e-01],\n",
       "         [-4.58999395e-01,  4.27160352e-01],\n",
       "         [ 1.25668774e+01, -2.07706332e+00],\n",
       "         [-4.60778570e+00,  4.18050200e-01],\n",
       "         [-1.22602868e+00,  1.47264585e+01],\n",
       "         [ 2.16696167e+00, -2.31001258e+00],\n",
       "         [ 4.30774498e+00,  3.18681860e+00],\n",
       "         [-1.00152826e+00, -3.23596859e+00],\n",
       "         [-2.47872204e-01,  1.95714092e+00],\n",
       "         [-7.38803101e+00, -1.12126360e+01],\n",
       "         [-1.91201270e+00, -7.40003824e+00],\n",
       "         [ 2.62332845e+00, -1.54054546e+00],\n",
       "         [-2.81341696e+00,  6.30882215e+00],\n",
       "         [ 9.60397542e-01,  9.43753242e+00],\n",
       "         [ 5.23756790e+00,  9.42088783e-01],\n",
       "         [-5.59491158e+00,  1.68225133e+00],\n",
       "         [-2.52498835e-01,  3.13481927e+00],\n",
       "         [ 3.56037927e+00,  5.52147722e+00],\n",
       "         [ 8.02992249e+00, -5.13422346e+00],\n",
       "         [ 1.02642889e+01,  1.84881723e+00],\n",
       "         [-3.52818179e+00,  4.45849085e+00],\n",
       "         [-2.91404009e+00,  9.52587986e+00],\n",
       "         [ 2.02579117e+00, -7.27556276e+00]]],\n",
       "\n",
       "\n",
       "       [[[ 5.53811932e+00, -2.54239845e+00],\n",
       "         [ 1.13462639e+00, -3.79196739e+00],\n",
       "         [-5.85002899e+00,  1.22574434e+01],\n",
       "         [-9.61633492e+00, -4.93464756e+00],\n",
       "         [-5.69778872e+00, -3.24161112e-01],\n",
       "         [-1.09456902e+01,  6.62916756e+00],\n",
       "         [-1.59052191e+01, -7.66533804e+00],\n",
       "         [ 4.26814127e+00,  5.96755219e+00],\n",
       "         [ 2.97203326e+00,  3.62110472e+00],\n",
       "         [ 4.82817745e+00, -4.56486130e+00],\n",
       "         [-1.63084269e+00,  6.52884722e-01],\n",
       "         [ 2.97358942e+00,  8.29387665e+00],\n",
       "         [-2.95667648e+00, -2.77415514e+00],\n",
       "         [-5.32850735e-02,  1.05303249e+01],\n",
       "         [-8.55993462e+00,  4.39439917e+00],\n",
       "         [ 6.34751511e+00, -5.28468037e+00],\n",
       "         [-4.99602175e+00, -7.37408161e+00],\n",
       "         [ 2.23061776e+00, -2.91338968e+00],\n",
       "         [-9.35562706e+00, -3.77530503e+00],\n",
       "         [ 4.18198109e+00,  7.59001827e+00],\n",
       "         [ 9.56704497e-01,  8.14857388e+00],\n",
       "         [ 1.49476814e+00,  1.69144974e+01],\n",
       "         [-4.54639149e+00, -1.55490923e+01],\n",
       "         [-1.09028502e+01, -5.53845072e+00],\n",
       "         [ 6.56360006e+00, -4.24070448e-01],\n",
       "         [ 1.44951057e+01,  1.45193607e-01],\n",
       "         [-3.50409865e+00, -2.04021597e+00],\n",
       "         [ 6.44829273e+00,  1.15302858e+01]],\n",
       "\n",
       "        [[-5.96550894e+00, -1.57699118e+01],\n",
       "         [-1.88534987e+00,  9.79097843e+00],\n",
       "         [ 2.45006013e+00, -2.10909534e+00],\n",
       "         [ 1.30127013e+00, -5.29342556e+00],\n",
       "         [ 3.48837543e+00,  3.97462964e+00],\n",
       "         [-1.11393642e+00, -2.27598011e-01],\n",
       "         [ 5.55281448e+00,  1.04613552e+01],\n",
       "         [-7.22637081e+00, -6.36079121e+00],\n",
       "         [-2.70780754e+00,  4.75789309e-01],\n",
       "         [ 9.75280285e-01,  1.28083384e+00],\n",
       "         [-1.75223160e+00,  1.15308743e+01],\n",
       "         [ 1.04593718e+00,  2.02255135e+01],\n",
       "         [ 1.49965870e+00, -3.34922576e+00],\n",
       "         [ 4.05670834e+00, -5.63176060e+00],\n",
       "         [ 4.36634254e+00,  2.47989058e+00],\n",
       "         [-1.59554396e+01, -4.87130928e+00],\n",
       "         [ 6.82887793e+00, -8.88882160e+00],\n",
       "         [-2.02269908e-02,  5.06298840e-01],\n",
       "         [ 5.19928837e+00,  4.30212545e+00],\n",
       "         [-8.99804878e+00, -6.21139193e+00],\n",
       "         [ 2.88952971e+00, -6.62115097e+00],\n",
       "         [ 3.07089710e+00, -7.96368361e+00],\n",
       "         [ 2.92844892e+00,  8.55671406e+00],\n",
       "         [ 1.05202923e+01,  3.73989367e+00],\n",
       "         [ 5.53983259e+00,  5.43153191e+00],\n",
       "         [ 5.25063515e+00,  2.19800901e+00],\n",
       "         [ 2.28210831e+00, -4.00433969e+00],\n",
       "         [ 1.81542790e+00, -1.02142823e+00]],\n",
       "\n",
       "        [[ 7.43691635e+00, -4.62627506e+00],\n",
       "         [ 7.62033463e+00, -2.51071739e+00],\n",
       "         [ 4.58906412e+00, -7.20136166e+00],\n",
       "         [-1.27887934e-01,  3.91289639e+00],\n",
       "         [-6.01474524e+00, -8.34930038e+00],\n",
       "         [-2.62597322e+00,  1.76395786e+00],\n",
       "         [ 2.30635476e+00, -9.00843334e+00],\n",
       "         [ 7.50029802e-01, -2.73371518e-01],\n",
       "         [-5.02948666e+00,  3.87799096e+00],\n",
       "         [-3.07933617e+00,  1.25867403e+00],\n",
       "         [ 1.19473372e+01,  3.55908346e+00],\n",
       "         [-1.01618938e+01,  4.16681194e+00],\n",
       "         [-1.15226059e+01, -7.51243114e+00],\n",
       "         [ 2.24237275e+00,  2.53709030e+00],\n",
       "         [ 7.97519922e+00,  2.86901045e+00],\n",
       "         [ 1.24063778e+00,  1.91983902e+00],\n",
       "         [ 9.99838352e+00, -9.81433678e+00],\n",
       "         [-9.76079106e-01, -5.03085423e+00],\n",
       "         [ 1.55280697e+00, -6.63168550e-01],\n",
       "         [-3.49112797e+00,  6.22061539e+00],\n",
       "         [-6.05475807e+00, -4.94561911e+00],\n",
       "         [-2.04343653e+00, -6.44645095e-01],\n",
       "         [-1.07713795e+00, -9.86602008e-01],\n",
       "         [-1.22603540e+01, -2.41584158e+00],\n",
       "         [-4.69159079e+00, -1.15035105e+00],\n",
       "         [ 1.34631646e+00,  2.39693952e+00],\n",
       "         [-2.03398571e+01, -5.88723803e+00],\n",
       "         [ 6.68915415e+00,  9.14925766e+00]]]], dtype=float32)>"
      ]
     },
     "execution_count": 102,
     "metadata": {},
     "output_type": "execute_result"
    }
   ],
   "source": [
    "a = tf.random.normal([4,3,28,32])\n",
    "b = tf.random.normal([4,3,32,2])\n",
    "# 批量形式的矩阵相乘\n",
    "a@b"
   ]
  },
  {
   "cell_type": "code",
   "execution_count": 103,
   "metadata": {
    "scrolled": true
   },
   "outputs": [
    {
     "data": {
      "text/plain": [
       "<tf.Tensor: shape=(4, 28, 16), dtype=float32, numpy=\n",
       "array([[[ 2.5710020e+00, -6.4171991e+00, -2.5963516e+00, ...,\n",
       "         -1.0465060e+01, -2.8935928e+00, -5.9101801e+00],\n",
       "        [-4.5989223e+00, -6.4123096e+00, -2.6620584e+00, ...,\n",
       "          9.6758099e+00,  8.0539429e-01, -2.1019871e+01],\n",
       "        [-7.9008498e+00,  1.2792020e+00, -3.0328448e+00, ...,\n",
       "          5.1491585e+00, -2.4036512e+00, -1.3238044e+01],\n",
       "        ...,\n",
       "        [ 4.8963919e+00,  3.5188708e+00,  2.1315916e+00, ...,\n",
       "         -1.8042536e+00, -1.1702053e+01,  5.5761266e+00],\n",
       "        [-3.4941912e-02,  1.8584954e+00,  2.2303808e+00, ...,\n",
       "          4.8698378e-01, -1.3868880e+00, -1.9294784e+00],\n",
       "        [ 2.0333312e+00, -2.3578448e+00,  1.0578473e-01, ...,\n",
       "          4.6258736e-01,  4.4705725e+00, -8.7673855e+00]],\n",
       "\n",
       "       [[ 6.2902284e+00, -8.6939220e+00,  6.8954945e-01, ...,\n",
       "         -3.5951560e+00,  3.7636075e+00,  2.6546249e+00],\n",
       "        [ 1.3293710e+00, -4.8640699e+00,  1.5004420e+00, ...,\n",
       "          3.3968163e-01,  7.3831730e+00,  4.6931405e+00],\n",
       "        [ 2.5506642e+00,  1.1405233e+00,  3.3901482e+00, ...,\n",
       "         -6.1872120e+00, -1.8838869e+00,  6.4511366e+00],\n",
       "        ...,\n",
       "        [ 9.6944656e+00, -3.2717869e+00,  1.9473503e+00, ...,\n",
       "         -9.9739164e-01,  4.4760561e-01,  3.2234340e+00],\n",
       "        [ 7.9481238e-01,  1.2517451e+00, -4.9136729e+00, ...,\n",
       "          1.9619809e+00, -1.8196447e-02, -5.3274627e+00],\n",
       "        [ 8.3931379e+00,  2.9306039e-01,  1.9563770e+00, ...,\n",
       "         -3.1756155e+00, -4.9003935e+00, -1.8526091e-01]],\n",
       "\n",
       "       [[ 5.8148360e+00,  6.1144729e+00,  6.8847365e+00, ...,\n",
       "         -9.9864979e+00, -5.6018543e+00,  8.6757269e+00],\n",
       "        [-8.9061766e+00, -1.8089996e-01,  3.1668346e+00, ...,\n",
       "          7.3524895e+00,  1.9761742e+00, -6.2092090e+00],\n",
       "        [ 1.2380950e+01, -3.1068518e+00,  1.2449678e+00, ...,\n",
       "         -2.9292891e+00, -4.3260345e+00,  2.7096042e-01],\n",
       "        ...,\n",
       "        [ 1.1165477e+00, -1.2091142e+00, -1.7633224e-01, ...,\n",
       "         -1.0932943e+00,  1.2536261e+00,  7.4037251e+00],\n",
       "        [-2.8827455e+00,  1.1376337e+01,  3.6946754e+00, ...,\n",
       "         -1.5312556e+00,  8.4550095e+00,  8.9015436e+00],\n",
       "        [ 4.0213701e-01, -3.3509214e+00, -1.1400252e+01, ...,\n",
       "         -3.5655971e+00, -4.1342340e+00, -2.5098112e-01]],\n",
       "\n",
       "       [[-5.7697940e-01,  1.4590468e+00, -3.8348486e+00, ...,\n",
       "         -1.2160225e+00,  3.3154535e-01,  1.9229071e+00],\n",
       "        [-5.6096113e-01, -3.5628941e+00, -2.7119284e+00, ...,\n",
       "          2.8167202e+00,  2.4303255e+00, -1.0973788e+01],\n",
       "        [-5.7490349e+00,  2.4117763e+00, -9.1189104e-01, ...,\n",
       "          4.8813434e+00,  2.5760984e+00,  4.9195290e+00],\n",
       "        ...,\n",
       "        [-6.5043273e+00,  1.1957624e+00, -1.2739414e+01, ...,\n",
       "         -5.8964167e+00, -3.8789480e+00,  5.0794369e-01],\n",
       "        [ 5.0844903e+00, -3.1510262e+00, -4.1503158e+00, ...,\n",
       "         -3.6438191e+00, -5.3504901e+00, -4.8753792e-01],\n",
       "        [ 7.6718273e+00,  3.4359057e+00,  5.8106971e+00, ...,\n",
       "          2.4817781e+00, -1.6197018e-01,  1.3484931e+01]]], dtype=float32)>"
      ]
     },
     "execution_count": 103,
     "metadata": {},
     "output_type": "execute_result"
    }
   ],
   "source": [
    "a = tf.random.normal([4,28,32])\n",
    "b = tf.random.normal([32,16])\n",
    "# 先自动扩展，再矩阵相乘\n",
    "tf.matmul(a,b)"
   ]
  },
  {
   "cell_type": "markdown",
   "metadata": {},
   "source": [
    "## 前向传播实战"
   ]
  },
  {
   "cell_type": "code",
   "execution_count": 104,
   "metadata": {},
   "outputs": [],
   "source": [
    "import matplotlib.pyplot as plt\n",
    "import tensorflow as tf\n",
    "import tensorflow.keras.datasets as datasets\n",
    "\n",
    "plt.rcParams['font.size'] = 16\n",
    "plt.rcParams['font.family'] = ['STKaiti']\n",
    "plt.rcParams['axes.unicode_minus'] = False"
   ]
  },
  {
   "cell_type": "code",
   "execution_count": 105,
   "metadata": {},
   "outputs": [],
   "source": [
    "def load_data():\n",
    "    # 加载 MNIST 数据集\n",
    "    (x, y), (x_val, y_val) = datasets.mnist.load_data()\n",
    "    # 转换为浮点张量， 并缩放到-1~1\n",
    "    x = tf.convert_to_tensor(x, dtype=tf.float32) / 255.\n",
    "    # 转换为整形张量\n",
    "    y = tf.convert_to_tensor(y, dtype=tf.int32)\n",
    "    # one-hot 编码\n",
    "    y = tf.one_hot(y, depth=10)\n",
    "\n",
    "    # 改变视图， [b, 28, 28] => [b, 28*28]\n",
    "    x = tf.reshape(x, (-1, 28 * 28))\n",
    "\n",
    "    # 构建数据集对象\n",
    "    train_dataset = tf.data.Dataset.from_tensor_slices((x, y))\n",
    "    # 批量训练\n",
    "    train_dataset = train_dataset.batch(200)\n",
    "    return train_dataset"
   ]
  },
  {
   "cell_type": "code",
   "execution_count": 106,
   "metadata": {},
   "outputs": [],
   "source": [
    "def init_paramaters():\n",
    "    # 每层的张量都需要被优化，故使用 Variable 类型，并使用截断的正太分布初始化权值张量\n",
    "    # 偏置向量初始化为 0 即可\n",
    "    # 第一层的参数\n",
    "    w1 = tf.Variable(tf.random.truncated_normal([784, 256], stddev=0.1))\n",
    "    b1 = tf.Variable(tf.zeros([256]))\n",
    "    # 第二层的参数\n",
    "    w2 = tf.Variable(tf.random.truncated_normal([256, 128], stddev=0.1))\n",
    "    b2 = tf.Variable(tf.zeros([128]))\n",
    "    # 第三层的参数\n",
    "    w3 = tf.Variable(tf.random.truncated_normal([128, 10], stddev=0.1))\n",
    "    b3 = tf.Variable(tf.zeros([10]))\n",
    "    return w1, b1, w2, b2, w3, b3"
   ]
  },
  {
   "cell_type": "code",
   "execution_count": 107,
   "metadata": {},
   "outputs": [],
   "source": [
    "def train_epoch(epoch, train_dataset, w1, b1, w2, b2, w3, b3, lr=0.001):\n",
    "    for step, (x, y) in enumerate(train_dataset):\n",
    "        with tf.GradientTape() as tape:\n",
    "            # 第一层计算， [b, 784]@[784, 256] + [256] => [b, 256] + [256] => [b,256] + [b, 256]\n",
    "            h1 = x @ w1 + tf.broadcast_to(b1, (x.shape[0], 256))\n",
    "            h1 = tf.nn.relu(h1)  # 通过激活函数\n",
    "\n",
    "            # 第二层计算， [b, 256] => [b, 128]\n",
    "            h2 = h1 @ w2 + b2\n",
    "            h2 = tf.nn.relu(h2)\n",
    "            # 输出层计算， [b, 128] => [b, 10]\n",
    "            out = h2 @ w3 + b3\n",
    "\n",
    "            # 计算网络输出与标签之间的均方差， mse = mean(sum(y-out)^2)\n",
    "            # [b, 10]\n",
    "            loss = tf.square(y - out)\n",
    "            # 误差标量， mean: scalar\n",
    "            loss = tf.reduce_mean(loss)\n",
    "\n",
    "            # 自动梯度，需要求梯度的张量有[w1, b1, w2, b2, w3, b3]\n",
    "            grads = tape.gradient(loss, [w1, b1, w2, b2, w3, b3])\n",
    "\n",
    "        # 梯度更新， assign_sub 将当前值减去参数值，原地更新\n",
    "        w1.assign_sub(lr * grads[0])\n",
    "        b1.assign_sub(lr * grads[1])\n",
    "        w2.assign_sub(lr * grads[2])\n",
    "        b2.assign_sub(lr * grads[3])\n",
    "        w3.assign_sub(lr * grads[4])\n",
    "        b3.assign_sub(lr * grads[5])    \n",
    "    \n",
    "    return loss.numpy()"
   ]
  },
  {
   "cell_type": "code",
   "execution_count": 108,
   "metadata": {},
   "outputs": [],
   "source": [
    "def train(epochs):\n",
    "    losses = []\n",
    "    train_dataset = load_data()\n",
    "    w1, b1, w2, b2, w3, b3 = init_paramaters()\n",
    "    for epoch in range(epochs):\n",
    "        loss = train_epoch(epoch, train_dataset, w1, b1, w2, b2, w3, b3, lr=0.001)\n",
    "        print('epoch:', epoch, 'loss:', loss)\n",
    "        losses.append(loss)\n",
    "\n",
    "    x = [i for i in range(0, epochs)]\n",
    "    # 绘制曲线\n",
    "    plt.plot(x, losses, color='blue', marker='s', label='训练')\n",
    "    plt.xlabel('Epoch')\n",
    "    plt.ylabel('MSE')\n",
    "    plt.legend()\n",
    "    plt.show()"
   ]
  },
  {
   "cell_type": "code",
   "execution_count": 109,
   "metadata": {},
   "outputs": [
    {
     "name": "stdout",
     "output_type": "stream",
     "text": [
      "epoch: 0 loss: 0.17490055\n",
      "epoch: 1 loss: 0.1547801\n",
      "epoch: 2 loss: 0.14127521\n",
      "epoch: 3 loss: 0.13106598\n",
      "epoch: 4 loss: 0.12302195\n",
      "epoch: 5 loss: 0.11645317\n",
      "epoch: 6 loss: 0.11093483\n",
      "epoch: 7 loss: 0.10626142\n",
      "epoch: 8 loss: 0.102241054\n",
      "epoch: 9 loss: 0.09873803\n",
      "epoch: 10 loss: 0.0956325\n",
      "epoch: 11 loss: 0.09283967\n",
      "epoch: 12 loss: 0.090323724\n",
      "epoch: 13 loss: 0.088024646\n",
      "epoch: 14 loss: 0.085925125\n",
      "epoch: 15 loss: 0.08398787\n",
      "epoch: 16 loss: 0.08219545\n",
      "epoch: 17 loss: 0.080535844\n",
      "epoch: 18 loss: 0.07898772\n",
      "epoch: 19 loss: 0.077554345\n"
     ]
    },
    {
     "data": {
      "image/png": "[encoded data removed]",
      "text/plain": [
       "<Figure size 432x288 with 1 Axes>"
      ]
     },
     "metadata": {
      "needs_background": "light"
     },
     "output_type": "display_data"
    }
   ],
   "source": [
    "train(epochs=20)"
   ]
  },
  {
   "cell_type": "markdown",
   "metadata": {},
   "source": [
    "# 以上！"
   ]
  }
 ],
 "metadata": {
  "kernelspec": {
   "display_name": "Python 3 (ipykernel)",
   "language": "python",
   "name": "python3"
  },
  "language_info": {
   "codemirror_mode": {
    "name": "ipython",
    "version": 3
   },
   "file_extension": ".py",
   "mimetype": "text/x-python",
   "name": "python",
   "nbconvert_exporter": "python",
   "pygments_lexer": "ipython3",
   "version": "3.8.10"
  },
  "toc": {
   "base_numbering": 1,
   "nav_menu": {},
   "number_sections": true,
   "sideBar": true,
   "skip_h1_title": false,
   "title_cell": "Table of Contents",
   "title_sidebar": "Contents",
   "toc_cell": false,
   "toc_position": {
    "height": "calc(100% - 180px)",
    "left": "10px",
    "top": "150px",
    "width": "273.188px"
   },
   "toc_section_display": true,
   "toc_window_display": true
  }
 },
 "nbformat": 4,
 "nbformat_minor": 4
}
