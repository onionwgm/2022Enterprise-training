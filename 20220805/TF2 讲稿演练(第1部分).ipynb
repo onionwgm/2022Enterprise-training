{
 "cells": [
  {
   "cell_type": "code",
   "execution_count": null,
   "id": "858f83bd-06ed-4871-95db-f9cc0f0135ea",
   "metadata": {},
   "outputs": [],
   "source": [
    "import tensorflow as tf"
   ]
  },
  {
   "cell_type": "code",
   "execution_count": null,
   "id": "8af599a9-e275-4f2f-996f-ce837ae2a675",
   "metadata": {},
   "outputs": [],
   "source": [
    "\"tf version:\", tf.__version__\n",
    "\"tf run mode:\", tf.executing_eagerly()\n",
    "tf.config.list_physical_devices()\n",
    "#tf.config.list_physical_devices(\"CPU\")\n",
    "#tf.config.list_physical_devices(\"GPU\")\n",
    "tf.test.is_gpu_available()\n",
    "tf.test.gpu_device_name()\n",
    "from tensorflow.python.client import device_lib\n",
    "local_devices = device_lib.list_local_devices()\n",
    "local_devices\n",
    "# 使用 GPU 时，建议加入：\n",
    "gpu_physical_devices = tf.config.experimental.list_physical_devices('GPU')\n",
    "gpu_physical_devices\n",
    "# 设置 gpu 的内存是增长型使用\n",
    "tf.config.experimental.set_memory_growth(gpu_physical_devices[0], True)"
   ]
  },
  {
   "cell_type": "code",
   "execution_count": null,
   "id": "1f773e77-637b-440f-a9eb-be5e97a837c9",
   "metadata": {},
   "outputs": [],
   "source": [
    "# 查看张量的值\n",
    "t0 = tf.constant([[1, 2], [3, 4]])  # list 的常量\n",
    "t0 \n",
    "t0.numpy()\n",
    "type(t0)\n",
    "type(t0.numpy())"
   ]
  },
  {
   "cell_type": "code",
   "execution_count": null,
   "id": "206ffc39-6e8e-44b6-8ec3-355343988cc9",
   "metadata": {},
   "outputs": [],
   "source": [
    "# 01:基于 python list 列表创建张量\n",
    "pl = [[1, 2], [3, 4]]\n",
    "t1 = tf.constant(pl)\n",
    "\"t1:\", t1\n",
    "\"t1 value:\", t1.numpy()\n",
    "\"t1 type:\", type(t1)\n",
    "\"t1 value type:\", type(t1.numpy())"
   ]
  },
  {
   "cell_type": "code",
   "execution_count": null,
   "id": "78f90d12-5cb6-4e54-adb1-e7ed0135c3da",
   "metadata": {},
   "outputs": [],
   "source": [
    "# 02:基于 numpy.ndarray 数组创建张量\n",
    "import numpy as np\n",
    "# 整型数组\n",
    "t2 = tf.constant(np.array([1, 2]))\n",
    "\"t2:\", t2\n",
    "\"t2 value:\", t2.numpy()\n",
    "\"t2 type:\", type(t2)\n",
    "\"t2 value type:\", type(t2.numpy())\n",
    "# 浮点型数组 - 默认 float64\n",
    "t2_2 = tf.constant(np.array([1., 2.0]))\n",
    "\"t2_2:\", t2_2\n",
    "\"t2_2 value:\", t2_2.numpy()\n",
    "\"t2_2 type:\", type(t2_2)\n",
    "\"t2_2 value type:\", type(t2_2.numpy())\n",
    "# 浮点型数组 - 显示指定为 float32\n",
    "t2_3 = tf.constant(np.array([1., 2.0]), dtype=tf.float32)\n",
    "\"t2_3:\", t2_3\n",
    "\"t2_3 value:\", t2_3.numpy()\n",
    "\"t2_3 type:\", type(t2_3)\n",
    "\"t2_3 value type:\", type(t2_3.numpy())"
   ]
  },
  {
   "cell_type": "code",
   "execution_count": null,
   "id": "0b2929fb-1624-4f26-a301-d0206f36b0c7",
   "metadata": {},
   "outputs": [],
   "source": [
    "# 03:基于 数字（单一数值）创建张量\n",
    "t3 = tf.constant(1)\n",
    "\"t3:\", t3\n",
    "\"t3.numpy():\", t3.numpy()\n",
    "\"t3 type:\", type(t3)\n",
    "\"t3 value type\", type(t3.numpy())\n",
    "t3_2 = tf.constant(2.)\n",
    "\"t3_2:\", t3_2\n",
    "\"t3_2.numpy():\", t3_2.numpy()\n",
    "\"t3_2 type:\", type(t3_2)\n",
    "\"t3_2 value type\", type(t3_2.numpy())\n",
    "# 显示指定元素类型\n",
    "# 建议： 多个参数时，最好给出：参数的名称=参数值\n",
    "#t3_3 = tf.constant(2., dtype=tf.float64)\n",
    "t3_3 = tf.constant(value = 2., dtype=tf.float64)\n",
    "t3_3"
   ]
  },
  {
   "cell_type": "code",
   "execution_count": null,
   "id": "14803b91-20c7-4b19-8148-c70cdaeb2133",
   "metadata": {},
   "outputs": [],
   "source": [
    "# 04:基于 布尔值 创建张量\n",
    "t4 = tf.constant([True, False])\n",
    "\"t4:\", t4\n",
    "\"t4.numpy():\", t4.numpy()\n",
    "\"t4 type:\", type(t4)\n",
    "\"t4 value type\", type(t4.numpy())\n",
    "# True => 1/1.  False => 0/0.\n",
    "tf.cast(t4, tf.int32)\n",
    "tf.cast(t4, tf.float32)\n",
    "# 非0 => True  0 => False\n",
    "tmp = tf.constant([-1, 0, 1, 2.0])\n",
    "tf.cast(tmp, tf.bool)"
   ]
  },
  {
   "cell_type": "code",
   "execution_count": null,
   "id": "7d5fdf03-355e-4908-b0fc-09124a5e3ce2",
   "metadata": {},
   "outputs": [],
   "source": [
    "# 05:基于 字符串 创建张量\n",
    "t5 = tf.constant(\"hello\")\n",
    "\"t5:\", t5\n",
    "# Python 字符（串）以 unicode 编码表达\n",
    "# Tensorflow 字符（串） 以字节数组的形式表达\n",
    "# numpy=b'hello'\n",
    "\"t5.numpy():\", t5.numpy()\n",
    "\"t5 type:\", type(t5)\n",
    "# bytes  == 字节数组\n",
    "\"t5 value type\", type(t5.numpy())\n",
    "# unicode === ascii == utf8\n",
    "# english -- ascii == 1byte\n",
    "# 比如：中文字符-2个字节 == 2byte表示一个字符，\n",
    "# 此时，需要3个字节表示需要两个字节表述的中文字符，\n",
    "# utf8 中，规定：第1个字节 最高位111.。。 后2个字节表示实际的字符编码\n",
    "# 在 tf 中 中文字符占 3 个字节\n",
    "tf.constant(\"天下\")"
   ]
  },
  {
   "cell_type": "code",
   "execution_count": null,
   "id": "57949a9c-1490-4ac9-b392-b59a99aefed5",
   "metadata": {},
   "outputs": [],
   "source": [
    "# 06:tf.convert_to_tensor()方法将现有数据转换为张量\n",
    "import numpy as np\n",
    "na = np.arange(12).reshape(3, 4)\n",
    "na\n",
    "type(na)\n",
    "# 完成转换\n",
    "ta = tf.convert_to_tensor(na)\n",
    "\"ta:\", ta\n",
    "\"ta.numpy():\", ta.numpy()\n",
    "\"ta type:\", type(ta)\n",
    "\"ta value type\", type(ta.numpy())\n",
    "string_array = [\"hello\", \"天下\"]\n",
    "t_strings = tf.constant(string_array)\n",
    "t_strings.numpy()"
   ]
  },
  {
   "cell_type": "code",
   "execution_count": null,
   "id": "f555168c-0feb-4adf-b820-849cf5fbccfb",
   "metadata": {},
   "outputs": [],
   "source": [
    "# 07:各种特殊张量\n",
    "# 全0张量\n",
    "tf.zeros(shape=(6))\n",
    "tf.zeros(shape=[2, 3])\n",
    "# 全1张量\n",
    "tf.ones(shape=(6))\n",
    "tf.ones(shape=[2, 3])\n",
    "# like 。。\n",
    "tf.zeros_like(tf.ones(shape=[2, 3]))\n",
    "# 同值张量\n",
    "tf.fill([2, 3], 9)\n",
    "tf.fill([2, 3], 9.)\n",
    "tf.fill([2,], \"hello\")\n",
    "tf.fill([], True)\n",
    "# 正态分布\n",
    "tf.random.normal([2, 3])\n",
    "tf.random.normal(shape=[2, 3, 4], mean=0.0, stddev=2.0)\n",
    "# 截断正态分布\n",
    "tf.random.truncated_normal(shape=[2, 3, 4], mean=0.0, stddev=2.0)\n",
    "# 均匀分布\n",
    "tf.random.set_seed(42)  # 每次生成的随机数据一致\n",
    "tf.random.uniform(shape=(3, 3), minval=1, maxval=10, dtype='int32')\n",
    "tf.random.set_seed(42)  # 每次生成的随机数据一致\n",
    "tf.random.uniform(shape=(3, 3), minval=1, maxval=10, dtype='int32')\n",
    "# 没有起作用。\n",
    "#tf.random.uniform(shape=(3, 3), minval=1, maxval=10, dtype='int32', seed=42)\n",
    "#tf.random.uniform(shape=(3, 3), minval=1, maxval=10, dtype='int32', seed=42)\n",
    "# 序列张量,前闭后开空间\n",
    "tf.range(10)\n",
    "tf.range(start=1, limit=10, delta=2)"
   ]
  },
  {
   "cell_type": "code",
   "execution_count": null,
   "id": "d8a9dfea-f136-4463-aa0b-ca65d988377c",
   "metadata": {},
   "outputs": [],
   "source": [
    "tf.fill(dims=[2, 3], value=9)\n",
    "# tf.constant(value=9, shape=[2,3])\n",
    "tf.constant(shape=[2,3], value=9)"
   ]
  },
  {
   "cell_type": "code",
   "execution_count": null,
   "id": "dbbb73be-f508-42e4-a372-671a0cd71ce4",
   "metadata": {},
   "outputs": [],
   "source": [
    "# 关于变量\n",
    "ct = tf.constant([-1, 0, 1, 2])\n",
    "# 转换为变量类型\n",
    "vt = tf.Variable(ct)\n",
    "vt\n",
    "vt.name, vt.trainable\n",
    "v = tf.Variable(1.)\n",
    "v.assign(2.)\n",
    "v.assign_add(0.5)"
   ]
  },
  {
   "cell_type": "code",
   "execution_count": null,
   "id": "44d82e36-2e80-4b21-9501-411f1e23c60a",
   "metadata": {},
   "outputs": [],
   "source": []
  }
 ],
 "metadata": {
  "kernelspec": {
   "display_name": "Python 3 (ipykernel)",
   "language": "python",
   "name": "python3"
  },
  "language_info": {
   "codemirror_mode": {
    "name": "ipython",
    "version": 3
   },
   "file_extension": ".py",
   "mimetype": "text/x-python",
   "name": "python",
   "nbconvert_exporter": "python",
   "pygments_lexer": "ipython3",
   "version": "3.8.10"
  }
 },
 "nbformat": 4,
 "nbformat_minor": 5
}
