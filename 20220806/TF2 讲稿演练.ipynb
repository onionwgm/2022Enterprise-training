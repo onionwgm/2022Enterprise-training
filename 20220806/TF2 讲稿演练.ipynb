{
 "cells": [
  {
   "cell_type": "code",
   "execution_count": 2,
   "id": "858f83bd-06ed-4871-95db-f9cc0f0135ea",
   "metadata": {},
   "outputs": [],
   "source": [
    "import tensorflow as tf"
   ]
  },
  {
   "cell_type": "code",
   "execution_count": 2,
   "id": "8af599a9-e275-4f2f-996f-ce837ae2a675",
   "metadata": {},
   "outputs": [
    {
     "data": {
      "text/plain": [
       "('tf version:', '2.9.1')"
      ]
     },
     "execution_count": 2,
     "metadata": {},
     "output_type": "execute_result"
    },
    {
     "data": {
      "text/plain": [
       "('tf run mode:', True)"
      ]
     },
     "execution_count": 2,
     "metadata": {},
     "output_type": "execute_result"
    },
    {
     "data": {
      "text/plain": [
       "[PhysicalDevice(name='/physical_device:CPU:0', device_type='CPU'),\n",
       " PhysicalDevice(name='/physical_device:GPU:0', device_type='GPU')]"
      ]
     },
     "execution_count": 2,
     "metadata": {},
     "output_type": "execute_result"
    },
    {
     "name": "stdout",
     "output_type": "stream",
     "text": [
      "WARNING:tensorflow:From C:\\Users\\txsli\\AppData\\Local\\Temp\\ipykernel_10540\\1568322491.py:6: is_gpu_available (from tensorflow.python.framework.test_util) is deprecated and will be removed in a future version.\n",
      "Instructions for updating:\n",
      "Use `tf.config.list_physical_devices('GPU')` instead.\n"
     ]
    },
    {
     "data": {
      "text/plain": [
       "True"
      ]
     },
     "execution_count": 2,
     "metadata": {},
     "output_type": "execute_result"
    },
    {
     "data": {
      "text/plain": [
       "'/device:GPU:0'"
      ]
     },
     "execution_count": 2,
     "metadata": {},
     "output_type": "execute_result"
    },
    {
     "data": {
      "text/plain": [
       "[name: \"/device:CPU:0\"\n",
       " device_type: \"CPU\"\n",
       " memory_limit: 268435456\n",
       " locality {\n",
       " }\n",
       " incarnation: 9742389359850503999\n",
       " xla_global_id: -1,\n",
       " name: \"/device:GPU:0\"\n",
       " device_type: \"GPU\"\n",
       " memory_limit: 4919132160\n",
       " locality {\n",
       "   bus_id: 1\n",
       "   links {\n",
       "   }\n",
       " }\n",
       " incarnation: 6603132053019617892\n",
       " physical_device_desc: \"device: 0, name: NVIDIA GeForce GTX 970M, pci bus id: 0000:01:00.0, compute capability: 5.2\"\n",
       " xla_global_id: 416903419]"
      ]
     },
     "execution_count": 2,
     "metadata": {},
     "output_type": "execute_result"
    },
    {
     "data": {
      "text/plain": [
       "[PhysicalDevice(name='/physical_device:GPU:0', device_type='GPU')]"
      ]
     },
     "execution_count": 2,
     "metadata": {},
     "output_type": "execute_result"
    }
   ],
   "source": [
    "\"tf version:\", tf.__version__\n",
    "\"tf run mode:\", tf.executing_eagerly()\n",
    "tf.config.list_physical_devices()\n",
    "#tf.config.list_physical_devices(\"CPU\")\n",
    "#tf.config.list_physical_devices(\"GPU\")\n",
    "tf.test.is_gpu_available()\n",
    "tf.test.gpu_device_name()\n",
    "from tensorflow.python.client import device_lib\n",
    "local_devices = device_lib.list_local_devices()\n",
    "local_devices\n",
    "# 使用 GPU 时，建议加入：\n",
    "gpu_physical_devices = tf.config.experimental.list_physical_devices('GPU')\n",
    "gpu_physical_devices\n",
    "# 设置 gpu 的内存是增长型使用\n",
    "tf.config.experimental.set_memory_growth(gpu_physical_devices[0], True)"
   ]
  },
  {
   "cell_type": "code",
   "execution_count": 3,
   "id": "1f773e77-637b-440f-a9eb-be5e97a837c9",
   "metadata": {},
   "outputs": [
    {
     "data": {
      "text/plain": [
       "<tf.Tensor: shape=(2, 2), dtype=int32, numpy=\n",
       "array([[1, 2],\n",
       "       [3, 4]])>"
      ]
     },
     "execution_count": 3,
     "metadata": {},
     "output_type": "execute_result"
    },
    {
     "data": {
      "text/plain": [
       "array([[1, 2],\n",
       "       [3, 4]])"
      ]
     },
     "execution_count": 3,
     "metadata": {},
     "output_type": "execute_result"
    },
    {
     "data": {
      "text/plain": [
       "tensorflow.python.framework.ops.EagerTensor"
      ]
     },
     "execution_count": 3,
     "metadata": {},
     "output_type": "execute_result"
    },
    {
     "data": {
      "text/plain": [
       "numpy.ndarray"
      ]
     },
     "execution_count": 3,
     "metadata": {},
     "output_type": "execute_result"
    }
   ],
   "source": [
    "# 查看张量的值\n",
    "t0 = tf.constant([[1, 2], [3, 4]])  # list 的常量\n",
    "t0 \n",
    "t0.numpy()\n",
    "type(t0)\n",
    "type(t0.numpy())"
   ]
  },
  {
   "cell_type": "code",
   "execution_count": 4,
   "id": "206ffc39-6e8e-44b6-8ec3-355343988cc9",
   "metadata": {},
   "outputs": [
    {
     "data": {
      "text/plain": [
       "('t1:',\n",
       " <tf.Tensor: shape=(2, 2), dtype=int32, numpy=\n",
       " array([[1, 2],\n",
       "        [3, 4]])>)"
      ]
     },
     "execution_count": 4,
     "metadata": {},
     "output_type": "execute_result"
    },
    {
     "data": {
      "text/plain": [
       "('t1 value:',\n",
       " array([[1, 2],\n",
       "        [3, 4]]))"
      ]
     },
     "execution_count": 4,
     "metadata": {},
     "output_type": "execute_result"
    },
    {
     "data": {
      "text/plain": [
       "('t1 type:', tensorflow.python.framework.ops.EagerTensor)"
      ]
     },
     "execution_count": 4,
     "metadata": {},
     "output_type": "execute_result"
    },
    {
     "data": {
      "text/plain": [
       "('t1 value type:', numpy.ndarray)"
      ]
     },
     "execution_count": 4,
     "metadata": {},
     "output_type": "execute_result"
    }
   ],
   "source": [
    "# 01:基于 python list 列表创建张量\n",
    "pl = [[1, 2], [3, 4]]\n",
    "t1 = tf.constant(pl)\n",
    "\"t1:\", t1\n",
    "\"t1 value:\", t1.numpy()\n",
    "\"t1 type:\", type(t1)\n",
    "\"t1 value type:\", type(t1.numpy())"
   ]
  },
  {
   "cell_type": "code",
   "execution_count": 5,
   "id": "78f90d12-5cb6-4e54-adb1-e7ed0135c3da",
   "metadata": {},
   "outputs": [
    {
     "data": {
      "text/plain": [
       "('t2:', <tf.Tensor: shape=(2,), dtype=int32, numpy=array([1, 2])>)"
      ]
     },
     "execution_count": 5,
     "metadata": {},
     "output_type": "execute_result"
    },
    {
     "data": {
      "text/plain": [
       "('t2 value:', array([1, 2]))"
      ]
     },
     "execution_count": 5,
     "metadata": {},
     "output_type": "execute_result"
    },
    {
     "data": {
      "text/plain": [
       "('t2 type:', tensorflow.python.framework.ops.EagerTensor)"
      ]
     },
     "execution_count": 5,
     "metadata": {},
     "output_type": "execute_result"
    },
    {
     "data": {
      "text/plain": [
       "('t2 value type:', numpy.ndarray)"
      ]
     },
     "execution_count": 5,
     "metadata": {},
     "output_type": "execute_result"
    },
    {
     "data": {
      "text/plain": [
       "('t2_2:', <tf.Tensor: shape=(2,), dtype=float64, numpy=array([1., 2.])>)"
      ]
     },
     "execution_count": 5,
     "metadata": {},
     "output_type": "execute_result"
    },
    {
     "data": {
      "text/plain": [
       "('t2_2 value:', array([1., 2.]))"
      ]
     },
     "execution_count": 5,
     "metadata": {},
     "output_type": "execute_result"
    },
    {
     "data": {
      "text/plain": [
       "('t2_2 type:', tensorflow.python.framework.ops.EagerTensor)"
      ]
     },
     "execution_count": 5,
     "metadata": {},
     "output_type": "execute_result"
    },
    {
     "data": {
      "text/plain": [
       "('t2_2 value type:', numpy.ndarray)"
      ]
     },
     "execution_count": 5,
     "metadata": {},
     "output_type": "execute_result"
    },
    {
     "data": {
      "text/plain": [
       "('t2_3:',\n",
       " <tf.Tensor: shape=(2,), dtype=float32, numpy=array([1., 2.], dtype=float32)>)"
      ]
     },
     "execution_count": 5,
     "metadata": {},
     "output_type": "execute_result"
    },
    {
     "data": {
      "text/plain": [
       "('t2_3 value:', array([1., 2.], dtype=float32))"
      ]
     },
     "execution_count": 5,
     "metadata": {},
     "output_type": "execute_result"
    },
    {
     "data": {
      "text/plain": [
       "('t2_3 type:', tensorflow.python.framework.ops.EagerTensor)"
      ]
     },
     "execution_count": 5,
     "metadata": {},
     "output_type": "execute_result"
    },
    {
     "data": {
      "text/plain": [
       "('t2_3 value type:', numpy.ndarray)"
      ]
     },
     "execution_count": 5,
     "metadata": {},
     "output_type": "execute_result"
    }
   ],
   "source": [
    "# 02:基于 numpy.ndarray 数组创建张量\n",
    "import numpy as np\n",
    "# 整型数组\n",
    "t2 = tf.constant(np.array([1, 2]))\n",
    "\"t2:\", t2\n",
    "\"t2 value:\", t2.numpy()\n",
    "\"t2 type:\", type(t2)\n",
    "\"t2 value type:\", type(t2.numpy())\n",
    "# 浮点型数组 - 默认 float64\n",
    "t2_2 = tf.constant(np.array([1., 2.0]))\n",
    "\"t2_2:\", t2_2\n",
    "\"t2_2 value:\", t2_2.numpy()\n",
    "\"t2_2 type:\", type(t2_2)\n",
    "\"t2_2 value type:\", type(t2_2.numpy())\n",
    "# 浮点型数组 - 显示指定为 float32\n",
    "t2_3 = tf.constant(np.array([1., 2.0]), dtype=tf.float32)\n",
    "\"t2_3:\", t2_3\n",
    "\"t2_3 value:\", t2_3.numpy()\n",
    "\"t2_3 type:\", type(t2_3)\n",
    "\"t2_3 value type:\", type(t2_3.numpy())"
   ]
  },
  {
   "cell_type": "code",
   "execution_count": 6,
   "id": "0b2929fb-1624-4f26-a301-d0206f36b0c7",
   "metadata": {},
   "outputs": [
    {
     "data": {
      "text/plain": [
       "('t3:', <tf.Tensor: shape=(), dtype=int32, numpy=1>)"
      ]
     },
     "execution_count": 6,
     "metadata": {},
     "output_type": "execute_result"
    },
    {
     "data": {
      "text/plain": [
       "('t3.numpy():', 1)"
      ]
     },
     "execution_count": 6,
     "metadata": {},
     "output_type": "execute_result"
    },
    {
     "data": {
      "text/plain": [
       "('t3 type:', tensorflow.python.framework.ops.EagerTensor)"
      ]
     },
     "execution_count": 6,
     "metadata": {},
     "output_type": "execute_result"
    },
    {
     "data": {
      "text/plain": [
       "('t3 value type', numpy.int32)"
      ]
     },
     "execution_count": 6,
     "metadata": {},
     "output_type": "execute_result"
    },
    {
     "data": {
      "text/plain": [
       "('t3_2:', <tf.Tensor: shape=(), dtype=float32, numpy=2.0>)"
      ]
     },
     "execution_count": 6,
     "metadata": {},
     "output_type": "execute_result"
    },
    {
     "data": {
      "text/plain": [
       "('t3_2.numpy():', 2.0)"
      ]
     },
     "execution_count": 6,
     "metadata": {},
     "output_type": "execute_result"
    },
    {
     "data": {
      "text/plain": [
       "('t3_2 type:', tensorflow.python.framework.ops.EagerTensor)"
      ]
     },
     "execution_count": 6,
     "metadata": {},
     "output_type": "execute_result"
    },
    {
     "data": {
      "text/plain": [
       "('t3_2 value type', numpy.float32)"
      ]
     },
     "execution_count": 6,
     "metadata": {},
     "output_type": "execute_result"
    },
    {
     "data": {
      "text/plain": [
       "<tf.Tensor: shape=(), dtype=float64, numpy=2.0>"
      ]
     },
     "execution_count": 6,
     "metadata": {},
     "output_type": "execute_result"
    }
   ],
   "source": [
    "# 03:基于 数字（单一数值）创建张量\n",
    "t3 = tf.constant(1)\n",
    "\"t3:\", t3\n",
    "\"t3.numpy():\", t3.numpy()\n",
    "\"t3 type:\", type(t3)\n",
    "\"t3 value type\", type(t3.numpy())\n",
    "t3_2 = tf.constant(2.)\n",
    "\"t3_2:\", t3_2\n",
    "\"t3_2.numpy():\", t3_2.numpy()\n",
    "\"t3_2 type:\", type(t3_2)\n",
    "\"t3_2 value type\", type(t3_2.numpy())\n",
    "# 显示指定元素类型\n",
    "# 建议： 多个参数时，最好给出：参数的名称=参数值\n",
    "#t3_3 = tf.constant(2., dtype=tf.float64)\n",
    "t3_3 = tf.constant(value = 2., dtype=tf.float64)\n",
    "t3_3"
   ]
  },
  {
   "cell_type": "code",
   "execution_count": 7,
   "id": "14803b91-20c7-4b19-8148-c70cdaeb2133",
   "metadata": {},
   "outputs": [
    {
     "data": {
      "text/plain": [
       "('t4:', <tf.Tensor: shape=(2,), dtype=bool, numpy=array([ True, False])>)"
      ]
     },
     "execution_count": 7,
     "metadata": {},
     "output_type": "execute_result"
    },
    {
     "data": {
      "text/plain": [
       "('t4.numpy():', array([ True, False]))"
      ]
     },
     "execution_count": 7,
     "metadata": {},
     "output_type": "execute_result"
    },
    {
     "data": {
      "text/plain": [
       "('t4 type:', tensorflow.python.framework.ops.EagerTensor)"
      ]
     },
     "execution_count": 7,
     "metadata": {},
     "output_type": "execute_result"
    },
    {
     "data": {
      "text/plain": [
       "('t4 value type', numpy.ndarray)"
      ]
     },
     "execution_count": 7,
     "metadata": {},
     "output_type": "execute_result"
    },
    {
     "data": {
      "text/plain": [
       "<tf.Tensor: shape=(2,), dtype=int32, numpy=array([1, 0])>"
      ]
     },
     "execution_count": 7,
     "metadata": {},
     "output_type": "execute_result"
    },
    {
     "data": {
      "text/plain": [
       "<tf.Tensor: shape=(2,), dtype=float32, numpy=array([1., 0.], dtype=float32)>"
      ]
     },
     "execution_count": 7,
     "metadata": {},
     "output_type": "execute_result"
    },
    {
     "data": {
      "text/plain": [
       "<tf.Tensor: shape=(4,), dtype=bool, numpy=array([ True, False,  True,  True])>"
      ]
     },
     "execution_count": 7,
     "metadata": {},
     "output_type": "execute_result"
    }
   ],
   "source": [
    "# 04:基于 布尔值 创建张量\n",
    "t4 = tf.constant([True, False])\n",
    "\"t4:\", t4\n",
    "\"t4.numpy():\", t4.numpy()\n",
    "\"t4 type:\", type(t4)\n",
    "\"t4 value type\", type(t4.numpy())\n",
    "# True => 1/1.  False => 0/0.\n",
    "tf.cast(t4, tf.int32)\n",
    "tf.cast(t4, tf.float32)\n",
    "# 非0 => True  0 => False\n",
    "tmp = tf.constant([-1, 0, 1, 2.0])\n",
    "tf.cast(tmp, tf.bool)"
   ]
  },
  {
   "cell_type": "code",
   "execution_count": 8,
   "id": "7d5fdf03-355e-4908-b0fc-09124a5e3ce2",
   "metadata": {},
   "outputs": [
    {
     "data": {
      "text/plain": [
       "('t5:', <tf.Tensor: shape=(), dtype=string, numpy=b'hello'>)"
      ]
     },
     "execution_count": 8,
     "metadata": {},
     "output_type": "execute_result"
    },
    {
     "data": {
      "text/plain": [
       "('t5.numpy():', b'hello')"
      ]
     },
     "execution_count": 8,
     "metadata": {},
     "output_type": "execute_result"
    },
    {
     "data": {
      "text/plain": [
       "('t5 type:', tensorflow.python.framework.ops.EagerTensor)"
      ]
     },
     "execution_count": 8,
     "metadata": {},
     "output_type": "execute_result"
    },
    {
     "data": {
      "text/plain": [
       "('t5 value type', bytes)"
      ]
     },
     "execution_count": 8,
     "metadata": {},
     "output_type": "execute_result"
    },
    {
     "data": {
      "text/plain": [
       "<tf.Tensor: shape=(), dtype=string, numpy=b'\\xe5\\xa4\\xa9\\xe4\\xb8\\x8b'>"
      ]
     },
     "execution_count": 8,
     "metadata": {},
     "output_type": "execute_result"
    }
   ],
   "source": [
    "# 05:基于 字符串 创建张量\n",
    "t5 = tf.constant(\"hello\")\n",
    "\"t5:\", t5\n",
    "# Python 字符（串）以 unicode 编码表达\n",
    "# Tensorflow 字符（串） 以字节数组的形式表达\n",
    "# numpy=b'hello'\n",
    "\"t5.numpy():\", t5.numpy()\n",
    "\"t5 type:\", type(t5)\n",
    "# bytes  == 字节数组\n",
    "\"t5 value type\", type(t5.numpy())\n",
    "# unicode === ascii == utf8\n",
    "# english -- ascii == 1byte\n",
    "# 比如：中文字符-2个字节 == 2byte表示一个字符，\n",
    "# 此时，需要3个字节表示需要两个字节表述的中文字符，\n",
    "# utf8 中，规定：第1个字节 最高位111.。。 后2个字节表示实际的字符编码\n",
    "# 在 tf 中 中文字符占 3 个字节\n",
    "tf.constant(\"天下\")"
   ]
  },
  {
   "cell_type": "code",
   "execution_count": 9,
   "id": "57949a9c-1490-4ac9-b392-b59a99aefed5",
   "metadata": {},
   "outputs": [
    {
     "data": {
      "text/plain": [
       "array([[ 0,  1,  2,  3],\n",
       "       [ 4,  5,  6,  7],\n",
       "       [ 8,  9, 10, 11]])"
      ]
     },
     "execution_count": 9,
     "metadata": {},
     "output_type": "execute_result"
    },
    {
     "data": {
      "text/plain": [
       "numpy.ndarray"
      ]
     },
     "execution_count": 9,
     "metadata": {},
     "output_type": "execute_result"
    },
    {
     "data": {
      "text/plain": [
       "('ta:',\n",
       " <tf.Tensor: shape=(3, 4), dtype=int32, numpy=\n",
       " array([[ 0,  1,  2,  3],\n",
       "        [ 4,  5,  6,  7],\n",
       "        [ 8,  9, 10, 11]])>)"
      ]
     },
     "execution_count": 9,
     "metadata": {},
     "output_type": "execute_result"
    },
    {
     "data": {
      "text/plain": [
       "('ta.numpy():',\n",
       " array([[ 0,  1,  2,  3],\n",
       "        [ 4,  5,  6,  7],\n",
       "        [ 8,  9, 10, 11]]))"
      ]
     },
     "execution_count": 9,
     "metadata": {},
     "output_type": "execute_result"
    },
    {
     "data": {
      "text/plain": [
       "('ta type:', tensorflow.python.framework.ops.EagerTensor)"
      ]
     },
     "execution_count": 9,
     "metadata": {},
     "output_type": "execute_result"
    },
    {
     "data": {
      "text/plain": [
       "('ta value type', numpy.ndarray)"
      ]
     },
     "execution_count": 9,
     "metadata": {},
     "output_type": "execute_result"
    },
    {
     "data": {
      "text/plain": [
       "array([b'hello', b'\\xe5\\xa4\\xa9\\xe4\\xb8\\x8b'], dtype=object)"
      ]
     },
     "execution_count": 9,
     "metadata": {},
     "output_type": "execute_result"
    }
   ],
   "source": [
    "# 06:tf.convert_to_tensor()方法将现有数据转换为张量\n",
    "import numpy as np\n",
    "na = np.arange(12).reshape(3, 4)\n",
    "na\n",
    "type(na)\n",
    "# 完成转换\n",
    "ta = tf.convert_to_tensor(na)\n",
    "\"ta:\", ta\n",
    "\"ta.numpy():\", ta.numpy()\n",
    "\"ta type:\", type(ta)\n",
    "\"ta value type\", type(ta.numpy())\n",
    "string_array = [\"hello\", \"天下\"]\n",
    "t_strings = tf.constant(string_array)\n",
    "t_strings.numpy()"
   ]
  },
  {
   "cell_type": "code",
   "execution_count": 10,
   "id": "f555168c-0feb-4adf-b820-849cf5fbccfb",
   "metadata": {},
   "outputs": [
    {
     "data": {
      "text/plain": [
       "<tf.Tensor: shape=(6,), dtype=float32, numpy=array([0., 0., 0., 0., 0., 0.], dtype=float32)>"
      ]
     },
     "execution_count": 10,
     "metadata": {},
     "output_type": "execute_result"
    },
    {
     "data": {
      "text/plain": [
       "<tf.Tensor: shape=(2, 3), dtype=float32, numpy=\n",
       "array([[0., 0., 0.],\n",
       "       [0., 0., 0.]], dtype=float32)>"
      ]
     },
     "execution_count": 10,
     "metadata": {},
     "output_type": "execute_result"
    },
    {
     "data": {
      "text/plain": [
       "<tf.Tensor: shape=(6,), dtype=float32, numpy=array([1., 1., 1., 1., 1., 1.], dtype=float32)>"
      ]
     },
     "execution_count": 10,
     "metadata": {},
     "output_type": "execute_result"
    },
    {
     "data": {
      "text/plain": [
       "<tf.Tensor: shape=(2, 3), dtype=float32, numpy=\n",
       "array([[1., 1., 1.],\n",
       "       [1., 1., 1.]], dtype=float32)>"
      ]
     },
     "execution_count": 10,
     "metadata": {},
     "output_type": "execute_result"
    },
    {
     "data": {
      "text/plain": [
       "<tf.Tensor: shape=(2, 3), dtype=float32, numpy=\n",
       "array([[0., 0., 0.],\n",
       "       [0., 0., 0.]], dtype=float32)>"
      ]
     },
     "execution_count": 10,
     "metadata": {},
     "output_type": "execute_result"
    },
    {
     "data": {
      "text/plain": [
       "<tf.Tensor: shape=(2, 3), dtype=int32, numpy=\n",
       "array([[9, 9, 9],\n",
       "       [9, 9, 9]])>"
      ]
     },
     "execution_count": 10,
     "metadata": {},
     "output_type": "execute_result"
    },
    {
     "data": {
      "text/plain": [
       "<tf.Tensor: shape=(2, 3), dtype=float32, numpy=\n",
       "array([[9., 9., 9.],\n",
       "       [9., 9., 9.]], dtype=float32)>"
      ]
     },
     "execution_count": 10,
     "metadata": {},
     "output_type": "execute_result"
    },
    {
     "data": {
      "text/plain": [
       "<tf.Tensor: shape=(2,), dtype=string, numpy=array([b'hello', b'hello'], dtype=object)>"
      ]
     },
     "execution_count": 10,
     "metadata": {},
     "output_type": "execute_result"
    },
    {
     "data": {
      "text/plain": [
       "<tf.Tensor: shape=(), dtype=bool, numpy=True>"
      ]
     },
     "execution_count": 10,
     "metadata": {},
     "output_type": "execute_result"
    },
    {
     "data": {
      "text/plain": [
       "<tf.Tensor: shape=(2, 3), dtype=float32, numpy=\n",
       "array([[ 1.3258864 , -1.3374125 , -1.6455876 ],\n",
       "       [ 0.4674322 , -1.0085659 , -0.49727106]], dtype=float32)>"
      ]
     },
     "execution_count": 10,
     "metadata": {},
     "output_type": "execute_result"
    },
    {
     "data": {
      "text/plain": [
       "<tf.Tensor: shape=(2, 3, 4), dtype=float32, numpy=\n",
       "array([[[-3.0900676 ,  0.06106665, -1.2160052 ,  3.9257355 ],\n",
       "        [ 0.44119656,  3.898708  ,  0.4625773 , -1.0210679 ],\n",
       "        [ 1.8632311 , -2.8251648 , -1.0558579 , -3.9115715 ]],\n",
       "\n",
       "       [[-0.34709856,  1.4259995 ,  0.54207313, -0.9045479 ],\n",
       "        [ 3.4186418 , -1.6602695 ,  3.3084226 ,  1.4107931 ],\n",
       "        [ 0.507739  ,  1.5735748 , -0.255079  , -1.8297805 ]]],\n",
       "      dtype=float32)>"
      ]
     },
     "execution_count": 10,
     "metadata": {},
     "output_type": "execute_result"
    },
    {
     "data": {
      "text/plain": [
       "<tf.Tensor: shape=(2, 3, 4), dtype=float32, numpy=\n",
       "array([[[ 1.9810729 ,  1.1371591 , -0.5367684 , -1.5745926 ],\n",
       "        [-1.1894002 ,  0.61738336, -1.8490044 , -2.714796  ],\n",
       "        [-0.855381  , -1.9755341 ,  3.5090632 ,  0.40457392]],\n",
       "\n",
       "       [[-1.9589148 ,  0.31488922, -0.6768407 , -3.8647504 ],\n",
       "        [-0.14740387,  3.41704   ,  0.8433062 ,  1.695899  ],\n",
       "        [-0.07205007, -2.1923492 ,  2.2899547 , -0.191505  ]]],\n",
       "      dtype=float32)>"
      ]
     },
     "execution_count": 10,
     "metadata": {},
     "output_type": "execute_result"
    },
    {
     "data": {
      "text/plain": [
       "<tf.Tensor: shape=(3, 3), dtype=int32, numpy=\n",
       "array([[8, 6, 9],\n",
       "       [4, 8, 3],\n",
       "       [8, 8, 8]])>"
      ]
     },
     "execution_count": 10,
     "metadata": {},
     "output_type": "execute_result"
    },
    {
     "data": {
      "text/plain": [
       "<tf.Tensor: shape=(3, 3), dtype=int32, numpy=\n",
       "array([[8, 6, 9],\n",
       "       [4, 8, 3],\n",
       "       [8, 8, 8]])>"
      ]
     },
     "execution_count": 10,
     "metadata": {},
     "output_type": "execute_result"
    },
    {
     "data": {
      "text/plain": [
       "<tf.Tensor: shape=(10,), dtype=int32, numpy=array([0, 1, 2, 3, 4, 5, 6, 7, 8, 9])>"
      ]
     },
     "execution_count": 10,
     "metadata": {},
     "output_type": "execute_result"
    },
    {
     "data": {
      "text/plain": [
       "<tf.Tensor: shape=(5,), dtype=int32, numpy=array([1, 3, 5, 7, 9])>"
      ]
     },
     "execution_count": 10,
     "metadata": {},
     "output_type": "execute_result"
    }
   ],
   "source": [
    "# 07:各种特殊张量\n",
    "# 全0张量\n",
    "tf.zeros(shape=(6))\n",
    "tf.zeros(shape=[2, 3])\n",
    "# 全1张量\n",
    "tf.ones(shape=(6))\n",
    "tf.ones(shape=[2, 3])\n",
    "# like 。。\n",
    "tf.zeros_like(tf.ones(shape=[2, 3]))\n",
    "# 同值张量\n",
    "tf.fill([2, 3], 9)\n",
    "tf.fill([2, 3], 9.)\n",
    "tf.fill([2,], \"hello\")\n",
    "tf.fill([], True)\n",
    "# 正态分布\n",
    "tf.random.normal([2, 3])\n",
    "tf.random.normal(shape=[2, 3, 4], mean=0.0, stddev=2.0)\n",
    "# 截断正态分布\n",
    "tf.random.truncated_normal(shape=[2, 3, 4], mean=0.0, stddev=2.0)\n",
    "# 均匀分布\n",
    "tf.random.set_seed(42)  # 每次生成的随机数据一致\n",
    "tf.random.uniform(shape=(3, 3), minval=1, maxval=10, dtype='int32')\n",
    "tf.random.set_seed(42)  # 每次生成的随机数据一致\n",
    "tf.random.uniform(shape=(3, 3), minval=1, maxval=10, dtype='int32')\n",
    "# 没有起作用。\n",
    "#tf.random.uniform(shape=(3, 3), minval=1, maxval=10, dtype='int32', seed=42)\n",
    "#tf.random.uniform(shape=(3, 3), minval=1, maxval=10, dtype='int32', seed=42)\n",
    "# 序列张量,前闭后开空间\n",
    "tf.range(10)\n",
    "tf.range(start=1, limit=10, delta=2)"
   ]
  },
  {
   "cell_type": "code",
   "execution_count": 11,
   "id": "d8a9dfea-f136-4463-aa0b-ca65d988377c",
   "metadata": {},
   "outputs": [
    {
     "data": {
      "text/plain": [
       "<tf.Tensor: shape=(2, 3), dtype=int32, numpy=\n",
       "array([[9, 9, 9],\n",
       "       [9, 9, 9]])>"
      ]
     },
     "execution_count": 11,
     "metadata": {},
     "output_type": "execute_result"
    },
    {
     "data": {
      "text/plain": [
       "<tf.Tensor: shape=(2, 3), dtype=int32, numpy=\n",
       "array([[9, 9, 9],\n",
       "       [9, 9, 9]])>"
      ]
     },
     "execution_count": 11,
     "metadata": {},
     "output_type": "execute_result"
    }
   ],
   "source": [
    "tf.fill(dims=[2, 3], value=9)\n",
    "# tf.constant(value=9, shape=[2,3])\n",
    "tf.constant(shape=[2,3], value=9)"
   ]
  },
  {
   "cell_type": "code",
   "execution_count": 12,
   "id": "dbbb73be-f508-42e4-a372-671a0cd71ce4",
   "metadata": {},
   "outputs": [
    {
     "data": {
      "text/plain": [
       "<tf.Variable 'Variable:0' shape=(4,) dtype=int32, numpy=array([-1,  0,  1,  2])>"
      ]
     },
     "execution_count": 12,
     "metadata": {},
     "output_type": "execute_result"
    },
    {
     "data": {
      "text/plain": [
       "('Variable:0', True)"
      ]
     },
     "execution_count": 12,
     "metadata": {},
     "output_type": "execute_result"
    },
    {
     "data": {
      "text/plain": [
       "<tf.Variable 'UnreadVariable' shape=() dtype=float32, numpy=2.0>"
      ]
     },
     "execution_count": 12,
     "metadata": {},
     "output_type": "execute_result"
    },
    {
     "data": {
      "text/plain": [
       "<tf.Variable 'UnreadVariable' shape=() dtype=float32, numpy=2.5>"
      ]
     },
     "execution_count": 12,
     "metadata": {},
     "output_type": "execute_result"
    }
   ],
   "source": [
    "# 关于变量\n",
    "ct = tf.constant([-1, 0, 1, 2])\n",
    "# 转换为变量类型\n",
    "vt = tf.Variable(ct)\n",
    "vt\n",
    "vt.name, vt.trainable\n",
    "v = tf.Variable(1.)\n",
    "v.assign(2.)\n",
    "v.assign_add(0.5)"
   ]
  },
  {
   "cell_type": "code",
   "execution_count": 4,
   "id": "44d82e36-2e80-4b21-9501-411f1e23c60a",
   "metadata": {},
   "outputs": [
    {
     "data": {
      "text/plain": [
       "tensorflow.python.framework.ops.EagerTensor"
      ]
     },
     "execution_count": 4,
     "metadata": {},
     "output_type": "execute_result"
    },
    {
     "data": {
      "text/plain": [
       "True"
      ]
     },
     "execution_count": 4,
     "metadata": {},
     "output_type": "execute_result"
    }
   ],
   "source": [
    "# 获取张量的类型\n",
    "t = tf.constant(3.1)\n",
    "type(t)\n",
    "tf.is_tensor(t)"
   ]
  },
  {
   "cell_type": "code",
   "execution_count": 6,
   "id": "c480b63d-c8d4-4e3f-a7de-ed41a474a45f",
   "metadata": {},
   "outputs": [
    {
     "data": {
      "text/plain": [
       "numpy.float32"
      ]
     },
     "execution_count": 6,
     "metadata": {},
     "output_type": "execute_result"
    }
   ],
   "source": [
    "type(t.numpy())"
   ]
  },
  {
   "cell_type": "code",
   "execution_count": 7,
   "id": "3c334879-e787-4157-bc99-02652805fa2d",
   "metadata": {},
   "outputs": [
    {
     "data": {
      "text/plain": [
       "tensorflow.python.framework.ops.EagerTensor"
      ]
     },
     "execution_count": 7,
     "metadata": {},
     "output_type": "execute_result"
    },
    {
     "data": {
      "text/plain": [
       "array([[1, 2],\n",
       "       [3, 4]])"
      ]
     },
     "execution_count": 7,
     "metadata": {},
     "output_type": "execute_result"
    },
    {
     "data": {
      "text/plain": [
       "numpy.ndarray"
      ]
     },
     "execution_count": 7,
     "metadata": {},
     "output_type": "execute_result"
    }
   ],
   "source": [
    "t =  tf.constant([[1,2], [3, 4]])\n",
    "type(t)\n",
    "t.numpy()\n",
    "type(t.numpy())"
   ]
  },
  {
   "cell_type": "code",
   "execution_count": 16,
   "id": "170428e0-392a-4d3e-91c3-d2af8046ce92",
   "metadata": {},
   "outputs": [
    {
     "data": {
      "text/plain": [
       "3.141592653589793"
      ]
     },
     "execution_count": 16,
     "metadata": {},
     "output_type": "execute_result"
    },
    {
     "data": {
      "text/plain": [
       "<tf.Tensor: shape=(), dtype=float32, numpy=3.1415927>"
      ]
     },
     "execution_count": 16,
     "metadata": {},
     "output_type": "execute_result"
    },
    {
     "data": {
      "text/plain": [
       "<tf.Tensor: shape=(), dtype=float64, numpy=3.141592653589793>"
      ]
     },
     "execution_count": 16,
     "metadata": {},
     "output_type": "execute_result"
    },
    {
     "ename": "NameError",
     "evalue": "name 'dtypes' is not defined",
     "output_type": "error",
     "traceback": [
      "\u001b[1;31m---------------------------------------------------------------------------\u001b[0m",
      "\u001b[1;31mNameError\u001b[0m                                 Traceback (most recent call last)",
      "Input \u001b[1;32mIn [16]\u001b[0m, in \u001b[0;36m<cell line: 9>\u001b[1;34m()\u001b[0m\n\u001b[0;32m      7\u001b[0m t_pi_float64\n\u001b[0;32m      8\u001b[0m \u001b[38;5;66;03m# t_pi_float64.numpy().dtypes\u001b[39;00m\n\u001b[1;32m----> 9\u001b[0m \u001b[43mdtypes\u001b[49m(t_pi_float64)\n",
      "\u001b[1;31mNameError\u001b[0m: name 'dtypes' is not defined"
     ]
    }
   ],
   "source": [
    "import numpy as np\n",
    "np.pi\n",
    "# 默认会转换为 tf.float32 \n",
    "t_pi_float32 = tf.constant(np.pi, dtype=tf.float32)\n",
    "t_pi_float32\n",
    "t_pi_float64 = tf.constant(np.pi, dtype=tf.float64)\n",
    "t_pi_float64\n",
    "# t_pi_float64.numpy().dtypes\n",
    "# dtypes(t_pi_float64)"
   ]
  },
  {
   "cell_type": "code",
   "execution_count": 20,
   "id": "a1dbf9d7-57aa-403f-b5b9-3cfa97ca3a0c",
   "metadata": {},
   "outputs": [
    {
     "data": {
      "text/plain": [
       "<tf.Tensor: shape=(), dtype=int32, numpy=123456789>"
      ]
     },
     "execution_count": 20,
     "metadata": {},
     "output_type": "execute_result"
    },
    {
     "data": {
      "text/plain": [
       "tensorflow.python.framework.ops.EagerTensor"
      ]
     },
     "execution_count": 20,
     "metadata": {},
     "output_type": "execute_result"
    },
    {
     "data": {
      "text/plain": [
       "tf.int32"
      ]
     },
     "execution_count": 20,
     "metadata": {},
     "output_type": "execute_result"
    },
    {
     "data": {
      "text/plain": [
       "<tf.Tensor: shape=(), dtype=int16, numpy=-13035>"
      ]
     },
     "execution_count": 20,
     "metadata": {},
     "output_type": "execute_result"
    }
   ],
   "source": [
    "# 上溢\n",
    "c = tf.constant(123456789, dtype=tf.int32)\n",
    "c\n",
    "type(c)\n",
    "c.dtype\n",
    "d = tf.cast(c, tf.int16)\n",
    "d"
   ]
  },
  {
   "cell_type": "code",
   "execution_count": 22,
   "id": "66a0d743-8774-4e55-8a9e-de49778173db",
   "metadata": {},
   "outputs": [
    {
     "data": {
      "text/plain": [
       "<tf.Tensor: shape=(2,), dtype=int32, numpy=array([1, 0])>"
      ]
     },
     "execution_count": 22,
     "metadata": {},
     "output_type": "execute_result"
    },
    {
     "data": {
      "text/plain": [
       "<tf.Tensor: shape=(4,), dtype=bool, numpy=array([ True, False,  True,  True])>"
      ]
     },
     "execution_count": 22,
     "metadata": {},
     "output_type": "execute_result"
    }
   ],
   "source": [
    "b = tf.constant([True, False])\n",
    "tf.cast(b, tf.int32)\n",
    "v = tf.constant([-1, 0, 1, 2.0])\n",
    "tf.cast(v, tf.bool)"
   ]
  },
  {
   "cell_type": "code",
   "execution_count": 23,
   "id": "714c4a55-7830-49b2-aa53-9d4faf6e40d7",
   "metadata": {},
   "outputs": [
    {
     "data": {
      "text/plain": [
       "2"
      ]
     },
     "execution_count": 23,
     "metadata": {},
     "output_type": "execute_result"
    },
    {
     "data": {
      "text/plain": [
       "TensorShape([3, 2])"
      ]
     },
     "execution_count": 23,
     "metadata": {},
     "output_type": "execute_result"
    },
    {
     "data": {
      "text/plain": [
       "tf.int32"
      ]
     },
     "execution_count": 23,
     "metadata": {},
     "output_type": "execute_result"
    }
   ],
   "source": [
    "x = tf.constant([[1, 2], [3, 4], [5, 6]])\n",
    "x.ndim\n",
    "x.shape\n",
    "x.dtype"
   ]
  },
  {
   "cell_type": "code",
   "execution_count": 24,
   "id": "ea63c894-db42-410e-8734-bf1cfa0c32cd",
   "metadata": {},
   "outputs": [
    {
     "data": {
      "text/plain": [
       "<tf.Tensor: shape=(), dtype=int32, numpy=6>"
      ]
     },
     "execution_count": 24,
     "metadata": {},
     "output_type": "execute_result"
    }
   ],
   "source": [
    "tf.size(x)"
   ]
  },
  {
   "cell_type": "code",
   "execution_count": 25,
   "id": "6c0b0d1c-e6d1-4f18-acdb-bb563c816f1a",
   "metadata": {},
   "outputs": [
    {
     "data": {
      "text/plain": [
       "<tf.Tensor: shape=(), dtype=int32, numpy=2>"
      ]
     },
     "execution_count": 25,
     "metadata": {},
     "output_type": "execute_result"
    }
   ],
   "source": [
    "tf.rank(x)"
   ]
  },
  {
   "cell_type": "code",
   "execution_count": 26,
   "id": "5f42aee0-cd39-41c8-9bac-c9125dc0ed8b",
   "metadata": {},
   "outputs": [
    {
     "data": {
      "text/plain": [
       "<tf.Tensor: shape=(3, 2), dtype=int32, numpy=\n",
       "array([[5, 6],\n",
       "       [1, 2],\n",
       "       [3, 4]])>"
      ]
     },
     "execution_count": 26,
     "metadata": {},
     "output_type": "execute_result"
    }
   ],
   "source": [
    "tf.random.shuffle(x)"
   ]
  },
  {
   "cell_type": "code",
   "execution_count": 27,
   "id": "3dacefbe-d797-4666-bffe-c16985d3d077",
   "metadata": {},
   "outputs": [
    {
     "data": {
      "text/plain": [
       "<tf.Tensor: shape=(4,), dtype=float32, numpy=array([ 1.,  2., -1.,  0.], dtype=float32)>"
      ]
     },
     "execution_count": 27,
     "metadata": {},
     "output_type": "execute_result"
    }
   ],
   "source": [
    "tf.random.shuffle(v)"
   ]
  },
  {
   "cell_type": "code",
   "execution_count": 28,
   "id": "7a7909b8-0677-4ab2-b9bf-a193de7cf008",
   "metadata": {
    "scrolled": true,
    "tags": []
   },
   "outputs": [
    {
     "data": {
      "text/plain": [
       "<tf.Tensor: shape=(28, 28, 3), dtype=int32, numpy=\n",
       "array([[[ 69, 233, 142],\n",
       "        [156, 114, 107],\n",
       "        [181, 185,  87],\n",
       "        ...,\n",
       "        [ 62,  58, 135],\n",
       "        [115,  66, 230],\n",
       "        [170,  13,  64]],\n",
       "\n",
       "       [[135, 109,   2],\n",
       "        [ 35, 122,  55],\n",
       "        [167, 228, 109],\n",
       "        ...,\n",
       "        [200, 185,  98],\n",
       "        [ 36,  40, 158],\n",
       "        [167,  35, 207]],\n",
       "\n",
       "       [[209, 107,  63],\n",
       "        [233, 165, 131],\n",
       "        [215,  83, 183],\n",
       "        ...,\n",
       "        [ 52, 100, 160],\n",
       "        [215,  55,  12],\n",
       "        [  2, 172, 118]],\n",
       "\n",
       "       ...,\n",
       "\n",
       "       [[148,  33, 181],\n",
       "        [  2, 146, 136],\n",
       "        [ 43, 237, 147],\n",
       "        ...,\n",
       "        [115, 202,  90],\n",
       "        [ 14,  50,   7],\n",
       "        [221,  36,  39]],\n",
       "\n",
       "       [[204,  43, 218],\n",
       "        [ 76, 244,  94],\n",
       "        [197, 198, 211],\n",
       "        ...,\n",
       "        [228, 143,  52],\n",
       "        [145, 224, 156],\n",
       "        [ 24, 235,  24]],\n",
       "\n",
       "       [[229, 141, 151],\n",
       "        [ 41, 174, 182],\n",
       "        [183,  34, 237],\n",
       "        ...,\n",
       "        [ 99,  25,  30],\n",
       "        [ 89, 194,  96],\n",
       "        [217,  88,  63]]])>"
      ]
     },
     "execution_count": 28,
     "metadata": {},
     "output_type": "execute_result"
    },
    {
     "data": {
      "text/plain": [
       "<tf.Tensor: shape=(10, 28, 28, 3), dtype=int32, numpy=\n",
       "array([[[[  4, 156,  79],\n",
       "         [ 73, 190,  26],\n",
       "         [178,  82,  56],\n",
       "         ...,\n",
       "         [ 92, 175,  81],\n",
       "         [174,   4, 196],\n",
       "         [143,  93,  73]],\n",
       "\n",
       "        [[ 64, 207, 130],\n",
       "         [177,  39,  37],\n",
       "         [186, 186, 148],\n",
       "         ...,\n",
       "         [244,  92, 192],\n",
       "         [149, 119, 149],\n",
       "         [ 28,  91,  69]],\n",
       "\n",
       "        [[ 10, 231, 155],\n",
       "         [189, 132, 116],\n",
       "         [203, 186,  44],\n",
       "         ...,\n",
       "         [153, 156, 234],\n",
       "         [ 35, 214,  56],\n",
       "         [105, 120, 247]],\n",
       "\n",
       "        ...,\n",
       "\n",
       "        [[211,  78, 149],\n",
       "         [228,   4, 161],\n",
       "         [186, 148, 228],\n",
       "         ...,\n",
       "         [172, 153,  90],\n",
       "         [ 30,  30,  85],\n",
       "         [ 30, 116, 225]],\n",
       "\n",
       "        [[ 65,  71,  52],\n",
       "         [221, 143, 143],\n",
       "         [160, 178, 144],\n",
       "         ...,\n",
       "         [168, 165, 161],\n",
       "         [156,  97,  95],\n",
       "         [ 22, 197, 116]],\n",
       "\n",
       "        [[ 93, 132, 153],\n",
       "         [199, 130,  95],\n",
       "         [104, 155,  42],\n",
       "         ...,\n",
       "         [ 68,  57, 238],\n",
       "         [233,  20, 167],\n",
       "         [165, 225, 160]]],\n",
       "\n",
       "\n",
       "       [[[193, 171, 199],\n",
       "         [ 22,  46,  79],\n",
       "         [189, 141,  65],\n",
       "         ...,\n",
       "         [109, 163, 161],\n",
       "         [238,  84,  67],\n",
       "         [ 20,  28, 109]],\n",
       "\n",
       "        [[232, 213,  81],\n",
       "         [195,   1, 239],\n",
       "         [246, 199, 151],\n",
       "         ...,\n",
       "         [115, 245, 150],\n",
       "         [ 84, 232,  56],\n",
       "         [217, 108, 236]],\n",
       "\n",
       "        [[162,  29,  82],\n",
       "         [134, 128,  44],\n",
       "         [134, 111,  30],\n",
       "         ...,\n",
       "         [192,  97,  83],\n",
       "         [  0, 202,  26],\n",
       "         [144,  31,  10]],\n",
       "\n",
       "        ...,\n",
       "\n",
       "        [[ 16, 212, 171],\n",
       "         [ 56,  63, 184],\n",
       "         [ 27,  11,  20],\n",
       "         ...,\n",
       "         [128,  60, 199],\n",
       "         [147,  56, 195],\n",
       "         [117,  69, 217]],\n",
       "\n",
       "        [[ 35, 239, 225],\n",
       "         [ 53,  10,  84],\n",
       "         [154, 149, 110],\n",
       "         ...,\n",
       "         [177, 162, 138],\n",
       "         [191, 107,  73],\n",
       "         [232, 144,  73]],\n",
       "\n",
       "        [[  1, 135, 217],\n",
       "         [ 98, 165,  57],\n",
       "         [  2,  12, 186],\n",
       "         ...,\n",
       "         [ 72, 189,  24],\n",
       "         [ 58,  98,  92],\n",
       "         [ 47,  22,  88]]],\n",
       "\n",
       "\n",
       "       [[[188, 166,  74],\n",
       "         [109, 132,  92],\n",
       "         [197, 239, 125],\n",
       "         ...,\n",
       "         [  5, 129, 235],\n",
       "         [189, 142,   2],\n",
       "         [171,  65,  90]],\n",
       "\n",
       "        [[183, 112,  49],\n",
       "         [228,  28, 229],\n",
       "         [183, 155, 145],\n",
       "         ...,\n",
       "         [237,  92, 181],\n",
       "         [179, 168, 121],\n",
       "         [ 63, 166,  94]],\n",
       "\n",
       "        [[173, 128,   1],\n",
       "         [ 10, 241, 193],\n",
       "         [ 53, 185, 205],\n",
       "         ...,\n",
       "         [240,  97, 101],\n",
       "         [ 94, 220,  76],\n",
       "         [178,  83,  79]],\n",
       "\n",
       "        ...,\n",
       "\n",
       "        [[ 33,  24,  37],\n",
       "         [146, 151,  90],\n",
       "         [152, 183, 218],\n",
       "         ...,\n",
       "         [ 46, 180, 177],\n",
       "         [237,  45, 227],\n",
       "         [129,  44,  25]],\n",
       "\n",
       "        [[132, 114, 202],\n",
       "         [ 81, 170, 150],\n",
       "         [172,  47,  49],\n",
       "         ...,\n",
       "         [ 21,  76,  88],\n",
       "         [243,  28, 174],\n",
       "         [ 12, 102,  19]],\n",
       "\n",
       "        [[186,  41, 156],\n",
       "         [124, 185,  80],\n",
       "         [  2,  64, 216],\n",
       "         ...,\n",
       "         [ 81, 199, 102],\n",
       "         [ 95, 135, 251],\n",
       "         [135, 155, 135]]],\n",
       "\n",
       "\n",
       "       ...,\n",
       "\n",
       "\n",
       "       [[[236,  96, 233],\n",
       "         [ 73, 167, 114],\n",
       "         [ 99, 178,  81],\n",
       "         ...,\n",
       "         [ 34,  69,  76],\n",
       "         [110,  79, 212],\n",
       "         [ 35, 209, 121]],\n",
       "\n",
       "        [[ 73,  50,   7],\n",
       "         [ 41, 231, 176],\n",
       "         [133,  52, 167],\n",
       "         ...,\n",
       "         [226, 126, 185],\n",
       "         [252,  49, 238],\n",
       "         [  7,  19,  10]],\n",
       "\n",
       "        [[154,  21,  35],\n",
       "         [204, 174, 145],\n",
       "         [ 69,  74, 202],\n",
       "         ...,\n",
       "         [207,  56,  97],\n",
       "         [109,  72,  75],\n",
       "         [168,  79, 124]],\n",
       "\n",
       "        ...,\n",
       "\n",
       "        [[171, 160,  20],\n",
       "         [ 42, 253, 184],\n",
       "         [179,  40,  21],\n",
       "         ...,\n",
       "         [185,  62, 162],\n",
       "         [167, 178,   8],\n",
       "         [ 33,  30,  64]],\n",
       "\n",
       "        [[  5,  46, 220],\n",
       "         [119, 179,  73],\n",
       "         [ 40, 131,  74],\n",
       "         ...,\n",
       "         [229, 108,   9],\n",
       "         [170, 106,  10],\n",
       "         [205, 245,  32]],\n",
       "\n",
       "        [[160,  56,  52],\n",
       "         [ 63, 156, 171],\n",
       "         [  4,  58,  39],\n",
       "         ...,\n",
       "         [190,  10, 143],\n",
       "         [195, 152, 172],\n",
       "         [ 40, 112,  78]]],\n",
       "\n",
       "\n",
       "       [[[243, 186,  25],\n",
       "         [209,  75,  80],\n",
       "         [151,  10,  11],\n",
       "         ...,\n",
       "         [161,  11, 164],\n",
       "         [100,  79, 123],\n",
       "         [183,   7,  50]],\n",
       "\n",
       "        [[170,  82, 147],\n",
       "         [211, 238,  17],\n",
       "         [ 54, 132,  81],\n",
       "         ...,\n",
       "         [138, 211, 209],\n",
       "         [141, 194,  13],\n",
       "         [165,  53, 217]],\n",
       "\n",
       "        [[ 48, 123,  27],\n",
       "         [ 86,  70, 202],\n",
       "         [188, 120,  41],\n",
       "         ...,\n",
       "         [ 65,  90, 231],\n",
       "         [228,  50, 113],\n",
       "         [177, 133,   4]],\n",
       "\n",
       "        ...,\n",
       "\n",
       "        [[165, 244, 163],\n",
       "         [154,  97, 144],\n",
       "         [160, 245, 194],\n",
       "         ...,\n",
       "         [246, 214, 158],\n",
       "         [ 62, 121,  39],\n",
       "         [243,   9, 143]],\n",
       "\n",
       "        [[ 11, 138, 223],\n",
       "         [139,  24,  46],\n",
       "         [209, 210,  62],\n",
       "         ...,\n",
       "         [176, 127,  96],\n",
       "         [171,  66,  88],\n",
       "         [214, 188,  89]],\n",
       "\n",
       "        [[ 54, 114, 190],\n",
       "         [131, 230, 193],\n",
       "         [118, 216, 152],\n",
       "         ...,\n",
       "         [  2,  42, 175],\n",
       "         [ 33, 143,  49],\n",
       "         [254,   4,  69]]],\n",
       "\n",
       "\n",
       "       [[[137,  53,   3],\n",
       "         [119,  36, 186],\n",
       "         [110, 213,  73],\n",
       "         ...,\n",
       "         [114,  80, 134],\n",
       "         [167, 157, 119],\n",
       "         [184, 185,  10]],\n",
       "\n",
       "        [[116, 196,  93],\n",
       "         [121, 114,  81],\n",
       "         [246, 165,  78],\n",
       "         ...,\n",
       "         [ 66,  75,  15],\n",
       "         [ 38,  93, 219],\n",
       "         [102,  87, 220]],\n",
       "\n",
       "        [[ 85, 134, 119],\n",
       "         [225, 227, 110],\n",
       "         [158, 178,  85],\n",
       "         ...,\n",
       "         [248, 212, 177],\n",
       "         [114, 111, 128],\n",
       "         [105, 109,  77]],\n",
       "\n",
       "        ...,\n",
       "\n",
       "        [[248,  98,  44],\n",
       "         [159, 122,  83],\n",
       "         [214, 108, 228],\n",
       "         ...,\n",
       "         [176, 239,  86],\n",
       "         [153, 177, 219],\n",
       "         [ 72,  40, 224]],\n",
       "\n",
       "        [[ 67,  88,  57],\n",
       "         [ 63, 219,  29],\n",
       "         [203, 221,  26],\n",
       "         ...,\n",
       "         [ 88, 150, 227],\n",
       "         [ 82,  38, 130],\n",
       "         [ 10, 219,  36]],\n",
       "\n",
       "        [[ 53, 199, 144],\n",
       "         [  0, 198, 143],\n",
       "         [136, 206, 180],\n",
       "         ...,\n",
       "         [188, 215,  69],\n",
       "         [192,  70, 185],\n",
       "         [ 32,   7, 111]]]])>"
      ]
     },
     "execution_count": 28,
     "metadata": {},
     "output_type": "execute_result"
    }
   ],
   "source": [
    "image_rgb = tf.random.uniform([28, 28, 3], maxval=255, dtype=tf.int32)\n",
    "image_rgb\n",
    "image_rgbs = tf.random.uniform([10, 28, 28, 3], maxval=255, dtype=tf.int32)\n",
    "image_rgbs"
   ]
  },
  {
   "cell_type": "code",
   "execution_count": 36,
   "id": "90175ffb-4f1b-49a9-9dd9-6a2eae116291",
   "metadata": {},
   "outputs": [
    {
     "data": {
      "text/plain": [
       "<tf.Tensor: shape=(24,), dtype=int32, numpy=\n",
       "array([ 0,  1,  2,  3,  4,  5,  6,  7,  8,  9, 10, 11, 12, 13, 14, 15, 16,\n",
       "       17, 18, 19, 20, 21, 22, 23])>"
      ]
     },
     "execution_count": 36,
     "metadata": {},
     "output_type": "execute_result"
    },
    {
     "data": {
      "text/plain": [
       "<tf.Tensor: shape=(2, 3, 4), dtype=int32, numpy=\n",
       "array([[[ 0,  1,  2,  3],\n",
       "        [ 4,  5,  6,  7],\n",
       "        [ 8,  9, 10, 11]],\n",
       "\n",
       "       [[12, 13, 14, 15],\n",
       "        [16, 17, 18, 19],\n",
       "        [20, 21, 22, 23]]])>"
      ]
     },
     "execution_count": 36,
     "metadata": {},
     "output_type": "execute_result"
    },
    {
     "data": {
      "text/plain": [
       "<tf.Tensor: shape=(3, 2, 4), dtype=int32, numpy=\n",
       "array([[[ 0,  1,  2,  3],\n",
       "        [ 4,  5,  6,  7]],\n",
       "\n",
       "       [[ 8,  9, 10, 11],\n",
       "        [12, 13, 14, 15]],\n",
       "\n",
       "       [[16, 17, 18, 19],\n",
       "        [20, 21, 22, 23]]])>"
      ]
     },
     "execution_count": 36,
     "metadata": {},
     "output_type": "execute_result"
    },
    {
     "data": {
      "text/plain": [
       "<tf.Tensor: shape=(4, 6), dtype=int32, numpy=\n",
       "array([[ 0,  1,  2,  3,  4,  5],\n",
       "       [ 6,  7,  8,  9, 10, 11],\n",
       "       [12, 13, 14, 15, 16, 17],\n",
       "       [18, 19, 20, 21, 22, 23]])>"
      ]
     },
     "execution_count": 36,
     "metadata": {},
     "output_type": "execute_result"
    },
    {
     "data": {
      "text/plain": [
       "<tf.Tensor: shape=(2, 3, 4), dtype=int32, numpy=\n",
       "array([[[ 0,  1,  2,  3],\n",
       "        [ 4,  5,  6,  7],\n",
       "        [ 8,  9, 10, 11]],\n",
       "\n",
       "       [[12, 13, 14, 15],\n",
       "        [16, 17, 18, 19],\n",
       "        [20, 21, 22, 23]]])>"
      ]
     },
     "execution_count": 36,
     "metadata": {},
     "output_type": "execute_result"
    }
   ],
   "source": [
    "a = tf.range(24)\n",
    "a\n",
    "b = tf.reshape(a, [2, 3, 4])\n",
    "b\n",
    "c = tf.reshape(a, [3, 2, 4])\n",
    "c\n",
    "d = tf.reshape(a, (4, 6))\n",
    "d\n",
    "e = tf.reshape(a, (2, -1, 4))\n",
    "e"
   ]
  },
  {
   "cell_type": "code",
   "execution_count": 42,
   "id": "329a2df3-74c8-4fc6-a594-2fd9968eb463",
   "metadata": {},
   "outputs": [
    {
     "data": {
      "text/plain": [
       "(1,\n",
       " TensorShape([3]),\n",
       " <bound method _EagerTensorBase.numpy of <tf.Tensor: shape=(3,), dtype=int32, numpy=array([1, 2, 3])>>)"
      ]
     },
     "execution_count": 42,
     "metadata": {},
     "output_type": "execute_result"
    },
    {
     "data": {
      "text/plain": [
       "(2, TensorShape([1, 3]), array([[1, 2, 3]]))"
      ]
     },
     "execution_count": 42,
     "metadata": {},
     "output_type": "execute_result"
    },
    {
     "data": {
      "text/plain": [
       "(2,\n",
       " TensorShape([3, 1]),\n",
       " array([[1],\n",
       "        [2],\n",
       "        [3]]))"
      ]
     },
     "execution_count": 42,
     "metadata": {},
     "output_type": "execute_result"
    }
   ],
   "source": [
    "t = tf.constant([1, 2, 3])\n",
    "t.ndim, t.shape, t.numpy\n",
    "t2 = tf.expand_dims(t, 0)\n",
    "t2.ndim, t2.shape, t2.numpy()\n",
    "t1 = tf.expand_dims(t, 1)\n",
    "t1.ndim, t1.shape, t1.numpy()"
   ]
  },
  {
   "cell_type": "code",
   "execution_count": 43,
   "id": "f9bb60b7-04e2-4902-8efd-2f06b350767a",
   "metadata": {},
   "outputs": [
    {
     "data": {
      "text/plain": [
       "(3,\n",
       " TensorShape([2, 3, 4]),\n",
       " array([[[ 0,  1,  2,  3],\n",
       "         [ 4,  5,  6,  7],\n",
       "         [ 8,  9, 10, 11]],\n",
       " \n",
       "        [[12, 13, 14, 15],\n",
       "         [16, 17, 18, 19],\n",
       "         [20, 21, 22, 23]]]))"
      ]
     },
     "execution_count": 43,
     "metadata": {},
     "output_type": "execute_result"
    },
    {
     "data": {
      "text/plain": [
       "('b0: ',\n",
       " 4,\n",
       " TensorShape([1, 2, 3, 4]),\n",
       " array([[[[ 0,  1,  2,  3],\n",
       "          [ 4,  5,  6,  7],\n",
       "          [ 8,  9, 10, 11]],\n",
       " \n",
       "         [[12, 13, 14, 15],\n",
       "          [16, 17, 18, 19],\n",
       "          [20, 21, 22, 23]]]]))"
      ]
     },
     "execution_count": 43,
     "metadata": {},
     "output_type": "execute_result"
    },
    {
     "data": {
      "text/plain": [
       "('b1: ',\n",
       " 4,\n",
       " TensorShape([2, 1, 3, 4]),\n",
       " array([[[[ 0,  1,  2,  3],\n",
       "          [ 4,  5,  6,  7],\n",
       "          [ 8,  9, 10, 11]]],\n",
       " \n",
       " \n",
       "        [[[12, 13, 14, 15],\n",
       "          [16, 17, 18, 19],\n",
       "          [20, 21, 22, 23]]]]))"
      ]
     },
     "execution_count": 43,
     "metadata": {},
     "output_type": "execute_result"
    },
    {
     "data": {
      "text/plain": [
       "('b2: ',\n",
       " 4,\n",
       " TensorShape([2, 3, 1, 4]),\n",
       " array([[[[ 0,  1,  2,  3]],\n",
       " \n",
       "         [[ 4,  5,  6,  7]],\n",
       " \n",
       "         [[ 8,  9, 10, 11]]],\n",
       " \n",
       " \n",
       "        [[[12, 13, 14, 15]],\n",
       " \n",
       "         [[16, 17, 18, 19]],\n",
       " \n",
       "         [[20, 21, 22, 23]]]]))"
      ]
     },
     "execution_count": 43,
     "metadata": {},
     "output_type": "execute_result"
    },
    {
     "data": {
      "text/plain": [
       "('b3: ',\n",
       " 4,\n",
       " TensorShape([2, 3, 4, 1]),\n",
       " array([[[[ 0],\n",
       "          [ 1],\n",
       "          [ 2],\n",
       "          [ 3]],\n",
       " \n",
       "         [[ 4],\n",
       "          [ 5],\n",
       "          [ 6],\n",
       "          [ 7]],\n",
       " \n",
       "         [[ 8],\n",
       "          [ 9],\n",
       "          [10],\n",
       "          [11]]],\n",
       " \n",
       " \n",
       "        [[[12],\n",
       "          [13],\n",
       "          [14],\n",
       "          [15]],\n",
       " \n",
       "         [[16],\n",
       "          [17],\n",
       "          [18],\n",
       "          [19]],\n",
       " \n",
       "         [[20],\n",
       "          [21],\n",
       "          [22],\n",
       "          [23]]]]))"
      ]
     },
     "execution_count": 43,
     "metadata": {},
     "output_type": "execute_result"
    }
   ],
   "source": [
    "a = tf.range(24)\n",
    "b = tf.reshape(a, [2, 3, 4])\n",
    "b.ndim, b.shape, b.numpy()\n",
    "b0 = tf.expand_dims(b, 0)\n",
    "\"b0: \", b0.ndim, b0.shape, b0.numpy()\n",
    "b1 = tf.expand_dims(b, 1)\n",
    "\"b1: \", b1.ndim, b1.shape, b1.numpy()\n",
    "b2 = tf.expand_dims(b, 2)\n",
    "\"b2: \", b2.ndim, b2.shape, b2.numpy()\n",
    "b3 = tf.expand_dims(b, 3)\n",
    "\"b3: \", b3.ndim, b3.shape, b3.numpy()"
   ]
  },
  {
   "cell_type": "code",
   "execution_count": 46,
   "id": "1ebdfc12-7032-4e9b-ba1d-ee62cc9d048c",
   "metadata": {},
   "outputs": [
    {
     "data": {
      "text/plain": [
       "('b3: ',\n",
       " 4,\n",
       " TensorShape([2, 3, 4, 1]),\n",
       " array([[[[ 0],\n",
       "          [ 1],\n",
       "          [ 2],\n",
       "          [ 3]],\n",
       " \n",
       "         [[ 4],\n",
       "          [ 5],\n",
       "          [ 6],\n",
       "          [ 7]],\n",
       " \n",
       "         [[ 8],\n",
       "          [ 9],\n",
       "          [10],\n",
       "          [11]]],\n",
       " \n",
       " \n",
       "        [[[12],\n",
       "          [13],\n",
       "          [14],\n",
       "          [15]],\n",
       " \n",
       "         [[16],\n",
       "          [17],\n",
       "          [18],\n",
       "          [19]],\n",
       " \n",
       "         [[20],\n",
       "          [21],\n",
       "          [22],\n",
       "          [23]]]]))"
      ]
     },
     "execution_count": 46,
     "metadata": {},
     "output_type": "execute_result"
    },
    {
     "data": {
      "text/plain": [
       "('b31: ',\n",
       " 3,\n",
       " TensorShape([2, 3, 4]),\n",
       " array([[[ 0,  1,  2,  3],\n",
       "         [ 4,  5,  6,  7],\n",
       "         [ 8,  9, 10, 11]],\n",
       " \n",
       "        [[12, 13, 14, 15],\n",
       "         [16, 17, 18, 19],\n",
       "         [20, 21, 22, 23]]]))"
      ]
     },
     "execution_count": 46,
     "metadata": {},
     "output_type": "execute_result"
    }
   ],
   "source": [
    "\"b3: \", b3.ndim, b3.shape, b3.numpy()\n",
    "# b31 = tf.squeeze(b3, 1)\n",
    "b31 = tf.squeeze(b3)\n",
    "\"b31: \", b31.ndim, b31.shape, b31.numpy()"
   ]
  },
  {
   "cell_type": "code",
   "execution_count": 53,
   "id": "bac9a191-3909-4efe-8205-9a6ad4f7e085",
   "metadata": {},
   "outputs": [
    {
     "data": {
      "text/plain": [
       "(3, TensorShape([28, 28, 1]))"
      ]
     },
     "execution_count": 53,
     "metadata": {},
     "output_type": "execute_result"
    },
    {
     "data": {
      "text/plain": [
       "(3, TensorShape([28, 28, 1]))"
      ]
     },
     "execution_count": 53,
     "metadata": {},
     "output_type": "execute_result"
    },
    {
     "data": {
      "text/plain": [
       "(3, TensorShape([28, 28, 1]))"
      ]
     },
     "execution_count": 53,
     "metadata": {},
     "output_type": "execute_result"
    },
    {
     "data": {
      "text/plain": [
       "TensorShape([1, 28, 28, 3])"
      ]
     },
     "execution_count": 53,
     "metadata": {},
     "output_type": "execute_result"
    },
    {
     "data": {
      "text/plain": [
       "(3, TensorShape([28, 28, 3]))"
      ]
     },
     "execution_count": 53,
     "metadata": {},
     "output_type": "execute_result"
    }
   ],
   "source": [
    "image = tf.random.uniform([28, 28], maxval=255, dtype=tf.int32)\n",
    "image_red_channel = tf.expand_dims(image, axis=2)\n",
    "image_red_channel.ndim, image_red_channel.shape\n",
    "image_green_channel = tf.expand_dims(image, axis=2)\n",
    "image_green_channel.ndim, image_green_channel.shape\n",
    "image_blue_channel = tf.expand_dims(image, axis=2)\n",
    "image_blue_channel.ndim, image_blue_channel.shape\n",
    "image_rgb = tf.concat([image_red_channel, image_green_channel, image_blue_channel], axis = 2)\n",
    "# 将image_rgb一张图片放入样本集中？\n",
    "image_rgb_set = tf.expand_dims(image_rgb, 0)\n",
    "image_rgb_set.shape\n",
    "image_rgb.ndim, image_rgb.shape\n",
    "image_red, image_green, image_blue = tf.split(image_rgb, 3, axis=2)"
   ]
  },
  {
   "cell_type": "code",
   "execution_count": 56,
   "id": "1cd35e77-e8c6-4410-9c4e-b4c96cdf5cd3",
   "metadata": {},
   "outputs": [
    {
     "data": {
      "text/plain": [
       "(2,\n",
       " TensorShape([2, 3]),\n",
       " array([[1, 2, 3],\n",
       "        [4, 5, 6]]))"
      ]
     },
     "execution_count": 56,
     "metadata": {},
     "output_type": "execute_result"
    },
    {
     "data": {
      "text/plain": [
       "(2,\n",
       " TensorShape([3, 2]),\n",
       " array([[1, 4],\n",
       "        [2, 5],\n",
       "        [3, 6]]))"
      ]
     },
     "execution_count": 56,
     "metadata": {},
     "output_type": "execute_result"
    }
   ],
   "source": [
    "x = tf.constant([1, 2, 3])\n",
    "y = tf.constant([4, 5, 6])\n",
    "z1 = tf.stack((x, y), axis=0)\n",
    "z1.ndim, z1.shape, z1.numpy()\n",
    "z2 = tf.stack((x, y), axis=1)\n",
    "z2.ndim, z2.shape, z2.numpy()"
   ]
  },
  {
   "cell_type": "code",
   "execution_count": null,
   "id": "1fef30e3-787b-4247-b0dc-fd20f24228ad",
   "metadata": {},
   "outputs": [],
   "source": []
  }
 ],
 "metadata": {
  "kernelspec": {
   "display_name": "Python 3 (ipykernel)",
   "language": "python",
   "name": "python3"
  },
  "language_info": {
   "codemirror_mode": {
    "name": "ipython",
    "version": 3
   },
   "file_extension": ".py",
   "mimetype": "text/x-python",
   "name": "python",
   "nbconvert_exporter": "python",
   "pygments_lexer": "ipython3",
   "version": "3.8.10"
  }
 },
 "nbformat": 4,
 "nbformat_minor": 5
}
