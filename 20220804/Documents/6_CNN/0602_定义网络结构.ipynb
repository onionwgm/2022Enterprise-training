{
 "cells": [
  {
   "cell_type": "markdown",
   "metadata": {},
   "source": [
    "## **演练0602：定义网络结构**"
   ]
  },
  {
   "cell_type": "markdown",
   "metadata": {},
   "source": [
    "### **卷积层**\n",
    "* 在每个卷积后，使用一个激活函数，一般可选择ReLU\n",
    "* 可以将多个卷积层(含激活函数)连接起来。其中，每个卷积层又分别包含各自的多个卷积核。\n",
    " * 下图中第一层包含6个卷积核，每个卷积核为3x5x5，在stride=1，pad=0情况下，输出6个卷积结果，每个结果为28x28。然后对卷积结果进行ReLU\n",
    " * 第二层包含10个卷积核，每个卷积核为6x5x5。注意，因为上一级卷积结果相当于\"颜色通道为6\"，因此卷积核的通道数(或厚度)必须也为6\n",
    "* 一般情况下，不应使卷积结果过快收缩！如下图，卷积结果的长和宽之比卷积之前减少4个元素。有时候，需要通过pad，使输出尺寸与卷积之前一致  \n",
    "![](../images/160201.png)  \n",
    "* 需要先正向计算每层卷积结果及ReLU，在反向传播时，需要计算每层ReLU及卷积的梯度"
   ]
  },
  {
   "cell_type": "markdown",
   "metadata": {},
   "source": [
    "### **池化层**\n",
    "* 在某个卷积层之后，使用池化层，将卷积结果尺寸变小。例如将10x24x24的卷积结果缩小为10x12x12。注意，\"厚度\"是不变的，只缩小长和宽\n",
    "* 池化的方法，是将卷积结果分成若干个小区块，对每个区块分别操作，得到一个计算结果；所有区块的计算结果合起来形成一个(变小了的)池化结果：  \n",
    "![](../images/160202.png)  \n",
    "上图中，将卷积结果划分为2x2小块依次处理；stride设为2。每个小块中取最大元素值作为池化结果。可以看到，池化结果尺寸是卷积结果的一半\n",
    "* 常见的池化方法有Max-Pooling或Mean-Pooling。前者取区块中的最大值，后者取区块中的平均值\n",
    "* 可以认为池化的主要作用是是卷积结果缩小，为下一层的输入作准备。注意：缩小矩阵大小，主要依靠池化，而不是卷积  \n",
    "![](../images/160203.png)  \n",
    "* 池化层同样需要正向计算以及反向传播的时的梯度计算。但是因为池化层无需参数权重，所以反向传播梯度只需要计算数据x的即可"
   ]
  },
  {
   "cell_type": "markdown",
   "metadata": {},
   "source": [
    "### **全连接层**\n",
    "整个卷积网络的最后，放置一个全连接神经网络层。该全连接神经网络可以包含多个隐藏层"
   ]
  },
  {
   "cell_type": "markdown",
   "metadata": {},
   "source": [
    "### **完整的卷积神经网络结构示意**\n",
    "* LeNet-5卷积神经网络结构示意图  \n",
    "![](../images/160204.png)  \n",
    "* 典型图像分类卷积神经网络结构示意图  \n",
    "![](../images/160205.png)  \n",
    "* 在图像识别领域著名的神经网络结构  \n",
    "![](../images/160206.png)"
   ]
  }
 ],
 "metadata": {
  "kernelspec": {
   "display_name": "Python 3 (ipykernel)",
   "language": "python",
   "name": "python3"
  },
  "language_info": {
   "codemirror_mode": {
    "name": "ipython",
    "version": 3
   },
   "file_extension": ".py",
   "mimetype": "text/x-python",
   "name": "python",
   "nbconvert_exporter": "python",
   "pygments_lexer": "ipython3",
   "version": "3.8.10"
  }
 },
 "nbformat": 4,
 "nbformat_minor": 4
}
