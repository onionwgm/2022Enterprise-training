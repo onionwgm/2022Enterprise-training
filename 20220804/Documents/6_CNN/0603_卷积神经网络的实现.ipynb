{
 "cells": [
  {
   "cell_type": "markdown",
   "metadata": {},
   "source": [
    "## **演练0603：卷积神经网络的实现**"
   ]
  },
  {
   "cell_type": "markdown",
   "metadata": {},
   "source": [
    "### **案例1：cnn的快速计算模块**\n",
    "* 原始的CNN算法计算速度较慢，而CNN网络规模一般较大，因此非常耗时。斯坦福大学CS231N课程提供了一个快速计算模块。包括下列文件：\n",
    " * 【fast_layers.py】：这是主要的接口文件，供CNN网络调用以执行前向计算和反向传播梯度计算\n",
    " * 【im2col.py】【im2col_cython.pyx】：底层实现\n",
    " * 【setup.py】：编译文件\n",
    "* 编译方法\n",
    " * Windows下，要安装Visual C++ 2017版本，以确保存在C++的编译器；\n",
    " * Ubuntu下：sudo apt-get install build-essentials\n",
    " * 安装好Python3及Pip3\n",
    " * 安装Cython： pip3 install Cython\n",
    " * 进入代码文件所在目录，执行：python setup.py build_ext --inplace\n",
    "   * 将会生成im2col_cython.c，并编译成本地的库\n",
    "   * 请注意，如果目录下已经存在im2col_cython.c，请先删除之，在运行setup"
   ]
  },
  {
   "cell_type": "markdown",
   "metadata": {},
   "source": [
    "### **案例2：对比fastcnn和原始cnn计算的效率**\n",
    "\n",
    "* 本例使用了【util_common_layer.py】【util_conv_layer.py】【fast_layer.py】等代码文件\n",
    "* 【util_conv_layer.py】中定义了conv_forward_naive和conv_forward_fast方法进行前向计算；conv_backward_naive和conv_backward_fast方法进行反向传播计算\n",
    "* 【util_conv_layer.py】中定义了max_pool_forward_naive和max_pool_forward_fast方法进行前向计算；max_pool_backward_naive和max_pool_backward_fast方法进行反向传播计算\n",
    "* fastcnn的速度是原始cnn实现的100倍以上"
   ]
  },
  {
   "cell_type": "markdown",
   "metadata": {},
   "source": [
    "> **步骤1：卷积层的前向和反向计算时间对比**"
   ]
  },
  {
   "cell_type": "code",
   "execution_count": 2,
   "metadata": {},
   "outputs": [
    {
     "name": "stdout",
     "output_type": "stream",
     "text": [
      "Testing conv_forward_fast:\n",
      "Naive: 3.304561s\n",
      "Fast: 0.020622s\n",
      "Speedup: 160.240644x\n",
      "Difference:  3.547960195902893e-09\n",
      "\n",
      "Testing conv_backward_fast:\n",
      "Naive: 5.001264s\n",
      "Fast: 0.009904s\n",
      "Speedup: 504.954528x\n",
      "dx difference:  2.067506142060277e-11\n",
      "dw difference:  8.384074490158895e-13\n",
      "db difference:  1.6325508882288134e-14\n"
     ]
    }
   ],
   "source": [
    "import numpy as np\n",
    "import util_common_layer\n",
    "from util_conv_layer import *\n",
    "\n",
    "def rel_error(x, y):\n",
    "  \"\"\" 计算相对误差 \"\"\"\n",
    "  return np.max(np.abs(x - y) / (np.maximum(1e-8, np.abs(x) + np.abs(y))))\n",
    "\n",
    "# 【1】对比fast_layers和naive对conv_forward和conv_backward的实现 ============<\n",
    "from fast_layers import conv_forward_fast, conv_backward_fast\n",
    "from time import time\n",
    "np.random.seed(100)\n",
    "x = np.random.randn(100, 3, 31, 31)\n",
    "w = np.random.randn(25, 3, 3, 3)\n",
    "b = np.random.randn(25,)\n",
    "dout = np.random.randn(100, 25, 16, 16)\n",
    "conv_param = {'stride': 2, 'pad': 1}\n",
    "\n",
    "t0 = time()\n",
    "out_naive, cache_naive = conv_forward_naive(x, w, b, conv_param)\n",
    "t1 = time()\n",
    "out_fast, cache_fast = conv_forward_fast(x, w, b, conv_param)\n",
    "t2 = time()\n",
    "\n",
    "print('Testing conv_forward_fast:')\n",
    "print('Naive: %fs' % (t1 - t0))\n",
    "print('Fast: %fs' % (t2 - t1))\n",
    "print('Speedup: %fx' % ((t1 - t0) / (t2 - t1)))\n",
    "print('Difference: ', rel_error(out_naive, out_fast))\n",
    "\n",
    "t0 = time()\n",
    "dx_naive, dw_naive, db_naive = conv_backward_naive(dout, cache_naive)\n",
    "t1 = time()\n",
    "dx_fast, dw_fast, db_fast = conv_backward_fast(dout, cache_fast)\n",
    "t2 = time()\n",
    "\n",
    "print('\\nTesting conv_backward_fast:')\n",
    "print('Naive: %fs' % (t1 - t0))\n",
    "print('Fast: %fs' % (t2 - t1))\n",
    "print('Speedup: %fx' % ((t1 - t0) / (t2 - t1)))\n",
    "print('dx difference: ', rel_error(dx_naive, dx_fast))\n",
    "print('dw difference: ', rel_error(dw_naive, dw_fast))\n",
    "print('db difference: ', rel_error(db_naive, db_fast))\n",
    "# 【1】对比fast_layers和naive对conv_forward和conv_backward的实现 ==========>"
   ]
  },
  {
   "cell_type": "markdown",
   "metadata": {},
   "source": [
    "> **步骤2：池化层的前向和反向计算时间对比**"
   ]
  },
  {
   "cell_type": "code",
   "execution_count": 10,
   "metadata": {},
   "outputs": [
    {
     "name": "stdout",
     "output_type": "stream",
     "text": [
      "Testing pool_forward_fast:\n",
      "Naive: 0.265304s\n",
      "fast: 0.001473s\n",
      "speedup: 180.088526x\n",
      "difference:  0.0\n",
      "\n",
      "Testing pool_backward_fast:\n",
      "Naive: 0.793514s\n",
      "speedup: 111.063470x\n",
      "dx difference:  0.0\n"
     ]
    }
   ],
   "source": [
    "# 【2】对比fast_layers和naive对max_pool_forward和max_pool_backward的实现 <=============================================\n",
    "from fast_layers import max_pool_forward_fast, max_pool_backward_fast\n",
    "from time import time\n",
    "np.random.seed(100)\n",
    "x = np.random.randn(100, 3, 32, 32)\n",
    "dout = np.random.randn(100, 3, 16, 16)\n",
    "pool_param = {'pool_height': 2, 'pool_width': 2, 'stride': 2}\n",
    "\n",
    "t0 = time()\n",
    "out_naive, cache_naive = max_pool_forward_naive(x, pool_param)\n",
    "t1 = time()\n",
    "out_fast, cache_fast = max_pool_forward_fast(x, pool_param)\n",
    "t2 = time()\n",
    "\n",
    "print('Testing pool_forward_fast:')\n",
    "print('Naive: %fs' % (t1 - t0))\n",
    "print('fast: %fs' % (t2 - t1))\n",
    "print('speedup: %fx' % ((t1 - t0) / (t2 - t1)))\n",
    "print('difference: ', rel_error(out_naive, out_fast))\n",
    "\n",
    "t0 = time()\n",
    "dx_naive = max_pool_backward_naive(dout, cache_naive)\n",
    "t1 = time()\n",
    "dx_fast = max_pool_backward_fast(dout, cache_fast)\n",
    "t2 = time()\n",
    "\n",
    "print('\\nTesting pool_backward_fast:')\n",
    "print('Naive: %fs' % (t1 - t0))\n",
    "print('speedup: %fx' % ((t1 - t0) / (t2 - t1)))\n",
    "print('dx difference: ', rel_error(dx_naive, dx_fast))\n",
    "# 【2】对比fast_layers和naive对max_pool_forward和max_pool_backward的实现 =========>"
   ]
  },
  {
   "cell_type": "markdown",
   "metadata": {},
   "source": [
    "### **示例3：构造一个基本的CNN网络执行CIFAR-10图像分类**  \n",
    "* 必须按照案例1中的步骤，编译和安装fast_layer模块\n",
    "* 使用的代码包括【util_common_layer.py】【util_conv_layer.py】【fast_layer.py】【cnn.py】【util_data.py】【solver.py】【optim.py】\n",
    "* 网络结构为：conv - relu - 2x2 max pool - affine - relu - affine - softmax\n",
    "* 选取100个样本试算，观察loss下降情况，以确保网络初步计算的合理性   \n",
    "![](../images/160301.png)  \n",
    "* 计算完整的计算，大约训练集:0.459，验证集：0.476。如果要进一步提升性能，需要更精细的设计卷积神经网络的结构"
   ]
  },
  {
   "cell_type": "markdown",
   "metadata": {},
   "source": [
    "> **步骤1：小样本试算**"
   ]
  },
  {
   "cell_type": "code",
   "execution_count": 1,
   "metadata": {
    "scrolled": true
   },
   "outputs": [
    {
     "name": "stdout",
     "output_type": "stream",
     "text": [
      "========== 数据装载和预处理 ==========\n",
      "训练数据:  (49000, 3, 32, 32)\n",
      "验证数据:  (1000, 3, 32, 32)\n",
      "测试数据:  (1000, 3, 32, 32)\n",
      "========== 数据装载和预处理完成 ======\n",
      "(Iteration 1 / 30) loss: 2.472426\n",
      "(Epoch 0 / 15) train acc: 0.260000; val_acc: 0.157000\n",
      "(Iteration 2 / 30) loss: 2.128848\n",
      "(Epoch 1 / 15) train acc: 0.210000; val_acc: 0.097000\n",
      "(Iteration 3 / 30) loss: 2.569820\n",
      "(Iteration 4 / 30) loss: 1.859039\n",
      "(Epoch 2 / 15) train acc: 0.410000; val_acc: 0.187000\n",
      "(Iteration 5 / 30) loss: 1.926493\n",
      "(Iteration 6 / 30) loss: 1.504407\n",
      "(Epoch 3 / 15) train acc: 0.560000; val_acc: 0.186000\n",
      "(Iteration 7 / 30) loss: 1.315861\n",
      "(Iteration 8 / 30) loss: 1.410171\n",
      "(Epoch 4 / 15) train acc: 0.620000; val_acc: 0.177000\n",
      "(Iteration 9 / 30) loss: 0.921790\n",
      "(Iteration 10 / 30) loss: 1.004382\n",
      "(Epoch 5 / 15) train acc: 0.750000; val_acc: 0.207000\n",
      "(Iteration 11 / 30) loss: 0.824603\n",
      "(Iteration 12 / 30) loss: 0.702915\n",
      "(Epoch 6 / 15) train acc: 0.800000; val_acc: 0.202000\n",
      "(Iteration 13 / 30) loss: 0.632647\n",
      "(Iteration 14 / 30) loss: 0.530349\n",
      "(Epoch 7 / 15) train acc: 0.880000; val_acc: 0.201000\n",
      "(Iteration 15 / 30) loss: 0.291428\n",
      "(Iteration 16 / 30) loss: 0.468984\n",
      "(Epoch 8 / 15) train acc: 0.910000; val_acc: 0.202000\n",
      "(Iteration 17 / 30) loss: 0.693393\n",
      "(Iteration 18 / 30) loss: 0.312402\n",
      "(Epoch 9 / 15) train acc: 0.930000; val_acc: 0.200000\n",
      "(Iteration 19 / 30) loss: 0.187586\n",
      "(Iteration 20 / 30) loss: 0.134768\n",
      "(Epoch 10 / 15) train acc: 0.920000; val_acc: 0.209000\n",
      "(Iteration 21 / 30) loss: 0.157975\n",
      "(Iteration 22 / 30) loss: 0.123624\n",
      "(Epoch 11 / 15) train acc: 0.940000; val_acc: 0.196000\n",
      "(Iteration 23 / 30) loss: 0.216079\n",
      "(Iteration 24 / 30) loss: 0.092656\n",
      "(Epoch 12 / 15) train acc: 0.970000; val_acc: 0.204000\n",
      "(Iteration 25 / 30) loss: 0.142606\n",
      "(Iteration 26 / 30) loss: 0.036715\n",
      "(Epoch 13 / 15) train acc: 0.990000; val_acc: 0.210000\n",
      "(Iteration 27 / 30) loss: 0.060352\n",
      "(Iteration 28 / 30) loss: 0.043872\n",
      "(Epoch 14 / 15) train acc: 1.000000; val_acc: 0.218000\n",
      "(Iteration 29 / 30) loss: 0.043883\n",
      "(Iteration 30 / 30) loss: 0.047170\n",
      "(Epoch 15 / 15) train acc: 0.990000; val_acc: 0.205000\n"
     ]
    },
    {
     "data": {
      "image/png": "[encoded data removed]",
      "text/plain": [
       "<Figure size 432x288 with 2 Axes>"
      ]
     },
     "metadata": {
      "needs_background": "light"
     },
     "output_type": "display_data"
    }
   ],
   "source": [
    "import numpy as np\n",
    "%matplotlib inline\n",
    "import matplotlib.pyplot as plt\n",
    "import util_common_layer\n",
    "import util_data\n",
    "from cnn import ThreeLayerConvNet\n",
    "from solver import Solver\n",
    "from optim import *\n",
    "\n",
    "def rel_error(x, y):\n",
    "  \"\"\" 计算相对误差 \"\"\"\n",
    "  return np.max(np.abs(x - y) / (np.maximum(1e-8, np.abs(x) + np.abs(y))))\n",
    "\n",
    "# 装载数据\n",
    "print(\"========== 数据装载和预处理 ==========\")\n",
    "cifar10_dir = '../dataset/cifar-10'\n",
    "data_list = util_data.load_and_preprocess_cifar10(cifar10_dir)\n",
    "X_train = data_list['X_train']\n",
    "y_train = data_list['y_train']\n",
    "X_val = data_list['X_val']\n",
    "y_val = data_list['y_val']\n",
    "X_test = data_list['X_test']\n",
    "y_test = data_list['y_test']\n",
    "\n",
    "mean_image = np.mean(X_train, axis=0)\n",
    "X_train -= mean_image\n",
    "X_val -= mean_image\n",
    "X_test -= mean_image\n",
    "\n",
    "# 检查数据维度\n",
    "print('训练数据: ', X_train.shape)\n",
    "print('验证数据: ', X_val.shape)\n",
    "print('测试数据: ', X_test.shape)\n",
    "print(\"========== 数据装载和预处理完成 ======\")\n",
    "\n",
    "\n",
    "# 【1】检验少量数据的overfit =================<\n",
    "np.random.seed(100)\n",
    "\n",
    "num_train = 100\n",
    "small_data = {\n",
    "  'X_train': data_list['X_train'][:num_train],\n",
    "  'y_train': data_list['y_train'][:num_train],\n",
    "  'X_val': data_list['X_val'],\n",
    "  'y_val': data_list['y_val'],\n",
    "}\n",
    "\n",
    "model = ThreeLayerConvNet(weight_scale=1e-2)\n",
    "solver = Solver(model, small_data,\n",
    "                num_epochs=15, batch_size=50,\n",
    "                update_rule='adam',\n",
    "                optim_config={\n",
    "                  'learning_rate': 1e-3,\n",
    "                },\n",
    "                verbose=True, print_every=1)\n",
    "solver.train()\n",
    "\n",
    "plt.subplot(2, 1, 1)\n",
    "plt.plot(solver.loss_history, 'o')\n",
    "plt.xlabel('iteration')\n",
    "plt.ylabel('loss')\n",
    "\n",
    "plt.subplot(2, 1, 2)\n",
    "plt.plot(solver.train_acc_history, '-o')\n",
    "plt.plot(solver.val_acc_history, '-o')\n",
    "plt.legend(['train', 'val'], loc='upper left')\n",
    "plt.xlabel('epoch')\n",
    "plt.ylabel('accuracy')\n",
    "plt.show()\n",
    "# 【1】检验少量数据的overfit =====================>"
   ]
  },
  {
   "cell_type": "markdown",
   "metadata": {},
   "source": [
    "> **步骤2：完整数据集训练**\n",
    "* 正确率：训练集约0.459，验证集约0.476。如果要进一步提升性能，需要更精细的设计卷积神经网络的结构"
   ]
  },
  {
   "cell_type": "code",
   "execution_count": 4,
   "metadata": {},
   "outputs": [
    {
     "name": "stdout",
     "output_type": "stream",
     "text": [
      "(Iteration 1 / 980) loss: 2.304363\n",
      "(Epoch 0 / 1) train acc: 0.105000; val_acc: 0.119000\n",
      "(Iteration 21 / 980) loss: 2.314155\n",
      "(Iteration 41 / 980) loss: 2.158747\n",
      "(Iteration 61 / 980) loss: 1.951404\n",
      "(Iteration 81 / 980) loss: 1.827451\n",
      "(Iteration 101 / 980) loss: 1.812707\n",
      "(Iteration 121 / 980) loss: 1.977814\n",
      "(Iteration 141 / 980) loss: 1.730302\n",
      "(Iteration 161 / 980) loss: 1.664499\n",
      "(Iteration 181 / 980) loss: 1.916465\n",
      "(Iteration 201 / 980) loss: 1.733001\n",
      "(Iteration 221 / 980) loss: 2.089367\n",
      "(Iteration 241 / 980) loss: 1.787464\n",
      "(Iteration 261 / 980) loss: 1.471218\n",
      "(Iteration 281 / 980) loss: 1.656120\n",
      "(Iteration 301 / 980) loss: 1.528704\n",
      "(Iteration 321 / 980) loss: 1.764497\n",
      "(Iteration 341 / 980) loss: 1.783352\n",
      "(Iteration 361 / 980) loss: 1.548030\n",
      "(Iteration 381 / 980) loss: 1.829693\n",
      "(Iteration 401 / 980) loss: 1.595263\n",
      "(Iteration 421 / 980) loss: 1.572968\n",
      "(Iteration 441 / 980) loss: 1.676411\n",
      "(Iteration 461 / 980) loss: 1.652522\n",
      "(Iteration 481 / 980) loss: 1.764205\n",
      "(Iteration 501 / 980) loss: 1.684120\n",
      "(Iteration 521 / 980) loss: 1.568733\n",
      "(Iteration 541 / 980) loss: 1.676142\n",
      "(Iteration 561 / 980) loss: 1.652942\n",
      "(Iteration 581 / 980) loss: 2.049216\n",
      "(Iteration 601 / 980) loss: 1.548634\n",
      "(Iteration 621 / 980) loss: 1.863367\n",
      "(Iteration 641 / 980) loss: 1.701388\n",
      "(Iteration 661 / 980) loss: 1.436407\n",
      "(Iteration 681 / 980) loss: 1.855069\n",
      "(Iteration 701 / 980) loss: 1.359759\n",
      "(Iteration 721 / 980) loss: 1.770449\n",
      "(Iteration 741 / 980) loss: 1.469278\n",
      "(Iteration 761 / 980) loss: 1.840826\n",
      "(Iteration 781 / 980) loss: 1.369741\n",
      "(Iteration 801 / 980) loss: 1.448200\n",
      "(Iteration 821 / 980) loss: 1.465414\n",
      "(Iteration 841 / 980) loss: 1.771479\n",
      "(Iteration 861 / 980) loss: 1.662259\n",
      "(Iteration 881 / 980) loss: 1.550890\n",
      "(Iteration 901 / 980) loss: 1.640589\n",
      "(Iteration 921 / 980) loss: 1.451756\n",
      "(Iteration 941 / 980) loss: 1.498085\n",
      "(Iteration 961 / 980) loss: 1.568864\n",
      "(Epoch 1 / 1) train acc: 0.459000; val_acc: 0.476000\n"
     ]
    }
   ],
   "source": [
    "model = ThreeLayerConvNet(weight_scale=0.001, hidden_dim=500, reg=0.001)\n",
    "\n",
    "solver = Solver(model, data_list,\n",
    "                num_epochs=1, batch_size=50,\n",
    "                update_rule='adam',\n",
    "                optim_config={\n",
    "                  'learning_rate': 1e-3,\n",
    "                },\n",
    "                verbose=True, print_every=20)\n",
    "solver.train() # 训练集:0.459，验证集：0.476"
   ]
  }
 ],
 "metadata": {
  "kernelspec": {
   "display_name": "Python 3 (ipykernel)",
   "language": "python",
   "name": "python3"
  },
  "language_info": {
   "codemirror_mode": {
    "name": "ipython",
    "version": 3
   },
   "file_extension": ".py",
   "mimetype": "text/x-python",
   "name": "python",
   "nbconvert_exporter": "python",
   "pygments_lexer": "ipython3",
   "version": "3.8.10"
  }
 },
 "nbformat": 4,
 "nbformat_minor": 4
}
